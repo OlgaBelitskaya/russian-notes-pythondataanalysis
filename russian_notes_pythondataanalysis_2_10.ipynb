{
  "nbformat": 4,
  "nbformat_minor": 0,
  "metadata": {
    "colab": {
      "provenance": []
    },
    "kernelspec": {
      "name": "python3",
      "display_name": "Python 3"
    },
    "language_info": {
      "name": "python"
    }
  },
  "cells": [
    {
      "cell_type": "markdown",
      "source": [
        "# 2.10 Управляющяя конструкция циклы \n",
        "Основные управляющие конструкции языка:\n",
        "- условия `if ... elif ... else ...`\n",
        "- циклы `for ... in ...`, `while ...`\n",
        "- исключения `try ... except ...`\n",
        "\n",
        "## Цикл `for ... in ...`\n",
        "от простого варианта ===> к сложному"
      ],
      "metadata": {
        "id": "JCaxmQvGNsuU"
      }
    },
    {
      "cell_type": "code",
      "execution_count": 1,
      "metadata": {
        "colab": {
          "base_uri": "https://localhost:8080/"
        },
        "id": "lpUJLdKyNZaO",
        "outputId": "9dc63f5e-4459-4c57-a5c7-4ac2131d3b72"
      },
      "outputs": [
        {
          "output_type": "stream",
          "name": "stdout",
          "text": [
            "1 27 3125 "
          ]
        },
        {
          "output_type": "execute_result",
          "data": {
            "text/plain": [
              "[1, 27, 3125]"
            ]
          },
          "metadata": {},
          "execution_count": 1
        }
      ],
      "source": [
        "# I\n",
        "# for переменная итерации in последовательность:\n",
        "#     строки команд\n",
        "for i in [1,3,5]: print(i**i,end=' ')\n",
        "# списочное выражение\n",
        "[i**i for i in [1,3,5]]"
      ]
    },
    {
      "cell_type": "code",
      "source": [
        "# II\n",
        "# for переменная итерации in интервал:\n",
        "#     строки команд\n",
        "for i in range(1,6,2): print(i**i,end=' ')\n",
        "# множественное выражение\n",
        "{i**i for i in range(1,6,2)}"
      ],
      "metadata": {
        "colab": {
          "base_uri": "https://localhost:8080/"
        },
        "id": "ojq_l7ebU3jY",
        "outputId": "8a3dabe2-90ae-4214-9002-4ba942bc9f7a"
      },
      "execution_count": 2,
      "outputs": [
        {
          "output_type": "stream",
          "name": "stdout",
          "text": [
            "1 27 3125 "
          ]
        },
        {
          "output_type": "execute_result",
          "data": {
            "text/plain": [
              "{1, 27, 3125}"
            ]
          },
          "metadata": {},
          "execution_count": 2
        }
      ]
    },
    {
      "cell_type": "code",
      "source": [
        "# III вложенные циклы\n",
        "# for переменная 1 итерации in последовательность или интервал:\n",
        "#     строки команд\n",
        "#     for переменная 2 итерации in последовательность или интервал:\n",
        "#         строки команд\n",
        "#     строки команд\n",
        "d = {}\n",
        "for i in ['a','b','c']: \n",
        "    d[i] = []\n",
        "    for j in range(1,6,2):\n",
        "        d[i].append(i*j)\n",
        "print(d)\n",
        "# словарное выражение\n",
        "{i:[i*j for j in range(1,6,2)] for i in ['a','b','c']}"
      ],
      "metadata": {
        "colab": {
          "base_uri": "https://localhost:8080/"
        },
        "id": "fD2T3FscVwm_",
        "outputId": "fb318d58-c4af-4ff4-c27e-fae4be28ed44"
      },
      "execution_count": 3,
      "outputs": [
        {
          "output_type": "stream",
          "name": "stdout",
          "text": [
            "{'a': ['a', 'aaa', 'aaaaa'], 'b': ['b', 'bbb', 'bbbbb'], 'c': ['c', 'ccc', 'ccccc']}\n"
          ]
        },
        {
          "output_type": "execute_result",
          "data": {
            "text/plain": [
              "{'a': ['a', 'aaa', 'aaaaa'],\n",
              " 'b': ['b', 'bbb', 'bbbbb'],\n",
              " 'c': ['c', 'ccc', 'ccccc']}"
            ]
          },
          "metadata": {},
          "execution_count": 3
        }
      ]
    },
    {
      "cell_type": "code",
      "source": [
        "# IV \n",
        "# for переменная итерации in интервал:\n",
        "#     строки команд\n",
        "#     if условие:\n",
        "#         строки команд\n",
        "#     else:\n",
        "#         строки команд\n",
        "for i in range(7):\n",
        "    if i%2!=0: print(i**i,end=' ')\n",
        "    else: print(i,end=' ')\n",
        "# списочное выражение с тернарным оператором\n",
        "[i**i if i%2!=0 else i for i in range(7)]"
      ],
      "metadata": {
        "colab": {
          "base_uri": "https://localhost:8080/"
        },
        "id": "YxKGXi__hgsY",
        "outputId": "cc4df555-fa24-4a08-8af3-3d95fadc3839"
      },
      "execution_count": 4,
      "outputs": [
        {
          "output_type": "stream",
          "name": "stdout",
          "text": [
            "0 1 2 27 4 3125 6 "
          ]
        },
        {
          "output_type": "execute_result",
          "data": {
            "text/plain": [
              "[0, 1, 2, 27, 4, 3125, 6]"
            ]
          },
          "metadata": {},
          "execution_count": 4
        }
      ]
    },
    {
      "cell_type": "code",
      "source": [
        "# V for ... in ... else\n",
        "c,n = 1,7\n",
        "for i in range(1,n): c *= i\n",
        "else: c *= n # выполнено\n",
        "# последовательное умножение (факториал) при начальном значении 1\n",
        "# f = lambda n: 1 if n <= 1 else n*f(n-1)\n",
        "# f = lambda x: x and x*f(x-1) or 1\n",
        "# последовательное умножение при начальном значении с\n",
        "f = lambda x,c: x*c and x*f(x-1,c) or c\n",
        "c,f(n,c=1)"
      ],
      "metadata": {
        "colab": {
          "base_uri": "https://localhost:8080/"
        },
        "id": "orYdF_Gbjol6",
        "outputId": "6ab3bce0-a6a6-4534-b259-f0ef0a393d1b"
      },
      "execution_count": 5,
      "outputs": [
        {
          "output_type": "execute_result",
          "data": {
            "text/plain": [
              "(5040, 5040)"
            ]
          },
          "metadata": {},
          "execution_count": 5
        }
      ]
    },
    {
      "cell_type": "code",
      "source": [
        "c,n = 1,7\n",
        "for i in range(1,n): \n",
        "    c *= i\n",
        "    if i == 6: break\n",
        "# не выполнено (досрочный выход из цикла)\n",
        "else: c *= n \n",
        "c,f(n,c=1)/n"
      ],
      "metadata": {
        "colab": {
          "base_uri": "https://localhost:8080/"
        },
        "id": "pCt4g5jypvsZ",
        "outputId": "357d8b8f-42c5-4edd-de8f-f4456799566d"
      },
      "execution_count": 6,
      "outputs": [
        {
          "output_type": "execute_result",
          "data": {
            "text/plain": [
              "(720, 720.0)"
            ]
          },
          "metadata": {},
          "execution_count": 6
        }
      ]
    },
    {
      "cell_type": "markdown",
      "source": [
        "## Цикл `while ...`\n",
        "от простого варианта ===> к сложному"
      ],
      "metadata": {
        "id": "I2EYOW02tZcY"
      }
    },
    {
      "cell_type": "code",
      "source": [
        "# I\n",
        "# while условие:\n",
        "#     строки команд\n",
        "c = 7\n",
        "while c > 0: c -= 1\n",
        "c"
      ],
      "metadata": {
        "colab": {
          "base_uri": "https://localhost:8080/"
        },
        "id": "CdmZXsMItiPL",
        "outputId": "fb48ef74-63d0-42d1-ad0c-7d40d0495a97"
      },
      "execution_count": 7,
      "outputs": [
        {
          "output_type": "execute_result",
          "data": {
            "text/plain": [
              "0"
            ]
          },
          "metadata": {},
          "execution_count": 7
        }
      ]
    },
    {
      "cell_type": "code",
      "source": [
        "# II\n",
        "# while условие:\n",
        "#     строки команд\n",
        "# else:\n",
        "#     строки команд\n",
        "x,s,m = 0,0,500\n",
        "while (s < m - x):\n",
        "    s += x\n",
        "    x += 1\n",
        "else :\n",
        "     print(f'сумма целых чисел от 0 до {x-1} равна {s} и меньше {m}')\n",
        "sum([i for i in range(32)])"
      ],
      "metadata": {
        "colab": {
          "base_uri": "https://localhost:8080/"
        },
        "id": "yF53L1yhzNIy",
        "outputId": "91fc954d-5a25-4d44-ef50-fdbb0c5929af"
      },
      "execution_count": 8,
      "outputs": [
        {
          "output_type": "stream",
          "name": "stdout",
          "text": [
            "сумма целых чисел от 0 до 31 равна 496 и меньше 500\n"
          ]
        },
        {
          "output_type": "execute_result",
          "data": {
            "text/plain": [
              "496"
            ]
          },
          "metadata": {},
          "execution_count": 8
        }
      ]
    },
    {
      "cell_type": "code",
      "source": [
        "# III с досрочным выходом\n",
        "# while условие:\n",
        "#     строки команд\n",
        "#     if условие:\n",
        "#         break\n",
        "# else:\n",
        "#     строки команд\n",
        "x,s,m,n = 0,0,500,30\n",
        "while (s < m - x):\n",
        "    s += x\n",
        "    x += 1\n",
        "    if (x > n): break\n",
        "else :\n",
        "     print(f'сумма целых чисел от 0 до {x-1} равна {s} и меньше {m}')\n",
        "print(f'сумма целых чисел от 0 до {n} равна {s} и меньше {m}')\n",
        "sum([i for i in range(31)])"
      ],
      "metadata": {
        "colab": {
          "base_uri": "https://localhost:8080/"
        },
        "id": "cqmf440n3YL_",
        "outputId": "7650481a-d7f2-4a62-98dc-e3f026712815"
      },
      "execution_count": 9,
      "outputs": [
        {
          "output_type": "stream",
          "name": "stdout",
          "text": [
            "сумма целых чисел от 0 до 30 равна 465 и меньше 500\n"
          ]
        },
        {
          "output_type": "execute_result",
          "data": {
            "text/plain": [
              "465"
            ]
          },
          "metadata": {},
          "execution_count": 9
        }
      ]
    },
    {
      "cell_type": "markdown",
      "source": [
        "## Применение циклов\n",
        "- создание объектов (списков, словарей, генераторов и пр.)\n",
        "- формулировка функций\n",
        "- ...\n",
        "\n",
        "\n",
        "\n"
      ],
      "metadata": {
        "id": "DMtIWWGT0NIy"
      }
    },
    {
      "cell_type": "code",
      "source": [
        "# итерация объектов в циклическом выражении\n",
        "[el for el in enumerate([\"a\",\"b\",\"c\"])],\\\n",
        "[(k,v) for (k,v) in {'x':1,'y':2,'z':3}.items()],\\\n",
        "[i**2 for i in range(10) if i%2==0]"
      ],
      "metadata": {
        "id": "NKNNr2lEA-B2",
        "outputId": "9546ccee-8f6e-4299-efda-448f13a49c82",
        "colab": {
          "base_uri": "https://localhost:8080/"
        }
      },
      "execution_count": 10,
      "outputs": [
        {
          "output_type": "execute_result",
          "data": {
            "text/plain": [
              "([(0, 'a'), (1, 'b'), (2, 'c')],\n",
              " [('x', 1), ('y', 2), ('z', 3)],\n",
              " [0, 4, 16, 36, 64])"
            ]
          },
          "metadata": {},
          "execution_count": 10
        }
      ]
    },
    {
      "cell_type": "code",
      "source": [
        "# while одной строкой\n",
        "while True: print('привет'); break\n",
        "cond = True\n",
        "while cond: print('да'); cond = 0\n",
        "# условия внутри однострочного цикла\n",
        "# анонимные функции\n",
        "end_c = lambda c: (c < 9)*' ' + (c == 9)*'\\n'\n",
        "c = 0\n",
        "while c < 10: print(c,end=end_c(c)); c = c + 1\n",
        "cond_cx = lambda c,x: '*'*(c < x) + '!'*(c >= x)\n",
        "c = 0\n",
        "while c < 10: print(cond_cx(c,5),end=end_c(c)); c = c + 1\n",
        "# пользовательские функции\n",
        "# содержит итерацию в цикле\n",
        "def update1(): global c; print(c,end=' '); c+=1\n",
        "# содержит выход из цикла\n",
        "def update2(): global c; print('\\n%d^3 = 125'%c); c=10\n",
        "c = 0\n",
        "while c < 10: update1() if (c**3 != 125) else update2()"
      ],
      "metadata": {
        "colab": {
          "base_uri": "https://localhost:8080/"
        },
        "id": "3m15-hdMQkaH",
        "outputId": "0a8fe71c-ee76-432e-a813-9894ce2302d3"
      },
      "execution_count": 11,
      "outputs": [
        {
          "output_type": "stream",
          "name": "stdout",
          "text": [
            "привет\n",
            "да\n",
            "0 1 2 3 4 5 6 7 8 9\n",
            "* * * * * ! ! ! ! !\n",
            "0 1 2 3 4 \n",
            "5^3 = 125\n"
          ]
        }
      ]
    },
    {
      "cell_type": "code",
      "source": [
        "# создание генераторов\n",
        "gen1 = (i**2 if i % 2 == 0 else i**3 for i in range(10))\n",
        "gen2 = (i**4 for i in range(10) if i % 3 == 0)\n",
        "list(gen1),list(gen2)"
      ],
      "metadata": {
        "colab": {
          "base_uri": "https://localhost:8080/"
        },
        "id": "cOMlo2e2h5li",
        "outputId": "e7d58431-dc1d-4b1a-ca62-7d1c43d8f01a"
      },
      "execution_count": 12,
      "outputs": [
        {
          "output_type": "execute_result",
          "data": {
            "text/plain": [
              "([0, 1, 4, 27, 16, 125, 36, 343, 64, 729], [0, 81, 1296, 6561])"
            ]
          },
          "metadata": {},
          "execution_count": 12
        }
      ]
    },
    {
      "cell_type": "code",
      "source": [
        "# простые множители\n",
        "def prime_divisors(n):\n",
        "    divs,d = {1},2\n",
        "    while n > 1:\n",
        "        while n % d == 0:\n",
        "            divs.add(d)\n",
        "            n = n // d\n",
        "        d += 1\n",
        "    return divs\n",
        "prime_divisors(18361258)"
      ],
      "metadata": {
        "colab": {
          "base_uri": "https://localhost:8080/"
        },
        "id": "izoLF4Xiy0Ry",
        "outputId": "12948168-06bc-485a-dae6-5a9fb66327fd"
      },
      "execution_count": 13,
      "outputs": [
        {
          "output_type": "execute_result",
          "data": {
            "text/plain": [
              "{1, 2, 17, 19, 43, 661}"
            ]
          },
          "metadata": {},
          "execution_count": 13
        }
      ]
    },
    {
      "cell_type": "markdown",
      "source": [
        "## Динамические задачи c управляющими конструкциями\n",
        "### #1\n",
        "- Общая емкость `w`\n",
        "- Список значимости показателей (вес) `wlist`\n",
        "- Список значений показателей (индикаторов) `xlist`\n",
        "\n"
      ],
      "metadata": {
        "id": "TyO8I6E2RerZ"
      }
    },
    {
      "cell_type": "code",
      "source": [
        "def max_xw(w,n,wlist,xlist,xw):\n",
        "    if n==0 or w==0:\n",
        "        return 0\n",
        "    elif xw[n][w] is not None:\n",
        "        return xw[n][w]\n",
        "    elif wlist[n-1] <= w:\n",
        "        xw[n][w] = max(xlist[n-1]+max_xw(w-wlist[n-1],n-1,wlist,xlist,xw), \n",
        "                       max_xw(w,n-1,wlist,xlist,xw))\n",
        "        return xw[n][w]\n",
        "    else:\n",
        "        xw[n][w] = max_xw(w,n-1,wlist,xlist,xw)\n",
        "        return xw[n][w]"
      ],
      "metadata": {
        "id": "vRhMQfx7RnuM"
      },
      "execution_count": 14,
      "outputs": []
    },
    {
      "cell_type": "code",
      "source": [
        "w1 = 10\n",
        "wlist1 = [1,2,3,6,7,8,9]\n",
        "xlist1 = [2,6,18,32,22,27,41]\n",
        "n1 = len(xlist1)\n",
        "xw1 = [[None]*(w1+1) for _ in range(n1+1)]\n",
        "max_xw1 = max_xw(w1,n1,wlist1,xlist1,xw1)\n",
        "max_xw1,xw1"
      ],
      "metadata": {
        "colab": {
          "base_uri": "https://localhost:8080/"
        },
        "id": "xIoJa5pIT5KH",
        "outputId": "70312fe3-7372-4bf7-f9e7-7a927a51f919"
      },
      "execution_count": 15,
      "outputs": [
        {
          "output_type": "execute_result",
          "data": {
            "text/plain": [
              "(52,\n",
              " [[None, None, None, None, None, None, None, None, None, None, None],\n",
              "  [None, 2, 2, 2, 2, 2, None, 2, 2, None, 2],\n",
              "  [None, 2, 6, 8, 8, None, None, 8, None, None, 8],\n",
              "  [None, 2, 6, 18, 20, None, None, None, None, None, 26],\n",
              "  [None, 2, 6, 18, None, None, None, None, None, None, 52],\n",
              "  [None, 2, 6, None, None, None, None, None, None, None, 52],\n",
              "  [None, 2, None, None, None, None, None, None, None, None, 52],\n",
              "  [None, None, None, None, None, None, None, None, None, None, 52]])"
            ]
          },
          "metadata": {},
          "execution_count": 15
        }
      ]
    }
  ]
}