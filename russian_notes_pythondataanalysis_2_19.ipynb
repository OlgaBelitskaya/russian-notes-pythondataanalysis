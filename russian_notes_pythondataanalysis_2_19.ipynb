{
  "nbformat": 4,
  "nbformat_minor": 0,
  "metadata": {
    "colab": {
      "provenance": []
    },
    "kernelspec": {
      "name": "python3",
      "display_name": "Python 3"
    },
    "language_info": {
      "name": "python"
    }
  },
  "cells": [
    {
      "cell_type": "markdown",
      "source": [
        "# 2.19 Функции и итераторы"
      ],
      "metadata": {
        "id": "1casYwFdt7pr"
      }
    },
    {
      "cell_type": "markdown",
      "source": [
        "## Функция\n",
        "блок кода\n",
        "- организованный и многократно используемый объект -> `reusability: don’t repeat yourself`\n",
        "- вызывается в программе для выполнения определенной задачи/подзадачи -> `procedural decomposition`\n",
        "- создается динамически `runtime created`\n",
        "- объект класса первого порядка -> `first class`\n",
        "    - передаются как параметр\n",
        "    - возвращаются результатом действия\n",
        "    - присваиваются переменной\n",
        "- допускает вложенные структуры -> `higher-order functions`\n",
        "    - функции от функций\n",
        "\n",
        "## Классификация функций по происхождению\n",
        "- встроенные (стандартная библиотека языка)\n",
        "    - [Built-in Functions](https://docs.python.org/3/library/functions.html)\n",
        "- модульные (вызываемые из внешних библиотек)\n",
        "- пользовательские (пользователи определяют сами)"
      ],
      "metadata": {
        "id": "AjUcs1E-IoFz"
      }
    },
    {
      "cell_type": "code",
      "source": [
        "# встроенная функция sum()\n",
        "[sum([1,2,3,4,5],i) for i in range(5)]"
      ],
      "metadata": {
        "id": "s2G-mIylIner",
        "colab": {
          "base_uri": "https://localhost:8080/"
        },
        "outputId": "abbf4145-247d-4aef-b919-c41deb1d4872"
      },
      "execution_count": 1,
      "outputs": [
        {
          "output_type": "execute_result",
          "data": {
            "text/plain": [
              "[15, 16, 17, 18, 19]"
            ]
          },
          "metadata": {},
          "execution_count": 1
        }
      ]
    },
    {
      "cell_type": "code",
      "source": [
        "# подробное описание для каждой\n",
        "help(sum)"
      ],
      "metadata": {
        "colab": {
          "base_uri": "https://localhost:8080/"
        },
        "id": "AZhUQxoQhQkN",
        "outputId": "baa55563-1d08-4a83-aeb5-fba3cac7c5d5"
      },
      "execution_count": 2,
      "outputs": [
        {
          "output_type": "stream",
          "name": "stdout",
          "text": [
            "Help on built-in function sum in module builtins:\n",
            "\n",
            "sum(iterable, /, start=0)\n",
            "    Return the sum of a 'start' value (default: 0) plus an iterable of numbers\n",
            "    \n",
            "    When the iterable is empty, return the start value.\n",
            "    This function is intended specifically for use with numeric values and may\n",
            "    reject non-numeric types.\n",
            "\n"
          ]
        }
      ]
    },
    {
      "cell_type": "code",
      "source": [
        "# встроенные функции iter(),next()\n",
        "iter_list = iter(list([1,2,3,4,5]))\n",
        "for i in range(5):\n",
        "    print(next(iter_list),end=' ')\n",
        "# объект выгружен при итерации\n",
        "list(iter_list)"
      ],
      "metadata": {
        "colab": {
          "base_uri": "https://localhost:8080/"
        },
        "id": "JBrzO6EaKxr0",
        "outputId": "4fb45875-0c3f-4c04-91c1-dc705efac343"
      },
      "execution_count": 3,
      "outputs": [
        {
          "output_type": "stream",
          "name": "stdout",
          "text": [
            "1 2 3 4 5 "
          ]
        },
        {
          "output_type": "execute_result",
          "data": {
            "text/plain": [
              "[]"
            ]
          },
          "metadata": {},
          "execution_count": 3
        }
      ]
    },
    {
      "cell_type": "code",
      "execution_count": 4,
      "metadata": {
        "id": "Pj3FLC3PqBUX",
        "colab": {
          "base_uri": "https://localhost:8080/"
        },
        "outputId": "a5d8ae20-a10a-40a8-8936-0a6c94666f59"
      },
      "outputs": [
        {
          "output_type": "stream",
          "name": "stdout",
          "text": [
            "⎡m₁₁  m₁₂⎤\n",
            "⎢        ⎥\n",
            "⎣m₂₁  m₂₂⎦\n",
            "==================\n",
            "m₁₁⋅m₂₂ - m₁₂⋅m₂₁\n",
            "==================\n",
            " 2          \n",
            "x  - 4⋅x + 1\n",
            "[2 - √3, √3 + 2]\n"
          ]
        }
      ],
      "source": [
        "# вызываемые функции sympy для символьных вычислений \n",
        "from sympy import symbols, Matrix, solve, pprint as spp\n",
        "mm=symbols(' '.join(\n",
        "    'm_%d%d'%(i, j) for i in [1, 2] for j in [1, 2]))\n",
        "M=Matrix(int(2), int(2), mm) \n",
        "spp(M); spp(18 * '='); spp(M.det()); spp(18 * '=')\n",
        "x=symbols('x')\n",
        "eq = x ** 2 - 4 * x + 1\n",
        "sol = solve(eq, x)\n",
        "spp(eq); spp(sol)"
      ]
    },
    {
      "cell_type": "code",
      "source": [
        "help(symbols)"
      ],
      "metadata": {
        "colab": {
          "base_uri": "https://localhost:8080/"
        },
        "id": "i1-Zu7P3hVrB",
        "outputId": "7c68d273-5c56-4a5d-e5a3-e95d613da3f5"
      },
      "execution_count": 5,
      "outputs": [
        {
          "output_type": "stream",
          "name": "stdout",
          "text": [
            "Help on function symbols in module sympy.core.symbol:\n",
            "\n",
            "symbols(names, *, cls=<class 'sympy.core.symbol.Symbol'>, **args)\n",
            "    Transform strings into instances of :class:`Symbol` class.\n",
            "    \n",
            "    :func:`symbols` function returns a sequence of symbols with names taken\n",
            "    from ``names`` argument, which can be a comma or whitespace delimited\n",
            "    string, or a sequence of strings::\n",
            "    \n",
            "        >>> from sympy import symbols, Function\n",
            "    \n",
            "        >>> x, y, z = symbols('x,y,z')\n",
            "        >>> a, b, c = symbols('a b c')\n",
            "    \n",
            "    The type of output is dependent on the properties of input arguments::\n",
            "    \n",
            "        >>> symbols('x')\n",
            "        x\n",
            "        >>> symbols('x,')\n",
            "        (x,)\n",
            "        >>> symbols('x,y')\n",
            "        (x, y)\n",
            "        >>> symbols(('a', 'b', 'c'))\n",
            "        (a, b, c)\n",
            "        >>> symbols(['a', 'b', 'c'])\n",
            "        [a, b, c]\n",
            "        >>> symbols({'a', 'b', 'c'})\n",
            "        {a, b, c}\n",
            "    \n",
            "    If an iterable container is needed for a single symbol, set the ``seq``\n",
            "    argument to ``True`` or terminate the symbol name with a comma::\n",
            "    \n",
            "        >>> symbols('x', seq=True)\n",
            "        (x,)\n",
            "    \n",
            "    To reduce typing, range syntax is supported to create indexed symbols.\n",
            "    Ranges are indicated by a colon and the type of range is determined by\n",
            "    the character to the right of the colon. If the character is a digit\n",
            "    then all contiguous digits to the left are taken as the nonnegative\n",
            "    starting value (or 0 if there is no digit left of the colon) and all\n",
            "    contiguous digits to the right are taken as 1 greater than the ending\n",
            "    value::\n",
            "    \n",
            "        >>> symbols('x:10')\n",
            "        (x0, x1, x2, x3, x4, x5, x6, x7, x8, x9)\n",
            "    \n",
            "        >>> symbols('x5:10')\n",
            "        (x5, x6, x7, x8, x9)\n",
            "        >>> symbols('x5(:2)')\n",
            "        (x50, x51)\n",
            "    \n",
            "        >>> symbols('x5:10,y:5')\n",
            "        (x5, x6, x7, x8, x9, y0, y1, y2, y3, y4)\n",
            "    \n",
            "        >>> symbols(('x5:10', 'y:5'))\n",
            "        ((x5, x6, x7, x8, x9), (y0, y1, y2, y3, y4))\n",
            "    \n",
            "    If the character to the right of the colon is a letter, then the single\n",
            "    letter to the left (or 'a' if there is none) is taken as the start\n",
            "    and all characters in the lexicographic range *through* the letter to\n",
            "    the right are used as the range::\n",
            "    \n",
            "        >>> symbols('x:z')\n",
            "        (x, y, z)\n",
            "        >>> symbols('x:c')  # null range\n",
            "        ()\n",
            "        >>> symbols('x(:c)')\n",
            "        (xa, xb, xc)\n",
            "    \n",
            "        >>> symbols(':c')\n",
            "        (a, b, c)\n",
            "    \n",
            "        >>> symbols('a:d, x:z')\n",
            "        (a, b, c, d, x, y, z)\n",
            "    \n",
            "        >>> symbols(('a:d', 'x:z'))\n",
            "        ((a, b, c, d), (x, y, z))\n",
            "    \n",
            "    Multiple ranges are supported; contiguous numerical ranges should be\n",
            "    separated by parentheses to disambiguate the ending number of one\n",
            "    range from the starting number of the next::\n",
            "    \n",
            "        >>> symbols('x:2(1:3)')\n",
            "        (x01, x02, x11, x12)\n",
            "        >>> symbols(':3:2')  # parsing is from left to right\n",
            "        (00, 01, 10, 11, 20, 21)\n",
            "    \n",
            "    Only one pair of parentheses surrounding ranges are removed, so to\n",
            "    include parentheses around ranges, double them. And to include spaces,\n",
            "    commas, or colons, escape them with a backslash::\n",
            "    \n",
            "        >>> symbols('x((a:b))')\n",
            "        (x(a), x(b))\n",
            "        >>> symbols(r'x(:1\\,:2)')  # or r'x((:1)\\,(:2))'\n",
            "        (x(0,0), x(0,1))\n",
            "    \n",
            "    All newly created symbols have assumptions set according to ``args``::\n",
            "    \n",
            "        >>> a = symbols('a', integer=True)\n",
            "        >>> a.is_integer\n",
            "        True\n",
            "    \n",
            "        >>> x, y, z = symbols('x,y,z', real=True)\n",
            "        >>> x.is_real and y.is_real and z.is_real\n",
            "        True\n",
            "    \n",
            "    Despite its name, :func:`symbols` can create symbol-like objects like\n",
            "    instances of Function or Wild classes. To achieve this, set ``cls``\n",
            "    keyword argument to the desired type::\n",
            "    \n",
            "        >>> symbols('f,g,h', cls=Function)\n",
            "        (f, g, h)\n",
            "    \n",
            "        >>> type(_[0])\n",
            "        <class 'sympy.core.function.UndefinedFunction'>\n",
            "\n"
          ]
        }
      ]
    },
    {
      "cell_type": "code",
      "source": [
        "# объявленная пользователем со строкой документации\n",
        "def table_print(table):\n",
        "    \"\"\"\n",
        "    Функция распечатывает построчно таблицу,\n",
        "    принимая в качестве аргумента двумерный список\n",
        "    \"\"\"\n",
        "    maxlen=max([len(row) for row in table]) \n",
        "    listrow=0, []\n",
        "    for row in table:\n",
        "        srow = '|'\n",
        "        for r in row:\n",
        "            srow += str(r).center(7)+'|'\n",
        "        print((maxlen * 8 + 1) * '-')\n",
        "        print(srow + (maxlen-len(row)) * (' '.center(7)+'|'))\n",
        "    print((maxlen * 8 + 1) * '-')\n",
        "    return"
      ],
      "metadata": {
        "id": "NA0fgQyygnP9"
      },
      "execution_count": 6,
      "outputs": []
    },
    {
      "cell_type": "code",
      "source": [
        "t=[['a', 'b', 'c', 'd', 'e'], \n",
        "   [1, 2, 3, 4, 5], [6, 7], [8, 9, 10]]\n",
        "table_print(t)"
      ],
      "metadata": {
        "colab": {
          "base_uri": "https://localhost:8080/"
        },
        "id": "4hj7EuyjuYXH",
        "outputId": "bb85b470-b324-413e-a864-775334736e5c"
      },
      "execution_count": 7,
      "outputs": [
        {
          "output_type": "stream",
          "name": "stdout",
          "text": [
            "-----------------------------------------\n",
            "|   a   |   b   |   c   |   d   |   e   |\n",
            "-----------------------------------------\n",
            "|   1   |   2   |   3   |   4   |   5   |\n",
            "-----------------------------------------\n",
            "|   6   |   7   |       |       |       |\n",
            "-----------------------------------------\n",
            "|   8   |   9   |   10  |       |       |\n",
            "-----------------------------------------\n"
          ]
        }
      ]
    },
    {
      "cell_type": "code",
      "source": [
        "print(table_print.__doc__)\n",
        "help(table_print)"
      ],
      "metadata": {
        "colab": {
          "base_uri": "https://localhost:8080/"
        },
        "id": "dig1sJLswiE-",
        "outputId": "aa43c612-2c72-494d-f02f-0c58dafb072e"
      },
      "execution_count": 8,
      "outputs": [
        {
          "output_type": "stream",
          "name": "stdout",
          "text": [
            "\n",
            "    Функция распечатывает построчно таблицу,\n",
            "    принимая в качестве аргумента двумерный список\n",
            "    \n",
            "Help on function table_print in module __main__:\n",
            "\n",
            "table_print(table)\n",
            "    Функция распечатывает построчно таблицу,\n",
            "    принимая в качестве аргумента двумерный список\n",
            "\n"
          ]
        }
      ]
    },
    {
      "cell_type": "code",
      "source": [
        "help('table_print')"
      ],
      "metadata": {
        "colab": {
          "base_uri": "https://localhost:8080/"
        },
        "id": "WcPO5W3uxZW5",
        "outputId": "e92942ab-f720-401b-a466-437f085314df"
      },
      "execution_count": 9,
      "outputs": [
        {
          "output_type": "stream",
          "name": "stdout",
          "text": [
            "No Python documentation found for 'table_print'.\n",
            "Use help() to get the interactive help utility.\n",
            "Use help(str) for help on the str class.\n",
            "\n"
          ]
        }
      ]
    },
    {
      "cell_type": "markdown",
      "source": [
        "## Задание \n",
        "Превратите математическую функцию в программную.\n",
        "\n",
        "Возможный вариант ответа для $\\displaystyle{\\color{darkblue}{z = x^2 - 4xy + y^2}}$."
      ],
      "metadata": {
        "id": "Mjzn7ID8Y5XN"
      }
    },
    {
      "cell_type": "code",
      "source": [
        "def math_func(x, y):\n",
        "    return x ** 2 - 4 * x * y + y ** 2\n",
        "math_func(2, 3)"
      ],
      "metadata": {
        "colab": {
          "base_uri": "https://localhost:8080/"
        },
        "id": "0yvMFZnPY5_p",
        "outputId": "5d36df9e-8cd6-41d4-8916-6e14368838ad"
      },
      "execution_count": 10,
      "outputs": [
        {
          "output_type": "execute_result",
          "data": {
            "text/plain": [
              "-11"
            ]
          },
          "metadata": {},
          "execution_count": 10
        }
      ]
    },
    {
      "cell_type": "code",
      "source": [
        "# ваш код ╰( ͡° ͜ʖ ͡° )つ──☆*:・ﾟ"
      ],
      "metadata": {
        "id": "Hhha0-E7nq5Y"
      },
      "execution_count": 11,
      "outputs": []
    },
    {
      "cell_type": "markdown",
      "source": [
        "## Итераторы и генераторы \n",
        "\"Ленивая\" инициация коллекции элементов \n",
        "- объекты производятся только по запросу\n",
        "\n",
        "итерируемый объект (`iterable`) - все, что можно образовать циклом\n",
        "\n",
        "итератор (`iterator`) - объект, который выполняет действие в цикле\n",
        "\n",
        "генератор (`generator`) - самый простой способ создания итераторов\n",
        "\n",
        "генераторы создаются\n",
        "- генераторным выражением\n",
        "- функцией"
      ],
      "metadata": {
        "id": "B6Pg8-CSas8b"
      }
    },
    {
      "cell_type": "code",
      "source": [
        "# list comprehension\n",
        "[(i + 1) ** 3 for i in range(5)]"
      ],
      "metadata": {
        "colab": {
          "base_uri": "https://localhost:8080/"
        },
        "id": "rqMFcKEbEy2a",
        "outputId": "70652ceb-5b7d-4af8-a51f-bbe0a22ec2cd"
      },
      "execution_count": 12,
      "outputs": [
        {
          "output_type": "execute_result",
          "data": {
            "text/plain": [
              "[1, 8, 27, 64, 125]"
            ]
          },
          "metadata": {},
          "execution_count": 12
        }
      ]
    },
    {
      "cell_type": "code",
      "source": [
        "# generator, not tuple\n",
        "((i + 1) ** 3 for i in range(5))"
      ],
      "metadata": {
        "colab": {
          "base_uri": "https://localhost:8080/"
        },
        "id": "Euyol-m-EjR0",
        "outputId": "88619cf7-8c4f-4ed3-e971-f3771186dce0"
      },
      "execution_count": 13,
      "outputs": [
        {
          "output_type": "execute_result",
          "data": {
            "text/plain": [
              "<generator object <genexpr> at 0x7f3bac007040>"
            ]
          },
          "metadata": {},
          "execution_count": 13
        }
      ]
    },
    {
      "cell_type": "code",
      "source": [
        "# атрибуты генератора\n",
        "x = ((i + 1) ** 3 for i in range(5))\n",
        "for el in [(None, 7), (7, 14), (14, 21), (21, 28), (28, None)]:\n",
        "    print(dir(x)[slice(*el)])"
      ],
      "metadata": {
        "colab": {
          "base_uri": "https://localhost:8080/"
        },
        "id": "RhzIivYU2yTQ",
        "outputId": "36e1b03c-98a4-4735-c9c2-4e1680ea2ac1"
      },
      "execution_count": 14,
      "outputs": [
        {
          "output_type": "stream",
          "name": "stdout",
          "text": [
            "['__class__', '__del__', '__delattr__', '__dir__', '__doc__', '__eq__', '__format__']\n",
            "['__ge__', '__getattribute__', '__gt__', '__hash__', '__init__', '__init_subclass__', '__iter__']\n",
            "['__le__', '__lt__', '__name__', '__ne__', '__new__', '__next__', '__qualname__']\n",
            "['__reduce__', '__reduce_ex__', '__repr__', '__setattr__', '__sizeof__', '__str__', '__subclasshook__']\n",
            "['close', 'gi_code', 'gi_frame', 'gi_running', 'gi_yieldfrom', 'send', 'throw']\n"
          ]
        }
      ]
    },
    {
      "cell_type": "code",
      "source": [
        "# вывод на печать значений\n",
        "gen01 = ((i + 1) ** 3 for i in range(10))\n",
        "print(*gen01)\n",
        "# объект выгружен при итерации\n",
        "list(gen01)"
      ],
      "metadata": {
        "colab": {
          "base_uri": "https://localhost:8080/"
        },
        "id": "N1KK2pNoE5WF",
        "outputId": "888cb30e-100d-4e44-cb06-c5f3ab6569c4"
      },
      "execution_count": 15,
      "outputs": [
        {
          "output_type": "stream",
          "name": "stdout",
          "text": [
            "1 8 27 64 125 216 343 512 729 1000\n"
          ]
        },
        {
          "output_type": "execute_result",
          "data": {
            "text/plain": [
              "[]"
            ]
          },
          "metadata": {},
          "execution_count": 15
        }
      ]
    },
    {
      "cell_type": "code",
      "source": [
        "# в другие типы данных с выгрузкой\n",
        "list((i + 1) ** 3 for i in range(5)),\\\n",
        "tuple((i ** 2) for i in range(7)),\\\n",
        "set((i ** 3 ) for i in range(3))"
      ],
      "metadata": {
        "colab": {
          "base_uri": "https://localhost:8080/"
        },
        "id": "17UtyzhHIKAF",
        "outputId": "0e5b760d-6092-4438-a4c3-8c3bab072a55"
      },
      "execution_count": 16,
      "outputs": [
        {
          "output_type": "execute_result",
          "data": {
            "text/plain": [
              "([1, 8, 27, 64, 125], (0, 1, 4, 9, 16, 25, 36), {0, 1, 8})"
            ]
          },
          "metadata": {},
          "execution_count": 16
        }
      ]
    },
    {
      "cell_type": "code",
      "source": [
        "# ! генератор можно запустить один раз\n",
        "print(x.gi_frame)\n",
        "print(list(x))\n",
        "print(x.gi_frame)"
      ],
      "metadata": {
        "colab": {
          "base_uri": "https://localhost:8080/"
        },
        "id": "YrVVYXun3MFr",
        "outputId": "bc58989b-15a1-4921-da52-cf7fb128aa83"
      },
      "execution_count": 17,
      "outputs": [
        {
          "output_type": "stream",
          "name": "stdout",
          "text": [
            "<frame at 0x2144d90, file '<ipython-input-14-f791c71450f9>', line 2, code <genexpr>>\n",
            "[1, 8, 27, 64, 125]\n",
            "None\n"
          ]
        }
      ]
    },
    {
      "cell_type": "code",
      "source": [
        "import sys\n",
        "# инициатор списка\n",
        "def n_list(n):\n",
        "    number, numbers = 0, []\n",
        "    while number < n:\n",
        "        numbers.append(number)\n",
        "        number += 1\n",
        "    # останавливает вычисления\n",
        "    return numbers\n",
        "n_sum = sum(n_list(10e6))\n",
        "print(n_sum)\n",
        "print(sys.getsizeof(n_list(10e6)),'байт')\n",
        "# генератор последовательности\n",
        "def n_gen(n):\n",
        "    num = 0\n",
        "    while num < n:\n",
        "        # приостанавливает вычисления до вызова next()\n",
        "        yield num\n",
        "        num += 1\n",
        "n_sum = sum(n_gen(10e6))\n",
        "print(n_sum)\n",
        "print(sys.getsizeof(n_gen(10e6)),'байт')"
      ],
      "metadata": {
        "colab": {
          "base_uri": "https://localhost:8080/"
        },
        "id": "cz2dLrulat7d",
        "outputId": "13ec5a4f-e066-4d3b-a7d0-b08c182f5e55"
      },
      "execution_count": 18,
      "outputs": [
        {
          "output_type": "stream",
          "name": "stdout",
          "text": [
            "49999995000000\n",
            "81528048 байт\n",
            "49999995000000\n",
            "112 байт\n"
          ]
        }
      ]
    },
    {
      "cell_type": "code",
      "source": [
        "# создание генератора с помощью функции\n",
        "x = n_gen(10)\n",
        "print(type(x),x.gi_frame,list(x),x.gi_frame,sep='\\n')"
      ],
      "metadata": {
        "colab": {
          "base_uri": "https://localhost:8080/"
        },
        "id": "Ks0jAy2s6sT3",
        "outputId": "6bc52f63-85a9-4cc7-a11e-719be9213a2a"
      },
      "execution_count": 19,
      "outputs": [
        {
          "output_type": "stream",
          "name": "stdout",
          "text": [
            "<class 'generator'>\n",
            "<frame at 0x7f3bac0166c0, file '<ipython-input-18-0f1c88a31d3e>', line 19, code n_gen>\n",
            "[0, 1, 2, 3, 4, 5, 6, 7, 8, 9]\n",
            "None\n"
          ]
        }
      ]
    },
    {
      "cell_type": "code",
      "source": [
        "# объектно-ориентированный итератор, \n",
        "# соответствующий генератору n_gen\n",
        "class n_iter:\n",
        "    def __init__(self, n):\n",
        "        self.n = n\n",
        "        self.number = 0     \n",
        "    def __iter__(self):\n",
        "        return self  \n",
        "    def __next__(self):\n",
        "        if self.number < self.n:\n",
        "            cur_number = self.number\n",
        "            self.number += 1\n",
        "            return cur_number\n",
        "        else:\n",
        "            raise StopIteration()\n",
        "n_sum = sum(n_iter(10e6))\n",
        "print(n_sum)\n",
        "print(sys.getsizeof(n_iter(10e6)),'байт')"
      ],
      "metadata": {
        "colab": {
          "base_uri": "https://localhost:8080/"
        },
        "id": "vfPkDoPaL0Ak",
        "outputId": "52153ad3-a3cb-4453-8f60-f6f11dcacd6a"
      },
      "execution_count": 20,
      "outputs": [
        {
          "output_type": "stream",
          "name": "stdout",
          "text": [
            "49999995000000\n",
            "48 байт\n"
          ]
        }
      ]
    },
    {
      "cell_type": "markdown",
      "source": [
        "## Задание\n",
        "Сконструируйте любой генератор двумя способами: выражением и функцией."
      ],
      "metadata": {
        "id": "Slwbwv-mKjWL"
      }
    },
    {
      "cell_type": "code",
      "source": [
        "# ваш код ╰( ͡° ͜ʖ ͡° )つ──☆*:・ﾟ\n"
      ],
      "metadata": {
        "id": "5pHp__EVKlmi"
      },
      "execution_count": 21,
      "outputs": []
    },
    {
      "cell_type": "code",
      "source": [
        "# бонус-пример генератора рекурсивных таблиц и \n",
        "# предварительное знакомство с модулями numpy, pylab\n",
        "import numpy, pylab\n",
        "def gen(a, b, n):\n",
        "    i=1; xyi=[0., 0.]\n",
        "    while i <= n:\n",
        "        yield xyi \n",
        "        i += 1; xi, yi=xyi[0], xyi[1]\n",
        "        xyi = [(1 + .01 * a) * abs(xi) - (1 + .1 ** 5 * b) * yi + 1, xi]\n",
        "n=100000\n",
        "a,b=7,5; xy=gen(a,b,n)\n",
        "xyn=numpy.array([el for el in xy])      \n",
        "pylab.figure(figsize=(10,10)) \n",
        "ax=pylab.gca()\n",
        "ax.set_facecolor('ghostwhite')\n",
        "pylab.scatter(\n",
        "    xyn[:,0],xyn[:,1],s=.05,c=[numpy.random.random(3)/3])\n",
        "pylab.grid(c='slategray',alpha=.4);"
      ],
      "metadata": {
        "colab": {
          "base_uri": "https://localhost:8080/",
          "height": 593
        },
        "id": "2RdHu7gHlv9L",
        "outputId": "819adad6-9d5d-40e8-f15f-5c96130cf024"
      },
      "execution_count": 22,
      "outputs": [
        {
          "output_type": "display_data",
          "data": {
            "text/plain": [
              "<Figure size 720x720 with 1 Axes>"
            ],
            "image/png": "[encoded data removed]"
          },
          "metadata": {
            "needs_background": "light"
          }
        }
      ]
    },
    {
      "cell_type": "markdown",
      "source": [
        "## Классификация функций по наличию аргументов\n",
        "- нет аргументов\n",
        "- обязательные\n",
        "- именованные\n",
        "- со значениями по умолчанию\n",
        "- переменное количество аргументов"
      ],
      "metadata": {
        "id": "LdDQZdqlzntH"
      }
    },
    {
      "cell_type": "code",
      "source": [
        "# нет аргументов\n",
        "import time\n",
        "def display_time():\n",
        "    \"\"\"\n",
        "    Функция отображает точное время\n",
        "    в UTC (Всемирное Координированное Время) \n",
        "    на момент ее вызова \n",
        "    \"\"\"\n",
        "    print(time.strftime('%X %x %Z'))\n",
        "display_time()"
      ],
      "metadata": {
        "id": "ixGOzKfGzoJs",
        "colab": {
          "base_uri": "https://localhost:8080/"
        },
        "outputId": "9ff7c28e-9060-45ed-d557-496a8ca9f9f5"
      },
      "execution_count": 23,
      "outputs": [
        {
          "output_type": "stream",
          "name": "stdout",
          "text": [
            "21:41:51 01/05/23 UTC\n"
          ]
        }
      ]
    },
    {
      "cell_type": "code",
      "source": [
        "# обязательные\n",
        "# одинаковый порядок при определении и при вызове\n",
        "import random\n",
        "def random_list(n, p):\n",
        "    \"\"\"\n",
        "    Функция генерирует список n чисел \n",
        "    в промежутке от 0 до 1 случайным образом\n",
        "    и округляет все числа до p знаков после запятой\n",
        "    \"\"\"\n",
        "    return [round(random.random(), p) for i in range(n)]\n",
        "random_list(7, 3),random_list(3, 7)"
      ],
      "metadata": {
        "id": "mBsYWEc6qcvL",
        "colab": {
          "base_uri": "https://localhost:8080/"
        },
        "outputId": "9d98fc65-6a61-4c59-d4a8-522eb39320c3"
      },
      "execution_count": 24,
      "outputs": [
        {
          "output_type": "execute_result",
          "data": {
            "text/plain": [
              "([0.215, 0.857, 0.322, 0.602, 0.338, 0.222, 0.901],\n",
              " [0.5096845, 0.7277944, 0.1513762])"
            ]
          },
          "metadata": {},
          "execution_count": 24
        }
      ]
    },
    {
      "cell_type": "code",
      "source": [
        "# аргументы-ключи (ключевые слова)\n",
        "# произвольный порядок при вызове\n",
        "def gen_table(symbol, rows, columns):\n",
        "    for i in range(2 * rows + 1):\n",
        "        for j in range(2 * columns + 1):\n",
        "            if (i < 2 and j < 2):\n",
        "                yield symbol + ' '\n",
        "            else:\n",
        "                el=((j + 1) % 2) * ((i + 1) % 2) * '+' +\\\n",
        "                   (j % 2) * ((i + 1) % 2) * '-:-' +\\\n",
        "                   ((j + 1) % 2) * (i % 2) * '|' +\\\n",
        "                   (j % 2) * (i % 2) * (' ' + symbol + ' ')\n",
        "                yield el\n",
        "        yield '\\n'\n",
        "gen=gen_table(rows=4, columns=7, symbol='*')\n",
        "print(''.join(gen))"
      ],
      "metadata": {
        "colab": {
          "base_uri": "https://localhost:8080/"
        },
        "id": "y7k885QqIB-U",
        "outputId": "54fccab5-fcb6-4c00-a311-35eb280d50f8"
      },
      "execution_count": 25,
      "outputs": [
        {
          "output_type": "stream",
          "name": "stdout",
          "text": [
            "* * +-:-+-:-+-:-+-:-+-:-+-:-+\n",
            "* * | * | * | * | * | * | * |\n",
            "+-:-+-:-+-:-+-:-+-:-+-:-+-:-+\n",
            "| * | * | * | * | * | * | * |\n",
            "+-:-+-:-+-:-+-:-+-:-+-:-+-:-+\n",
            "| * | * | * | * | * | * | * |\n",
            "+-:-+-:-+-:-+-:-+-:-+-:-+-:-+\n",
            "| * | * | * | * | * | * | * |\n",
            "+-:-+-:-+-:-+-:-+-:-+-:-+-:-+\n",
            "\n"
          ]
        }
      ]
    },
    {
      "cell_type": "code",
      "source": [
        "# значения аргументов определены по умолчанию\n",
        "def gen(start=[.1, .01], max=10**12):\n",
        "    \"\"\"\n",
        "    Функция сгенерирует установленное количество пар чисел\n",
        "    на основе предыдущих значений по заданному правилу,\n",
        "    начиная со стартовой пары чисел\n",
        "    \"\"\"\n",
        "    n=1; xyn=start\n",
        "    while n <= max:\n",
        "        yield xyn \n",
        "        n+=1; xn, yn=xyn[0], xyn[1]\n",
        "        xyn = [xn + .684 * (xn - xn ** 2 + yn),\n",
        "               yn + .684 * (yn - yn ** 2 + xn)]\n",
        "N=3000; XY=gen(max=N); XYN=[el for el in XY]\n",
        "XYN[:5]"
      ],
      "metadata": {
        "colab": {
          "base_uri": "https://localhost:8080/"
        },
        "id": "3tUSO2ZVKXZj",
        "outputId": "1980dd22-090e-47b7-bdd7-360829c87d09"
      },
      "execution_count": 26,
      "outputs": [
        {
          "output_type": "execute_result",
          "data": {
            "text/plain": [
              "[[0.1, 0.01],\n",
              " [0.1684, 0.08517160000000001],\n",
              " [0.32244571936, 0.253652700610553],\n",
              " [0.6453807091372842, 0.6036956701819249],\n",
              " [1.2148518309386673, 1.208781165493924]]"
            ]
          },
          "metadata": {},
          "execution_count": 26
        }
      ]
    },
    {
      "cell_type": "code",
      "source": [
        "# переменное количество аргументов\n",
        "def print_args(arg0, *n_tuple):\n",
        "    \"\"\"\n",
        "    Функция распечатает переменное количество аргументов\n",
        "    \"\"\"\n",
        "    print(\"аргументы:\", arg0, end=\" \")\n",
        "    for var in n_tuple:\n",
        "        print(var, end=\" \")\n",
        "    print()\n",
        "print_args(10)\n",
        "print_args(10, 20, 30)\n",
        "print_args(10, 20, 30, 40, 50)"
      ],
      "metadata": {
        "colab": {
          "base_uri": "https://localhost:8080/"
        },
        "id": "UGm8-SVUMFqo",
        "outputId": "2bf71648-d05e-49b7-9b53-21892d0b9409"
      },
      "execution_count": 27,
      "outputs": [
        {
          "output_type": "stream",
          "name": "stdout",
          "text": [
            "аргументы: 10 \n",
            "аргументы: 10 20 30 \n",
            "аргументы: 10 20 30 40 50 \n"
          ]
        }
      ]
    },
    {
      "cell_type": "markdown",
      "source": [
        "## Оператор `*` и синтаксис функций\n",
        "для переменного количества\n",
        "- `*args` неименованных аргументов \n",
        "- `**kwargs` аргументов-ключей"
      ],
      "metadata": {
        "id": "A-sTCRVxxF7C"
      }
    },
    {
      "cell_type": "code",
      "source": [
        "def f_example1(*args, **kwargs):\n",
        "    for arg in args:\n",
        "        print(arg)\n",
        "    for key in kwargs:\n",
        "        print(key, kwargs[key])\n",
        "f_example1(3., [0, 1, 2], (10, 20, 30), 'Привет',\n",
        "           name='Ольга', age=49, date='05/01/2023')"
      ],
      "metadata": {
        "colab": {
          "base_uri": "https://localhost:8080/"
        },
        "id": "txezyswkxfBR",
        "outputId": "e6519a6e-907a-4a5e-b221-5be289989901"
      },
      "execution_count": 28,
      "outputs": [
        {
          "output_type": "stream",
          "name": "stdout",
          "text": [
            "3.0\n",
            "[0, 1, 2]\n",
            "(10, 20, 30)\n",
            "Привет\n",
            "name Ольга\n",
            "age 49\n",
            "date 05/01/2023\n"
          ]
        }
      ]
    },
    {
      "cell_type": "markdown",
      "source": [
        "- `*`, чтобы обеспечить после символа присутствие аргументов только из ключевых слов"
      ],
      "metadata": {
        "id": "hfA0ovVa0lJJ"
      }
    },
    {
      "cell_type": "code",
      "source": [
        "def f_example2(name, *, age):\n",
        "    print(name)\n",
        "    print(age)\n",
        "# убедитесь, что f_example2(\"Валерия\", 35) выдаст ошибку\n",
        "f_example2(\"Валерия\", age=35)"
      ],
      "metadata": {
        "colab": {
          "base_uri": "https://localhost:8080/"
        },
        "id": "xxb8AZWjzktv",
        "outputId": "bf27ce8b-7110-4c4b-d6d0-8de01b733e95"
      },
      "execution_count": 29,
      "outputs": [
        {
          "output_type": "stream",
          "name": "stdout",
          "text": [
            "Валерия\n",
            "35\n"
          ]
        }
      ]
    },
    {
      "cell_type": "markdown",
      "source": [
        "- для распаковки аргументов\n",
        "   - `*` списки, кортежи, строки, множества\n",
        "   - `**` словари"
      ],
      "metadata": {
        "id": "CmVddN2h0zHU"
      }
    },
    {
      "cell_type": "code",
      "source": [
        "def f_example3(x, y, z):\n",
        "    print('координаты: ', x, y, z)\n",
        "# длина ряда должна совпадать\n",
        "list3 = [1, 2, 3]\n",
        "f_example3(*list3)\n",
        "tuple3 = (10, 20, 30)\n",
        "f_example3(*tuple3)\n",
        "string3 = \"456\"\n",
        "f_example3(*string3)\n",
        "# длина ряда и ключи должны совпадать\n",
        "dict3 = {'x': 7, 'y': 8, 'z': 9}\n",
        "f_example3(**dict3)"
      ],
      "metadata": {
        "colab": {
          "base_uri": "https://localhost:8080/"
        },
        "id": "DFo5nz_D1son",
        "outputId": "131ff13c-2f2a-4700-8a2c-106222b7baa5"
      },
      "execution_count": 30,
      "outputs": [
        {
          "output_type": "stream",
          "name": "stdout",
          "text": [
            "координаты:  1 2 3\n",
            "координаты:  10 20 30\n",
            "координаты:  4 5 6\n",
            "координаты:  7 8 9\n"
          ]
        }
      ]
    },
    {
      "cell_type": "markdown",
      "source": [
        "## Задание\n",
        "Назовите как можно больше случев применения оператора `*`."
      ],
      "metadata": {
        "id": "6iyFSqXsWTZg"
      }
    },
    {
      "cell_type": "code",
      "source": [
        "# математические операции: умножение, возведение в степень\n",
        "result = 7 * 5\n",
        "print(result)\n",
        "result = 7 ** 100\n",
        "print(result)"
      ],
      "metadata": {
        "colab": {
          "base_uri": "https://localhost:8080/"
        },
        "id": "Zqe3tTYYWqG4",
        "outputId": "f2010808-7906-4541-9d74-d14e26a826b8"
      },
      "execution_count": 31,
      "outputs": [
        {
          "output_type": "stream",
          "name": "stdout",
          "text": [
            "35\n",
            "3234476509624757991344647769100216810857203198904625400933895331391691459636928060001\n"
          ]
        }
      ]
    },
    {
      "cell_type": "code",
      "source": [
        "# повторение срезов списков, кортежей, строк\n",
        "zeros = (0,) * 10\n",
        "print(zeros)"
      ],
      "metadata": {
        "colab": {
          "base_uri": "https://localhost:8080/"
        },
        "id": "NHRMExHsXF-p",
        "outputId": "a59ce1d9-c6e3-42f5-fc43-5cc963da3548"
      },
      "execution_count": 32,
      "outputs": [
        {
          "output_type": "stream",
          "name": "stdout",
          "text": [
            "(0, 0, 0, 0, 0, 0, 0, 0, 0, 0)\n"
          ]
        }
      ]
    },
    {
      "cell_type": "code",
      "source": [
        "# распаковка значений I\n",
        "numbers = (i for i in range(7))\n",
        "*start, end = numbers\n",
        "print(start, type(start))\n",
        "print(end, type(end))"
      ],
      "metadata": {
        "colab": {
          "base_uri": "https://localhost:8080/"
        },
        "id": "KOE0RCm5Xh5g",
        "outputId": "09f84e37-1766-45d0-8511-e20d0e6280bd"
      },
      "execution_count": 33,
      "outputs": [
        {
          "output_type": "stream",
          "name": "stdout",
          "text": [
            "[0, 1, 2, 3, 4, 5] <class 'list'>\n",
            "6 <class 'int'>\n"
          ]
        }
      ]
    },
    {
      "cell_type": "code",
      "source": [
        "# распаковка значений II\n",
        "numbers = (i ** 3 for i in range(10))\n",
        "*start, a, b, c = numbers\n",
        "print(start, type(start))\n",
        "print(a,b,c, type(a),type(b),type(c))"
      ],
      "metadata": {
        "colab": {
          "base_uri": "https://localhost:8080/"
        },
        "id": "_fA_Y8FGVX5Z",
        "outputId": "9c754546-8768-4aa6-b021-4306ce1e2950"
      },
      "execution_count": 34,
      "outputs": [
        {
          "output_type": "stream",
          "name": "stdout",
          "text": [
            "[0, 1, 8, 27, 64, 125, 216] <class 'list'>\n",
            "343 512 729 <class 'int'> <class 'int'> <class 'int'>\n"
          ]
        }
      ]
    },
    {
      "cell_type": "code",
      "source": [
        "# объединение списков, кортежей, множеств \n",
        "# со сменой типа объекта\n",
        "tuple_ = (1, 2, 3)\n",
        "set_ = {4, 5, 6}\n",
        "list_ = [*tuple_, *set_]\n",
        "print(list_)\n",
        "print((*list_, *tuple_))\n",
        "print({*list_, *tuple_})"
      ],
      "metadata": {
        "colab": {
          "base_uri": "https://localhost:8080/"
        },
        "id": "VivivtkTYMjc",
        "outputId": "c3fe1b39-7c67-449a-f768-d1b5b13b0eec"
      },
      "execution_count": 35,
      "outputs": [
        {
          "output_type": "stream",
          "name": "stdout",
          "text": [
            "[1, 2, 3, 4, 5, 6]\n",
            "(1, 2, 3, 4, 5, 6, 1, 2, 3)\n",
            "{1, 2, 3, 4, 5, 6}\n"
          ]
        }
      ]
    },
    {
      "cell_type": "code",
      "source": [
        "# распаковка словарей\n",
        "dict_a = {1: 1, '2': 2, '3': 3}\n",
        "dict_b = {4: 4, '5': 5, '6': 6}\n",
        "dict_c = {**dict_a, **dict_b}\n",
        "print(dict_c)"
      ],
      "metadata": {
        "colab": {
          "base_uri": "https://localhost:8080/"
        },
        "id": "bpM6RhKtZuY9",
        "outputId": "388b94fe-7ce4-4adb-dc41-9268bc110d2d"
      },
      "execution_count": 36,
      "outputs": [
        {
          "output_type": "stream",
          "name": "stdout",
          "text": [
            "{1: 1, '2': 2, '3': 3, 4: 4, '5': 5, '6': 6}\n"
          ]
        }
      ]
    },
    {
      "cell_type": "code",
      "source": [
        "# если ключ повторяется\n",
        "dict_a = {'1': 1, '2': 2, '3': 3}\n",
        "dict_b = {'4': 4, '2': 5, '6': 6}\n",
        "dict_c = {**dict_a, **dict_b}\n",
        "print(dict_c)"
      ],
      "metadata": {
        "colab": {
          "base_uri": "https://localhost:8080/"
        },
        "id": "pZKHD5_Ha_-F",
        "outputId": "adb2d5ce-da27-44f6-feb0-25b68221ec31"
      },
      "execution_count": 37,
      "outputs": [
        {
          "output_type": "stream",
          "name": "stdout",
          "text": [
            "{'1': 1, '2': 5, '3': 3, '4': 4, '6': 6}\n"
          ]
        }
      ]
    },
    {
      "cell_type": "code",
      "source": [
        "# ваш код ╰( ͡° ͜ʖ ͡° )つ──☆*:・ﾟ"
      ],
      "metadata": {
        "id": "MB7F_hj5pm-b"
      },
      "execution_count": 38,
      "outputs": []
    },
    {
      "cell_type": "markdown",
      "source": [
        "## Классификация функций по области видимости\n",
        "- с локальными аргументами (объявленными внутри)\n",
        "- с глобальными (объявленными снаружи)\n",
        "  - функция может изменять глобальные переменные\n",
        "- с аргументами объемлющей области"
      ],
      "metadata": {
        "id": "zB9-8vq6cbUa"
      }
    },
    {
      "cell_type": "code",
      "source": [
        "arr = [1, 2, 3, 4, 5]\n",
        "def create_arr(n):\n",
        "    arr = list(range(1, n+1))\n",
        "    print(arr)\n",
        "def display_arr():\n",
        "    global arr\n",
        "    print(arr)\n",
        "def transform_arr(n):\n",
        "    global arr\n",
        "    if n > len(arr):\n",
        "        arr = list(range(1, n+1))\n",
        "    print(arr)\n",
        "def display_transform_arr(m, n):\n",
        "    arr = list(range(1, n+1))\n",
        "    def transform_arr():\n",
        "        nonlocal arr, m, n\n",
        "        if m > n:\n",
        "            arr = list(range(n, m+1))\n",
        "        return arr\n",
        "    arr = transform_arr()\n",
        "    print(arr)"
      ],
      "metadata": {
        "id": "aDtMtmvNdVU0"
      },
      "execution_count": 39,
      "outputs": []
    },
    {
      "cell_type": "code",
      "source": [
        "# локальный аргумент arr не влияет на глобальный\n",
        "create_arr(7), arr"
      ],
      "metadata": {
        "colab": {
          "base_uri": "https://localhost:8080/"
        },
        "id": "eAb9sktrff91",
        "outputId": "4e054405-d13a-4286-d153-095c13a77380"
      },
      "execution_count": 40,
      "outputs": [
        {
          "output_type": "stream",
          "name": "stdout",
          "text": [
            "[1, 2, 3, 4, 5, 6, 7]\n"
          ]
        },
        {
          "output_type": "execute_result",
          "data": {
            "text/plain": [
              "(None, [1, 2, 3, 4, 5])"
            ]
          },
          "metadata": {},
          "execution_count": 40
        }
      ]
    },
    {
      "cell_type": "code",
      "source": [
        "# глобальный аргумент arr использован, но не изменен\n",
        "display_arr(), arr"
      ],
      "metadata": {
        "colab": {
          "base_uri": "https://localhost:8080/"
        },
        "id": "-vT2neAAeyEz",
        "outputId": "122bd1b8-112c-47cb-9417-4126d20bcf3f"
      },
      "execution_count": 41,
      "outputs": [
        {
          "output_type": "stream",
          "name": "stdout",
          "text": [
            "[1, 2, 3, 4, 5]\n"
          ]
        },
        {
          "output_type": "execute_result",
          "data": {
            "text/plain": [
              "(None, [1, 2, 3, 4, 5])"
            ]
          },
          "metadata": {},
          "execution_count": 41
        }
      ]
    },
    {
      "cell_type": "code",
      "source": [
        "# глобальный аргумент arr изменился\n",
        "transform_arr(9), arr"
      ],
      "metadata": {
        "colab": {
          "base_uri": "https://localhost:8080/"
        },
        "id": "Udp7khL-e-hR",
        "outputId": "4b45f9e6-35a7-4ac0-9c99-859affea1f4c"
      },
      "execution_count": 42,
      "outputs": [
        {
          "output_type": "stream",
          "name": "stdout",
          "text": [
            "[1, 2, 3, 4, 5, 6, 7, 8, 9]\n"
          ]
        },
        {
          "output_type": "execute_result",
          "data": {
            "text/plain": [
              "(None, [1, 2, 3, 4, 5, 6, 7, 8, 9])"
            ]
          },
          "metadata": {},
          "execution_count": 42
        }
      ]
    },
    {
      "cell_type": "code",
      "source": [
        "# аргумент в объемлющей области arr \n",
        "# изменился из-за вложенной функции\n",
        "display_transform_arr(5,9)\n",
        "display_transform_arr(9,5)"
      ],
      "metadata": {
        "colab": {
          "base_uri": "https://localhost:8080/"
        },
        "id": "2wb_sf8SjP7K",
        "outputId": "95ea36ab-8815-404e-d8a7-82a8cf878b98"
      },
      "execution_count": 43,
      "outputs": [
        {
          "output_type": "stream",
          "name": "stdout",
          "text": [
            "[1, 2, 3, 4, 5, 6, 7, 8, 9]\n",
            "[5, 6, 7, 8, 9]\n"
          ]
        }
      ]
    },
    {
      "cell_type": "markdown",
      "source": [
        "## Классификация функций по объекту применения\n",
        "- простые (применяются к аргументам)\n",
        "- сложные (к другим функциям)"
      ],
      "metadata": {
        "id": "RhIImzsIqpjR"
      }
    },
    {
      "cell_type": "code",
      "source": [
        "# бонус-пример сложной функции \n",
        "# частные производные функций по переменным\n",
        "from IPython.display import display\n",
        "import sympy\n",
        "x,y,z,t,u,v,w=sympy.symbols('x,y,z,t,u,v,w')\n",
        "A=sympy.Array(\n",
        "    [[[x*sympy.cos(u)*z**2-y,x**3*u*v**6-sympy.sin(w*t)],\n",
        "      [t*sympy.tan(u*w),sympy.exp(y)*z*u-w]],\n",
        "     [[y**3*v**5-t,x*sympy.log(w)*z**4],\n",
        "      [x-sympy.exp(z)*w**7,y*t**8*u*v]]])\n",
        "display(A); print(60*'-')\n",
        "for el in [x,y,z,t,u,v,w]:\n",
        "    display(el, A.diff(el))"
      ],
      "metadata": {
        "id": "mUX5-m8o3y67",
        "colab": {
          "base_uri": "https://localhost:8080/",
          "height": 510
        },
        "outputId": "3140a9a5-1feb-458f-8e21-b017be6032f7"
      },
      "execution_count": 44,
      "outputs": [
        {
          "output_type": "display_data",
          "data": {
            "text/plain": [
              "[[[x*z**2*cos(u) - y, u*v**6*x**3 - sin(t*w)], [t*tan(u*w), u*z*exp(y) - w]], [[-t + v**5*y**3, x*z**4*log(w)], [-w**7*exp(z) + x, t**8*u*v*y]]]"
            ],
            "text/latex": "$\\displaystyle \\left[\\begin{matrix}\\left[\\begin{matrix}x z^{2} \\cos{\\left(u \\right)} - y & u v^{6} x^{3} - \\sin{\\left(t w \\right)}\\\\t \\tan{\\left(u w \\right)} & u z e^{y} - w\\end{matrix}\\right] & \\left[\\begin{matrix}- t + v^{5} y^{3} & x z^{4} \\log{\\left(w \\right)}\\\\- w^{7} e^{z} + x & t^{8} u v y\\end{matrix}\\right]\\end{matrix}\\right]$"
          },
          "metadata": {}
        },
        {
          "output_type": "stream",
          "name": "stdout",
          "text": [
            "------------------------------------------------------------\n"
          ]
        },
        {
          "output_type": "display_data",
          "data": {
            "text/plain": [
              "x"
            ],
            "text/latex": "$\\displaystyle x$"
          },
          "metadata": {}
        },
        {
          "output_type": "display_data",
          "data": {
            "text/plain": [
              "[[[z**2*cos(u), 3*u*v**6*x**2], [0, 0]], [[0, z**4*log(w)], [1, 0]]]"
            ],
            "text/latex": "$\\displaystyle \\left[\\begin{matrix}\\left[\\begin{matrix}z^{2} \\cos{\\left(u \\right)} & 3 u v^{6} x^{2}\\\\0 & 0\\end{matrix}\\right] & \\left[\\begin{matrix}0 & z^{4} \\log{\\left(w \\right)}\\\\1 & 0\\end{matrix}\\right]\\end{matrix}\\right]$"
          },
          "metadata": {}
        },
        {
          "output_type": "display_data",
          "data": {
            "text/plain": [
              "y"
            ],
            "text/latex": "$\\displaystyle y$"
          },
          "metadata": {}
        },
        {
          "output_type": "display_data",
          "data": {
            "text/plain": [
              "[[[-1, 0], [0, u*z*exp(y)]], [[3*v**5*y**2, 0], [0, t**8*u*v]]]"
            ],
            "text/latex": "$\\displaystyle \\left[\\begin{matrix}\\left[\\begin{matrix}-1 & 0\\\\0 & u z e^{y}\\end{matrix}\\right] & \\left[\\begin{matrix}3 v^{5} y^{2} & 0\\\\0 & t^{8} u v\\end{matrix}\\right]\\end{matrix}\\right]$"
          },
          "metadata": {}
        },
        {
          "output_type": "display_data",
          "data": {
            "text/plain": [
              "z"
            ],
            "text/latex": "$\\displaystyle z$"
          },
          "metadata": {}
        },
        {
          "output_type": "display_data",
          "data": {
            "text/plain": [
              "[[[2*x*z*cos(u), 0], [0, u*exp(y)]], [[0, 4*x*z**3*log(w)], [-w**7*exp(z), 0]]]"
            ],
            "text/latex": "$\\displaystyle \\left[\\begin{matrix}\\left[\\begin{matrix}2 x z \\cos{\\left(u \\right)} & 0\\\\0 & u e^{y}\\end{matrix}\\right] & \\left[\\begin{matrix}0 & 4 x z^{3} \\log{\\left(w \\right)}\\\\- w^{7} e^{z} & 0\\end{matrix}\\right]\\end{matrix}\\right]$"
          },
          "metadata": {}
        },
        {
          "output_type": "display_data",
          "data": {
            "text/plain": [
              "t"
            ],
            "text/latex": "$\\displaystyle t$"
          },
          "metadata": {}
        },
        {
          "output_type": "display_data",
          "data": {
            "text/plain": [
              "[[[0, -w*cos(t*w)], [tan(u*w), 0]], [[-1, 0], [0, 8*t**7*u*v*y]]]"
            ],
            "text/latex": "$\\displaystyle \\left[\\begin{matrix}\\left[\\begin{matrix}0 & - w \\cos{\\left(t w \\right)}\\\\\\tan{\\left(u w \\right)} & 0\\end{matrix}\\right] & \\left[\\begin{matrix}-1 & 0\\\\0 & 8 t^{7} u v y\\end{matrix}\\right]\\end{matrix}\\right]$"
          },
          "metadata": {}
        },
        {
          "output_type": "display_data",
          "data": {
            "text/plain": [
              "u"
            ],
            "text/latex": "$\\displaystyle u$"
          },
          "metadata": {}
        },
        {
          "output_type": "display_data",
          "data": {
            "text/plain": [
              "[[[-x*z**2*sin(u), v**6*x**3], [t*w*(tan(u*w)**2 + 1), z*exp(y)]], [[0, 0], [0, t**8*v*y]]]"
            ],
            "text/latex": "$\\displaystyle \\left[\\begin{matrix}\\left[\\begin{matrix}- x z^{2} \\sin{\\left(u \\right)} & v^{6} x^{3}\\\\t w \\left(\\tan^{2}{\\left(u w \\right)} + 1\\right) & z e^{y}\\end{matrix}\\right] & \\left[\\begin{matrix}0 & 0\\\\0 & t^{8} v y\\end{matrix}\\right]\\end{matrix}\\right]$"
          },
          "metadata": {}
        },
        {
          "output_type": "display_data",
          "data": {
            "text/plain": [
              "v"
            ],
            "text/latex": "$\\displaystyle v$"
          },
          "metadata": {}
        },
        {
          "output_type": "display_data",
          "data": {
            "text/plain": [
              "[[[0, 6*u*v**5*x**3], [0, 0]], [[5*v**4*y**3, 0], [0, t**8*u*y]]]"
            ],
            "text/latex": "$\\displaystyle \\left[\\begin{matrix}\\left[\\begin{matrix}0 & 6 u v^{5} x^{3}\\\\0 & 0\\end{matrix}\\right] & \\left[\\begin{matrix}5 v^{4} y^{3} & 0\\\\0 & t^{8} u y\\end{matrix}\\right]\\end{matrix}\\right]$"
          },
          "metadata": {}
        },
        {
          "output_type": "display_data",
          "data": {
            "text/plain": [
              "w"
            ],
            "text/latex": "$\\displaystyle w$"
          },
          "metadata": {}
        },
        {
          "output_type": "display_data",
          "data": {
            "text/plain": [
              "[[[0, -t*cos(t*w)], [t*u*(tan(u*w)**2 + 1), -1]], [[0, x*z**4/w], [-7*w**6*exp(z), 0]]]"
            ],
            "text/latex": "$\\displaystyle \\left[\\begin{matrix}\\left[\\begin{matrix}0 & - t \\cos{\\left(t w \\right)}\\\\t u \\left(\\tan^{2}{\\left(u w \\right)} + 1\\right) & -1\\end{matrix}\\right] & \\left[\\begin{matrix}0 & \\frac{x z^{4}}{w}\\\\- 7 w^{6} e^{z} & 0\\end{matrix}\\right]\\end{matrix}\\right]$"
          },
          "metadata": {}
        }
      ]
    },
    {
      "cell_type": "markdown",
      "source": [
        "## Классификация функций по порядку исполнения\n",
        "- последовательное выполнение действий \n",
        "- рекурсивное (обращение функции к самой себе)"
      ],
      "metadata": {
        "id": "pzf1N6l4sWv0"
      }
    },
    {
      "cell_type": "code",
      "source": [
        "# примеры рекурсивной функции\n",
        "def recursive_sum(n):\n",
        "    if n > 0:\n",
        "        return n + recursive_sum(n - 1)\n",
        "    return 0\n",
        "recursive_sum(100)"
      ],
      "metadata": {
        "id": "6V0hvqBTWRmj",
        "colab": {
          "base_uri": "https://localhost:8080/"
        },
        "outputId": "ce171c73-a3ad-43b6-8e14-6c82b7dfd9a8"
      },
      "execution_count": 45,
      "outputs": [
        {
          "output_type": "execute_result",
          "data": {
            "text/plain": [
              "5050"
            ]
          },
          "metadata": {},
          "execution_count": 45
        }
      ]
    },
    {
      "cell_type": "code",
      "source": [
        "def is_palindrome(string):\n",
        "    if len(string) <= 1:\n",
        "        return True\n",
        "    else:\n",
        "        check = string[0] == string[-1]\n",
        "        return check and is_palindrome(string[1:-1])\n",
        "is_palindrome('123321')"
      ],
      "metadata": {
        "colab": {
          "base_uri": "https://localhost:8080/"
        },
        "id": "7CvmGbbGjRxY",
        "outputId": "0fa24888-2429-4d36-bb6a-433fd6056aa7"
      },
      "execution_count": 46,
      "outputs": [
        {
          "output_type": "execute_result",
          "data": {
            "text/plain": [
              "True"
            ]
          },
          "metadata": {},
          "execution_count": 46
        }
      ]
    },
    {
      "cell_type": "code",
      "source": [
        "# пример рекурсивной функции с тернарным оператором\n",
        "def recursive_ternary_sum(n):\n",
        "    return n + recursive_ternary_sum(n - 1) if n > 0 else 0\n",
        "recursive_ternary_sum(100)"
      ],
      "metadata": {
        "colab": {
          "base_uri": "https://localhost:8080/"
        },
        "id": "z2cMo8FcwhfZ",
        "outputId": "eea8063f-f03b-40bc-e412-8fa8f2c078e5"
      },
      "execution_count": 47,
      "outputs": [
        {
          "output_type": "execute_result",
          "data": {
            "text/plain": [
              "5050"
            ]
          },
          "metadata": {},
          "execution_count": 47
        }
      ]
    },
    {
      "cell_type": "code",
      "source": [
        "# пример рекурсивного генератора\n",
        "def recursive_generator(lst):\n",
        "    if lst:\n",
        "        yield lst[0] ** 2\n",
        "        yield from recursive_generator(lst[1:])\n",
        "rg = recursive_generator(range(5))\n",
        "list(rg)"
      ],
      "metadata": {
        "colab": {
          "base_uri": "https://localhost:8080/"
        },
        "id": "xdtAf1f_tBIs",
        "outputId": "439daa11-8674-40a2-cf78-45952d194f92"
      },
      "execution_count": 48,
      "outputs": [
        {
          "output_type": "execute_result",
          "data": {
            "text/plain": [
              "[0, 1, 4, 9, 16]"
            ]
          },
          "metadata": {},
          "execution_count": 48
        }
      ]
    },
    {
      "cell_type": "markdown",
      "source": [
        "## Задание\n",
        "Создайте любой рекурсивный генератор"
      ],
      "metadata": {
        "id": "FCKO8I7qp1mQ"
      }
    },
    {
      "cell_type": "code",
      "source": [
        "# ваш код ╰( ͡° ͜ʖ ͡° )つ──☆*:・ﾟ"
      ],
      "metadata": {
        "id": "GiIzOIiOpzWl"
      },
      "execution_count": 49,
      "outputs": []
    },
    {
      "cell_type": "markdown",
      "source": [
        "## Классификация функций по способу обращения к ней\n",
        "- именованная (с ключевыми словами `def`, `return`)\n",
        "- анонимная (с ключевым словом `lambda`)\n",
        "\n",
        "### Применение анонимной функции"
      ],
      "metadata": {
        "id": "bMePg2NftB15"
      }
    },
    {
      "cell_type": "code",
      "source": [
        "# для вычисления отдельных значений\n",
        "f1 = lambda x: x ** 2 + 10\n",
        "print(f1(1), f1(4))\n",
        "f2 = lambda x: x % 2 == 0\n",
        "print(f2(1), f2(4))"
      ],
      "metadata": {
        "colab": {
          "base_uri": "https://localhost:8080/"
        },
        "id": "BuiF6HwM1TKi",
        "outputId": "86b88e9c-135a-44a4-cb16-395b292759bd"
      },
      "execution_count": 50,
      "outputs": [
        {
          "output_type": "stream",
          "name": "stdout",
          "text": [
            "11 26\n",
            "False True\n"
          ]
        }
      ]
    },
    {
      "cell_type": "code",
      "source": [
        "# для вычисления значений интервала, списка или кортежа\n",
        "list(map(lambda x: x ** 2 + 10, range(5)))"
      ],
      "metadata": {
        "colab": {
          "base_uri": "https://localhost:8080/"
        },
        "id": "FdcNySWzQzNy",
        "outputId": "8590cfe3-fe01-4bb9-f6bb-efcb5b03af25"
      },
      "execution_count": 51,
      "outputs": [
        {
          "output_type": "execute_result",
          "data": {
            "text/plain": [
              "[10, 11, 14, 19, 26]"
            ]
          },
          "metadata": {},
          "execution_count": 51
        }
      ]
    },
    {
      "cell_type": "code",
      "source": [
        "# для фильтрации значений интервала, списка или кортежа\n",
        "list(filter(lambda x: x % 2 == 0, range(5)))"
      ],
      "metadata": {
        "colab": {
          "base_uri": "https://localhost:8080/"
        },
        "id": "BvIBk-txUBnK",
        "outputId": "9a9cbb6a-4941-46b6-cb78-4e34e68a8de5"
      },
      "execution_count": 52,
      "outputs": [
        {
          "output_type": "execute_result",
          "data": {
            "text/plain": [
              "[0, 2, 4]"
            ]
          },
          "metadata": {},
          "execution_count": 52
        }
      ]
    },
    {
      "cell_type": "code",
      "source": [
        "# для создания группы функций\n",
        "def power_n(n):\n",
        "    return lambda x: x ** n\n",
        "power2, power3, power4 = (power_n(i) for i in (2,3,4))\n",
        "power2(7), power3(5), power4(2)"
      ],
      "metadata": {
        "colab": {
          "base_uri": "https://localhost:8080/"
        },
        "id": "eyfD1yVjXvbX",
        "outputId": "4a2a4071-5d20-4be3-cf53-2844321c78ff"
      },
      "execution_count": 53,
      "outputs": [
        {
          "output_type": "execute_result",
          "data": {
            "text/plain": [
              "(49, 125, 16)"
            ]
          },
          "metadata": {},
          "execution_count": 53
        }
      ]
    },
    {
      "cell_type": "code",
      "source": [
        "# как ключ сортировки\n",
        "lst = [-1, -5, -2, 3, 1, 7, -3, 4, -8]\n",
        "sorted_lst_abs = sorted(lst, key=lambda x: abs(x))\n",
        "print(sorted_lst_abs)"
      ],
      "metadata": {
        "colab": {
          "base_uri": "https://localhost:8080/"
        },
        "id": "xbavj_D0YtLY",
        "outputId": "74f02c71-c210-4d2c-d242-d093432cacee"
      },
      "execution_count": 54,
      "outputs": [
        {
          "output_type": "stream",
          "name": "stdout",
          "text": [
            "[-1, 1, -2, 3, -3, 4, -5, 7, -8]\n"
          ]
        }
      ]
    },
    {
      "cell_type": "code",
      "source": [
        "# для многократного применения функции к элементам коллекции\n",
        "# с \"накопительным\" итогом согласно лямбда-закономерности\n",
        "from functools import reduce\n",
        "lst = list(range(1,11))\n",
        "lst_sum = reduce(lambda x, y: x + y, lst)\n",
        "print(lst_sum)\n",
        "lst_prod = reduce(lambda x, y: x * y, lst)\n",
        "print(lst_prod)"
      ],
      "metadata": {
        "colab": {
          "base_uri": "https://localhost:8080/"
        },
        "id": "7evVqOwOdKNd",
        "outputId": "1f26cab5-5dac-4f8e-8540-9bb13e5f9f91"
      },
      "execution_count": 55,
      "outputs": [
        {
          "output_type": "stream",
          "name": "stdout",
          "text": [
            "55\n",
            "3628800\n"
          ]
        }
      ]
    },
    {
      "cell_type": "markdown",
      "source": [
        "## Задание\n",
        "Найдите еще способы применения лямбда-функций"
      ],
      "metadata": {
        "id": "NonnMNYNqA5x"
      }
    },
    {
      "cell_type": "code",
      "source": [
        "# ваш код ╰( ͡° ͜ʖ ͡° )つ──☆*:・ﾟ"
      ],
      "metadata": {
        "id": "sUhdrwNCqBUj"
      },
      "execution_count": 56,
      "outputs": []
    }
  ]
}