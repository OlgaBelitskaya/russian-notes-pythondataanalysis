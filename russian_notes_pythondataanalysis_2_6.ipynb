{
  "nbformat": 4,
  "nbformat_minor": 0,
  "metadata": {
    "colab": {
      "provenance": []
    },
    "kernelspec": {
      "name": "python3",
      "display_name": "Python 3"
    },
    "language_info": {
      "name": "python"
    }
  },
  "cells": [
    {
      "cell_type": "markdown",
      "source": [
        "# 2.6 Python Standard Library\n",
        "[The Python Standard Library](https://docs.python.org/3/library/)\n",
        "## Итерация и копирование\n",
        "- `itertools`\n",
        "- `copy`\n",
        "- `enum`\n",
        "- ..."
      ],
      "metadata": {
        "id": "dYoMClH0jg42"
      }
    },
    {
      "cell_type": "code",
      "source": [
        "# обычно импортируются без сокращений\n",
        "import itertools,operator,copy,enum"
      ],
      "metadata": {
        "id": "1VdkzjEHlD8c"
      },
      "execution_count": 1,
      "outputs": []
    },
    {
      "cell_type": "code",
      "execution_count": 2,
      "metadata": {
        "colab": {
          "base_uri": "https://localhost:8080/"
        },
        "id": "-J7xfT40jUqd",
        "outputId": "c91cc5c0-aca8-4cc4-865d-c72bf6f81b7b"
      },
      "outputs": [
        {
          "output_type": "execute_result",
          "data": {
            "text/plain": [
              "([1, 2, 3, 4, 4, 5, 6, 7], ())"
            ]
          },
          "metadata": {},
          "execution_count": 2
        }
      ],
      "source": [
        "# соединение интераторов\n",
        "it1 = iter([1, 2, 3, 4])\n",
        "it2 = iter([4, 5, 6, 7])\n",
        "it = itertools.chain(it1, it2)\n",
        "list(it), tuple(it)"
      ]
    },
    {
      "cell_type": "code",
      "source": [
        "# все возможные сочетания\n",
        "prod = itertools.product([1,2],[3,4,5])\n",
        "list(prod), tuple(prod)"
      ],
      "metadata": {
        "id": "wQfln4yYl6rT",
        "colab": {
          "base_uri": "https://localhost:8080/"
        },
        "outputId": "9eaee9c4-e56b-4363-8cee-f767671d04ba"
      },
      "execution_count": 3,
      "outputs": [
        {
          "output_type": "execute_result",
          "data": {
            "text/plain": [
              "([(1, 3), (1, 4), (1, 5), (2, 3), (2, 4), (2, 5)], ())"
            ]
          },
          "metadata": {},
          "execution_count": 3
        }
      ]
    },
    {
      "cell_type": "code",
      "source": [
        "# все возможные перестановки\n",
        "perm = itertools.permutations([1, 2, 3])\n",
        "list(perm), tuple(perm)"
      ],
      "metadata": {
        "colab": {
          "base_uri": "https://localhost:8080/"
        },
        "id": "oyKc7MLaToAI",
        "outputId": "1b759396-c61a-477e-d016-a081dfc23a6a"
      },
      "execution_count": 4,
      "outputs": [
        {
          "output_type": "execute_result",
          "data": {
            "text/plain": [
              "([(1, 2, 3), (1, 3, 2), (2, 1, 3), (2, 3, 1), (3, 1, 2), (3, 2, 1)], ())"
            ]
          },
          "metadata": {},
          "execution_count": 4
        }
      ]
    },
    {
      "cell_type": "code",
      "source": [
        "# варианты сочетаний элементов списка\n",
        "perm = itertools.permutations([1, 2, 3, 4], 2)\n",
        "comb = itertools.combinations([1, 2, 3, 4], 2)\n",
        "comb_re = itertools.combinations_with_replacement(\n",
        "    [1, 2, 3, 4], 2)\n",
        "print(list(perm), list(comb), list(comb_re), sep='\\n')"
      ],
      "metadata": {
        "colab": {
          "base_uri": "https://localhost:8080/"
        },
        "id": "kLOkebBRxOSV",
        "outputId": "5bc7581f-774c-4765-9f26-01bbab9b2141"
      },
      "execution_count": 5,
      "outputs": [
        {
          "output_type": "stream",
          "name": "stdout",
          "text": [
            "[(1, 2), (1, 3), (1, 4), (2, 1), (2, 3), (2, 4), (3, 1), (3, 2), (3, 4), (4, 1), (4, 2), (4, 3)]\n",
            "[(1, 2), (1, 3), (1, 4), (2, 3), (2, 4), (3, 4)]\n",
            "[(1, 1), (1, 2), (1, 3), (1, 4), (2, 2), (2, 3), (2, 4), (3, 3), (3, 4), (4, 4)]\n"
          ]
        }
      ]
    },
    {
      "cell_type": "code",
      "source": [
        "# группировка с пользовательской функцией\n",
        "def smaller3(x): return x < 4\n",
        "group_obj1 = itertools.groupby(range(10),key=smaller3)\n",
        "for key,group in group_obj1:\n",
        "    print(key,list(group))\n",
        "# группировка с анонимной функцией\n",
        "group_obj2 = itertools.groupby(\n",
        "    [\"hi\",\"nice\",\"hello\",\"my\",\"i\"],key=lambda x: \"i\" in x)\n",
        "for key, group in group_obj2:\n",
        "    print(key,list(group))\n",
        "# группировка с предварительной сортировкой\n",
        "persons = {'1':{'name':'Tom','age':25},'2':{'name':'Dan','age':27}, \n",
        "           '3':{'name':'Lisa','age':27},'4':{'name':'Anna','age':25},\n",
        "           '5':{'name':'Mary','age':26},'6':{'name':'Tim','age':28}}\n",
        "# список словарей, отсортированных по полю 'age'\n",
        "persons = sorted(persons.values(),key=lambda value: value['age'])\n",
        "group_obj3 = itertools.groupby(persons,key=lambda x: x['age'])\n",
        "for key, group in group_obj3:\n",
        "    print(key,list(group))"
      ],
      "metadata": {
        "colab": {
          "base_uri": "https://localhost:8080/"
        },
        "id": "bKeUioDFa1V5",
        "outputId": "aa3bfefe-29ac-4e67-b9ad-f09b6fbd1b50"
      },
      "execution_count": 6,
      "outputs": [
        {
          "output_type": "stream",
          "name": "stdout",
          "text": [
            "True [0, 1, 2, 3]\n",
            "False [4, 5, 6, 7, 8, 9]\n",
            "True ['hi', 'nice']\n",
            "False ['hello', 'my']\n",
            "True ['i']\n",
            "25 [{'name': 'Tom', 'age': 25}, {'name': 'Anna', 'age': 25}]\n",
            "26 [{'name': 'Mary', 'age': 26}]\n",
            "27 [{'name': 'Dan', 'age': 27}, {'name': 'Lisa', 'age': 27}]\n",
            "28 [{'name': 'Tim', 'age': 28}]\n"
          ]
        }
      ]
    },
    {
      "cell_type": "code",
      "source": [
        "# кумулятивные итерации\n",
        "acc1 = itertools.accumulate(range(10))\n",
        "acc2 = itertools.accumulate(range(1,9),func=operator.mul)\n",
        "acc3 = itertools.accumulate([1,5,2,6,3,4,0,9,1],func=max)\n",
        "for a in (acc1,acc2,acc3):\n",
        "    print(list(a))"
      ],
      "metadata": {
        "colab": {
          "base_uri": "https://localhost:8080/"
        },
        "id": "QEzqBP40bjQ9",
        "outputId": "5db81ada-3e55-4523-9a8a-71e176f035fd"
      },
      "execution_count": 7,
      "outputs": [
        {
          "output_type": "stream",
          "name": "stdout",
          "text": [
            "[0, 1, 3, 6, 10, 15, 21, 28, 36, 45]\n",
            "[1, 2, 6, 24, 120, 720, 5040, 40320]\n",
            "[1, 5, 5, 6, 6, 6, 6, 9, 9]\n"
          ]
        }
      ]
    },
    {
      "cell_type": "code",
      "source": [
        "# бесконечные итераторы\n",
        "from itertools import count, cycle, repeat\n",
        "lst = [[],[],[]]\n",
        "for i in count(10):\n",
        "    lst[0] += [i]\n",
        "    if  i >= 13: break\n",
        "sum = 0\n",
        "for i in cycle(range(10)):\n",
        "    lst[1] += [i]\n",
        "    sum += i\n",
        "    if sum >= 100: break\n",
        "for i in repeat(list(range(3)),3):\n",
        "    lst[2] += [i]\n",
        "lst"
      ],
      "metadata": {
        "colab": {
          "base_uri": "https://localhost:8080/"
        },
        "id": "8OYP42KLxvhV",
        "outputId": "2a77e130-e98b-4db0-9c4e-6deeb42ef415"
      },
      "execution_count": 8,
      "outputs": [
        {
          "output_type": "execute_result",
          "data": {
            "text/plain": [
              "[[10, 11, 12, 13],\n",
              " [0, 1, 2, 3, 4, 5, 6, 7, 8, 9, 0, 1, 2, 3, 4, 5, 6, 7, 8, 9, 0, 1, 2, 3, 4],\n",
              " [[0, 1, 2], [0, 1, 2], [0, 1, 2]]]"
            ]
          },
          "metadata": {},
          "execution_count": 8
        }
      ]
    },
    {
      "cell_type": "markdown",
      "source": [
        "## Расширенные возможности обработки данных\n",
        "- `collections`\n",
        "- `collections.abc`\n",
        "- `array`\n",
        "- `weakref`\n",
        "- `types`\n",
        "- `graphlib`\n",
        "- `heapq`\n",
        "- `...`"
      ],
      "metadata": {
        "id": "hZ-Mg2u3_HdT"
      }
    },
    {
      "cell_type": "code",
      "source": [
        "# счетчик элементов\n",
        "from collections import Counter as cc\n",
        "a = \"assaaaabbttbbccwwcdde\"\n",
        "cstr = cc(a)\n",
        "print(cstr,dict(cstr),cstr.items(),cstr.keys(),cstr.values(),\n",
        "      sep='\\n',end='\\n'+100*'='+'\\n')\n",
        "lst = [2, 3, 2, 0, 1, 0, 1, 2, 1, 1, 5, 3, 2, 3, 2, 4]\n",
        "clist = cc(lst)\n",
        "print(clist,clist.most_common(1),\n",
        "      clist.elements(),list(clist.elements()),\n",
        "      sep='\\n',end='\\n'+100*'='+'\\n')"
      ],
      "metadata": {
        "colab": {
          "base_uri": "https://localhost:8080/"
        },
        "id": "VJm0hyadTTn2",
        "outputId": "a1fa2c71-5248-473b-af7f-8deb19b51d72"
      },
      "execution_count": 9,
      "outputs": [
        {
          "output_type": "stream",
          "name": "stdout",
          "text": [
            "Counter({'a': 5, 'b': 4, 'c': 3, 's': 2, 't': 2, 'w': 2, 'd': 2, 'e': 1})\n",
            "{'a': 5, 's': 2, 'b': 4, 't': 2, 'c': 3, 'w': 2, 'd': 2, 'e': 1}\n",
            "dict_items([('a', 5), ('s', 2), ('b', 4), ('t', 2), ('c', 3), ('w', 2), ('d', 2), ('e', 1)])\n",
            "dict_keys(['a', 's', 'b', 't', 'c', 'w', 'd', 'e'])\n",
            "dict_values([5, 2, 4, 2, 3, 2, 2, 1])\n",
            "====================================================================================================\n",
            "Counter({2: 5, 1: 4, 3: 3, 0: 2, 5: 1, 4: 1})\n",
            "[(2, 5)]\n",
            "<itertools.chain object at 0x7f7577888310>\n",
            "[2, 2, 2, 2, 2, 3, 3, 3, 0, 0, 1, 1, 1, 1, 5, 4]\n",
            "====================================================================================================\n"
          ]
        }
      ]
    },
    {
      "cell_type": "code",
      "source": [
        "# именованные кортежи\n",
        "from collections import namedtuple as cnt\n",
        "point3 = cnt('point','x, y, z')\n",
        "p = point3(1,-4,2)\n",
        "print(p,p._fields,type(p),(p.x,p.y,p.z),sep='\\n')\n",
        "student = cnt('student','name age id')\n",
        "s = student(name='Tom', age=25, id=10027)\n",
        "print(s,s._fields,type(s),(s.id,s.name,s.age),sep='\\n')"
      ],
      "metadata": {
        "colab": {
          "base_uri": "https://localhost:8080/"
        },
        "id": "ZQUCCaPCYXmC",
        "outputId": "995772fa-beec-4a9a-f0d3-587e4bbe88b8"
      },
      "execution_count": 10,
      "outputs": [
        {
          "output_type": "stream",
          "name": "stdout",
          "text": [
            "point(x=1, y=-4, z=2)\n",
            "('x', 'y', 'z')\n",
            "<class '__main__.point'>\n",
            "(1, -4, 2)\n",
            "student(name='Tom', age=25, id=10027)\n",
            "('name', 'age', 'id')\n",
            "<class '__main__.student'>\n",
            "(10027, 'Tom', 25)\n"
          ]
        }
      ]
    },
    {
      "cell_type": "code",
      "source": [
        "# словарь с установками по умолчанию\n",
        "from collections import defaultdict as cdd\n",
        "d0,d1,d2,d3 = cdd(),cdd(str),cdd(float),cdd(lambda:'@')\n",
        "d1['1'] = 'a'; d1['2'] = 'b'\n",
        "d2['a'] = 1.5; d2['b'] = 2.1\n",
        "d0, d1['3'], d1, d2['c'], d2, d3['1'], d3"
      ],
      "metadata": {
        "colab": {
          "base_uri": "https://localhost:8080/"
        },
        "id": "0eidHGncaE1z",
        "outputId": "4f022c00-5591-4585-a2aa-33e58742b622"
      },
      "execution_count": 11,
      "outputs": [
        {
          "output_type": "execute_result",
          "data": {
            "text/plain": [
              "(defaultdict(None, {}),\n",
              " '',\n",
              " defaultdict(str, {'1': 'a', '2': 'b', '3': ''}),\n",
              " 0.0,\n",
              " defaultdict(float, {'a': 1.5, 'b': 2.1, 'c': 0.0}),\n",
              " '@',\n",
              " defaultdict(<function __main__.<lambda>()>, {'1': '@'}))"
            ]
          },
          "metadata": {},
          "execution_count": 11
        }
      ]
    },
    {
      "cell_type": "code",
      "source": [
        "# упорядоченный словарь\n",
        "from collections import OrderedDict as cod\n",
        "d = cod({'a': 1, 'b': 2, 'c': 3, 'd': 4, 'e': 5})\n",
        "print(d, dict(d), sep='\\n')\n",
        "d.move_to_end('a'); print(d)\n",
        "d.move_to_end('a',last=False); print(d)\n",
        "for key, value in reversed(d.items()):\n",
        "    print(key, '->', value, end = ' || ')\n",
        "print(); d.popitem(); print(d)\n",
        "d.sorted_keys = lambda: sorted(d.keys())\n",
        "d['f'],d['e'] = 7,6; print(d)\n",
        "cod({k:d[k] for k in d.sorted_keys()})"
      ],
      "metadata": {
        "id": "ST1Tnk_zEAKP",
        "colab": {
          "base_uri": "https://localhost:8080/"
        },
        "outputId": "5d078e24-85b8-4789-a9a3-d494dba93d06"
      },
      "execution_count": 12,
      "outputs": [
        {
          "output_type": "stream",
          "name": "stdout",
          "text": [
            "OrderedDict([('a', 1), ('b', 2), ('c', 3), ('d', 4), ('e', 5)])\n",
            "{'a': 1, 'b': 2, 'c': 3, 'd': 4, 'e': 5}\n",
            "OrderedDict([('b', 2), ('c', 3), ('d', 4), ('e', 5), ('a', 1)])\n",
            "OrderedDict([('a', 1), ('b', 2), ('c', 3), ('d', 4), ('e', 5)])\n",
            "e -> 5 || d -> 4 || c -> 3 || b -> 2 || a -> 1 || \n",
            "OrderedDict([('a', 1), ('b', 2), ('c', 3), ('d', 4)])\n",
            "OrderedDict([('a', 1), ('b', 2), ('c', 3), ('d', 4), ('f', 7), ('e', 6)])\n"
          ]
        },
        {
          "output_type": "execute_result",
          "data": {
            "text/plain": [
              "OrderedDict([('a', 1), ('b', 2), ('c', 3), ('d', 4), ('e', 6), ('f', 7)])"
            ]
          },
          "metadata": {},
          "execution_count": 12
        }
      ]
    },
    {
      "cell_type": "code",
      "source": [
        "{'a':'A','b':'B'} == {'b':'B','a':'A'},\\\n",
        "cod({'a':'A','b':'B'}) == cod({'b':'B','a':'A'})"
      ],
      "metadata": {
        "colab": {
          "base_uri": "https://localhost:8080/"
        },
        "id": "yOxZ_xFstjph",
        "outputId": "cafe98d5-d8e3-454a-d032-5084f29e0ed4"
      },
      "execution_count": 13,
      "outputs": [
        {
          "output_type": "execute_result",
          "data": {
            "text/plain": [
              "(True, False)"
            ]
          },
          "metadata": {},
          "execution_count": 13
        }
      ]
    },
    {
      "cell_type": "code",
      "source": [
        "from collections import ChainMap as ccm\n",
        "# последовательность словарей\n",
        "toys = {'лего':100,'монополия':10}\n",
        "computers = {'макбук':20,'хромбук':20,'классбук':50}\n",
        "clothes = {'джинсы':30,'футболки':60}\n",
        "chain = ccm(toys,computers,clothes)\n",
        "for el in chain.items(): print(el)\n",
        "toys.update({'дрон':10,'мяч':10})\n",
        "print(list(chain))"
      ],
      "metadata": {
        "colab": {
          "base_uri": "https://localhost:8080/"
        },
        "id": "JI2BVlkrUHAV",
        "outputId": "301d80c2-8178-4f84-e8a8-b12df99dc9c0"
      },
      "execution_count": 14,
      "outputs": [
        {
          "output_type": "stream",
          "name": "stdout",
          "text": [
            "('джинсы', 30)\n",
            "('футболки', 60)\n",
            "('макбук', 20)\n",
            "('хромбук', 20)\n",
            "('классбук', 50)\n",
            "('лего', 100)\n",
            "('монополия', 10)\n",
            "['джинсы', 'футболки', 'макбук', 'хромбук', 'классбук', 'лего', 'монополия', 'дрон', 'мяч']\n"
          ]
        }
      ]
    },
    {
      "cell_type": "code",
      "source": [
        "# может содержать одинаковые ключи\n",
        "anumbers = {\"one\": 1, \"two\": 2}\n",
        "cletters = {\"a\": \"A\", \"b\": \"B\"}\n",
        "rnumbers = {\"one\": \"I\", \"two\": \"II\"}\n",
        "lletters = {\"a\": \"a\", \"b\": \"a\"}\n",
        "dl_chain = ccm(anumbers,rnumbers,cletters,lletters)\n",
        "dl_chain"
      ],
      "metadata": {
        "colab": {
          "base_uri": "https://localhost:8080/"
        },
        "id": "P6-9QWTdXUzZ",
        "outputId": "f94c4b21-bb3f-4d77-9c62-c4cb7f2d9bca"
      },
      "execution_count": 15,
      "outputs": [
        {
          "output_type": "execute_result",
          "data": {
            "text/plain": [
              "ChainMap({'one': 1, 'two': 2}, {'one': 'I', 'two': 'II'}, {'a': 'A', 'b': 'B'}, {'a': 'a', 'b': 'a'})"
            ]
          },
          "metadata": {},
          "execution_count": 15
        }
      ]
    },
    {
      "cell_type": "code",
      "source": [
        "# объект двустороннего доступа\n",
        "from collections import deque as cdq\n",
        "d = cdq([1,2,3,4,5]); print(d)\n",
        "d.append(6); d.appendleft(0); print(d)\n",
        "d.extend([7,8]); d.extendleft([-2,-1]); print(d)\n",
        "d.rotate(2); print(d)\n",
        "d.rotate(-2); print(d)"
      ],
      "metadata": {
        "colab": {
          "base_uri": "https://localhost:8080/"
        },
        "id": "TpPvsevSaD7H",
        "outputId": "f39103cc-e4c6-492b-c5f5-4cc5270c4f55"
      },
      "execution_count": 16,
      "outputs": [
        {
          "output_type": "stream",
          "name": "stdout",
          "text": [
            "deque([1, 2, 3, 4, 5])\n",
            "deque([0, 1, 2, 3, 4, 5, 6])\n",
            "deque([-1, -2, 0, 1, 2, 3, 4, 5, 6, 7, 8])\n",
            "deque([7, 8, -1, -2, 0, 1, 2, 3, 4, 5, 6])\n",
            "deque([-1, -2, 0, 1, 2, 3, 4, 5, 6, 7, 8])\n"
          ]
        }
      ]
    },
    {
      "cell_type": "code",
      "source": [
        "# компактное представление массива данных\n",
        "# строго одного типа\n",
        "import array  \n",
        "arr1 = array.array(\"f\",[31,60,19,12])  \n",
        "print(arr1,arr1[0],type(arr1))\n",
        "f = open(\"array.csv\",\"wb\")\n",
        "arr1.reverse()\n",
        "arr1.tofile(f); f.close()\n",
        "arr2 = array.array(\"f\")\n",
        "f = open(\"array.csv\",\"rb\")\n",
        "arr2.fromfile(f,4)\n",
        "print(arr2,arr2[0],type(arr2))"
      ],
      "metadata": {
        "colab": {
          "base_uri": "https://localhost:8080/"
        },
        "id": "no97tARU5hLe",
        "outputId": "d3037506-27e9-444c-8cfc-9c2c796ed9c0"
      },
      "execution_count": 17,
      "outputs": [
        {
          "output_type": "stream",
          "name": "stdout",
          "text": [
            "array('f', [31.0, 60.0, 19.0, 12.0]) 31.0 <class 'array.array'>\n",
            "array('f', [12.0, 19.0, 60.0, 31.0]) 12.0 <class 'array.array'>\n"
          ]
        }
      ]
    },
    {
      "cell_type": "code",
      "source": [
        "# слабые ссылки\n",
        "import weakref\n",
        "class CreateObj(set): pass\n",
        "obj = CreateObj(\"hello\")\n",
        "normal_setobj = obj\n",
        "print(f\"обычный объект-множество: {normal_setobj}\")\n",
        "weakref_ref = weakref.ref(obj)\n",
        "weakref_setobj = weakref_ref()\n",
        "print(f\"объект-множество, созданный со слабой ссылкой: {weakref_setobj}\")\n",
        "proxy_setobj = weakref.proxy(obj)\n",
        "print(f\"доверенный объект-множество: {proxy_setobj}\")\n",
        "list_setobj = [normal_setobj, weakref_setobj, proxy_setobj]\n",
        "[weakref.getweakrefcount(o) for o in list_setobj]"
      ],
      "metadata": {
        "id": "teIFom58_I6z",
        "colab": {
          "base_uri": "https://localhost:8080/"
        },
        "outputId": "49cf34bc-f3ad-4e0b-e6d8-c3c3fb8ad901"
      },
      "execution_count": 18,
      "outputs": [
        {
          "output_type": "stream",
          "name": "stdout",
          "text": [
            "обычный объект-множество: CreateObj({'l', 'h', 'o', 'e'})\n",
            "объект-множество, созданный со слабой ссылкой: CreateObj({'l', 'h', 'o', 'e'})\n",
            "доверенный объект-множество: CreateObj({'l', 'h', 'o', 'e'})\n"
          ]
        },
        {
          "output_type": "execute_result",
          "data": {
            "text/plain": [
              "[2, 2, 0]"
            ]
          },
          "metadata": {},
          "execution_count": 18
        }
      ]
    },
    {
      "cell_type": "code",
      "source": [
        "# алгоритм heap queue\n",
        "import heapq\n",
        "scores = [51, 33, 64, 87, 91, 75, 15, 49, 33, 82, 45]\n",
        "heapq.nlargest(5, scores),\\\n",
        "heapq.nsmallest(5, scores)"
      ],
      "metadata": {
        "colab": {
          "base_uri": "https://localhost:8080/"
        },
        "id": "_Nc2sCqONpdp",
        "outputId": "e1638702-c35e-448e-db69-6c797c011a8a"
      },
      "execution_count": 19,
      "outputs": [
        {
          "output_type": "execute_result",
          "data": {
            "text/plain": [
              "([91, 87, 82, 75, 64], [15, 33, 33, 45, 49])"
            ]
          },
          "metadata": {},
          "execution_count": 19
        }
      ]
    },
    {
      "cell_type": "markdown",
      "source": [
        "## Работа с текстовыми форматами\n",
        "- `string`\n",
        "- `re`\n",
        "- `difflib` \n",
        "- `textwrap`\n",
        "- `unicodedata`\n",
        "- `stringprep` \n",
        "- `readline`\n",
        "- `rlcompleter`"
      ],
      "metadata": {
        "id": "a21Bxun648JX"
      }
    },
    {
      "cell_type": "code",
      "source": [
        "# обработка строковых данных\n",
        "import string\n",
        "s = string.Template('$who likes $what')\n",
        "s.substitute(who='Tom', what='apples'),\\\n",
        "string.ascii_lowercase,string.punctuation,string.digits"
      ],
      "metadata": {
        "id": "9GAHw4WQFXRw",
        "colab": {
          "base_uri": "https://localhost:8080/"
        },
        "outputId": "cedf5cd4-01b8-4507-f3c7-549c0dda10ae"
      },
      "execution_count": 20,
      "outputs": [
        {
          "output_type": "execute_result",
          "data": {
            "text/plain": [
              "('Tom likes apples',\n",
              " 'abcdefghijklmnopqrstuvwxyz',\n",
              " '!\"#$%&\\'()*+,-./:;<=>?@[\\\\]^_`{|}~',\n",
              " '0123456789')"
            ]
          },
          "metadata": {},
          "execution_count": 20
        }
      ]
    },
    {
      "cell_type": "code",
      "source": [
        "from string import Formatter as sf\n",
        "s = sf()\n",
        "s.vformat('{x[a]} {1} {0} {2} ... {x[b]}',\n",
        "          '12@34',{'x':{'a':'aa','b':'bb'}})"
      ],
      "metadata": {
        "colab": {
          "base_uri": "https://localhost:8080/",
          "height": 38
        },
        "id": "qsLXRDO4EKYF",
        "outputId": "cbd0a98c-67b8-46c5-a60b-569b52ddac41"
      },
      "execution_count": 21,
      "outputs": [
        {
          "output_type": "execute_result",
          "data": {
            "text/plain": [
              "'aa 2 1 @ ... bb'"
            ],
            "application/vnd.google.colaboratory.intrinsic+json": {
              "type": "string"
            }
          },
          "metadata": {},
          "execution_count": 21
        }
      ]
    },
    {
      "cell_type": "code",
      "source": [
        "# исследование состава строковых литералов\n",
        "# метасимволы, последовательности, множества и методы\n",
        "import re\n",
        "# начинаются с f, только 1 повторение, старт hello и стоп !!!\n",
        "re.findall(r'\\bf[a-z]*', 'apple, tree, foot, map, final'),\\\n",
        "re.sub(r'(\\b[a-z]+) \\1', r'\\1', 'cat, cat in the the hat hat!'),\\\n",
        "re.search(r'^hello.*!!!$',r'hello, world!!!')"
      ],
      "metadata": {
        "id": "PRZJmcPT49NW",
        "colab": {
          "base_uri": "https://localhost:8080/"
        },
        "outputId": "9b247580-134c-4945-c659-44ea06b23c3a"
      },
      "execution_count": 22,
      "outputs": [
        {
          "output_type": "execute_result",
          "data": {
            "text/plain": [
              "(['foot', 'final'],\n",
              " 'cat, cat in the hat!',\n",
              " <re.Match object; span=(0, 15), match='hello, world!!!'>)"
            ]
          },
          "metadata": {},
          "execution_count": 22
        }
      ]
    },
    {
      "cell_type": "code",
      "source": [
        "# информация о всех символах Юникод\n",
        "import unicodedata as ud\n",
        "print(ud.lookup('ASTERISK'),\n",
        "      ud.lookup('Latin Capital letter Y'),sep=' || ')\n",
        "print(ud.name(u'@'),ud.name(u'°'),sep=' || ')\n",
        "print(ud.decimal(u'6'),ud.numeric(u'9'),sep=' || ')\n",
        "print(ud.category(u'Б'),ud.category(u'9'),\n",
        "      ud.category(u'!'),sep=' || ')\n",
        "print(ud.mirrored(u'['),ud.mirrored(u'<'),sep=' || ')"
      ],
      "metadata": {
        "colab": {
          "base_uri": "https://localhost:8080/"
        },
        "id": "7tPwQQ5lBd6j",
        "outputId": "57052416-516a-4ffd-e9c6-6241e6917aef"
      },
      "execution_count": 23,
      "outputs": [
        {
          "output_type": "stream",
          "name": "stdout",
          "text": [
            "* || Y\n",
            "COMMERCIAL AT || DEGREE SIGN\n",
            "6 || 9.0\n",
            "Lu || Nd || Po\n",
            "1 || 1\n"
          ]
        }
      ]
    },
    {
      "cell_type": "markdown",
      "source": [
        "## Временные измерения\n",
        "- `time`\n",
        "- `timeit`\n",
        "- `datetime`\n",
        "- `zoneinfo` >= 3.9\n",
        "- `calendar`\n",
        "\n",
        "Во многих средах установлены дополнительные\n",
        "- `pytz`\n",
        "- `dateutil`"
      ],
      "metadata": {
        "id": "om6A2VFamPu3"
      }
    },
    {
      "cell_type": "code",
      "source": [
        "from time import asctime\n",
        "asctime()"
      ],
      "metadata": {
        "colab": {
          "base_uri": "https://localhost:8080/",
          "height": 38
        },
        "id": "_yQuTa0SmKZU",
        "outputId": "950049d5-2588-483d-ec17-228d3f5a057f"
      },
      "execution_count": 24,
      "outputs": [
        {
          "output_type": "execute_result",
          "data": {
            "text/plain": [
              "'Mon Jan 23 13:59:48 2023'"
            ],
            "application/vnd.google.colaboratory.intrinsic+json": {
              "type": "string"
            }
          },
          "metadata": {},
          "execution_count": 24
        }
      ]
    },
    {
      "cell_type": "code",
      "source": [
        "# дата и точное время\n",
        "import datetime, pytz\n",
        "today = datetime.date.today()\n",
        "now = datetime.datetime.now()\n",
        "now_tz = datetime.datetime.now(pytz.timezone('Europe/Moscow'))\n",
        "today, str(today), now, str(now), now_tz, str(now_tz)"
      ],
      "metadata": {
        "colab": {
          "base_uri": "https://localhost:8080/"
        },
        "id": "hKVhFKz0mMVn",
        "outputId": "f5032546-c711-4e8d-94b4-4d4ee8d48963"
      },
      "execution_count": 25,
      "outputs": [
        {
          "output_type": "execute_result",
          "data": {
            "text/plain": [
              "(datetime.date(2023, 1, 23),\n",
              " '2023-01-23',\n",
              " datetime.datetime(2023, 1, 23, 13, 59, 48, 914521),\n",
              " '2023-01-23 13:59:48.914521',\n",
              " datetime.datetime(2023, 1, 23, 16, 59, 48, 977804, tzinfo=<DstTzInfo 'Europe/Moscow' MSK+3:00:00 STD>),\n",
              " '2023-01-23 16:59:48.977804+03:00')"
            ]
          },
          "metadata": {},
          "execution_count": 25
        }
      ]
    },
    {
      "cell_type": "code",
      "source": [
        "# строка установленного формата\n",
        "tf = \"%d %B %Y %A %H:%M:%S%z\"\n",
        "now.strftime(tf),now_tz.strftime(tf)"
      ],
      "metadata": {
        "colab": {
          "base_uri": "https://localhost:8080/"
        },
        "id": "EMXSnbJU3v9O",
        "outputId": "60c9257e-ce39-4d44-8eeb-4ec4bd3de4ba"
      },
      "execution_count": 26,
      "outputs": [
        {
          "output_type": "execute_result",
          "data": {
            "text/plain": [
              "('23 January 2023 Monday 13:59:48', '23 January 2023 Monday 16:59:48+0300')"
            ]
          },
          "metadata": {},
          "execution_count": 26
        }
      ]
    },
    {
      "cell_type": "code",
      "source": [
        "# итерация временного интервала\n",
        "delta = datetime.timedelta(days=1)\n",
        "start = datetime.date.today()\n",
        "end = start + 7 * delta\n",
        "for d in range((end - start).days):\n",
        "    print(start + d * delta)"
      ],
      "metadata": {
        "colab": {
          "base_uri": "https://localhost:8080/"
        },
        "id": "tgoibKYUpJvA",
        "outputId": "fa40b8a4-d230-46dc-a990-ab09b53f6429"
      },
      "execution_count": 27,
      "outputs": [
        {
          "output_type": "stream",
          "name": "stdout",
          "text": [
            "2023-01-23\n",
            "2023-01-24\n",
            "2023-01-25\n",
            "2023-01-26\n",
            "2023-01-27\n",
            "2023-01-28\n",
            "2023-01-29\n"
          ]
        }
      ]
    },
    {
      "cell_type": "code",
      "source": [
        "# часовые пояса\n",
        "from datetime import timedelta, timezone\n",
        "MSK = timezone(timedelta(hours=+3))\n",
        "MSK"
      ],
      "metadata": {
        "colab": {
          "base_uri": "https://localhost:8080/"
        },
        "id": "Sz-X8HhArCVW",
        "outputId": "23b37bcf-b9b1-47d2-b8df-6d4655433c53"
      },
      "execution_count": 28,
      "outputs": [
        {
          "output_type": "execute_result",
          "data": {
            "text/plain": [
              "datetime.timezone(datetime.timedelta(seconds=10800))"
            ]
          },
          "metadata": {},
          "execution_count": 28
        }
      ]
    },
    {
      "cell_type": "code",
      "source": [
        "from dateutil import tz\n",
        "from dateutil.parser import parse\n",
        "EST,CST,MST,PST = \\\n",
        "(tz.gettz('US/'+el) for el in ('Eastern','Central','Mountain','Pacific'))\n",
        "us_tzinfo = {'CST': CST,'EST': EST,'MST': MST,'PST': PST}\n",
        "dt_est = parse('2023-1-1 04:00:00 EST', tzinfos=us_tzinfo)\n",
        "dt_pst = parse('2022-3-11 16:00:00 PST', tzinfos=us_tzinfo)\n",
        "print (dt_est, dt_pst, sep='\\n')"
      ],
      "metadata": {
        "colab": {
          "base_uri": "https://localhost:8080/"
        },
        "id": "po4VWCS-5fM1",
        "outputId": "5daf2300-ad5d-421a-ebd4-f1177672db7b"
      },
      "execution_count": 29,
      "outputs": [
        {
          "output_type": "stream",
          "name": "stdout",
          "text": [
            "2023-01-01 04:00:00-05:00\n",
            "2022-03-11 16:00:00-08:00\n"
          ]
        }
      ]
    },
    {
      "cell_type": "code",
      "source": [
        "# оценка быстродействия программных действий\n",
        "from timeit import default_timer as timer\n",
        "alist = 10**7*[\"a\"]\n",
        "start = timer()\n",
        "astr = \"\"\n",
        "for a in alist: astr += a\n",
        "print(\"list => string ||   +   || %.6f\"%(timer()-start))\n",
        "start = timer()\n",
        "astr = \"\".join(alist)\n",
        "print(\"list => string || join()|| %.6f\"%(timer()-start))\n",
        "del alist,astr"
      ],
      "metadata": {
        "colab": {
          "base_uri": "https://localhost:8080/"
        },
        "id": "3ZkiwFWRSFOU",
        "outputId": "316fd37a-0328-4664-e23c-60be924cd510"
      },
      "execution_count": 30,
      "outputs": [
        {
          "output_type": "stream",
          "name": "stdout",
          "text": [
            "list => string ||   +   || 3.742948\n",
            "list => string || join()|| 0.141230\n"
          ]
        }
      ]
    },
    {
      "cell_type": "markdown",
      "source": [
        "## Интернет-доступ и обработка веб-ресурсов\n",
        "- `urllib`\n",
        "- `http`\n",
        "- `html`\n",
        "- `XML Processing Modules`\n",
        "- `...`"
      ],
      "metadata": {
        "id": "E_NxCw0examu"
      }
    },
    {
      "cell_type": "code",
      "source": [
        "from urllib.request import urlopen\n",
        "print(urlopen(\"http://python.org/\").headers)"
      ],
      "metadata": {
        "colab": {
          "base_uri": "https://localhost:8080/"
        },
        "id": "i-EofiY5H1AG",
        "outputId": "4e216723-f40d-4f9e-a8c2-7f4ce3d0da82"
      },
      "execution_count": 31,
      "outputs": [
        {
          "output_type": "stream",
          "name": "stdout",
          "text": [
            "Connection: close\n",
            "Content-Length: 50123\n",
            "Server: nginx\n",
            "Content-Type: text/html; charset=utf-8\n",
            "X-Frame-Options: DENY\n",
            "Via: 1.1 vegur, 1.1 varnish\n",
            "Accept-Ranges: bytes\n",
            "Date: Mon, 23 Jan 2023 13:59:53 GMT\n",
            "Age: 1700\n",
            "X-Served-By: cache-iad-kiad7000146-IAD\n",
            "X-Cache: HIT\n",
            "X-Cache-Hits: 1\n",
            "X-Timer: S1674482393.297226,VS0,VE1\n",
            "Vary: Cookie\n",
            "Strict-Transport-Security: max-age=63072000; includeSubDomains\n",
            "\n",
            "\n"
          ]
        }
      ]
    },
    {
      "cell_type": "code",
      "source": [
        "# содержание вебстраницы\n",
        "print(urlopen(\"http://python.org/\").read()[:82])"
      ],
      "metadata": {
        "colab": {
          "base_uri": "https://localhost:8080/"
        },
        "id": "qU9fxGQZIfGt",
        "outputId": "0b02d2e1-0189-4fa5-d19e-08b2a6e6e500"
      },
      "execution_count": 32,
      "outputs": [
        {
          "output_type": "stream",
          "name": "stdout",
          "text": [
            "b'<!doctype html>\\n<!--[if lt IE 7]>   <html class=\"no-js ie6 lt-ie7 lt-ie8 lt-ie9\"> '\n"
          ]
        }
      ]
    },
    {
      "cell_type": "code",
      "source": [
        "# отдельные компоненты информации\n",
        "url_utc = 'http://worldtimeapi.org/api/timezone/etc/UTC.txt'\n",
        "with urlopen(url_utc) as response:\n",
        "    for line in response:\n",
        "        line = line.decode() # байт-строки в обычные\n",
        "        if line.startswith('datetime'):\n",
        "            print(line.rstrip())"
      ],
      "metadata": {
        "colab": {
          "base_uri": "https://localhost:8080/"
        },
        "id": "pshg6FFL92h4",
        "outputId": "f1dd538d-5ca8-4377-b52a-e1fbf2141158"
      },
      "execution_count": 33,
      "outputs": [
        {
          "output_type": "stream",
          "name": "stdout",
          "text": [
            "datetime: 2023-01-23T13:59:53.573325+00:00\n"
          ]
        }
      ]
    },
    {
      "cell_type": "code",
      "source": [
        "# построение анализатора интернет-страницы\n",
        "from html.parser import HTMLParser\n",
        "class BuiltHTMLParser(HTMLParser):\n",
        "    def __init__(self):\n",
        "        HTMLParser.__init__(self)\n",
        "        self.starts = {}\n",
        "        self.ends = {}\n",
        "        self.text_data = []\n",
        "    def __str__(self):\n",
        "        start_str = f\"start tags: {self.starts}\\n\"\n",
        "        end_str = f\"end tags: {self.ends}\\n\"\n",
        "        data_str = f\"data: {self.text_data}\"\n",
        "        return start_str+end_str+data_str\n",
        "    def handle_starttag(self, tag, attrs):\n",
        "        if tag in self.starts:\n",
        "            self.starts[tag] += 1\n",
        "        else:\n",
        "            self.starts[tag] = 1\n",
        "    def handle_endtag(self, tag):\n",
        "        if tag in self.ends:\n",
        "            self.ends[tag] += 1\n",
        "        else:\n",
        "            self.ends[tag] = 1\n",
        "    def handle_data(self, data):\n",
        "        self.text_data += [data]\n",
        "hp = BuiltHTMLParser()\n",
        "hp.feed('<html><head><title>Test</title></head>'\n",
        "        '<body><h1>Header1 #1</h1><h1>Header1 #2</h1>'\n",
        "        '<h1>Header1 #3</h1></body></html>')\n",
        "print(hp)"
      ],
      "metadata": {
        "colab": {
          "base_uri": "https://localhost:8080/"
        },
        "id": "waqt4gsAnNEL",
        "outputId": "8bbcadfd-ff64-4d6d-ec1a-c0b0037b57ed"
      },
      "execution_count": 34,
      "outputs": [
        {
          "output_type": "stream",
          "name": "stdout",
          "text": [
            "start tags: {'html': 1, 'head': 1, 'title': 1, 'body': 1, 'h1': 3}\n",
            "end tags: {'title': 1, 'head': 1, 'h1': 3, 'body': 1, 'html': 1}\n",
            "data: ['Test', 'Header1 #1', 'Header1 #2', 'Header1 #3']\n"
          ]
        }
      ]
    },
    {
      "cell_type": "markdown",
      "source": [
        "## Вычисления\n",
        "- `decimal`\n",
        "- `numbers`\n",
        "- `math`\n",
        "- `cmath`\n",
        "- `fractions`\n",
        "- `random`\n",
        "- `statistics`"
      ],
      "metadata": {
        "id": "GjjAB2Cl93R-"
      }
    },
    {
      "cell_type": "code",
      "source": [
        "import numbers,decimal,math,cmath,random,fractions,statistics"
      ],
      "metadata": {
        "id": "2FtXYwbt-Gg6"
      },
      "execution_count": 35,
      "outputs": []
    },
    {
      "cell_type": "code",
      "source": [
        "# важнейшие статистические показатели\n",
        "arr = [2.75,1.75,1.25,.75,.25,.5,1.25,3.5]\n",
        "statistics.mean(arr),statistics.median(arr)"
      ],
      "metadata": {
        "colab": {
          "base_uri": "https://localhost:8080/"
        },
        "id": "fjFCE0HcUdTI",
        "outputId": "65aeb986-18c7-4161-f448-4d6d66c59b40"
      },
      "execution_count": 36,
      "outputs": [
        {
          "output_type": "execute_result",
          "data": {
            "text/plain": [
              "(1.5, 1.25)"
            ]
          },
          "metadata": {},
          "execution_count": 36
        }
      ]
    },
    {
      "cell_type": "code",
      "source": [
        "# математические функции и константы\n",
        "math.sqrt(1024),math.pi"
      ],
      "metadata": {
        "colab": {
          "base_uri": "https://localhost:8080/"
        },
        "id": "1XYIkodr-SbL",
        "outputId": "555b211e-53d1-46bf-cb65-cc4899758b2f"
      },
      "execution_count": 37,
      "outputs": [
        {
          "output_type": "execute_result",
          "data": {
            "text/plain": [
              "(32.0, 3.141592653589793)"
            ]
          },
          "metadata": {},
          "execution_count": 37
        }
      ]
    },
    {
      "cell_type": "code",
      "source": [
        "# имитация случайного объекта\n",
        "random.choice(['🍊','🍋','🍎','🍐','🍑']),\\\n",
        "random.randrange(7),random.random(),\\\n",
        "random.sample(list('abcdefghijklmnopqrstuvwxyz'),10)"
      ],
      "metadata": {
        "id": "JXO8F4DMvHvS",
        "outputId": "598577f3-6caa-4462-9401-9a9a52c7f4a8",
        "colab": {
          "base_uri": "https://localhost:8080/"
        }
      },
      "execution_count": 38,
      "outputs": [
        {
          "output_type": "execute_result",
          "data": {
            "text/plain": [
              "('🍐',\n",
              " 4,\n",
              " 0.6275461245655267,\n",
              " ['k', 'j', 'h', 'y', 's', 'b', 'f', 'c', 'q', 'p'])"
            ]
          },
          "metadata": {},
          "execution_count": 38
        }
      ]
    },
    {
      "cell_type": "markdown",
      "source": [
        "## Функциональное программирование\n",
        "- `operator`\n",
        "- `functools`"
      ],
      "metadata": {
        "id": "v0_HPZnj13Hs"
      }
    },
    {
      "cell_type": "code",
      "source": [
        "# встроенные операторы как функции\n",
        "import operator\n",
        "15 // 5, operator.floordiv(15, 5),\\\n",
        "15 // 2, operator.__floordiv__(15, 2)"
      ],
      "metadata": {
        "colab": {
          "base_uri": "https://localhost:8080/"
        },
        "id": "aCHVrqr1Ag69",
        "outputId": "78ed3022-5323-4616-a34f-7175354ee585"
      },
      "execution_count": 39,
      "outputs": [
        {
          "output_type": "execute_result",
          "data": {
            "text/plain": [
              "(3, 3, 7, 7)"
            ]
          },
          "metadata": {},
          "execution_count": 39
        }
      ]
    },
    {
      "cell_type": "code",
      "source": [
        "# переопределение операторов\n",
        "class Vector:\n",
        "    def __init__(self, x, y):\n",
        "        self.x = x\n",
        "        self.y = y\n",
        "    def __str__(self):\n",
        "        return 'vector (%d, %d)' % (self.x, self.y)\n",
        "    def __repr__(self):\n",
        "        return 'vector (%d, %d)' % (self.x, self.y)\n",
        "    def __add__(self,other):\n",
        "        return Vector(self.x + other.x, self.y + other.y)\n",
        "operator.add((2,15),(5,1)),Vector(2,15)+Vector(5,1)"
      ],
      "metadata": {
        "colab": {
          "base_uri": "https://localhost:8080/"
        },
        "id": "jFtfBXwPCL6n",
        "outputId": "05a41c8e-8a7b-41f6-beb8-c1f7deb4c0b3"
      },
      "execution_count": 40,
      "outputs": [
        {
          "output_type": "execute_result",
          "data": {
            "text/plain": [
              "((2, 15, 5, 1), vector (7, 16))"
            ]
          },
          "metadata": {},
          "execution_count": 40
        }
      ]
    },
    {
      "cell_type": "code",
      "source": [
        "# запуск функции несколько раз с декоратором\n",
        "def n_run(f,n=5):  \n",
        "    def inner_f(*args,**kwargs):\n",
        "        for i in range(n): f(*args,**kwargs) \n",
        "    return inner_f \n",
        "@n_run\n",
        "def f1(string):  \n",
        "    print(f\"| {string} |\",end=\"\")  \n",
        "f1('hello')"
      ],
      "metadata": {
        "id": "tHHbjf0vx0rF",
        "colab": {
          "base_uri": "https://localhost:8080/"
        },
        "outputId": "23400bcd-d3f8-4ef5-9d7a-1c27eb276aee"
      },
      "execution_count": 41,
      "outputs": [
        {
          "output_type": "stream",
          "name": "stdout",
          "text": [
            "| hello || hello || hello || hello || hello |"
          ]
        }
      ]
    },
    {
      "cell_type": "code",
      "source": [
        "# тот же эффект\n",
        "import functools\n",
        "def repeat(n):   \n",
        "    def decorator_repeat(f):  \n",
        "        @functools.wraps(f)  \n",
        "        def wrapper(*args,**kwargs):  \n",
        "            for i in range(n):  \n",
        "                result = f(*args,**kwargs)  \n",
        "            return result  \n",
        "        return wrapper  \n",
        "    return decorator_repeat  \n",
        "@repeat(n=5)  \n",
        "def f1(string):  \n",
        "     print(f\"| {string} |\",end=\"\")\n",
        "f1('hello')"
      ],
      "metadata": {
        "colab": {
          "base_uri": "https://localhost:8080/"
        },
        "id": "m4Go28idmvfw",
        "outputId": "f6d2f60f-4d10-4ac5-ec63-d6287d76a528"
      },
      "execution_count": 42,
      "outputs": [
        {
          "output_type": "stream",
          "name": "stdout",
          "text": [
            "| hello || hello || hello || hello || hello |"
          ]
        }
      ]
    },
    {
      "cell_type": "markdown",
      "source": [
        "## Сервисы операционной системы и обработки файлов\n",
        "- `os`\n",
        "- `io`\n",
        "- `csv`\n",
        "- `json`\n",
        "- `glob`\n",
        "- `tomllib`\n",
        "- `argparse`\n",
        "- `tempfile`\n",
        "- `...`"
      ],
      "metadata": {
        "id": "EkJbaeCWXI33"
      }
    },
    {
      "cell_type": "code",
      "source": [
        "# взаимодействие с операционной системой\n",
        "import os,glob        \n",
        "os.rename(\"array.csv\",\"array_os.csv\")\n",
        "glob.glob('*.csv')"
      ],
      "metadata": {
        "colab": {
          "base_uri": "https://localhost:8080/"
        },
        "id": "pd3AYfMoQT7m",
        "outputId": "14d784ab-75b1-48f6-debf-5ffda2709248"
      },
      "execution_count": 43,
      "outputs": [
        {
          "output_type": "execute_result",
          "data": {
            "text/plain": [
              "['array_os.csv']"
            ]
          },
          "metadata": {},
          "execution_count": 43
        }
      ]
    },
    {
      "cell_type": "code",
      "source": [
        "# управление интерактивным взаимодействием с файлами\n",
        "import io\n",
        "output = io.StringIO()\n",
        "output.write('id name age\\n')\n",
        "output.write('1015 Lisa 23\\n')\n",
        "print('1002 Tom 27', file=output)\n",
        "contents = output.getvalue()\n",
        "output.close()\n",
        "contents"
      ],
      "metadata": {
        "colab": {
          "base_uri": "https://localhost:8080/",
          "height": 38
        },
        "id": "cRdn8qI5XKpq",
        "outputId": "882c02e5-8f39-4514-82fe-815543ef2501"
      },
      "execution_count": 44,
      "outputs": [
        {
          "output_type": "execute_result",
          "data": {
            "text/plain": [
              "'id name age\\n1015 Lisa 23\\n1002 Tom 27\\n'"
            ],
            "application/vnd.google.colaboratory.intrinsic+json": {
              "type": "string"
            }
          },
          "metadata": {},
          "execution_count": 44
        }
      ]
    },
    {
      "cell_type": "code",
      "source": [
        "# csv файл из словаря\n",
        "import csv\n",
        "with open('dict.csv', 'w', newline='') as csvfile:\n",
        "    fieldnames = ['id', 'name', 'age']\n",
        "    dict_rows = ({'id':1015,'name':'Tom','age':27},\n",
        "                 {'id':1002,'name':'Lisa','age':23},\n",
        "                 {'id':1034,'name':'Dan','age':21},\n",
        "                 {'id':1025,'name':'Ann','age':25},\n",
        "                 {'id':1045,'name':'Alex','age':28})\n",
        "    n = len(dict_rows)\n",
        "    writer = csv.DictWriter(csvfile, fieldnames=fieldnames)\n",
        "    writer.writeheader()\n",
        "    [writer.writerow(dict_rows[i]) for i in range(n)]"
      ],
      "metadata": {
        "id": "nYaWFViIKegu"
      },
      "execution_count": 45,
      "outputs": []
    },
    {
      "cell_type": "code",
      "source": [
        "# построчное чтение\n",
        "with open('dict.csv', newline='') as f:\n",
        "    read = csv.reader(f, delimiter=',')\n",
        "    for row in read:\n",
        "        fstr = f' | '.join(f'%5s'%r for r in row)\n",
        "        print(fstr,len(fstr)*'-',sep='\\n')"
      ],
      "metadata": {
        "colab": {
          "base_uri": "https://localhost:8080/"
        },
        "id": "HjZNAV0SLpgv",
        "outputId": "f8c29c8c-f8d9-4418-83c5-791eb8742744"
      },
      "execution_count": 46,
      "outputs": [
        {
          "output_type": "stream",
          "name": "stdout",
          "text": [
            "   id |  name |   age\n",
            "---------------------\n",
            " 1015 |   Tom |    27\n",
            "---------------------\n",
            " 1002 |  Lisa |    23\n",
            "---------------------\n",
            " 1034 |   Dan |    21\n",
            "---------------------\n",
            " 1025 |   Ann |    25\n",
            "---------------------\n",
            " 1045 |  Alex |    28\n",
            "---------------------\n"
          ]
        }
      ]
    },
    {
      "cell_type": "code",
      "source": [
        "# чтение в упорядоченный словарь\n",
        "with open('dict.csv', mode='r') as csv_file:\n",
        "    csv_reader = csv.DictReader(csv_file)\n",
        "    line_count = 0\n",
        "    for row in csv_reader:\n",
        "        if line_count == 0:\n",
        "            rk = list(row.keys())\n",
        "            n = len(rk)\n",
        "            print(f'названия полей: {\", \".join(row)}')\n",
        "            line_count += 1\n",
        "        fstr = ' || '.join(f'{row[rk[i]]:5s}' for i in range(n))\n",
        "        print(len(fstr)*'-',fstr,len(fstr)*'-',sep='\\n')\n",
        "        line_count += 1\n",
        "    print(f'файл содержит {line_count-1} строк')"
      ],
      "metadata": {
        "colab": {
          "base_uri": "https://localhost:8080/"
        },
        "id": "eOuUsjo_qNwE",
        "outputId": "6f78ac74-3336-4a63-f3d5-42aa25a5e406"
      },
      "execution_count": 47,
      "outputs": [
        {
          "output_type": "stream",
          "name": "stdout",
          "text": [
            "названия полей: id, name, age\n",
            "-----------------------\n",
            "1015  || Tom   || 27   \n",
            "-----------------------\n",
            "-----------------------\n",
            "1002  || Lisa  || 23   \n",
            "-----------------------\n",
            "-----------------------\n",
            "1034  || Dan   || 21   \n",
            "-----------------------\n",
            "-----------------------\n",
            "1025  || Ann   || 25   \n",
            "-----------------------\n",
            "-----------------------\n",
            "1045  || Alex  || 28   \n",
            "-----------------------\n",
            "файл содержит 5 строк\n"
          ]
        }
      ]
    },
    {
      "cell_type": "markdown",
      "source": [
        "## Сжатие данных и архивация\n",
        "- `zlib`\n",
        "- `gzip`\n",
        "- `bz2`\n",
        "- `lzma`\n",
        "- `zipfile`\n",
        "- `tarfile`"
      ],
      "metadata": {
        "id": "ye3wdO-rx1NP"
      }
    },
    {
      "cell_type": "code",
      "source": [
        "import zipfile, urllib, datetime\n",
        "def append_zipfile(zip_file, file_): \n",
        "    with zipfile.ZipFile(zip_file, mode='a') as zf:\n",
        "        zf.write(file_)\n",
        "def load_file(path, file_):\n",
        "    input_file = urllib.request.urlopen(path + file_)\n",
        "    output_file = open(file_,'wb')\n",
        "    output_file.write(input_file.read())\n",
        "    output_file.close(); input_file.close()\n",
        "def create_stream(path, file_list):\n",
        "    for file_ in file_list:\n",
        "        load_file(path, file_)\n",
        "        yield file_\n",
        "path = 'https://raw.githubusercontent.com/pandas-dev/pandas/'+\\\n",
        "       'main/pandas/tests/io/data/csv/'\n",
        "file_list = ['banklist.csv','tips.csv','iris.csv']\n",
        "for f in create_stream(path, file_list):\n",
        "    append_zipfile(\"example.zip\", f)"
      ],
      "metadata": {
        "id": "Sx5u0Lp6aO_K"
      },
      "execution_count": 48,
      "outputs": []
    },
    {
      "cell_type": "code",
      "source": [
        "with zipfile.ZipFile(\"example.zip\", mode=\"r\") as zf:\n",
        "    for info in zf.infolist():\n",
        "        print(f\"file: {info.filename}\",\n",
        "              f\"modified: {datetime.datetime(*info.date_time)}\",\n",
        "              f\"normal size: {info.file_size} bytes\",\n",
        "              f\"compressed size: {info.compress_size} bytes\",\n",
        "              \"-\" * 20, sep=\"\\n\")\n",
        "    zf.close()"
      ],
      "metadata": {
        "colab": {
          "base_uri": "https://localhost:8080/"
        },
        "id": "04VhqsZ1Ih_T",
        "outputId": "7275ece1-6557-4fb9-c770-d72a3f658fca"
      },
      "execution_count": 49,
      "outputs": [
        {
          "output_type": "stream",
          "name": "stdout",
          "text": [
            "file: banklist.csv\n",
            "modified: 2023-01-23 13:59:54\n",
            "normal size: 41417 bytes\n",
            "compressed size: 41417 bytes\n",
            "--------------------\n",
            "file: tips.csv\n",
            "modified: 2023-01-23 13:59:54\n",
            "normal size: 7943 bytes\n",
            "compressed size: 7943 bytes\n",
            "--------------------\n",
            "file: iris.csv\n",
            "modified: 2023-01-23 13:59:54\n",
            "normal size: 4600 bytes\n",
            "compressed size: 4600 bytes\n",
            "--------------------\n"
          ]
        }
      ]
    },
    {
      "cell_type": "markdown",
      "source": [
        "## Хранение данных\n",
        "- `pickle`\n",
        "- `copyreg`\n",
        "- `shelve`\n",
        "- `marshal`\n",
        "- `dbm`\n",
        "- `sqlite3` "
      ],
      "metadata": {
        "id": "5skVycH5aQAm"
      }
    },
    {
      "cell_type": "code",
      "source": [
        "# база данных в формате словаря\n",
        "import dbm\n",
        "with dbm.open('example','c') as db:\n",
        "    db['name'] = 'Tom'\n",
        "    db['id'] = '1024'\n",
        "    db['age'] = '27'\n",
        "    print(db.get(b'name'))\n",
        "# with - автоматическое закрытие файла "
      ],
      "metadata": {
        "id": "dmQ9RC2JbGH1",
        "colab": {
          "base_uri": "https://localhost:8080/"
        },
        "outputId": "3b7b1c34-56f5-404f-c407-e2a0de98e976"
      },
      "execution_count": null,
      "outputs": [
        {
          "output_type": "stream",
          "name": "stdout",
          "text": [
            "b'Tom'\n"
          ]
        }
      ]
    },
    {
      "cell_type": "code",
      "source": [
        "import pickle\n",
        "class PickleExample:\n",
        "    def __init__(self):\n",
        "        self.obj1 = 1001\n",
        "        self.obj2 = 10.01\n",
        "        self.obj3 = \"string\"\n",
        "# невозможно сохранить объект с модулем pickle\n",
        "        self.obj4 = lambda x: x ** 3\n",
        "    def __getstate__(self):\n",
        "        attributes = self.__dict__.copy()\n",
        "# исключение объекта при сохранении        \n",
        "        del attributes['obj4']\n",
        "        return attributes\n",
        "# возвращение объекта при распаковке \n",
        "    def __setstate__(self, state):\n",
        "        self.__dict__ = state\n",
        "        self.obj4 = lambda x: x ** 3\n",
        "pe = PickleExample()\n",
        "pe_string = pickle.dumps(pe)\n",
        "pe_obj = pickle.loads(pe_string)\n",
        "print(*(item for item in pe_obj.__dict__.items()),sep='\\n')"
      ],
      "metadata": {
        "colab": {
          "base_uri": "https://localhost:8080/"
        },
        "id": "9LNTIhLhAWj0",
        "outputId": "bea383c9-64ea-4429-c13a-2da1d90fa99c"
      },
      "execution_count": null,
      "outputs": [
        {
          "output_type": "stream",
          "name": "stdout",
          "text": [
            "('obj1', 1001)\n",
            "('obj2', 10.01)\n",
            "('obj3', 'string')\n",
            "('obj4', <function PickleExample.__setstate__.<locals>.<lambda> at 0x7f91da915b80>)\n"
          ]
        }
      ]
    },
    {
      "cell_type": "code",
      "source": [
        "# dill - расширение pickle\n",
        "import dill\n",
        "cube = lambda x: x ** 3\n",
        "dpe = dill.dumps(cube)\n",
        "[dpe[i*30:(i+1)*30] for i in range(8)]"
      ],
      "metadata": {
        "colab": {
          "base_uri": "https://localhost:8080/"
        },
        "id": "uRoQVL7AGBbx",
        "outputId": "39f3f4e6-dc56-4ff3-d69e-e441b31283da"
      },
      "execution_count": null,
      "outputs": [
        {
          "output_type": "execute_result",
          "data": {
            "text/plain": [
              "[b'\\x80\\x04\\x95\\xcd\\x00\\x00\\x00\\x00\\x00\\x00\\x00\\x8c\\ndill._dill\\x94\\x8c\\x10_cre',\n",
              " b'ate_function\\x94\\x93\\x94(h\\x00\\x8c\\x0c_create_co',\n",
              " b'de\\x94\\x93\\x94(K\\x01K\\x00K\\x00K\\x01K\\x02KCC\\x08|\\x00d\\x01\\x13\\x00S\\x00\\x94N',\n",
              " b'K\\x03\\x86\\x94)\\x8c\\x01x\\x94\\x85\\x94\\x8c\\x1f<ipython-input-52',\n",
              " b'-e43cfb9f847a>\\x94\\x8c\\x08<lambda>\\x94K\\x03C\\x00',\n",
              " b'\\x94))t\\x94R\\x94c__builtin__\\n__main__\\nh',\n",
              " b'\\nNNt\\x94R\\x94}\\x94}\\x94\\x8c\\x0f__annotations__\\x94}',\n",
              " b'\\x94s\\x86\\x94b.']"
            ]
          },
          "metadata": {},
          "execution_count": 52
        }
      ]
    },
    {
      "cell_type": "code",
      "source": [
        "import sqlite3, os\n",
        "if os.path.exists('example.db'):\n",
        "    os.remove('example.db')\n",
        "def db_connect(dbf):\n",
        "    sqlconn = None\n",
        "    try:\n",
        "        sqlconn = sqlite3.connect(dbf)\n",
        "        return sqlconn\n",
        "    except sqlite3.Error as err:\n",
        "        print(err)\n",
        "        if sqlconn is not None: \n",
        "            sqlconn.close()\n",
        "def db_query(connection, query):\n",
        "    try:\n",
        "        cursor = connection.cursor()\n",
        "        tr = []; cursor.execute(query)\n",
        "        print(\"запрос прошел успешно\")\n",
        "        result = cursor.fetchall()\n",
        "        for r in result: tr += [r]\n",
        "        if tr == []: return None\n",
        "        else: return tr\n",
        "    except sqlite3.Error as err:\n",
        "        print(f\"ошибка: '{err}'\")\n",
        "dbc = db_connect('example.db')"
      ],
      "metadata": {
        "id": "jSfxDySDoULk"
      },
      "execution_count": 51,
      "outputs": []
    },
    {
      "cell_type": "code",
      "source": [
        "users_table = \"\"\"\n",
        "CREATE TABLE IF NOT EXISTS users (\n",
        "  id INTEGER PRIMARY KEY AUTOINCREMENT,\n",
        "  name TEXT NOT NULL,\n",
        "  age INTEGER,\n",
        "  gender TEXT,\n",
        "  country TEXT\n",
        ");\n",
        "\"\"\"\n",
        "db_query(dbc, users_table)\n",
        "users = \"\"\"\n",
        "INSERT INTO\n",
        "  users (name, age, gender, country)\n",
        "VALUES\n",
        "  ('James', 45, 'male', 'USA'),\n",
        "  ('Leila', 32, 'female', 'France'),\n",
        "  ('Brigitte', 35, 'female', 'UK'),\n",
        "  ('Mike', 40, 'male', 'Germany'),\n",
        "  ('Mary', 28, 'female', 'Canada');\n",
        "\"\"\"\n",
        "db_query(dbc, users)\n",
        "db_query(dbc, \"\"\"SELECT * FROM users\"\"\")"
      ],
      "metadata": {
        "colab": {
          "base_uri": "https://localhost:8080/"
        },
        "id": "QffmXBgMrfer",
        "outputId": "2551c797-e174-4522-ed9d-3900237024a3"
      },
      "execution_count": 52,
      "outputs": [
        {
          "output_type": "stream",
          "name": "stdout",
          "text": [
            "запрос прошел успешно\n",
            "запрос прошел успешно\n",
            "запрос прошел успешно\n"
          ]
        },
        {
          "output_type": "execute_result",
          "data": {
            "text/plain": [
              "[(1, 'James', 45, 'male', 'USA'),\n",
              " (2, 'Leila', 32, 'female', 'France'),\n",
              " (3, 'Brigitte', 35, 'female', 'UK'),\n",
              " (4, 'Mike', 40, 'male', 'Germany'),\n",
              " (5, 'Mary', 28, 'female', 'Canada')]"
            ]
          },
          "metadata": {},
          "execution_count": 52
        }
      ]
    }
  ]
}