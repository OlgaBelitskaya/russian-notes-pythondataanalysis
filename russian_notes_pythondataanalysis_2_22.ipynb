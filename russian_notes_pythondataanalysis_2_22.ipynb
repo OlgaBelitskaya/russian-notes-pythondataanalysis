{
  "nbformat": 4,
  "nbformat_minor": 0,
  "metadata": {
    "colab": {
      "provenance": []
    },
    "kernelspec": {
      "name": "python3",
      "display_name": "Python 3"
    },
    "language_info": {
      "name": "python"
    }
  },
  "cells": [
    {
      "cell_type": "markdown",
      "source": [
        "# 2.22 Регулярные выражения Часть 1\n",
        "[Regular Expression HOWTO](https://docs.python.org/3/howto/regex.html)\n",
        "### Основные методы поиска\n",
        "- `match()`\n",
        "- `fullmatch()`\n",
        "- `search()`\n",
        "- `findall()`\n",
        "- `finditer()`\n",
        "\n",
        "### Редактирование и фрагментирование\n",
        "- `sub()`\n",
        "- `subn()`\n",
        "- `split()`\n",
        "- `escape()`\n",
        "\n",
        "### Основные методы найденного объекта\n",
        "- `__getitem__()`\n",
        "- `group()`\n",
        "- `groups()`\n",
        "- `groupdict()`\n",
        "- `start()`\n",
        "- `end()`\n",
        "- `span()`\n",
        "- `expand()`"
      ],
      "metadata": {
        "id": "RfezPikboqy8"
      }
    },
    {
      "cell_type": "code",
      "execution_count": 1,
      "metadata": {
        "id": "6OdvxmaSofq_"
      },
      "outputs": [],
      "source": [
        "import re"
      ]
    },
    {
      "cell_type": "markdown",
      "source": [
        "## Поисковый объект `pattern`\n",
        "## `re.compile(<regex>, <flags>)`"
      ],
      "metadata": {
        "id": "lPguxR01cmqv"
      }
    },
    {
      "cell_type": "code",
      "source": [
        "string=\"Примеры численных форматов: 1 | 2.9 | -3 | +8.5 | 4,108.001 | 1234567\"\n",
        "for el in ['\\d','\\d{2}','\\d{7}']:\n",
        "    pattern_obj=re.compile(el)\n",
        "    print(pattern_obj.findall(string))"
      ],
      "metadata": {
        "colab": {
          "base_uri": "https://localhost:8080/"
        },
        "id": "I2CshyZhcxEY",
        "outputId": "26d173de-6c1a-4942-fa15-e512abca488c"
      },
      "execution_count": 2,
      "outputs": [
        {
          "output_type": "stream",
          "name": "stdout",
          "text": [
            "['1', '2', '9', '3', '8', '5', '4', '1', '0', '8', '0', '0', '1', '1', '2', '3', '4', '5', '6', '7']\n",
            "['10', '00', '12', '34', '56']\n",
            "['1234567']\n"
          ]
        }
      ]
    },
    {
      "cell_type": "code",
      "source": [
        "# атрибуты поискового объекта\n",
        "pattern_obj=re.compile(r'\\d+')\n",
        "pattern_obj.flags,pattern_obj.groups,\\\n",
        "pattern_obj.groupindex,pattern_obj.pattern"
      ],
      "metadata": {
        "colab": {
          "base_uri": "https://localhost:8080/"
        },
        "id": "peiHkgdXSrG-",
        "outputId": "78352e91-4dda-49e3-f8a4-c045ef5a53cb"
      },
      "execution_count": 3,
      "outputs": [
        {
          "output_type": "execute_result",
          "data": {
            "text/plain": [
              "(32, 0, {}, '\\\\d+')"
            ]
          },
          "metadata": {},
          "execution_count": 3
        }
      ]
    },
    {
      "cell_type": "code",
      "source": [
        "# с именованными группами\n",
        "pattern_obj=re.compile(r'(?P<w1>),(?P<w2>)',re.I)\n",
        "pattern_obj.flags,pattern_obj.groups,\\\n",
        "pattern_obj.groupindex,pattern_obj.pattern"
      ],
      "metadata": {
        "colab": {
          "base_uri": "https://localhost:8080/"
        },
        "id": "Bhkpteb9VcyN",
        "outputId": "5627c3aa-9efe-4814-80c1-29819a941c88"
      },
      "execution_count": 4,
      "outputs": [
        {
          "output_type": "execute_result",
          "data": {
            "text/plain": [
              "(34, 2, mappingproxy({'w1': 1, 'w2': 2}), '(?P<w1>),(?P<w2>)')"
            ]
          },
          "metadata": {},
          "execution_count": 4
        }
      ]
    },
    {
      "cell_type": "markdown",
      "source": [
        "## `re.escape(<regex>)`"
      ],
      "metadata": {
        "id": "QJdXnH3-S_io"
      }
    },
    {
      "cell_type": "code",
      "source": [
        "# добавляет \\ для несловарных символов\n",
        "print(re.escape(r'ab^cd(ef)|gh[ij]'))"
      ],
      "metadata": {
        "colab": {
          "base_uri": "https://localhost:8080/"
        },
        "id": "pQlQYSL5bVXD",
        "outputId": "893beb8d-54e9-4743-e3d7-3180eec64c2e"
      },
      "execution_count": 5,
      "outputs": [
        {
          "output_type": "stream",
          "name": "stdout",
          "text": [
            "ab\\^cd\\(ef\\)\\|gh\\[ij\\]\n"
          ]
        }
      ]
    },
    {
      "cell_type": "markdown",
      "source": [
        "## `re flags`\n",
        "\n",
        "- `re.I` => `re.IGNORECASE`\t\n",
        "    - делает регулярное выражение нечувствительным к регистру\n",
        "- `re.L` => `re.LOCALE`\n",
        "    - поведение специальных последовательностей (`\\w, \\W, \\b,\\s, \\S`) будет зависеть \n",
        "    - от локальных установок, то есть языка пользователя, страны и т.д.\n",
        "- `re.M`  => `re.MULTILINE` \n",
        "    - `^` и `$` будут совпадать в начале и в конце каждой линии текста, \n",
        "    - а не только в начале и в конце строки\n",
        "- `re.S` => `re.DOTALL` \n",
        "    - точка \".\" будет соответствовать каждому символу плюс новая строка\n",
        "- `re.U` => `re.UNICODE` \n",
        "    - делает `\\w, \\W, \\b, \\B, \\d, \\D, \\s, \\S` зависимыми от свойств символа Unicode\n",
        "- `re.X` => `re.VERBOSE` \n",
        "    - разрешение «подробных регулярных выражений», т.е. игнорируются пробелы, #"
      ],
      "metadata": {
        "id": "M4sFjp_IEaaV"
      }
    },
    {
      "cell_type": "markdown",
      "source": [
        "## `re.findall(pattern, string, flags=0)`\n",
        "\n",
        "- https://www.pythontutorial.net/python-regex/python-regex-findall/\n",
        "\n",
        "\n",
        "\n"
      ],
      "metadata": {
        "id": "T4nkHl_KnXUu"
      }
    },
    {
      "cell_type": "code",
      "source": [
        "def start_with(letter,string,ic=True):\n",
        "    pattern=r'\\b'+letter+r'\\w*\\b'\n",
        "    return re.findall(pattern,string,flags=re.IGNORECASE if ic else 0)\n",
        "string=\"The dog ate a frog. A is an alphabet letter. A ant is an insect.\"\n",
        "letter=\"a\"\n",
        "result=start_with(letter,string)\n",
        "print(result)\n",
        "result=start_with(letter,string,False)\n",
        "print(result)\n",
        "string='А роза упала на лапу Азора'\n",
        "letter='а'\n",
        "result=start_with(letter,string)\n",
        "print(result)\n",
        "result=start_with(letter,string,False)\n",
        "print(result)"
      ],
      "metadata": {
        "colab": {
          "base_uri": "https://localhost:8080/"
        },
        "id": "to6RWXomUZkO",
        "outputId": "dda3d02d-188c-4b54-d5f5-3af6513746ec"
      },
      "execution_count": 6,
      "outputs": [
        {
          "output_type": "stream",
          "name": "stdout",
          "text": [
            "['ate', 'a', 'A', 'an', 'alphabet', 'A', 'ant', 'an']\n",
            "['ate', 'a', 'an', 'alphabet', 'ant', 'an']\n",
            "['А', 'Азора']\n",
            "[]\n"
          ]
        }
      ]
    },
    {
      "cell_type": "code",
      "source": [
        "# Часто встречается в рекомендациях\n",
        "# для поиска слов, начинающихся с определенной буквы\n",
        "# не работает со словами, состоящими из одной буквы\n",
        "letter='а'\n",
        "string='А роза упала на лапу Азора'\n",
        "pattern=r'\\b['+letter+r']\\w+\\b'\n",
        "matches=re.findall(pattern,string)\n",
        "print(matches)\n",
        "matches=re.findall(pattern,string,flags=re.IGNORECASE)\n",
        "print(matches)\n",
        "matches=re.findall(pattern,string.lower())\n",
        "print(matches)"
      ],
      "metadata": {
        "colab": {
          "base_uri": "https://localhost:8080/"
        },
        "id": "77bvtZZkGIjI",
        "outputId": "31aba287-2e84-4c08-9c9f-547414fac10f"
      },
      "execution_count": 7,
      "outputs": [
        {
          "output_type": "stream",
          "name": "stdout",
          "text": [
            "[]\n",
            "['Азора']\n",
            "['азора']\n"
          ]
        }
      ]
    },
    {
      "cell_type": "code",
      "source": [
        "# Поиск всех слов с буквой А, а\n",
        "string='А роза упала на лапу Азора'\n",
        "pattern='[а-яА-Я]*[аА][а-яА-Я]*'\n",
        "matches=re.findall(pattern,string)\n",
        "print(matches)"
      ],
      "metadata": {
        "colab": {
          "base_uri": "https://localhost:8080/"
        },
        "id": "AsVM9q-ldEvj",
        "outputId": "8c785130-9c1a-442c-8b6b-4e47f8e566e7"
      },
      "execution_count": 8,
      "outputs": [
        {
          "output_type": "stream",
          "name": "stdout",
          "text": [
            "['А', 'роза', 'упала', 'на', 'лапу', 'Азора']\n"
          ]
        }
      ]
    },
    {
      "cell_type": "code",
      "source": [
        "# Слова, начинающиеся с пр\n",
        "# ! Отсекает другие символы в начале слова\n",
        "string='опрос пакет ?праздник привет природа провод пятница'\n",
        "pattern=r'пр\\w+'\n",
        "re.findall(pattern,string)"
      ],
      "metadata": {
        "colab": {
          "base_uri": "https://localhost:8080/"
        },
        "id": "hyFyP0phmtUj",
        "outputId": "7b43f199-8620-44fc-92d8-f06f906ab36f"
      },
      "execution_count": 9,
      "outputs": [
        {
          "output_type": "execute_result",
          "data": {
            "text/plain": [
              "['прос', 'праздник', 'привет', 'природа', 'провод']"
            ]
          },
          "metadata": {},
          "execution_count": 9
        }
      ]
    },
    {
      "cell_type": "code",
      "source": [
        "# Слова, начинающиеся с пр, не включая пр\n",
        "string='опрос пакет ?праздник привет природа провод пятница'\n",
        "pattern=r'пр(\\w+)'\n",
        "re.findall(pattern,string)"
      ],
      "metadata": {
        "colab": {
          "base_uri": "https://localhost:8080/"
        },
        "id": "XnvMclPNnlCk",
        "outputId": "7552da86-7159-4006-89b0-1aa1423d4fb6"
      },
      "execution_count": 10,
      "outputs": [
        {
          "output_type": "execute_result",
          "data": {
            "text/plain": [
              "['ос', 'аздник', 'ивет', 'ирода', 'овод']"
            ]
          },
          "metadata": {},
          "execution_count": 10
        }
      ]
    },
    {
      "cell_type": "code",
      "source": [
        "# Пары вида (слово начинающееся с пр, слово без этого фрагмента)\n",
        "string='опрос пакет ?праздник Привет природа провод пятница'\n",
        "pattern=r'(пр(\\w+))'\n",
        "re.findall(pattern,string)"
      ],
      "metadata": {
        "colab": {
          "base_uri": "https://localhost:8080/"
        },
        "id": "7m8HfjRwoWfQ",
        "outputId": "87667218-37a4-4a43-aa59-6bc5ff09dac6"
      },
      "execution_count": 11,
      "outputs": [
        {
          "output_type": "execute_result",
          "data": {
            "text/plain": [
              "[('прос', 'ос'),\n",
              " ('праздник', 'аздник'),\n",
              " ('природа', 'ирода'),\n",
              " ('провод', 'овод')]"
            ]
          },
          "metadata": {},
          "execution_count": 11
        }
      ]
    },
    {
      "cell_type": "code",
      "source": [
        "# Пары вида (слово начинающееся с пр, слово без этого фрагмента)\n",
        "# игнорирование заглавных букв\n",
        "string='опрос Пакет ?праздник Привет природа провод пятница'\n",
        "pattern=r'(пр(\\w+))'\n",
        "re.findall(pattern,string,re.IGNORECASE)"
      ],
      "metadata": {
        "colab": {
          "base_uri": "https://localhost:8080/"
        },
        "id": "kDKeecAfXbbc",
        "outputId": "c4ef6c30-90fd-4879-b824-336ea8ffaf0c"
      },
      "execution_count": 12,
      "outputs": [
        {
          "output_type": "execute_result",
          "data": {
            "text/plain": [
              "[('прос', 'ос'),\n",
              " ('праздник', 'аздник'),\n",
              " ('Привет', 'ивет'),\n",
              " ('природа', 'ирода'),\n",
              " ('провод', 'овод')]"
            ]
          },
          "metadata": {},
          "execution_count": 12
        }
      ]
    },
    {
      "cell_type": "code",
      "source": [
        "# Регулярное выражение для поиска всех символов цифр в строке - r'\\d+'\n",
        "def find_numbers(string,pattern=r'\\d+',mapfunc=None):\n",
        "    \"\"\"\n",
        "    Функция для поиска символов цифр в строке \n",
        "    и возврата списка найденных фрагментов\n",
        "    \"\"\"\n",
        "    if mapfunc!=None:\n",
        "        return list(map(mapfunc,re.findall(pattern,string)))\n",
        "    else:\n",
        "        return re.findall(pattern,string)"
      ],
      "metadata": {
        "id": "IZRUNeff846E"
      },
      "execution_count": 13,
      "outputs": []
    },
    {
      "cell_type": "code",
      "source": [
        "# Пример использования функции\n",
        "# Просто извлекает все строковые фрагменты \n",
        "# c цифрами или числами (если несколько цифр подряд)\n",
        "pattern=r'\\d+'\n",
        "string='hi, -hhh a-a 123 45.6 789 10 -12,103.00 -2 -35.7'\n",
        "numbers=find_numbers(string,pattern)\n",
        "print(numbers) "
      ],
      "metadata": {
        "colab": {
          "base_uri": "https://localhost:8080/"
        },
        "id": "y6Ags8rEg6oT",
        "outputId": "6ebd6236-03c1-40f1-9159-f4e914e2ad7a"
      },
      "execution_count": 14,
      "outputs": [
        {
          "output_type": "stream",
          "name": "stdout",
          "text": [
            "['123', '45', '6', '789', '10', '12', '103', '00', '2', '35', '7']\n"
          ]
        }
      ]
    },
    {
      "cell_type": "code",
      "source": [
        "# С изменением типа данных\n",
        "numbers=find_numbers(string,pattern,int)\n",
        "print(numbers) "
      ],
      "metadata": {
        "colab": {
          "base_uri": "https://localhost:8080/"
        },
        "id": "qJsK2co_milU",
        "outputId": "f206f994-3048-49e5-9a11-5c0b8ce3df18"
      },
      "execution_count": 15,
      "outputs": [
        {
          "output_type": "stream",
          "name": "stdout",
          "text": [
            "[123, 45, 6, 789, 10, 12, 103, 0, 2, 35, 7]\n"
          ]
        }
      ]
    },
    {
      "cell_type": "code",
      "source": [
        "# Не распознает корректно формат -12,103.00\n",
        "pattern='-?\\d+\\.?\\d*'\n",
        "string='hi, -hhh a-a 123 45.6 789 10 -12,103.00 -2 -35.7'\n",
        "numbers=find_numbers(string,pattern)\n",
        "print(numbers)"
      ],
      "metadata": {
        "colab": {
          "base_uri": "https://localhost:8080/"
        },
        "id": "bgbG6OS7gwd3",
        "outputId": "f2cab6ac-c818-4718-82a5-720d0e2bdd02"
      },
      "execution_count": 16,
      "outputs": [
        {
          "output_type": "stream",
          "name": "stdout",
          "text": [
            "['123', '45.6', '789', '10', '-12', '103.00', '-2', '-35.7']\n"
          ]
        }
      ]
    },
    {
      "cell_type": "code",
      "source": [
        "# С изменением типа данных и удалением запятых\n",
        "numbers=find_numbers(string.replace(',',''),pattern,float)\n",
        "print(numbers)"
      ],
      "metadata": {
        "colab": {
          "base_uri": "https://localhost:8080/"
        },
        "id": "DnrkXfSSmxsT",
        "outputId": "bbc2c5e0-4197-415e-b161-993bb7ce5967"
      },
      "execution_count": 17,
      "outputs": [
        {
          "output_type": "stream",
          "name": "stdout",
          "text": [
            "[123.0, 45.6, 789.0, 10.0, -12103.0, -2.0, -35.7]\n"
          ]
        }
      ]
    },
    {
      "cell_type": "markdown",
      "source": [
        "## `re.search(pattern, string, flags=0)` "
      ],
      "metadata": {
        "id": "0N7M9TGgrnIx"
      }
    },
    {
      "cell_type": "code",
      "source": [
        "# Применение к каждой линии текста\n",
        "pattern=r\"Python\\.$\"\n",
        "strings=[\"Мне нравится Python.\\n\",\"Мне нравится Python.\\n\\n\",\n",
        "         \"Мне нравится Python, R, Javascript.\",\n",
        "         \"Мне нравится Python.\\nКто-то предпочитает C++.\"]\n",
        "for string in strings:\n",
        "    print(re.search(pattern,string),re.search(pattern,string,re.M))"
      ],
      "metadata": {
        "colab": {
          "base_uri": "https://localhost:8080/"
        },
        "id": "9kx4ivh1jKPi",
        "outputId": "251719c6-8fcf-4346-85b2-0a50ecb1e848"
      },
      "execution_count": 18,
      "outputs": [
        {
          "output_type": "stream",
          "name": "stdout",
          "text": [
            "<re.Match object; span=(13, 20), match='Python.'> <re.Match object; span=(13, 20), match='Python.'>\n",
            "None <re.Match object; span=(13, 20), match='Python.'>\n",
            "None None\n",
            "None <re.Match object; span=(13, 20), match='Python.'>\n"
          ]
        }
      ]
    },
    {
      "cell_type": "code",
      "source": [
        "# Достаточно трудно использовать для парсинга HTML\n",
        "open_close = lambda s: re.search(r'<([^>]+)>[\\s\\S]*?</\\1>',s)\n",
        "open_close('<table>тест</table>'),\\\n",
        "open_close('<a href=\"\"></br>'),open_close('<h1></html>')"
      ],
      "metadata": {
        "colab": {
          "base_uri": "https://localhost:8080/"
        },
        "id": "_B1B54vAqdXV",
        "outputId": "f84fd750-c46d-4b37-c610-7d9157f559dc"
      },
      "execution_count": 19,
      "outputs": [
        {
          "output_type": "execute_result",
          "data": {
            "text/plain": [
              "(<re.Match object; span=(0, 19), match='<table>тест</table>'>, None, None)"
            ]
          },
          "metadata": {},
          "execution_count": 19
        }
      ]
    },
    {
      "cell_type": "code",
      "source": [
        "# Обработка даты \n",
        "def date_groups(s):\n",
        "    re_obj1 = re.search(r'(\\d{2})-(\\d{2})-(\\d{4})',s)\n",
        "    re_obj2 = re.search(r'(\\d{2})/(\\d{2})/(\\d{4})',s)\n",
        "    if re_obj1 != None:\n",
        "        return re_obj1.groups()\n",
        "    elif re_obj2 != None:\n",
        "        return re_obj2.groups()   \n",
        "    else:\n",
        "        return None\n",
        "date_groups('21/01/2023'),date_groups('21-01-2023'),date_groups('21-01-')"
      ],
      "metadata": {
        "colab": {
          "base_uri": "https://localhost:8080/"
        },
        "id": "u2-EPBJJr2f9",
        "outputId": "28e2b1e2-86d9-4f01-f363-f357e1b5ddbc"
      },
      "execution_count": 20,
      "outputs": [
        {
          "output_type": "execute_result",
          "data": {
            "text/plain": [
              "(('21', '01', '2023'), ('21', '01', '2023'), None)"
            ]
          },
          "metadata": {},
          "execution_count": 20
        }
      ]
    },
    {
      "cell_type": "markdown",
      "source": [
        "## `re.match(pattern, string, flags=0) `"
      ],
      "metadata": {
        "id": "p8Ps3vJoZP85"
      }
    },
    {
      "cell_type": "code",
      "source": [
        "# регулярные выражения для фразы в начале\n",
        "string='я рад, как я рад '\n",
        "for pattern in ['(\\W|^)я\\sрад(\\W|$)','я\\sрад']:\n",
        "    matches=re.match(pattern,string)\n",
        "    print(matches.group())"
      ],
      "metadata": {
        "colab": {
          "base_uri": "https://localhost:8080/"
        },
        "id": "v_gbJM9Zpgku",
        "outputId": "de21a775-2433-40e7-f0e1-5d6450233543"
      },
      "execution_count": 21,
      "outputs": [
        {
          "output_type": "stream",
          "name": "stdout",
          "text": [
            "я рад,\n",
            "я рад\n"
          ]
        }
      ]
    },
    {
      "cell_type": "code",
      "source": [
        "# пробел помешал найти во втором случае\n",
        "#\\W соответствует любому символу кроме буквы, цифры или подчеркивания\n",
        "string=' я рад, как я рад '\n",
        "for pattern in ['(\\W|^)я\\sрад(\\W|$)','я\\sрад']:\n",
        "    matches=re.match(pattern,string)\n",
        "    print(matches)"
      ],
      "metadata": {
        "colab": {
          "base_uri": "https://localhost:8080/"
        },
        "id": "5W07qoSpljyX",
        "outputId": "372923f9-174d-4706-e8b9-760ed347aa7d"
      },
      "execution_count": 22,
      "outputs": [
        {
          "output_type": "stream",
          "name": "stdout",
          "text": [
            "<re.Match object; span=(0, 7), match=' я рад,'>\n",
            "None\n"
          ]
        }
      ]
    },
    {
      "cell_type": "markdown",
      "source": [
        "## `re.fullmatch(pattern, string, flags=0)`"
      ],
      "metadata": {
        "id": "04IfVBGKSkyA"
      }
    },
    {
      "cell_type": "code",
      "source": [
        "def is_email(string:str)->bool:\n",
        "    \"\"\"\n",
        "    Функция определяет, является ли строка электронным адресом\n",
        "    \"\"\"\n",
        "    pattern=r'[A-Za-z0-9._%+-]+@[A-Za-z0-9.-]+\\.[A-Z|a-z]{2,}'\n",
        "    if re.fullmatch(pattern,string) is None:\n",
        "        raise ValueError(f'{string} не является электронным адресом')\n",
        "    return True\n",
        "for el in ['no-reply@pythontutor','no-reply@pythontutor.ru',\n",
        "           'no-reply@python_tutor.ru','@pythontutor.ru']:\n",
        "    try:\n",
        "        if is_email(el): print(f'{el} является электронным адресом')\n",
        "    except ValueError as e: print(e)"
      ],
      "metadata": {
        "id": "o5anaOGXZk3p",
        "colab": {
          "base_uri": "https://localhost:8080/"
        },
        "outputId": "6d39b2f7-dd98-46db-f1d6-3101b4485811"
      },
      "execution_count": 23,
      "outputs": [
        {
          "output_type": "stream",
          "name": "stdout",
          "text": [
            "no-reply@pythontutor не является электронным адресом\n",
            "no-reply@pythontutor.ru является электронным адресом\n",
            "no-reply@python_tutor.ru не является электронным адресом\n",
            "@pythontutor.ru не является электронным адресом\n"
          ]
        }
      ]
    },
    {
      "cell_type": "markdown",
      "source": [
        "## `re.finditer(pattern, string, flags=0)`"
      ],
      "metadata": {
        "id": "5WZw2Poz0Jl0"
      }
    },
    {
      "cell_type": "code",
      "source": [
        "# итератор-поисковик\n",
        "pattern=r'\\w+'\n",
        "string='ab!!cd@@ef##gh'\n",
        "reiter=re.finditer(pattern,string)\n",
        "list(reiter)"
      ],
      "metadata": {
        "colab": {
          "base_uri": "https://localhost:8080/"
        },
        "id": "vJUe74ZV0IRi",
        "outputId": "c5869938-11f5-4227-fd8a-900c39773c07"
      },
      "execution_count": 24,
      "outputs": [
        {
          "output_type": "execute_result",
          "data": {
            "text/plain": [
              "[<re.Match object; span=(0, 2), match='ab'>,\n",
              " <re.Match object; span=(4, 6), match='cd'>,\n",
              " <re.Match object; span=(8, 10), match='ef'>,\n",
              " <re.Match object; span=(12, 14), match='gh'>]"
            ]
          },
          "metadata": {},
          "execution_count": 24
        }
      ]
    },
    {
      "cell_type": "code",
      "source": [
        "# разница между поисковыми функциями\n",
        "string='Python 3'\n",
        "for pattern in ['Python','\\d']:\n",
        "# список вхождений\n",
        "    match=re.findall(pattern,string)\n",
        "    if match!=None: \n",
        "        print(f'findall(): {match}')\n",
        "# вся строка\n",
        "    match=re.fullmatch(pattern,string)\n",
        "    if match!=None: \n",
        "        print(f'fullmatch(): {match.group()}')\n",
        "# в начале строки\n",
        "    match=re.match(pattern,string)\n",
        "    if match!=None: \n",
        "        print(f'match(): {match.group()}')\n",
        "# в любом месте строки\n",
        "    match=re.search(pattern,string)\n",
        "    if match!=None: \n",
        "        print(f'search(): {match.group()}')"
      ],
      "metadata": {
        "colab": {
          "base_uri": "https://localhost:8080/"
        },
        "id": "fdwwFC6DVf1_",
        "outputId": "a6f00a8d-46a6-4e21-95a0-4c5775c4a801"
      },
      "execution_count": 25,
      "outputs": [
        {
          "output_type": "stream",
          "name": "stdout",
          "text": [
            "findall(): ['Python']\n",
            "match(): Python\n",
            "search(): Python\n",
            "findall(): ['3']\n",
            "search(): 3\n"
          ]
        }
      ]
    },
    {
      "cell_type": "markdown",
      "source": [
        "## `re.sub(<regex>, <repl>, <string>, count=0, flags=0)`"
      ],
      "metadata": {
        "id": "UHY99VwiTQpQ"
      }
    },
    {
      "cell_type": "code",
      "source": [
        "# замена фрагмента\n",
        "string=\"Да, да и еще раз да.\"\n",
        "result=re.sub(\"[Дд]а\",\"нет\",string)\n",
        "print(result)"
      ],
      "metadata": {
        "colab": {
          "base_uri": "https://localhost:8080/"
        },
        "id": "HmOQv8ZiTTrO",
        "outputId": "38169d61-8d98-4bf9-e604-26268eddde91"
      },
      "execution_count": 26,
      "outputs": [
        {
          "output_type": "stream",
          "name": "stdout",
          "text": [
            "нет, нет и еще раз нет.\n"
          ]
        }
      ]
    },
    {
      "cell_type": "code",
      "source": [
        "# переставить слова в определенном порядке\n",
        "pattern1=r'(\\w+), (\\w+), (\\w+), (\\w+)'\n",
        "pattern2=r'\\4, \\2, \\3, \\1'\n",
        "string='яблоко, груша, лимон, апельсин'\n",
        "result=re.sub(pattern1,pattern2,string)\n",
        "print(result)"
      ],
      "metadata": {
        "colab": {
          "base_uri": "https://localhost:8080/"
        },
        "id": "N5_PJhV12F8c",
        "outputId": "8bae6146-097a-4537-c403-f17a6a5e5448"
      },
      "execution_count": 27,
      "outputs": [
        {
          "output_type": "stream",
          "name": "stdout",
          "text": [
            "апельсин, груша, лимон, яблоко\n"
          ]
        }
      ]
    },
    {
      "cell_type": "code",
      "source": [
        "# извлечь группу цифр и добавить фрагменты\n",
        "pattern1=r'(\\d+)'\n",
        "pattern2=r'\\g<1>.00$'\n",
        "string='abc 123 - abc'\n",
        "result=re.sub(pattern1,pattern2,string)\n",
        "print(result)"
      ],
      "metadata": {
        "colab": {
          "base_uri": "https://localhost:8080/"
        },
        "id": "l874c2r8pTyD",
        "outputId": "ccee21d6-6c2c-4d74-8039-19a391396d35"
      },
      "execution_count": 28,
      "outputs": [
        {
          "output_type": "stream",
          "name": "stdout",
          "text": [
            "abc 123.00$ - abc\n"
          ]
        }
      ]
    },
    {
      "cell_type": "code",
      "source": [
        "# дополнить каждый символ строки другими символами\n",
        "add_symbols=lambda s,string: re.sub('x*',s,string)\n",
        "add_symbols('-=-','абвгд 12345')"
      ],
      "metadata": {
        "colab": {
          "base_uri": "https://localhost:8080/",
          "height": 36
        },
        "id": "eZcdZAJYqoYG",
        "outputId": "b4a04d2a-d440-419b-afde-6123f397867d"
      },
      "execution_count": 29,
      "outputs": [
        {
          "output_type": "execute_result",
          "data": {
            "text/plain": [
              "'-=-а-=-б-=-в-=-г-=-д-=- -=-1-=-2-=-3-=-4-=-5-=-'"
            ],
            "application/vnd.google.colaboratory.intrinsic+json": {
              "type": "string"
            }
          },
          "metadata": {},
          "execution_count": 29
        }
      ]
    },
    {
      "cell_type": "code",
      "source": [
        "# замена с помощью функции\n",
        "def re_func(match_obj):\n",
        "    s=match_obj.group(0)\n",
        "    # s.isdigit() возвращает True если все цифры\n",
        "    if s.isdigit(): \n",
        "        return f'\\033[38;5;200m{int(s)*100}\\033[0;0m'\n",
        "    else: \n",
        "        return f'\\033[38;5;165m{s.upper()}\\033[0;0m'\n",
        "print(re.sub(r'\\w+',re_func,'ab||1||cd...2||ef||3'))"
      ],
      "metadata": {
        "colab": {
          "base_uri": "https://localhost:8080/"
        },
        "id": "qirwG0eFtY2N",
        "outputId": "b83702c1-7c15-490d-c0ae-3c61fce90019"
      },
      "execution_count": 30,
      "outputs": [
        {
          "output_type": "stream",
          "name": "stdout",
          "text": [
            "\u001b[38;5;165mAB\u001b[0;0m||\u001b[38;5;200m100\u001b[0;0m||\u001b[38;5;165mCD\u001b[0;0m...\u001b[38;5;200m200\u001b[0;0m||\u001b[38;5;165mEF\u001b[0;0m||\u001b[38;5;200m300\u001b[0;0m\n"
          ]
        }
      ]
    },
    {
      "cell_type": "markdown",
      "source": [
        "## `re.subn(<regex>, <repl>, <string>, count=0, flags=0)`"
      ],
      "metadata": {
        "id": "poHWAGDu15Yk"
      }
    },
    {
      "cell_type": "code",
      "source": [
        "# замена только 2 фрагментов с помощью функции\n",
        "def re_func(match_obj):\n",
        "    s=match_obj.group(0)\n",
        "    # s.isdigit() возвращает True если все цифры\n",
        "    if s.isdigit(): \n",
        "        return f'\\033[48;5;230m{int(s)*100}\\033[0;0m'\n",
        "    else: \n",
        "        return f'\\033[48;5;122m{s.upper()}\\033[0;0m'\n",
        "string='ab||1||cd...2||ef||3||gh...4'\n",
        "result=re.subn(r'\\w+',re_func,string,2)\n",
        "print(result,'\\n',string,'\\n',result[0],result[1])"
      ],
      "metadata": {
        "colab": {
          "base_uri": "https://localhost:8080/"
        },
        "id": "HQ3mR64d22xf",
        "outputId": "40a49154-cb57-4cdc-da8f-6ca600e8bff7"
      },
      "execution_count": 31,
      "outputs": [
        {
          "output_type": "stream",
          "name": "stdout",
          "text": [
            "('\\x1b[48;5;122mAB\\x1b[0;0m||\\x1b[48;5;230m100\\x1b[0;0m||cd...2||ef||3||gh...4', 2) \n",
            " ab||1||cd...2||ef||3||gh...4 \n",
            " \u001b[48;5;122mAB\u001b[0;0m||\u001b[48;5;230m100\u001b[0;0m||cd...2||ef||3||gh...4 2\n"
          ]
        }
      ]
    },
    {
      "cell_type": "markdown",
      "source": [
        "## `re.split(<regex>, <string>, maxsplit=0, flags=0)`\n",
        "## `re.split() & str.split()`"
      ],
      "metadata": {
        "id": "ZwjudEEw-DrN"
      }
    },
    {
      "cell_type": "code",
      "source": [
        "string=\"А;роза;упала;на;лапу;Азора\"\n",
        "print(string.split(\";\",3))"
      ],
      "metadata": {
        "colab": {
          "base_uri": "https://localhost:8080/"
        },
        "id": "zRLoQEVa-CQJ",
        "outputId": "b395ce1a-2edd-40cf-f1d3-0341516b05ce"
      },
      "execution_count": 32,
      "outputs": [
        {
          "output_type": "stream",
          "name": "stdout",
          "text": [
            "['А', 'роза', 'упала', 'на;лапу;Азора']\n"
          ]
        }
      ]
    },
    {
      "cell_type": "code",
      "source": [
        "# любой символ, кроме подчеркивания\n",
        "print(string)\n",
        "print(re.split(\"\\W+\",string))\n",
        "print(string.replace(';','_'))\n",
        "print(re.split(\"\\W+\",string.replace(';','_')))"
      ],
      "metadata": {
        "colab": {
          "base_uri": "https://localhost:8080/"
        },
        "id": "S1GG-TOo-0yM",
        "outputId": "2aad9635-174b-4347-deaa-9e5365b295fb"
      },
      "execution_count": 33,
      "outputs": [
        {
          "output_type": "stream",
          "name": "stdout",
          "text": [
            "А;роза;упала;на;лапу;Азора\n",
            "['А', 'роза', 'упала', 'на', 'лапу', 'Азора']\n",
            "А_роза_упала_на_лапу_Азора\n",
            "['А_роза_упала_на_лапу_Азора']\n"
          ]
        }
      ]
    },
    {
      "cell_type": "code",
      "source": [
        "# удаление повторяющихся фрагментов, используя разметку пунктуации\n",
        "lines=[\"фамилия: Крюков, имя: Иван, должность: менеджер проекта\", \n",
        "       \"фамилия: Машкова, имя: Анна, должность: архитектор\"]\n",
        "for line in lines:\n",
        "    print(re.split(\",* *\\w*: \",line)[1:])  "
      ],
      "metadata": {
        "colab": {
          "base_uri": "https://localhost:8080/"
        },
        "id": "behlmnQ2CBBM",
        "outputId": "0e9a0b93-3ec4-40b7-e487-b950488d18b8"
      },
      "execution_count": 34,
      "outputs": [
        {
          "output_type": "stream",
          "name": "stdout",
          "text": [
            "['Крюков', 'Иван', 'менеджер проекта']\n",
            "['Машкова', 'Анна', 'архитектор']\n"
          ]
        }
      ]
    },
    {
      "cell_type": "code",
      "source": [
        "# сохранить фрагменты, кроме перечисленных знаков пунктуации\n",
        "pattern1=r'\\s*[,;/]\\s*'\n",
        "# сохранить все фрагменты\n",
        "pattern2=r'(\\s*[,;/]\\s*)'\n",
        "string='ab ; CD,EF / gh'\n",
        "result1=re.split(pattern1,string)\n",
        "print(pattern1,' => ',result1)\n",
        "result2=re.split(pattern2,string)\n",
        "print(pattern2,' => ',result2)\n",
        "# дополнить значимые объекты цветом и маркерами <>\n",
        "for i,s in enumerate(result2):\n",
        "    if not re.fullmatch(pattern2,s):\n",
        "        result2[i]=f'\\033[38;5;165m<{s}>\\033[0;0m'\n",
        "print(''.join(result2))"
      ],
      "metadata": {
        "colab": {
          "base_uri": "https://localhost:8080/"
        },
        "id": "ACe8p_V4jvxu",
        "outputId": "b1d49eba-4c29-4314-bc7a-a56ddc42e259"
      },
      "execution_count": 35,
      "outputs": [
        {
          "output_type": "stream",
          "name": "stdout",
          "text": [
            "\\s*[,;/]\\s*  =>  ['ab', 'CD', 'EF', 'gh']\n",
            "(\\s*[,;/]\\s*)  =>  ['ab', ' ; ', 'CD', ',', 'EF', ' / ', 'gh']\n",
            "\u001b[38;5;165m<ab>\u001b[0;0m ; \u001b[38;5;165m<CD>\u001b[0;0m,\u001b[38;5;165m<EF>\u001b[0;0m / \u001b[38;5;165m<gh>\u001b[0;0m\n"
          ]
        }
      ]
    },
    {
      "cell_type": "markdown",
      "source": [
        "## Найденный объект `match`"
      ],
      "metadata": {
        "id": "1oI2RziXhuXs"
      }
    },
    {
      "cell_type": "code",
      "source": [
        "string=\"Примеры численных форматов: 1 | 2.9 | -3 | +8.5 | 4,108.001 | 1234567\"\n",
        "match_obj=re.search('\\d',string)\n",
        "print('Найденный объект:',match_obj.group())\n",
        "print('Стартовая позиция:',match_obj.start())\n",
        "print('Финишная позиция:',match_obj.end())\n",
        "print('Старт и финиш:',match_obj.span())"
      ],
      "metadata": {
        "id": "njM3nB1biiSX",
        "colab": {
          "base_uri": "https://localhost:8080/"
        },
        "outputId": "973e0497-33bd-4bf0-b9b6-83825908987c"
      },
      "execution_count": 36,
      "outputs": [
        {
          "output_type": "stream",
          "name": "stdout",
          "text": [
            "Найденный объект: 1\n",
            "Стартовая позиция: 28\n",
            "Финишная позиция: 29\n",
            "Старт и финиш: (28, 29)\n"
          ]
        }
      ]
    },
    {
      "cell_type": "code",
      "source": [
        "match_obj=lambda string: re.finditer(r'(.+)',string)\n",
        "string=\"\"\"\n",
        "0000001\n",
        "\n",
        "пример чтения вертикальной записи\n",
        "(123) 456-7890\n",
        "example@gmail.com\n",
        "30\n",
        "1,234.56\n",
        "8/06/2023\n",
        "\"\"\"\n",
        "list(match_obj(string))"
      ],
      "metadata": {
        "colab": {
          "base_uri": "https://localhost:8080/"
        },
        "id": "lfBk-xB_99W0",
        "outputId": "b378d771-ad25-43dc-a4fe-6a48be2f12b3"
      },
      "execution_count": 37,
      "outputs": [
        {
          "output_type": "execute_result",
          "data": {
            "text/plain": [
              "[<re.Match object; span=(1, 8), match='0000001'>,\n",
              " <re.Match object; span=(10, 43), match='пример чтения вертикальной записи'>,\n",
              " <re.Match object; span=(44, 58), match='(123) 456-7890'>,\n",
              " <re.Match object; span=(59, 76), match='example@gmail.com'>,\n",
              " <re.Match object; span=(77, 79), match='30'>,\n",
              " <re.Match object; span=(80, 88), match='1,234.56'>,\n",
              " <re.Match object; span=(89, 98), match='8/06/2023'>]"
            ]
          },
          "metadata": {},
          "execution_count": 37
        }
      ]
    },
    {
      "cell_type": "code",
      "source": [
        "# с помощью функции\n",
        "def re_func(string):\n",
        "    for line in string.split('\\n'):\n",
        "        g=re.search(r'(?P<row>.*):',line).group('row')\n",
        "        yield re.search(r'(?<=:)\\s?(?P<{}>.+)'.format(g),line)\n",
        "string=\"\"\"row1: 0000001\n",
        "row2: \n",
        "row3: пример чтения вертикальной записи\n",
        "row4: (123) 456-7890\n",
        "row5: example@gmail.com\n",
        "row6: 30\n",
        "row7: \n",
        "row8: 1,234.56\n",
        "row9: 8/06/2023\"\"\"\n",
        "for el in re_func(string): print(el.groupdict())"
      ],
      "metadata": {
        "colab": {
          "base_uri": "https://localhost:8080/"
        },
        "id": "XnX144U6v0ai",
        "outputId": "1abcfc8e-7eeb-4a9e-fc68-5290b9d32511"
      },
      "execution_count": 38,
      "outputs": [
        {
          "output_type": "stream",
          "name": "stdout",
          "text": [
            "{'row1': '0000001'}\n",
            "{'row2': ' '}\n",
            "{'row3': 'пример чтения вертикальной записи'}\n",
            "{'row4': '(123) 456-7890'}\n",
            "{'row5': 'example@gmail.com'}\n",
            "{'row6': '30'}\n",
            "{'row7': ' '}\n",
            "{'row8': '1,234.56'}\n",
            "{'row9': '8/06/2023'}\n"
          ]
        }
      ]
    },
    {
      "cell_type": "code",
      "source": [
        "letters=' '.join([chr(ord('a')+i) for i in range(26)])+' '\n",
        "print(letters)\n",
        "# объект-итератор, создает именованную группу для каждого объекта\n",
        "match_obj=re.finditer(r'(?P<letter>\\w+)',letters)\n",
        "for el in list(match_obj):\n",
        "    print(el,el.__getitem__('letter'),\n",
        "          el.group('letter'),el.groups())"
      ],
      "metadata": {
        "colab": {
          "base_uri": "https://localhost:8080/"
        },
        "id": "fh1agd6NlRSx",
        "outputId": "da1e549a-d38f-46f6-f183-8a79e26ea5e3"
      },
      "execution_count": 39,
      "outputs": [
        {
          "output_type": "stream",
          "name": "stdout",
          "text": [
            "a b c d e f g h i j k l m n o p q r s t u v w x y z \n",
            "<re.Match object; span=(0, 1), match='a'> a a ('a',)\n",
            "<re.Match object; span=(2, 3), match='b'> b b ('b',)\n",
            "<re.Match object; span=(4, 5), match='c'> c c ('c',)\n",
            "<re.Match object; span=(6, 7), match='d'> d d ('d',)\n",
            "<re.Match object; span=(8, 9), match='e'> e e ('e',)\n",
            "<re.Match object; span=(10, 11), match='f'> f f ('f',)\n",
            "<re.Match object; span=(12, 13), match='g'> g g ('g',)\n",
            "<re.Match object; span=(14, 15), match='h'> h h ('h',)\n",
            "<re.Match object; span=(16, 17), match='i'> i i ('i',)\n",
            "<re.Match object; span=(18, 19), match='j'> j j ('j',)\n",
            "<re.Match object; span=(20, 21), match='k'> k k ('k',)\n",
            "<re.Match object; span=(22, 23), match='l'> l l ('l',)\n",
            "<re.Match object; span=(24, 25), match='m'> m m ('m',)\n",
            "<re.Match object; span=(26, 27), match='n'> n n ('n',)\n",
            "<re.Match object; span=(28, 29), match='o'> o o ('o',)\n",
            "<re.Match object; span=(30, 31), match='p'> p p ('p',)\n",
            "<re.Match object; span=(32, 33), match='q'> q q ('q',)\n",
            "<re.Match object; span=(34, 35), match='r'> r r ('r',)\n",
            "<re.Match object; span=(36, 37), match='s'> s s ('s',)\n",
            "<re.Match object; span=(38, 39), match='t'> t t ('t',)\n",
            "<re.Match object; span=(40, 41), match='u'> u u ('u',)\n",
            "<re.Match object; span=(42, 43), match='v'> v v ('v',)\n",
            "<re.Match object; span=(44, 45), match='w'> w w ('w',)\n",
            "<re.Match object; span=(46, 47), match='x'> x x ('x',)\n",
            "<re.Match object; span=(48, 49), match='y'> y y ('y',)\n",
            "<re.Match object; span=(50, 51), match='z'> z z ('z',)\n"
          ]
        }
      ]
    },
    {
      "cell_type": "code",
      "source": [
        "# группы организованы в словарь\n",
        "pattern=r'(?P<letter_1>\\w+)(?P<separator_1>\\s+)'\n",
        "matches=re.search(pattern,letters).groupdict()\n",
        "print(matches)"
      ],
      "metadata": {
        "colab": {
          "base_uri": "https://localhost:8080/"
        },
        "id": "BPwGhB-x0JcO",
        "outputId": "6454789b-fa2d-4ab7-dd46-efa1b2816722"
      },
      "execution_count": 40,
      "outputs": [
        {
          "output_type": "stream",
          "name": "stdout",
          "text": [
            "{'letter_1': 'a', 'separator_1': ' '}\n"
          ]
        }
      ]
    },
    {
      "cell_type": "code",
      "source": [
        "# создание тестового файла\n",
        "f=open(\"test.txt\",\"a\")\n",
        "f.write(\"\"\"<composer> Wolfgang Amadeus Mozart </composer>\n",
        "<author> Samuel Beckett </author>\n",
        "<city> London </city>\"\"\")\n",
        "f.close()"
      ],
      "metadata": {
        "id": "hZqEnzqFI37i"
      },
      "execution_count": 41,
      "outputs": []
    },
    {
      "cell_type": "code",
      "source": [
        "# извлечение фрагментов в виде информации о группах\n",
        "with open(\"test.txt\",\"r\") as f:\n",
        "    for el in f: \n",
        "        res=re.search(r\"<([a-z]+)>(.*)</\\1>\",el)\n",
        "        print(f\"{res.group(1):10} {res.group(2)}\")"
      ],
      "metadata": {
        "colab": {
          "base_uri": "https://localhost:8080/"
        },
        "id": "AjhnvGm4KEbI",
        "outputId": "06a01221-2b17-4c3a-f63c-02e09a8e6532"
      },
      "execution_count": 42,
      "outputs": [
        {
          "output_type": "stream",
          "name": "stdout",
          "text": [
            "composer    Wolfgang Amadeus Mozart \n",
            "author      Samuel Beckett \n",
            "city        London \n"
          ]
        }
      ]
    },
    {
      "cell_type": "code",
      "source": [
        "# \"запрос к запросу\"\n",
        "match_obj=re.search(\n",
        "    r'(\\w+),(\\w+),(\\w+),(\\w+),(\\w+)',\n",
        "    'ab,cd,ef,gh,ij')\n",
        "print(match_obj.groups(),match_obj.lastindex)\n",
        "print(match_obj.expand(r'[\\3] ---> [\\1]'),match_obj.groups())"
      ],
      "metadata": {
        "colab": {
          "base_uri": "https://localhost:8080/"
        },
        "id": "oZ7UVpUtsd5w",
        "outputId": "21b852a8-53cc-46bc-c197-d354ea79615c"
      },
      "execution_count": 43,
      "outputs": [
        {
          "output_type": "stream",
          "name": "stdout",
          "text": [
            "('ab', 'cd', 'ef', 'gh', 'ij') 5\n",
            "[ef] ---> [ab] ('ab', 'cd', 'ef', 'gh', 'ij')\n"
          ]
        }
      ]
    },
    {
      "cell_type": "code",
      "source": [
        "# для именованных групп\n",
        "match_obj=re.search(\n",
        "    r'(?P<num1>\\d+)\\s(?:\\w+)\\s(?P<num2>\\d+)',\n",
        "    'ab 12 cd 34 ef')\n",
        "print(match_obj.groups(),match_obj.lastindex)\n",
        "# новые конструкции не меняют группы объекта\n",
        "print(match_obj.expand(\n",
        "    r'\\033[48;5;230m \\1 \\033[0;0m => \\033[48;5;122m \\2 \\033[0;0m'),\n",
        "      match_obj.groups())"
      ],
      "metadata": {
        "colab": {
          "base_uri": "https://localhost:8080/"
        },
        "id": "bYiE5Wndup2_",
        "outputId": "b620710e-e625-4e34-8d08-b16a6b745ea3"
      },
      "execution_count": 44,
      "outputs": [
        {
          "output_type": "stream",
          "name": "stdout",
          "text": [
            "('12', '34') 2\n",
            "\u001b[48;5;230m 12 \u001b[0;0m => \u001b[48;5;122m 34 \u001b[0;0m ('12', '34')\n"
          ]
        }
      ]
    },
    {
      "cell_type": "markdown",
      "source": [
        "## Примеры \"перевода\" регулярных выражений\n",
        "[Examples of regular expressions](https://support.google.com/a/answer/1371417?hl=en)\n",
        "#### `(\\W|^)co[#\\-]{0,1}\\s{0,1}\\d{2}[\\s-]{0,1}\\d{4}(\\W|$)`\n",
        "\n",
        "- \\W \n",
        "    - matches any character that’s not a letter, digit, or underscore\n",
        "    - it prevents the regex from matching characters before or after the number\n",
        "- ^ \n",
        "    - matches the start of a new line\n",
        "    - allows the regex to match the number if it appears at the beginning of a line, \n",
        "    - with no characters before it\n",
        "- $ \n",
        "    - matches the end of a line\n",
        "    - allows the regex to match the number if it appears at the end of a line, \n",
        "    - with no characters after it\n",
        "- [#\\-] \n",
        "    - matches a pound sign or a hyphen after the letters `co`, \n",
        "    - and {0,1} indicates that one of those characters can occur zero or one times\n",
        "    - the \\- (which indicates a hyphen) must occur last \n",
        "    - in the list of characters within the square brackets\n",
        "- \\s \n",
        "    - matches a space, and {0,1} indicates that a space can occur zero or one times\n",
        "- \\d \n",
        "    - matches any digit from 0 to 9, and {2} indicates that \n",
        "    - exactly 2 digits must appear in this position in the number"
      ],
      "metadata": {
        "id": "a4Fo-38HcADZ"
      }
    },
    {
      "cell_type": "code",
      "source": [
        "# пример отбора номера заказа определенного формата\n",
        "strings=['CO 93-0451','CO-21-0039','CO# 02 5531',\n",
        "         'CO#87-1024','CO 739201','CO991236']\n",
        "pattern=r\"(\\W|^)co[#\\-]{0,1}\\s{0,1}\\d{2}[\\s-]{0,1}\\d{4}(\\W|$)\"\n",
        "for string in strings:\n",
        "    print(re.search(pattern,string,re.I))"
      ],
      "metadata": {
        "colab": {
          "base_uri": "https://localhost:8080/"
        },
        "id": "AYHuceIZcJod",
        "outputId": "7674ba25-9ebc-471b-803f-a22558c5f726"
      },
      "execution_count": 45,
      "outputs": [
        {
          "output_type": "stream",
          "name": "stdout",
          "text": [
            "<re.Match object; span=(0, 10), match='CO 93-0451'>\n",
            "<re.Match object; span=(0, 10), match='CO-21-0039'>\n",
            "<re.Match object; span=(0, 11), match='CO# 02 5531'>\n",
            "<re.Match object; span=(0, 10), match='CO#87-1024'>\n",
            "<re.Match object; span=(0, 9), match='CO 739201'>\n",
            "<re.Match object; span=(0, 8), match='CO991236'>\n"
          ]
        }
      ]
    },
    {
      "cell_type": "markdown",
      "source": [
        "## Пример применения регулярных выражений"
      ],
      "metadata": {
        "id": "w7iT5mTsOyuW"
      }
    },
    {
      "cell_type": "code",
      "source": [
        "import re; from urllib.request import urlopen\n",
        "url=\"https://www.kaggle.com/code/olgabelitskaya/russian-notes-pythondataanalysis-2-22\"\n",
        "page=urlopen(url)\n",
        "html=page.read().decode(\"utf-8\")\n",
        "# поиск заголовка\n",
        "pattern=\"<title.*?>.*?</title.*?>\"\n",
        "match_obj=re.search(pattern,html,re.IGNORECASE)\n",
        "title=match_obj.group()\n",
        "# извлечение текста заголовка\n",
        "title=re.sub(\"<.*?>\",\"\", title)\n",
        "print(title)"
      ],
      "metadata": {
        "colab": {
          "base_uri": "https://localhost:8080/"
        },
        "id": "RJRKrXNQLDhB",
        "outputId": "ffef177d-b975-4269-d779-0fa00c83130a"
      },
      "execution_count": 46,
      "outputs": [
        {
          "output_type": "stream",
          "name": "stdout",
          "text": [
            "Russian Notes PythonDataAnalysis 2.22 | Kaggle\n"
          ]
        }
      ]
    },
    {
      "cell_type": "code",
      "source": [
        "!pip install mechanicalsoup -q"
      ],
      "metadata": {
        "id": "0uv6D11QjMWi"
      },
      "execution_count": 47,
      "outputs": []
    },
    {
      "cell_type": "code",
      "source": [
        "import time,mechanicalsoup\n",
        "browser=mechanicalsoup.Browser()\n",
        "pattern=r\"\"\"time: (?P<month>\\w+) (?P<day>\\d{2}), (?P<year>\\d{4}) (?P<hour>\\d{1,2}):(?P<minute>\\d{1,2}):(?P<second>\\d{0,2})(?P<ampm>AM|PM); result: (?P<result>\\d+)\"\"\"\n",
        "# запуск эксперимента на интернет-странице несколько раз\n",
        "for i in range(3):\n",
        "    print(f\"experiment #{i+1}\")\n",
        "    time.sleep(10)\n",
        "    page=browser.get(\"http://olympus.realpython.org/dice\")\n",
        "    html=page.soup\n",
        "    t=html.select(\"#time\")[0].text\n",
        "    r=html.select(\"#result\")[0].text\n",
        "    string=f\"time: {t}; result: {r}\"\n",
        "    m=re.match(pattern,string)\n",
        "    if m:\n",
        "        d=m.groupdict()\n",
        "        print(f\"\"\"\n",
        "date = {d['day']}/{d['month']}/{d['year']}\n",
        "time = {d['hour']}:{d['minute']}:{d['second']} {d['ampm']}\n",
        "result = {d['result']}\n",
        "              \"\"\")\n",
        "    else:\n",
        "        print(\"no match found\")\n",
        " "
      ],
      "metadata": {
        "colab": {
          "base_uri": "https://localhost:8080/"
        },
        "id": "LFeOzaULjCpC",
        "outputId": "9d085b50-815b-451e-ecfc-e3aefa50038f"
      },
      "execution_count": 48,
      "outputs": [
        {
          "output_type": "stream",
          "name": "stdout",
          "text": [
            "experiment #1\n",
            "\n",
            "date = 11/June/2023\n",
            "time = 07:37:12 PM\n",
            "result = 5\n",
            "              \n",
            "experiment #2\n",
            "\n",
            "date = 11/June/2023\n",
            "time = 07:37:22 PM\n",
            "result = 5\n",
            "              \n",
            "experiment #3\n",
            "\n",
            "date = 11/June/2023\n",
            "time = 07:37:32 PM\n",
            "result = 5\n",
            "              \n"
          ]
        }
      ]
    }
  ]
}