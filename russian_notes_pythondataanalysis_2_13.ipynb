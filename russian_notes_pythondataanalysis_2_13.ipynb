{
  "nbformat": 4,
  "nbformat_minor": 0,
  "metadata": {
    "colab": {
      "provenance": []
    },
    "kernelspec": {
      "name": "python3",
      "display_name": "Python 3"
    },
    "language_info": {
      "name": "python"
    }
  },
  "cells": [
    {
      "cell_type": "markdown",
      "source": [
        "# 2.13 Списки. Кортежи.\n",
        "Базовые последовательные типы\n",
        "- `range` (интервалы)\n",
        "- `list` (списки)\n",
        "- `tuple` (кортежи)\n",
        "\n",
        "Тип текстовой последовательности — `str` (строки)\n",
        "\n",
        "Типы двоичных последовательностей \n",
        "- `bytes` (байты)\n",
        "- `bytearray` (массивы байтов)\n",
        "- `memoryview` (представление памяти)"
      ],
      "metadata": {
        "id": "Zu8zCoCiJcya"
      }
    },
    {
      "cell_type": "markdown",
      "source": [
        "## Списки\n",
        "- изменяемые (динамическая модификация)\n",
        "- упорядоченные (индексируемые)\n",
        "- итерируемые (можно объекты пройти циклом)\n",
        "- контейнеры (содержат элементы)\n",
        "- как правило, состоят из элементов одного типа \n",
        "- возможны повторяющиеся элементы"
      ],
      "metadata": {
        "id": "QxfO5hFji7LV"
      }
    },
    {
      "cell_type": "markdown",
      "source": [
        "1) Назовите известные вам способы создания списков."
      ],
      "metadata": {
        "id": "18HFg25ybJTq"
      }
    },
    {
      "cell_type": "code",
      "source": [
        "# перечисление\n",
        "fruits = ['🍊','🍋','🍎','🍐','🍑']\n",
        "print(fruits)\n",
        "# повторение срезов или списков\n",
        "rep_fruits = 3 * fruits[:3]\n",
        "print(rep_fruits)\n",
        "# инициатор списка / for\n",
        "com_fruits = ['🍊' for i in range(5)]\n",
        "print(com_fruits)\n",
        "# расширение пустого списка / append()\n",
        "new_fruits = []\n",
        "for i in range(len(fruits)):\n",
        "    new_fruits.append(fruits[i])\n",
        "print(new_fruits)\n",
        "# с помощью встроенной функции-конструктора list()\n",
        "lst_fruits = list(('🍊','🍋','🍎','🍐','🍑'))\n",
        "print(lst_fruits)\n",
        "# методы и функции других объектов\n",
        "inp_fruits = input().split()\n",
        "print(inp_fruits)"
      ],
      "metadata": {
        "colab": {
          "base_uri": "https://localhost:8080/"
        },
        "id": "0MdxXfimRm0S",
        "outputId": "02da1423-6634-42ba-d812-02a06a366e38"
      },
      "execution_count": 1,
      "outputs": [
        {
          "output_type": "stream",
          "name": "stdout",
          "text": [
            "['🍊', '🍋', '🍎', '🍐', '🍑']\n",
            "['🍊', '🍋', '🍎', '🍊', '🍋', '🍎', '🍊', '🍋', '🍎']\n",
            "['🍊', '🍊', '🍊', '🍊', '🍊']\n",
            "['🍊', '🍋', '🍎', '🍐', '🍑']\n",
            "['🍊', '🍋', '🍎', '🍐', '🍑']\n",
            "'🍊','🍋','🍎','🍐','🍑'\n",
            "[\"'🍊','🍋','🍎','🍐','🍑'\"]\n"
          ]
        }
      ]
    },
    {
      "cell_type": "code",
      "execution_count": 2,
      "metadata": {
        "colab": {
          "base_uri": "https://localhost:8080/"
        },
        "id": "m6Am2Lxj09DG",
        "outputId": "138f0c69-f672-429a-965d-3d7ab45f7090"
      },
      "outputs": [
        {
          "output_type": "stream",
          "name": "stdout",
          "text": [
            "🍊 🍋 🍎 🍐 🍑\n",
            "<class 'list'>\n"
          ]
        }
      ],
      "source": [
        "# .split() - всегда список\n",
        "print(type(input().split()))"
      ]
    },
    {
      "cell_type": "code",
      "source": [
        "''.split(),'1'.split(),'🍊 🍋 🍎'.split()"
      ],
      "metadata": {
        "colab": {
          "base_uri": "https://localhost:8080/"
        },
        "id": "OmIOCTCot0ma",
        "outputId": "779d7f07-01e9-4190-87b9-c401fa661e7e"
      },
      "execution_count": 3,
      "outputs": [
        {
          "output_type": "execute_result",
          "data": {
            "text/plain": [
              "([], ['1'], ['🍊', '🍋', '🍎'])"
            ]
          },
          "metadata": {},
          "execution_count": 3
        }
      ]
    },
    {
      "cell_type": "code",
      "source": [
        "# sorted() - всегда список\n",
        "t = ('🍊', 'a', '🍎', '🍐', '1')\n",
        "sorted(t)"
      ],
      "metadata": {
        "colab": {
          "base_uri": "https://localhost:8080/"
        },
        "id": "sL4AErwCGOfO",
        "outputId": "704d1b97-9fed-4a51-d35d-d39d72843e79"
      },
      "execution_count": 4,
      "outputs": [
        {
          "output_type": "execute_result",
          "data": {
            "text/plain": [
              "['1', 'a', '🍊', '🍎', '🍐']"
            ]
          },
          "metadata": {},
          "execution_count": 4
        }
      ]
    },
    {
      "cell_type": "code",
      "source": [
        "# добавление\n",
        "lst1 = [1,[1,2]]+[1,2]\n",
        "# элементы созданы не копированием\n",
        "lst2 = [[1],[2],[3]]\n",
        "lst2.append(4)\n",
        "lst1, lst2"
      ],
      "metadata": {
        "colab": {
          "base_uri": "https://localhost:8080/"
        },
        "id": "2dHkh48KyxMj",
        "outputId": "41d9865d-3bc8-41b4-9355-ba58c1e04703"
      },
      "execution_count": 5,
      "outputs": [
        {
          "output_type": "execute_result",
          "data": {
            "text/plain": [
              "([1, [1, 2], 1, 2], [[1], [2], [3], 4])"
            ]
          },
          "metadata": {},
          "execution_count": 5
        }
      ]
    },
    {
      "cell_type": "code",
      "source": [
        "# замена только указанного элемента\n",
        "lst1[0] = lst2[0][0] = 0\n",
        "lst1, lst2"
      ],
      "metadata": {
        "colab": {
          "base_uri": "https://localhost:8080/"
        },
        "id": "n_N6o4m6_AF3",
        "outputId": "8a667e33-11e9-4729-e6e1-f01b9906f467"
      },
      "execution_count": 6,
      "outputs": [
        {
          "output_type": "execute_result",
          "data": {
            "text/plain": [
              "([0, [1, 2], 1, 2], [[0], [2], [3], 4])"
            ]
          },
          "metadata": {},
          "execution_count": 6
        }
      ]
    },
    {
      "cell_type": "code",
      "source": [
        "# повторение или копирование\n",
        "lst3 = ([[0]] * 3)\n",
        "lst5 = lst3.copy()\n",
        "lst4 = ([1] + 2 * [0])\n",
        "lst6 = lst4.copy()\n",
        "lst3, lst4, lst5, lst6"
      ],
      "metadata": {
        "colab": {
          "base_uri": "https://localhost:8080/"
        },
        "id": "jlmmhR-k4eB3",
        "outputId": "742f5377-9ba6-41d4-a13c-8a27bb3ab8c5"
      },
      "execution_count": 7,
      "outputs": [
        {
          "output_type": "execute_result",
          "data": {
            "text/plain": [
              "([[0], [0], [0]], [1, 0, 0], [[0], [0], [0]], [1, 0, 0])"
            ]
          },
          "metadata": {},
          "execution_count": 7
        }
      ]
    },
    {
      "cell_type": "code",
      "source": [
        "# не поддерживает индексацию, сходную с матрицей (строки и столбцы)\n",
        "# при повторении элементов\n",
        "lst5[1][0] = lst6[1] = 1\n",
        "lst3, lst4, lst5, lst6"
      ],
      "metadata": {
        "colab": {
          "base_uri": "https://localhost:8080/"
        },
        "id": "625051gi5dqS",
        "outputId": "c238b158-0d5a-47aa-e554-b1bd5ec0324a"
      },
      "execution_count": 8,
      "outputs": [
        {
          "output_type": "execute_result",
          "data": {
            "text/plain": [
              "([[1], [1], [1]], [1, 0, 0], [[1], [1], [1]], [1, 1, 0])"
            ]
          },
          "metadata": {},
          "execution_count": 8
        }
      ]
    },
    {
      "cell_type": "code",
      "source": [
        "list1 = [1, 2, 3]\n",
        "list2 = [4, 5, 6]\n",
        "list3 = list((*list1, *list2))\n",
        "type(list3)"
      ],
      "metadata": {
        "colab": {
          "base_uri": "https://localhost:8080/"
        },
        "id": "DkDMyx2j6HXx",
        "outputId": "a0b7371e-7dcb-4a97-ab54-8e9eeb6c49df"
      },
      "execution_count": 9,
      "outputs": [
        {
          "output_type": "execute_result",
          "data": {
            "text/plain": [
              "list"
            ]
          },
          "metadata": {},
          "execution_count": 9
        }
      ]
    },
    {
      "cell_type": "markdown",
      "source": [
        "2) Создайте список отрицательных чисел от -7 до -15 \n",
        "с помощью функций `range()` и `list()`."
      ],
      "metadata": {
        "id": "k19DN3IDvfCl"
      }
    },
    {
      "cell_type": "code",
      "source": [
        "list(range(-7,-16,-1))"
      ],
      "metadata": {
        "colab": {
          "base_uri": "https://localhost:8080/"
        },
        "id": "EKFArDKcvCG0",
        "outputId": "61b45d32-725f-446d-c9af-4a6c5d079efa"
      },
      "execution_count": 10,
      "outputs": [
        {
          "output_type": "execute_result",
          "data": {
            "text/plain": [
              "[-7, -8, -9, -10, -11, -12, -13, -14, -15]"
            ]
          },
          "metadata": {},
          "execution_count": 10
        }
      ]
    },
    {
      "cell_type": "code",
      "source": [
        "type(range(-7,-16,-1))"
      ],
      "metadata": {
        "colab": {
          "base_uri": "https://localhost:8080/"
        },
        "id": "GELmy1qWvc9W",
        "outputId": "2e96655e-cfa5-492e-8ae3-448bbbcc13c7"
      },
      "execution_count": 11,
      "outputs": [
        {
          "output_type": "execute_result",
          "data": {
            "text/plain": [
              "range"
            ]
          },
          "metadata": {},
          "execution_count": 11
        }
      ]
    },
    {
      "cell_type": "code",
      "source": [
        "list((-7-i for i in range(9)))"
      ],
      "metadata": {
        "colab": {
          "base_uri": "https://localhost:8080/"
        },
        "id": "Jc8HoArnvByd",
        "outputId": "3cc5d743-fa47-48bf-ddeb-5c637e941129"
      },
      "execution_count": 12,
      "outputs": [
        {
          "output_type": "execute_result",
          "data": {
            "text/plain": [
              "[-7, -8, -9, -10, -11, -12, -13, -14, -15]"
            ]
          },
          "metadata": {},
          "execution_count": 12
        }
      ]
    },
    {
      "cell_type": "markdown",
      "source": [
        "3)  В каких случаях совпадает длина списка и длина множества этого списка?\n"
      ],
      "metadata": {
        "id": "1yDID8r5CH3N"
      }
    },
    {
      "cell_type": "code",
      "source": [
        "lst = ['☜','☞','☝︎','☟']\n",
        "print(lst)\n",
        "print(set(lst))\n",
        "print(len(lst),len(set(lst)))"
      ],
      "metadata": {
        "colab": {
          "base_uri": "https://localhost:8080/"
        },
        "id": "w6iTZjCsCMt9",
        "outputId": "d3c34ee5-84fb-426d-e55d-1a30b73a0ef6"
      },
      "execution_count": 13,
      "outputs": [
        {
          "output_type": "stream",
          "name": "stdout",
          "text": [
            "['☜', '☞', '☝︎', '☟']\n",
            "{'☞', '☟', '☜', '☝︎'}\n",
            "4 4\n"
          ]
        }
      ]
    },
    {
      "cell_type": "code",
      "source": [
        "lst1 = 3*lst\n",
        "print(lst1)\n",
        "print(set(lst1))\n",
        "print(len(lst1),len(set(lst1)))"
      ],
      "metadata": {
        "colab": {
          "base_uri": "https://localhost:8080/"
        },
        "id": "Sw9nypKgtZ2W",
        "outputId": "eb910d1c-dfbc-492c-fbb1-c7d882762912"
      },
      "execution_count": 14,
      "outputs": [
        {
          "output_type": "stream",
          "name": "stdout",
          "text": [
            "['☜', '☞', '☝︎', '☟', '☜', '☞', '☝︎', '☟', '☜', '☞', '☝︎', '☟']\n",
            "{'☞', '☟', '☜', '☝︎'}\n",
            "12 4\n"
          ]
        }
      ]
    },
    {
      "cell_type": "markdown",
      "source": [
        "4) Как можно соединить списки?"
      ],
      "metadata": {
        "id": "T843I-K4lqQu"
      }
    },
    {
      "cell_type": "code",
      "source": [
        "lst1 = ['♔','♕']\n",
        "lst2 = ['♖','♗','♘','♙']\n",
        "print(lst1 + lst2)\n",
        "lst1.extend(lst2)\n",
        "print(lst1)"
      ],
      "metadata": {
        "colab": {
          "base_uri": "https://localhost:8080/"
        },
        "id": "_Z3IUGGMoSW0",
        "outputId": "5853752f-bbc6-472f-f499-41bda4ce5d01"
      },
      "execution_count": 15,
      "outputs": [
        {
          "output_type": "stream",
          "name": "stdout",
          "text": [
            "['♔', '♕', '♖', '♗', '♘', '♙']\n",
            "['♔', '♕', '♖', '♗', '♘', '♙']\n"
          ]
        }
      ]
    },
    {
      "cell_type": "markdown",
      "source": [
        "5) Чем похожи и чем отличаются методы `pop()` и `remove()`?"
      ],
      "metadata": {
        "id": "vw8JjWdmpblE"
      }
    },
    {
      "cell_type": "code",
      "source": [
        "# pop(), remove() удаляют объекты\n",
        "lst = ['♔', '♕', '♖', '♗', '♘', '♙']\n",
        "# pop() обращается к индексу элемента и возвращает элемент\n",
        "el = lst.pop(-1)\n",
        "print(el)\n",
        "print(lst,'\\n')\n",
        "lst = ['♔', '♕', '♖', '♗', '♘', '♙']\n",
        "# remove() обращается к элементу и его не возвращает\n",
        "el = lst.remove(el)\n",
        "print(el)\n",
        "print(lst)"
      ],
      "metadata": {
        "colab": {
          "base_uri": "https://localhost:8080/"
        },
        "id": "HZXppIiqpB7m",
        "outputId": "6ed55bf6-b4d3-4edb-eebc-6a8d0c692703"
      },
      "execution_count": 16,
      "outputs": [
        {
          "output_type": "stream",
          "name": "stdout",
          "text": [
            "♙\n",
            "['♔', '♕', '♖', '♗', '♘'] \n",
            "\n",
            "None\n",
            "['♔', '♕', '♖', '♗', '♘']\n"
          ]
        }
      ]
    },
    {
      "cell_type": "markdown",
      "source": [
        "6) Являются ли списки и кортежи контейнерами?"
      ],
      "metadata": {
        "id": "RQP0KQcKQhuv"
      }
    },
    {
      "cell_type": "code",
      "source": [
        "['♔', '♕', '♖', '♗', '♘', '♙'].__contains__('♖')"
      ],
      "metadata": {
        "colab": {
          "base_uri": "https://localhost:8080/"
        },
        "id": "mA-cI4rlQGLA",
        "outputId": "d27c3775-5746-40dd-8585-84c77b708a95"
      },
      "execution_count": 17,
      "outputs": [
        {
          "output_type": "execute_result",
          "data": {
            "text/plain": [
              "True"
            ]
          },
          "metadata": {},
          "execution_count": 17
        }
      ]
    },
    {
      "cell_type": "code",
      "source": [
        "('♔', '♕', '♖', '♗', '♘', '♙').__contains__('1')"
      ],
      "metadata": {
        "colab": {
          "base_uri": "https://localhost:8080/"
        },
        "id": "472xMhrHQPbS",
        "outputId": "61a338a8-5831-42a8-f7e9-6d9ef5e662d8"
      },
      "execution_count": 18,
      "outputs": [
        {
          "output_type": "execute_result",
          "data": {
            "text/plain": [
              "False"
            ]
          },
          "metadata": {},
          "execution_count": 18
        }
      ]
    },
    {
      "cell_type": "markdown",
      "source": [
        "7) Могут ли список или кортеж не содержать элементов или состоять из одного элемента?"
      ],
      "metadata": {
        "id": "DKpB31xmQwAn"
      }
    },
    {
      "cell_type": "code",
      "source": [
        "empty_list = []\n",
        "print(empty_list)\n",
        "empty_tuple = ()\n",
        "print(empty_tuple)"
      ],
      "metadata": {
        "colab": {
          "base_uri": "https://localhost:8080/"
        },
        "id": "lJ41_SU1TWOV",
        "outputId": "cc15def3-77b7-4ec2-a5d3-ed3c65006461"
      },
      "execution_count": 19,
      "outputs": [
        {
          "output_type": "stream",
          "name": "stdout",
          "text": [
            "[]\n",
            "()\n"
          ]
        }
      ]
    },
    {
      "cell_type": "code",
      "source": [
        "one_list = [1]\n",
        "print(one_list)\n",
        "one_tuple = (1,)\n",
        "print(one_tuple)"
      ],
      "metadata": {
        "colab": {
          "base_uri": "https://localhost:8080/"
        },
        "id": "JV7xRtQXc4qA",
        "outputId": "a766d3cb-aaed-47e0-c889-42b9226ba990"
      },
      "execution_count": 20,
      "outputs": [
        {
          "output_type": "stream",
          "name": "stdout",
          "text": [
            "[1]\n",
            "(1,)\n"
          ]
        }
      ]
    },
    {
      "cell_type": "markdown",
      "source": [
        "8) Приведите пример создания вложенных списков."
      ],
      "metadata": {
        "id": "ubwaYvATsSOS"
      }
    },
    {
      "cell_type": "code",
      "source": [
        "[[x, y] for x in [1,2,3] for y in [3,1,5] if x!=y]"
      ],
      "metadata": {
        "colab": {
          "base_uri": "https://localhost:8080/"
        },
        "id": "OGdU3C9asS_q",
        "outputId": "a6eb491e-70eb-4339-ad73-5384a7b4ab02"
      },
      "execution_count": 21,
      "outputs": [
        {
          "output_type": "execute_result",
          "data": {
            "text/plain": [
              "[[1, 3], [1, 5], [2, 3], [2, 1], [2, 5], [3, 1], [3, 5]]"
            ]
          },
          "metadata": {},
          "execution_count": 21
        }
      ]
    },
    {
      "cell_type": "code",
      "source": [
        "[[x, y] for x in [1,2,3] for y in [3,1,5] if x==y]"
      ],
      "metadata": {
        "colab": {
          "base_uri": "https://localhost:8080/"
        },
        "id": "1LCWi0iJzzuk",
        "outputId": "8d685490-578f-4d22-83ca-5415f0783841"
      },
      "execution_count": 22,
      "outputs": [
        {
          "output_type": "execute_result",
          "data": {
            "text/plain": [
              "[[1, 1], [3, 3]]"
            ]
          },
          "metadata": {},
          "execution_count": 22
        }
      ]
    },
    {
      "cell_type": "markdown",
      "source": [
        "9) Перечислите как можно больше способов изменить порядок элементов списка на обратный"
      ],
      "metadata": {
        "id": "ePggzxcImCXe"
      }
    },
    {
      "cell_type": "code",
      "source": [
        "#1\n",
        "l = [1,2,3]\n",
        "l[::-1]"
      ],
      "metadata": {
        "colab": {
          "base_uri": "https://localhost:8080/"
        },
        "id": "YWR-bwcdmBL6",
        "outputId": "2e1f264d-0c4d-446c-f084-a3e20a1ae8c4"
      },
      "execution_count": 23,
      "outputs": [
        {
          "output_type": "execute_result",
          "data": {
            "text/plain": [
              "[3, 2, 1]"
            ]
          },
          "metadata": {},
          "execution_count": 23
        }
      ]
    },
    {
      "cell_type": "code",
      "source": [
        "#2\n",
        "l = [1,2,3]\n",
        "cl = l.copy()\n",
        "cl.reverse(),l,cl"
      ],
      "metadata": {
        "colab": {
          "base_uri": "https://localhost:8080/"
        },
        "id": "HebXWuM-mxB9",
        "outputId": "174e8082-5ba8-465a-a8b3-0ae57e3d539f"
      },
      "execution_count": 24,
      "outputs": [
        {
          "output_type": "execute_result",
          "data": {
            "text/plain": [
              "(None, [1, 2, 3], [3, 2, 1])"
            ]
          },
          "metadata": {},
          "execution_count": 24
        }
      ]
    },
    {
      "cell_type": "code",
      "source": [
        "#3\n",
        "l = [1,2,3]\n",
        "list(reversed(l)),l"
      ],
      "metadata": {
        "colab": {
          "base_uri": "https://localhost:8080/"
        },
        "id": "SnTBfm78m6k2",
        "outputId": "dca0cbb1-2e26-4149-826c-d8fa0219a30e"
      },
      "execution_count": 25,
      "outputs": [
        {
          "output_type": "execute_result",
          "data": {
            "text/plain": [
              "([3, 2, 1], [1, 2, 3])"
            ]
          },
          "metadata": {},
          "execution_count": 25
        }
      ]
    },
    {
      "cell_type": "code",
      "source": [
        "#4\n",
        "l = [1,2,3]\n",
        "slice_obj=slice(None,None,-1)\n",
        "l[slice_obj]"
      ],
      "metadata": {
        "colab": {
          "base_uri": "https://localhost:8080/"
        },
        "id": "EPYmpDSmoCOo",
        "outputId": "f006b268-0239-4dc2-9618-106ee7afdb69"
      },
      "execution_count": 26,
      "outputs": [
        {
          "output_type": "execute_result",
          "data": {
            "text/plain": [
              "[3, 2, 1]"
            ]
          },
          "metadata": {},
          "execution_count": 26
        }
      ]
    },
    {
      "cell_type": "code",
      "source": [
        "#5\n",
        "l = [1,2,3]\n",
        "rl=[]\n",
        "for x in l: rl=[x]+rl\n",
        "rl"
      ],
      "metadata": {
        "colab": {
          "base_uri": "https://localhost:8080/"
        },
        "id": "tASqUWuEnJCR",
        "outputId": "69e5b961-4d7b-4dfe-ca05-2abc9fc9886f"
      },
      "execution_count": 27,
      "outputs": [
        {
          "output_type": "execute_result",
          "data": {
            "text/plain": [
              "[3, 2, 1]"
            ]
          },
          "metadata": {},
          "execution_count": 27
        }
      ]
    },
    {
      "cell_type": "code",
      "source": [
        "#6\n",
        "l = [1,2,3,4,5]\n",
        "rl=[]\n",
        "for x in l: rl.insert(0,x)\n",
        "rl"
      ],
      "metadata": {
        "colab": {
          "base_uri": "https://localhost:8080/"
        },
        "id": "GeEkzkWdolKq",
        "outputId": "a100d3c1-2318-4b6f-b429-0405e66857ac"
      },
      "execution_count": 28,
      "outputs": [
        {
          "output_type": "execute_result",
          "data": {
            "text/plain": [
              "[5, 4, 3, 2, 1]"
            ]
          },
          "metadata": {},
          "execution_count": 28
        }
      ]
    },
    {
      "cell_type": "code",
      "source": [
        "# тот же список\n",
        "l = [1,2,3,4,5]\n",
        "rl=[l[-1]]\n",
        "for x in l[:-1]: rl.insert(-1,x)\n",
        "rl"
      ],
      "metadata": {
        "colab": {
          "base_uri": "https://localhost:8080/"
        },
        "id": "QNv5yTEy41d3",
        "outputId": "944b50f1-7ab8-4aa1-9182-979e1ffab3b8"
      },
      "execution_count": 29,
      "outputs": [
        {
          "output_type": "execute_result",
          "data": {
            "text/plain": [
              "[1, 2, 3, 4, 5]"
            ]
          },
          "metadata": {},
          "execution_count": 29
        }
      ]
    },
    {
      "cell_type": "code",
      "source": [
        "#7\n",
        "l = [1,2,3]\n",
        "rl=[]; cl=l.copy()\n",
        "for v in range(len(cl)):\n",
        "    rl.append(cl.pop())\n",
        "rl"
      ],
      "metadata": {
        "colab": {
          "base_uri": "https://localhost:8080/"
        },
        "id": "H93MPX8ZqMtO",
        "outputId": "446b44ef-c843-4865-d777-aee6ee5a51c7"
      },
      "execution_count": 30,
      "outputs": [
        {
          "output_type": "execute_result",
          "data": {
            "text/plain": [
              "[3, 2, 1]"
            ]
          },
          "metadata": {},
          "execution_count": 30
        }
      ]
    },
    {
      "cell_type": "code",
      "source": [
        "#8\n",
        "l = [1,2,3]\n",
        "def list_reverse(l):\n",
        "    if len(l)==0:\n",
        "        return l\n",
        "    else:\n",
        "        return list_reverse(l[1:])+[l[0]]\n",
        "list_reverse(l)"
      ],
      "metadata": {
        "colab": {
          "base_uri": "https://localhost:8080/"
        },
        "id": "xVC50NxCp0nF",
        "outputId": "850a9456-57b7-4b8a-f5f6-43c918894939"
      },
      "execution_count": 31,
      "outputs": [
        {
          "output_type": "execute_result",
          "data": {
            "text/plain": [
              "[3, 2, 1]"
            ]
          },
          "metadata": {},
          "execution_count": 31
        }
      ]
    },
    {
      "cell_type": "markdown",
      "source": [
        "10) Объедините 2 списка и отсортируйте элементы в убывающем порядке"
      ],
      "metadata": {
        "id": "67p3jCLfKTXi"
      }
    },
    {
      "cell_type": "code",
      "source": [
        "lst1 = [2,10,4,5,15]\n",
        "lst2 = [4,12,6,7,3]\n",
        "sorted(lst1+lst2,reverse=True)"
      ],
      "metadata": {
        "colab": {
          "base_uri": "https://localhost:8080/"
        },
        "id": "6KsyL67DIRyl",
        "outputId": "ddd17828-32dd-42f8-dcc3-f58ebe4b8fd1"
      },
      "execution_count": 32,
      "outputs": [
        {
          "output_type": "execute_result",
          "data": {
            "text/plain": [
              "[15, 12, 10, 7, 6, 5, 4, 4, 3, 2]"
            ]
          },
          "metadata": {},
          "execution_count": 32
        }
      ]
    },
    {
      "cell_type": "markdown",
      "source": [
        "11) Выберите из списка только неповторяющиеся элементы"
      ],
      "metadata": {
        "id": "anzHOwYU1fux"
      }
    },
    {
      "cell_type": "code",
      "source": [
        "L = [8,4,2,1,5,3,6,8,5,6,4,7]\n",
        "uL1 = []\n",
        "for el in L:\n",
        "    if el not in uL1:\n",
        "        uL1.append(el)\n",
        "uL1,list(set(L))"
      ],
      "metadata": {
        "colab": {
          "base_uri": "https://localhost:8080/"
        },
        "id": "HnzED7WRywlZ",
        "outputId": "60f0de82-1f56-4e29-f916-10d5198d8ece"
      },
      "execution_count": 33,
      "outputs": [
        {
          "output_type": "execute_result",
          "data": {
            "text/plain": [
              "([8, 4, 2, 1, 5, 3, 6, 7], [1, 2, 3, 4, 5, 6, 7, 8])"
            ]
          },
          "metadata": {},
          "execution_count": 33
        }
      ]
    },
    {
      "cell_type": "markdown",
      "source": [
        "### Дополнительные упражнения"
      ],
      "metadata": {
        "id": "oDh-4i9dhGY3"
      }
    },
    {
      "cell_type": "code",
      "source": [
        "# Cоздание списка с помощью анонимной функции\n",
        "list_lambda=list(map(lambda x:x**3-2*x,range(10)))\n",
        "print(list_lambda)"
      ],
      "metadata": {
        "colab": {
          "base_uri": "https://localhost:8080/"
        },
        "id": "N8RDZGjThFHi",
        "outputId": "1a133d9d-618a-41d2-dfa5-84689adb086d"
      },
      "execution_count": 34,
      "outputs": [
        {
          "output_type": "stream",
          "name": "stdout",
          "text": [
            "[0, -1, 4, 21, 56, 115, 204, 329, 496, 711]\n"
          ]
        }
      ]
    },
    {
      "cell_type": "code",
      "source": [
        "# Превращение вложенных списков в одномерный список всех элементов\n",
        "nested_list = [[1,4,5],[2,7,8],[10,14,3]]\n",
        "flatten_list1 = [el for sub_list in nested_list for el in sub_list]\n",
        "flatten_list2 = sum(nested_list,[]) \n",
        "nested_list,flatten_list1,flatten_list2"
      ],
      "metadata": {
        "colab": {
          "base_uri": "https://localhost:8080/"
        },
        "id": "OIiPin5RCk9E",
        "outputId": "bd6672b6-b783-4965-8a63-00be3cacbb25"
      },
      "execution_count": 50,
      "outputs": [
        {
          "output_type": "execute_result",
          "data": {
            "text/plain": [
              "([[1, 4, 5], [2, 7, 8], [10, 14, 3]],\n",
              " [1, 4, 5, 2, 7, 8, 10, 14, 3],\n",
              " [1, 4, 5, 2, 7, 8, 10, 14, 3])"
            ]
          },
          "metadata": {},
          "execution_count": 50
        }
      ]
    },
    {
      "cell_type": "code",
      "source": [
        "# Циклическое повторение списка, \n",
        "# начиная со стартового элемента\n",
        "num1,num2,start = 5,12,'el2'\n",
        "L1 = ['el%d'%(i+1) for i in range(num1)]\n",
        "id = L1.index(start)\n",
        "print(L1,id)\n",
        "L2 = [L1[j%num1] for j in range(id,id+num2)]\n",
        "print(L2,len(L2))"
      ],
      "metadata": {
        "colab": {
          "base_uri": "https://localhost:8080/"
        },
        "id": "J7PM9dOhtbb2",
        "outputId": "14d6885b-3b46-485a-e812-bb83e2311572"
      },
      "execution_count": 36,
      "outputs": [
        {
          "output_type": "stream",
          "name": "stdout",
          "text": [
            "['el1', 'el2', 'el3', 'el4', 'el5'] 1\n",
            "['el2', 'el3', 'el4', 'el5', 'el1', 'el2', 'el3', 'el4', 'el5', 'el1', 'el2', 'el3'] 12\n"
          ]
        }
      ]
    },
    {
      "cell_type": "code",
      "source": [
        "# Список Р длиной 8 содержит натуральные числа от 1 до 8, но не все\n",
        "# Разделите числа интервала от 1 до 8 на два списка - \n",
        "# попавшие в Р и не попавшие\n",
        "\n",
        "# создание списка Р длиной 8 (len(P) == 8)\n",
        "P=[1,2,4,5,2,7,1,7]\n",
        "# создание пустых списков \n",
        "# (первое для элементов из интервала [1,...,8], которых нет в Р,\n",
        "# второе - для тех, которые в нем есть)\n",
        "I,C=[],[]\n",
        "# проверяем в цикле каждый элемент интервала [1,...,8]\n",
        "for x in range(1,len(P)+1):\n",
        "# x in P - условие проверки\n",
        "# если условие не выполняется, элемент попадает в I\n",
        "# условие выполняется - в C\n",
        "    (I,C)[x in P].append(x)\n",
        "# вывод на печать получившихся списков\n",
        "I,C"
      ],
      "metadata": {
        "colab": {
          "base_uri": "https://localhost:8080/"
        },
        "id": "S8IDyM_NhD7d",
        "outputId": "34ea38a4-3b17-44fb-cd24-0381928ba924"
      },
      "execution_count": 37,
      "outputs": [
        {
          "output_type": "execute_result",
          "data": {
            "text/plain": [
              "([3, 6, 8], [1, 2, 4, 5, 7])"
            ]
          },
          "metadata": {},
          "execution_count": 37
        }
      ]
    },
    {
      "cell_type": "markdown",
      "source": [
        "## Кортежи \n",
        "- неизменяемые \n",
        "- упорядоченные \n",
        "- как правило, состоят из элементов разных типов \n",
        "- возможны повторяющиеся элементы\n",
        "- итерируемые \n",
        "- контейнеры"
      ],
      "metadata": {
        "id": "4LyMJlwgq8Ie"
      }
    },
    {
      "cell_type": "markdown",
      "source": [
        "1) Назовите основные способы создания кортежей."
      ],
      "metadata": {
        "id": "JEMEa4knEh3i"
      }
    },
    {
      "cell_type": "code",
      "source": [
        "# перечисление элементов\n",
        "tfruits = ('🍊','🍋','🍎','🍐','🍑')\n",
        "print(tfruits)\n",
        "print(type(tfruits))\n",
        "tfruits2 = 1,2,3,'🍊','🍋','🍎','🍐','🍑',[1,2,3]\n",
        "print(tfruits2)\n",
        "print(type(tfruits2))"
      ],
      "metadata": {
        "colab": {
          "base_uri": "https://localhost:8080/"
        },
        "id": "x8Dbm4iC0-Cg",
        "outputId": "14238d6a-2e10-46e9-ec46-f484e2027973"
      },
      "execution_count": 38,
      "outputs": [
        {
          "output_type": "stream",
          "name": "stdout",
          "text": [
            "('🍊', '🍋', '🍎', '🍐', '🍑')\n",
            "<class 'tuple'>\n",
            "(1, 2, 3, '🍊', '🍋', '🍎', '🍐', '🍑', [1, 2, 3])\n",
            "<class 'tuple'>\n"
          ]
        }
      ]
    },
    {
      "cell_type": "code",
      "source": [
        "# повторением срезов или кортежей\n",
        "3*('🍊', '🍋', '🍎', '🍐', '🍑')[1:3]"
      ],
      "metadata": {
        "colab": {
          "base_uri": "https://localhost:8080/"
        },
        "id": "GjOthZpCmXD7",
        "outputId": "20895947-fa1b-4ef0-d8d7-7c87f145295d"
      },
      "execution_count": 39,
      "outputs": [
        {
          "output_type": "execute_result",
          "data": {
            "text/plain": [
              "('🍋', '🍎', '🍋', '🍎', '🍋', '🍎')"
            ]
          },
          "metadata": {},
          "execution_count": 39
        }
      ]
    },
    {
      "cell_type": "code",
      "source": [
        "# функцией-конструктором tuple() из других объектов\n",
        "print(type([i for i in range(5)]))\n",
        "tuple_lst=tuple([i for i in range(5)])\n",
        "print(tuple_lst)\n",
        "print(type(i for i in range(5)))\n",
        "tuple_gen=tuple(i for i in range(5))\n",
        "print(tuple_gen)\n",
        "print(type(map(int,[1.1,2.5,3.6])))\n",
        "tuple_map=tuple(map(int,[1.1,2.5,3.6]))\n",
        "print(tuple_map)"
      ],
      "metadata": {
        "colab": {
          "base_uri": "https://localhost:8080/"
        },
        "id": "21F_rFybbaWV",
        "outputId": "8bc91f24-2865-4002-f7cc-ee5711fdcbb0"
      },
      "execution_count": 40,
      "outputs": [
        {
          "output_type": "stream",
          "name": "stdout",
          "text": [
            "<class 'list'>\n",
            "(0, 1, 2, 3, 4)\n",
            "<class 'generator'>\n",
            "(0, 1, 2, 3, 4)\n",
            "<class 'map'>\n",
            "(1, 2, 3)\n"
          ]
        }
      ]
    },
    {
      "cell_type": "code",
      "source": [
        "# совсем не кортеж\n",
        "print(type((i for i in range(5))))"
      ],
      "metadata": {
        "colab": {
          "base_uri": "https://localhost:8080/"
        },
        "id": "phC2XySf_AGK",
        "outputId": "c129d1b5-d430-495f-ea6a-8fca25817028"
      },
      "execution_count": 41,
      "outputs": [
        {
          "output_type": "stream",
          "name": "stdout",
          "text": [
            "<class 'generator'>\n"
          ]
        }
      ]
    },
    {
      "cell_type": "markdown",
      "source": [
        "2) Как вывести на экран весь кортеж,\n",
        "\n",
        "получившийся в результате команды `a,b,c = input().split()`?"
      ],
      "metadata": {
        "id": "2OEcOkNpEfXm"
      }
    },
    {
      "cell_type": "code",
      "source": [
        "a,b,c = input().split()\n",
        "a,b,c"
      ],
      "metadata": {
        "colab": {
          "base_uri": "https://localhost:8080/"
        },
        "id": "6A5OQdZ029HS",
        "outputId": "3371e6fb-1c59-411d-f32e-ed1c2f91a5b5"
      },
      "execution_count": 42,
      "outputs": [
        {
          "name": "stdout",
          "output_type": "stream",
          "text": [
            "1 2 3\n"
          ]
        },
        {
          "output_type": "execute_result",
          "data": {
            "text/plain": [
              "('1', '2', '3')"
            ]
          },
          "metadata": {},
          "execution_count": 42
        }
      ]
    },
    {
      "cell_type": "code",
      "source": [
        "_"
      ],
      "metadata": {
        "colab": {
          "base_uri": "https://localhost:8080/"
        },
        "id": "RonodXBhGh4P",
        "outputId": "98e36a9a-4c68-4321-e753-c739a1318ce4"
      },
      "execution_count": 43,
      "outputs": [
        {
          "output_type": "execute_result",
          "data": {
            "text/plain": [
              "('1', '2', '3')"
            ]
          },
          "metadata": {},
          "execution_count": 43
        }
      ]
    },
    {
      "cell_type": "code",
      "source": [
        "# нестрогое ключевое слово _\n",
        "x = _\n",
        "print(x,a,b,c)"
      ],
      "metadata": {
        "colab": {
          "base_uri": "https://localhost:8080/"
        },
        "id": "OAhFmCmUrKJ_",
        "outputId": "9e49d80b-0751-41fb-a683-ed6d9837c09a"
      },
      "execution_count": 44,
      "outputs": [
        {
          "output_type": "stream",
          "name": "stdout",
          "text": [
            "('1', '2', '3') 1 2 3\n"
          ]
        }
      ]
    },
    {
      "cell_type": "markdown",
      "source": [
        "3) Какой объект получится в результате сложения двух кортежей?"
      ],
      "metadata": {
        "id": "pZv1_vGAd5_b"
      }
    },
    {
      "cell_type": "code",
      "source": [
        "t = (1,(2,3),4,5,(6,7)) + (2,1)\n",
        "print(t)\n",
        "print(type(t))"
      ],
      "metadata": {
        "colab": {
          "base_uri": "https://localhost:8080/"
        },
        "id": "jajqK9IAFZ3P",
        "outputId": "ecc1086b-e3a4-4df4-a0ee-77065d3cd343"
      },
      "execution_count": 45,
      "outputs": [
        {
          "output_type": "stream",
          "name": "stdout",
          "text": [
            "(1, (2, 3), 4, 5, (6, 7), 2, 1)\n",
            "<class 'tuple'>\n"
          ]
        }
      ]
    },
    {
      "cell_type": "markdown",
      "source": [
        "4) Является ли кортеж хэшируемым объектом?\n",
        "\n",
        "т.е. объектом\n",
        "- который может подтвердить свою неизменность и \n",
        "- для которого определена хеш-функция"
      ],
      "metadata": {
        "id": "yQTElgRUHi1G"
      }
    },
    {
      "cell_type": "code",
      "source": [
        "# только если состоит из хэшируемых элементов\n",
        "t = (1, (2, 3), 4, 5, (6, 7), 2, 1)\n",
        "print(hash(t), t.__hash__())"
      ],
      "metadata": {
        "colab": {
          "base_uri": "https://localhost:8080/"
        },
        "id": "8JJ4f1ACHdIT",
        "outputId": "8d7f488b-97cc-4855-cb5d-94f41c5a211a"
      },
      "execution_count": 46,
      "outputs": [
        {
          "output_type": "stream",
          "name": "stdout",
          "text": [
            "-2493154469777936284 -2493154469777936284\n"
          ]
        }
      ]
    },
    {
      "cell_type": "markdown",
      "source": [
        "5) Можно ли модифицировать элемент кортежа?"
      ],
      "metadata": {
        "id": "j0WJuPh8df9x"
      }
    },
    {
      "cell_type": "code",
      "source": [
        "t = (2, 5., [1, 3], 'aaa')\n",
        "print(t, type(t))\n",
        "t[2][0] = 9\n",
        "print(t, type(t))"
      ],
      "metadata": {
        "colab": {
          "base_uri": "https://localhost:8080/"
        },
        "id": "llAweP26deyR",
        "outputId": "385ea995-1b85-42fb-ff81-81302e963411"
      },
      "execution_count": 47,
      "outputs": [
        {
          "output_type": "stream",
          "name": "stdout",
          "text": [
            "(2, 5.0, [1, 3], 'aaa') <class 'tuple'>\n",
            "(2, 5.0, [9, 3], 'aaa') <class 'tuple'>\n"
          ]
        }
      ]
    },
    {
      "cell_type": "markdown",
      "source": [
        "6) Отсортируйте кортежи в порядке возрастания суммы элементов"
      ],
      "metadata": {
        "id": "lXhnzrnCOp9m"
      }
    },
    {
      "cell_type": "code",
      "source": [
        "lt = ((2,15,8),(3,5),(6,9),(1,65,5),(8,7)) \n",
        "lt_sorted = sorted(lt,key=lambda x: sum(x))\n",
        "#lt_sorted = sorted(lt,key=sum)\n",
        "lt_sorted"
      ],
      "metadata": {
        "colab": {
          "base_uri": "https://localhost:8080/"
        },
        "id": "7YGFa7J5OqkE",
        "outputId": "19bc3d2b-5604-4c73-f05f-3237a430be49"
      },
      "execution_count": 48,
      "outputs": [
        {
          "output_type": "execute_result",
          "data": {
            "text/plain": [
              "[(3, 5), (6, 9), (8, 7), (2, 15, 8), (1, 65, 5)]"
            ]
          },
          "metadata": {},
          "execution_count": 48
        }
      ]
    },
    {
      "cell_type": "markdown",
      "source": [
        "7) Найдите второй наибольший элемент в кортеже"
      ],
      "metadata": {
        "id": "s8yzX7FF9Hus"
      }
    },
    {
      "cell_type": "code",
      "source": [
        "t = (5,2,17,10,3,7,9)\n",
        "lt = list(t)\n",
        "lt.remove(max(lt))\n",
        "sorted(t)[-2],max(lt)"
      ],
      "metadata": {
        "colab": {
          "base_uri": "https://localhost:8080/"
        },
        "id": "iZ2X2ICB9GI4",
        "outputId": "f4d8966b-ba55-4e9e-a826-1e4bab552795"
      },
      "execution_count": 49,
      "outputs": [
        {
          "output_type": "execute_result",
          "data": {
            "text/plain": [
              "(10, 10)"
            ]
          },
          "metadata": {},
          "execution_count": 49
        }
      ]
    }
  ]
}