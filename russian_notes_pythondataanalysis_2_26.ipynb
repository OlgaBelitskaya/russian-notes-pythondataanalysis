{
  "nbformat": 4,
  "nbformat_minor": 0,
  "metadata": {
    "colab": {
      "provenance": []
    },
    "kernelspec": {
      "name": "python3",
      "display_name": "Python 3"
    },
    "language_info": {
      "name": "python"
    }
  },
  "cells": [
    {
      "cell_type": "markdown",
      "source": [
        "# 2.26 Упражнения в объектно–ориентированном программировании"
      ],
      "metadata": {
        "id": "zzvkrqmP6JdK"
      }
    },
    {
      "cell_type": "markdown",
      "source": [
        "1) Объект и декоратор `@property` при определении классов"
      ],
      "metadata": {
        "id": "Tt3vAirQaBzV"
      }
    },
    {
      "cell_type": "code",
      "source": [
        "# конвертор валюты (данные центробанка России на текущую дату)\n",
        "import pandas as pd\n",
        "class Dollar:\n",
        "    def __init__(self,amount=0,usd_rub=None):\n",
        "        self.amount=amount\n",
        "        self.usd_rub=usd_rub\n",
        "    def to_RUB(self):\n",
        "        if not self.usd_rub:\n",
        "            data=pd.read_html(\n",
        "                'https://www.cbr.ru/eng/currency_base/daily/')[0]\n",
        "            self.usd_rub=data[data['Currency']==\"US Dollar\"][\"Rate\"].values[0]\n",
        "        print(\"конвертация в рубли...\")\n",
        "        print(f\"сведения о курсе доллара к рублю: {self.usd_rub}\")\n",
        "        return round(self.amount*self.usd_rub,4)\n",
        "    @property\n",
        "    def amount(self):\n",
        "        print(\"получение данных о количестве...\")\n",
        "        return self._amount\n",
        "    @amount.setter\n",
        "    def amount(self,value):\n",
        "        print(\"определение количества...\")\n",
        "        if value < 0:\n",
        "            raise ValueError(\"отрицательные значения не устанавливаются\")\n",
        "        self._amount=value"
      ],
      "metadata": {
        "id": "bzc4H6VraDH7"
      },
      "execution_count": null,
      "outputs": []
    },
    {
      "cell_type": "code",
      "source": [
        "dollars1=Dollar(1153)\n",
        "print(dollars1.amount)\n",
        "print(dollars1.to_RUB())\n",
        "print(50*\"=\")\n",
        "dollars2=Dollar(1153,84.51)\n",
        "print(dollars2.amount)\n",
        "print(dollars2.to_RUB())\n",
        "print(dollars2.amount)"
      ],
      "metadata": {
        "colab": {
          "base_uri": "https://localhost:8080/"
        },
        "id": "TRh5brr_aJS1",
        "outputId": "9178ef70-9241-4bfe-8530-c1fe4ad1d3da"
      },
      "execution_count": null,
      "outputs": [
        {
          "output_type": "stream",
          "name": "stdout",
          "text": [
            "определение количества...\n",
            "получение данных о количестве...\n",
            "1153\n",
            "конвертация в рубли...\n",
            "сведения о курсе доллара к рублю: 83.9611\n",
            "получение данных о количестве...\n",
            "96807.1483\n",
            "==================================================\n",
            "определение количества...\n",
            "получение данных о количестве...\n",
            "1153\n",
            "конвертация в рубли...\n",
            "сведения о курсе доллара к рублю: 84.51\n",
            "получение данных о количестве...\n",
            "97440.03\n",
            "получение данных о количестве...\n",
            "1153\n"
          ]
        }
      ]
    },
    {
      "cell_type": "markdown",
      "source": [
        "2) Взаимодействие объектов"
      ],
      "metadata": {
        "id": "ABoMGpmbqd5V"
      }
    },
    {
      "cell_type": "code",
      "source": [
        "class Object:\n",
        "    examples: dict = dict()\n",
        "    def __init__(self, id: int, coins: int):\n",
        "        self.id = id\n",
        "        self.coins = coins\n",
        "        Object.examples[id] = self\n",
        "    def pass_coin(self, to_id: int, number: int):\n",
        "        Object.examples[to_id].coins += number\n",
        "        self.coins -= number\n",
        "Object(1,10); Object(2,15)\n",
        "Object.examples[1].pass_coin(to_id=2,number=3)\n",
        "print(Object.examples[1].coins,Object.examples[2].coins)"
      ],
      "metadata": {
        "colab": {
          "base_uri": "https://localhost:8080/"
        },
        "id": "6JcIqzc7qeby",
        "outputId": "8ac8bf93-3e03-45b0-c498-5d8cc0be3574"
      },
      "execution_count": null,
      "outputs": [
        {
          "output_type": "stream",
          "name": "stdout",
          "text": [
            "7 18\n"
          ]
        }
      ]
    },
    {
      "cell_type": "markdown",
      "source": [
        "3) Учет созданных объектов"
      ],
      "metadata": {
        "id": "TU85AqNYaJ-E"
      }
    },
    {
      "cell_type": "code",
      "execution_count": null,
      "metadata": {
        "id": "EdDb6a6vGrO5",
        "colab": {
          "base_uri": "https://localhost:8080/"
        },
        "outputId": "59cfa43a-77c2-4558-8b41-58bae9755357"
      },
      "outputs": [
        {
          "output_type": "stream",
          "name": "stdout",
          "text": [
            "инициализация Robot-R2-D2\n",
            "привет, я Robot-R2-D2\n",
            "количество роботов на задании: 1\n",
            "инициализация Robot-C-3PO\n",
            "привет, я Robot-C-3PO\n",
            "количество роботов на задании: 2\n",
            "\n",
            "в это время роботы выполняют какую-то работу\n",
            "\n",
            "задание завершено, сейчас роботы будут уничтожены\n",
            "\n",
            "Robot-R2-D2 уничтожен\n",
            "количество оставшихся роботов: 1\n",
            "Robot-C-3PO уничтожен\n",
            "Robot-C-3PO был последним\n",
            "количество роботов на задании: 0\n"
          ]
        }
      ],
      "source": [
        "class Robot:\n",
        "    population=0\n",
        "    def __init__(self,id):\n",
        "        self.id=id\n",
        "        print(f\"инициализация Robot-{self.id}\")\n",
        "        Robot.population+=1\n",
        "    def die(self):\n",
        "        print(f\"Robot-{self.id} уничтожен\")\n",
        "        Robot.population-=1\n",
        "        if Robot.population==0:\n",
        "            print(f\"Robot-{self.id} был последним\")\n",
        "        else:\n",
        "            print(f\"количество оставшихся роботов: {Robot.population:d}\")\n",
        "    def hi(self):\n",
        "        print(f\"привет, я Robot-{self.id}\")\n",
        "    @classmethod\n",
        "    def how_many(cls):\n",
        "        print(f\"количество роботов на задании: {Robot.population:d}\")\n",
        "droid1=Robot(\"R2-D2\"); droid1.hi(); Robot.how_many()\n",
        "droid2=Robot(\"C-3PO\"); droid2.hi(); Robot.how_many()\n",
        "print(\"\\nв это время роботы выполняют какую-то работу\")\n",
        "print(\"\\nзадание завершено, сейчас роботы будут уничтожены\\n\")\n",
        "droid1.die(); droid2.die(); Robot.how_many()"
      ]
    },
    {
      "cell_type": "markdown",
      "source": [
        "4) Изменение свойств объекта"
      ],
      "metadata": {
        "id": "F6WtedSVT1uJ"
      }
    },
    {
      "cell_type": "code",
      "source": [
        "import time,random\n",
        "from IPython.display import display,HTML,Latex\n",
        "class PrettyString:\n",
        "    def __init__(self,string,color=(0,0,0),\n",
        "                 latexfont=\"tt\",latexcolor=\"purple\",\n",
        "                 htmlfontsize='30',htmlfontfamily='Rubik Moonrocks'):\n",
        "        \"\"\"\n",
        "        latexfont:\n",
        "        normal, rm, frak, scr, it, bf, sf, tt, cal, bb\n",
        "        latexcolor:\n",
        "        black, blue, brown, cyan, darkgray,\n",
        "        gray, green, lightgray, lime, magenta,\n",
        "        olive, orange, pink, purple, red, teal,\n",
        "        violet, white, yellow\n",
        "        \"\"\"\n",
        "        self.string=string\n",
        "        self.color=color\n",
        "        self.latexcolor=latexcolor\n",
        "        self.latexfont=latexfont\n",
        "        self.htmlfontsize=htmlfontsize\n",
        "        self.htmlfontfamily=htmlfontfamily\n",
        "        self.html=\"\"\n",
        "    def __str__(self):\n",
        "        return f\"\\033[1m{self.string}\\033[0m\"\n",
        "    def pretty_print(self,slow=True,delay=1,**kwargs):\n",
        "        sstring=\"\\033[38;2;{};{};{}m{}\\033[0m\"\n",
        "        if not slow:\n",
        "            print(sstring.format(*self.color,self.string),**kwargs)\n",
        "        else:\n",
        "            for char in self.string:\n",
        "                print(sstring.format(*self.color,char),end='',flush=True)\n",
        "                time.sleep(delay)\n",
        "            print()\n",
        "    def latex_print(self):\n",
        "        sstring=self.string.replace(' ','\\; ')\n",
        "        display(Latex('$\\displaystyle{\\math'+self.latexfont+\\\n",
        "                      '{\\color{'+self.latexcolor+'}{'+sstring+'}}}$'))\n",
        "    def generate_html(self):\n",
        "        randi=random.randint(10000,20000)\n",
        "        html_str=\"\"\"\n",
        "        <style>@import 'https://fonts.googleapis.com/css?family=\"\"\"+\\\n",
        "        self.htmlfontfamily+\"\"\"&effect=3d'; #colored\"\"\"+\\\n",
        "        str(randi)+\"\"\"{font-family:\"\"\"+\\\n",
        "        self.htmlfontfamily+\"\"\"; color:white; padding-left:10px; font-size:\"\"\"+\\\n",
        "        str(self.htmlfontsize)+\"\"\"px;}</style>\n",
        "        <h1 id='colored\"\"\"+str(randi)+\"\"\"' class='font-effect-3d'>\"\"\"+\\\n",
        "        self.string+\"\"\"</h1>\n",
        "        <script>\n",
        "          var tc=setInterval(function() {\n",
        "          var iddoc=document.getElementById('colored\"\"\"+str(randi)+\"\"\"'),\n",
        "              sec=new Date().getTime()% 60000/1000;\n",
        "          var r=Math.sin(sec/10*Math.PI)*127+128,\n",
        "              g=Math.sin(sec/8*Math.PI)*127+128,\n",
        "              b=Math.sin(sec/6*Math.PI)*127+128;\n",
        "          var col=\"rgb(\"+r+\",\"+g+\",\"+b+\")\";\n",
        "          iddoc.style.color=col; },10);\n",
        "        </script>\"\"\"\n",
        "        del randi\n",
        "        return html_str\n",
        "    def set_string(self,string):\n",
        "        self.string=string\n",
        "    def set_color(self,color):\n",
        "        self.color=color\n",
        "    def set_latexfont(self,latexfont):\n",
        "        self.latexfont=latexfont\n",
        "    def set_latexcolor(self,latexcolor):\n",
        "        self.latexcolor=latexcolor\n",
        "    def set_htmlfontsize(self,htmlfontsize):\n",
        "        self.htmlfontsize=htmlfontsize\n",
        "    def set_htmlfontfamily(self,htmlfontfamily):\n",
        "        self.htmlfontfamily=htmlfontfamily\n",
        "    def html_print(self):\n",
        "        self.html=self.generate_html()\n",
        "        display(HTML(self.html))"
      ],
      "metadata": {
        "id": "ktqXj0O4X2CA"
      },
      "execution_count": null,
      "outputs": []
    },
    {
      "cell_type": "code",
      "source": [
        "text=PrettyString(\"HELLO ПРИВЕТ\",color=(150,0,150))\n",
        "print(text)\n",
        "text.pretty_print()\n",
        "text.pretty_print(slow=False)\n",
        "text.latex_print()\n",
        "text.set_color((0,120,120))\n",
        "text.pretty_print()\n",
        "text.set_string(\"HELLO HOLA ПРИВЕТ\")\n",
        "text.set_latexfont(\"bb\")\n",
        "text.set_latexcolor(\"teal\")\n",
        "text.latex_print()\n",
        "text.html_print()\n",
        "text.set_htmlfontfamily('Roboto')\n",
        "text.html_print()"
      ],
      "metadata": {
        "colab": {
          "base_uri": "https://localhost:8080/",
          "height": 252
        },
        "id": "avbq1qJHYwHM",
        "outputId": "f1db8f3e-48eb-4050-d686-68b0634ba0b4"
      },
      "execution_count": null,
      "outputs": [
        {
          "output_type": "stream",
          "name": "stdout",
          "text": [
            "\u001b[1mHELLO ПРИВЕТ\u001b[0m\n",
            "\u001b[38;2;150;0;150mH\u001b[0m\u001b[38;2;150;0;150mE\u001b[0m\u001b[38;2;150;0;150mL\u001b[0m\u001b[38;2;150;0;150mL\u001b[0m\u001b[38;2;150;0;150mO\u001b[0m\u001b[38;2;150;0;150m \u001b[0m\u001b[38;2;150;0;150mП\u001b[0m\u001b[38;2;150;0;150mР\u001b[0m\u001b[38;2;150;0;150mИ\u001b[0m\u001b[38;2;150;0;150mВ\u001b[0m\u001b[38;2;150;0;150mЕ\u001b[0m\u001b[38;2;150;0;150mТ\u001b[0m\n",
            "\u001b[38;2;150;0;150mHELLO ПРИВЕТ\u001b[0m\n"
          ]
        },
        {
          "output_type": "display_data",
          "data": {
            "text/plain": [
              "<IPython.core.display.Latex object>"
            ],
            "text/latex": "$\\displaystyle{\\mathtt{\\color{purple}{HELLO\\; ПРИВЕТ}}}$"
          },
          "metadata": {}
        },
        {
          "output_type": "stream",
          "name": "stdout",
          "text": [
            "\u001b[38;2;0;120;120mH\u001b[0m\u001b[38;2;0;120;120mE\u001b[0m\u001b[38;2;0;120;120mL\u001b[0m\u001b[38;2;0;120;120mL\u001b[0m\u001b[38;2;0;120;120mO\u001b[0m\u001b[38;2;0;120;120m \u001b[0m\u001b[38;2;0;120;120mП\u001b[0m\u001b[38;2;0;120;120mР\u001b[0m\u001b[38;2;0;120;120mИ\u001b[0m\u001b[38;2;0;120;120mВ\u001b[0m\u001b[38;2;0;120;120mЕ\u001b[0m\u001b[38;2;0;120;120mТ\u001b[0m\n"
          ]
        },
        {
          "output_type": "display_data",
          "data": {
            "text/plain": [
              "<IPython.core.display.Latex object>"
            ],
            "text/latex": "$\\displaystyle{\\mathbb{\\color{teal}{HELLO\\; HOLA\\; ПРИВЕТ}}}$"
          },
          "metadata": {}
        },
        {
          "output_type": "display_data",
          "data": {
            "text/plain": [
              "<IPython.core.display.HTML object>"
            ],
            "text/html": [
              "\n",
              "        <style>@import 'https://fonts.googleapis.com/css?family=Rubik Moonrocks&effect=3d'; #colored17134{font-family:Rubik Moonrocks; color:white; padding-left:10px; font-size:30px;}</style>\n",
              "        <h1 id='colored17134' class='font-effect-3d'>HELLO HOLA ПРИВЕТ</h1>\n",
              "        <script>\n",
              "          var tc=setInterval(function() {\n",
              "          var iddoc=document.getElementById('colored17134'),\n",
              "              sec=new Date().getTime()% 60000/1000;\n",
              "          var r=Math.sin(sec/10*Math.PI)*127+128,\n",
              "              g=Math.sin(sec/8*Math.PI)*127+128,\n",
              "              b=Math.sin(sec/6*Math.PI)*127+128;\n",
              "          var col=\"rgb(\"+r+\",\"+g+\",\"+b+\")\";\n",
              "          iddoc.style.color=col; },10);\n",
              "        </script>"
            ]
          },
          "metadata": {}
        },
        {
          "output_type": "display_data",
          "data": {
            "text/plain": [
              "<IPython.core.display.HTML object>"
            ],
            "text/html": [
              "\n",
              "        <style>@import 'https://fonts.googleapis.com/css?family=Roboto&effect=3d'; #colored11017{font-family:Roboto; color:white; padding-left:10px; font-size:30px;}</style>\n",
              "        <h1 id='colored11017' class='font-effect-3d'>HELLO HOLA ПРИВЕТ</h1>\n",
              "        <script>\n",
              "          var tc=setInterval(function() {\n",
              "          var iddoc=document.getElementById('colored11017'),\n",
              "              sec=new Date().getTime()% 60000/1000;\n",
              "          var r=Math.sin(sec/10*Math.PI)*127+128,\n",
              "              g=Math.sin(sec/8*Math.PI)*127+128,\n",
              "              b=Math.sin(sec/6*Math.PI)*127+128;\n",
              "          var col=\"rgb(\"+r+\",\"+g+\",\"+b+\")\";\n",
              "          iddoc.style.color=col; },10);\n",
              "        </script>"
            ]
          },
          "metadata": {}
        }
      ]
    },
    {
      "cell_type": "markdown",
      "source": [
        "5) Базовый класс и подклассы"
      ],
      "metadata": {
        "id": "EAscxNDnzFSf"
      }
    },
    {
      "cell_type": "code",
      "source": [
        "import time,random\n",
        "from IPython.display import display, HTML, Latex\n",
        "class BasePrettyString:\n",
        "    def __init__(self,string=\"\"):\n",
        "        self.string=string\n",
        "    def __str__(self):\n",
        "        return f\"\\033[1m{str(self.string)}\\033[0m\"\n",
        "    def __repr__(self):\n",
        "        return f\"<{type(self).__name__}: {self.string}>\"\n",
        "    def set_string(self,string):\n",
        "        self.string=string\n",
        "class ColoredString(BasePrettyString):\n",
        "    def __init__(self,string=\"\",color=(0,0,0)):\n",
        "        super().__init__(string)\n",
        "        self.color=color\n",
        "    def pretty_print(self,slow=True,delay=1,**kwargs):\n",
        "        sstring=\"\\033[38;2;{};{};{}m{}\\033[0m\"\n",
        "        if not slow:\n",
        "            print(sstring.format(*self.color,self.string),**kwargs)\n",
        "        else:\n",
        "            for char in self.string:\n",
        "                print(sstring.format(*self.color,char),end=\"\",flush=True)\n",
        "                time.sleep(delay)\n",
        "            print()\n",
        "    def set_color(self,color):\n",
        "        self.color=color\n",
        "class LatexString(BasePrettyString):\n",
        "    def __init__(self,string=\"\",latexfont=\"cal\",latexcolor=\"purple\"):\n",
        "        super().__init__(string)\n",
        "        self.latexfont=latexfont\n",
        "        self.latexcolor=latexcolor\n",
        "    def latex_print(self):\n",
        "        sstring=self.string.replace(\" \",\"\\; \")\n",
        "        display(Latex(\n",
        "            \"$\\displaystyle{\\math\"+self.latexfont+\"{\\color{\"+\\\n",
        "            self.latexcolor+\"}{\"+sstring+\"}}}$\"))\n",
        "    def set_latexfont(self,latexfont):\n",
        "        self.latexfont=latexfont\n",
        "    def set_latexcolor(self,latexcolor):\n",
        "        self.latexcolor=latexcolor\n",
        "class HTMLString(BasePrettyString):\n",
        "    def __init__(self,string='',htmlfontsize='30',htmlfontfamily='Roboto'):\n",
        "        super().__init__(string)\n",
        "        self.htmlfontsize=htmlfontsize\n",
        "        self.htmlfontfamily=htmlfontfamily\n",
        "        self.html=self.generate_html()\n",
        "    def generate_html(self):\n",
        "        randi=random.randint(10000,20000)\n",
        "        html_str=\"\"\"\n",
        "        <style>@import 'https://fonts.googleapis.com/css?family=\"\"\"+\\\n",
        "        self.htmlfontfamily+\"\"\"&effect=3d'; #colored\"\"\"+\\\n",
        "        str(randi)+\"\"\"{font-family:\"\"\"+\\\n",
        "        self.htmlfontfamily+\"\"\"; color:white; padding-left:10px; font-size:\"\"\"+\\\n",
        "        str(self.htmlfontsize)+\"\"\"px;}</style>\n",
        "        <h1 id='colored\"\"\"+str(randi)+\"\"\"' class='font-effect-3d'>\"\"\"+\\\n",
        "        self.string+\"\"\"</h1>\n",
        "        <script>\n",
        "          var tc=setInterval(function() {\n",
        "          var iddoc=document.getElementById('colored\"\"\"+str(randi)+\"\"\"'),\n",
        "              sec=new Date().getTime()% 60000/1000;\n",
        "          var r=Math.sin(sec/10*Math.PI)*127+128,\n",
        "              g=Math.sin(sec/8*Math.PI)*127+128,\n",
        "              b=Math.sin(sec/6*Math.PI)*127+128;\n",
        "          var col=\"rgb(\"+r+\",\"+g+\",\"+b+\")\";\n",
        "          iddoc.style.color=col; },10);\n",
        "        </script>\"\"\"\n",
        "        del randi\n",
        "        return html_str\n",
        "    def html_print(self):\n",
        "        self.html=self.generate_html()\n",
        "        display(HTML(self.html))\n",
        "    def set_htmlfontsize(self,htmlfontsize):\n",
        "        self.htmlfontsize=htmlfontsize\n",
        "    def set_htmlfontfamily(self,htmlfontfamily):\n",
        "        self.htmlfontfamily=htmlfontfamily"
      ],
      "metadata": {
        "id": "V5HnjRfUpizy"
      },
      "execution_count": null,
      "outputs": []
    },
    {
      "cell_type": "code",
      "source": [
        "pstring=BasePrettyString()\n",
        "pstring.set_string(\"HELLO\")\n",
        "print(pstring)\n",
        "cstring=ColoredString()\n",
        "cstring.set_string(\"ПРИВЕТ\")\n",
        "cstring.set_color((0,120,120))\n",
        "print(cstring)\n",
        "cstring.pretty_print()\n",
        "lstring=LatexString(\"\\\\frac{x}{y} = \\\\frac{2}{3}\")\n",
        "lstring.latex_print()\n",
        "hstring=HTMLString(\"HOLA\")\n",
        "hstring.set_htmlfontfamily('Akronim')\n",
        "hstring.set_htmlfontsize(48)\n",
        "hstring.html_print()"
      ],
      "metadata": {
        "colab": {
          "base_uri": "https://localhost:8080/",
          "height": 205
        },
        "id": "VoFpjU7KrHWt",
        "outputId": "92474074-2493-4a49-f514-3a390cb958ca"
      },
      "execution_count": null,
      "outputs": [
        {
          "output_type": "stream",
          "name": "stdout",
          "text": [
            "\u001b[1mHELLO\u001b[0m\n",
            "\u001b[1mПРИВЕТ\u001b[0m\n",
            "\u001b[38;2;0;120;120mП\u001b[0m\u001b[38;2;0;120;120mР\u001b[0m\u001b[38;2;0;120;120mИ\u001b[0m\u001b[38;2;0;120;120mВ\u001b[0m\u001b[38;2;0;120;120mЕ\u001b[0m\u001b[38;2;0;120;120mТ\u001b[0m\n"
          ]
        },
        {
          "output_type": "display_data",
          "data": {
            "text/plain": [
              "<IPython.core.display.Latex object>"
            ],
            "text/latex": "$\\displaystyle{\\mathcal{\\color{purple}{\\frac{x}{y}\\; =\\; \\frac{2}{3}}}}$"
          },
          "metadata": {}
        },
        {
          "output_type": "display_data",
          "data": {
            "text/plain": [
              "<IPython.core.display.HTML object>"
            ],
            "text/html": [
              "\n",
              "        <style>@import 'https://fonts.googleapis.com/css?family=Akronim&effect=3d'; #colored10383{font-family:Akronim; color:white; padding-left:10px; font-size:48px;}</style>\n",
              "        <h1 id='colored10383' class='font-effect-3d'>HOLA</h1>\n",
              "        <script>\n",
              "          var tc=setInterval(function() {\n",
              "          var iddoc=document.getElementById('colored10383'),\n",
              "              sec=new Date().getTime()% 60000/1000;\n",
              "          var r=Math.sin(sec/10*Math.PI)*127+128,\n",
              "              g=Math.sin(sec/8*Math.PI)*127+128,\n",
              "              b=Math.sin(sec/6*Math.PI)*127+128;\n",
              "          var col=\"rgb(\"+r+\",\"+g+\",\"+b+\")\";\n",
              "          iddoc.style.color=col; },10);\n",
              "        </script>"
            ]
          },
          "metadata": {}
        }
      ]
    }
  ]
}