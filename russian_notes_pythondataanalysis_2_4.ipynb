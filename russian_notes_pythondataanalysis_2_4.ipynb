{
  "nbformat": 4,
  "nbformat_minor": 0,
  "metadata": {
    "colab": {
      "provenance": []
    },
    "kernelspec": {
      "name": "python3",
      "display_name": "Python 3"
    },
    "language_info": {
      "name": "python"
    }
  },
  "cells": [
    {
      "cell_type": "markdown",
      "source": [
        "# 2.4 Типы данных в Python Часть 1\n",
        "## Специальные \n",
        "- отсутствие значения (`Null`: константа `None`)\n",
        "- типовой объект (`Type`: результат `type()`)\n",
        "- объект для создания срезов (`Ellipsis`: `...`)\n",
        "- нереализованный в логических операциях объект(`NotImplemented`)\n",
        "- ..."
      ],
      "metadata": {
        "id": "zXKVJY3ty-z4"
      }
    },
    {
      "cell_type": "code",
      "source": [
        "# примеры\n",
        "None,type(1000),type(10e3),type(True),...,type(...)"
      ],
      "metadata": {
        "colab": {
          "base_uri": "https://localhost:8080/"
        },
        "id": "-jBf7zA2DMfB",
        "outputId": "765f6f2c-1563-4115-ebc2-5b014e3dde1e"
      },
      "execution_count": 1,
      "outputs": [
        {
          "output_type": "execute_result",
          "data": {
            "text/plain": [
              "(None, int, float, bool, Ellipsis, ellipsis)"
            ]
          },
          "metadata": {},
          "execution_count": 1
        }
      ]
    },
    {
      "cell_type": "code",
      "source": [
        "import numpy as np\n",
        "arr = np.arange(120).reshape(2,3,4,5)\n",
        "print(arr.shape)\n",
        "print(arr[0,:,:,0])\n",
        "print(arr[0,...,0])"
      ],
      "metadata": {
        "colab": {
          "base_uri": "https://localhost:8080/"
        },
        "id": "aBjut9baiibD",
        "outputId": "d9bb354d-2c42-41d1-b914-896e53b2ad7a"
      },
      "execution_count": 2,
      "outputs": [
        {
          "output_type": "stream",
          "name": "stdout",
          "text": [
            "(2, 3, 4, 5)\n",
            "[[ 0  5 10 15]\n",
            " [20 25 30 35]\n",
            " [40 45 50 55]]\n",
            "[[ 0  5 10 15]\n",
            " [20 25 30 35]\n",
            " [40 45 50 55]]\n"
          ]
        }
      ]
    },
    {
      "cell_type": "code",
      "source": [
        "numbers = ()\n",
        "numbers = (1,)\n",
        "numbers = (4, 5, 6, 99)"
      ],
      "metadata": {
        "id": "z_HFQH-ij64U"
      },
      "execution_count": 3,
      "outputs": []
    },
    {
      "cell_type": "markdown",
      "source": [
        "## Логические (`boolean`: `True`, `False`)\n",
        "- константы"
      ],
      "metadata": {
        "id": "DweBpjLFCPol"
      }
    },
    {
      "cell_type": "code",
      "source": [
        "# логический объект\n",
        "for el in [dir(True)[i:i+5] for i in range(0,75,5)]:\n",
        "    print(el)"
      ],
      "metadata": {
        "colab": {
          "base_uri": "https://localhost:8080/"
        },
        "id": "QB_LWUMeGOZ_",
        "outputId": "5b0fde17-5333-4f45-afaf-832965c3d0bf"
      },
      "execution_count": 4,
      "outputs": [
        {
          "output_type": "stream",
          "name": "stdout",
          "text": [
            "['__abs__', '__add__', '__and__', '__bool__', '__ceil__']\n",
            "['__class__', '__delattr__', '__dir__', '__divmod__', '__doc__']\n",
            "['__eq__', '__float__', '__floor__', '__floordiv__', '__format__']\n",
            "['__ge__', '__getattribute__', '__getnewargs__', '__gt__', '__hash__']\n",
            "['__index__', '__init__', '__init_subclass__', '__int__', '__invert__']\n",
            "['__le__', '__lshift__', '__lt__', '__mod__', '__mul__']\n",
            "['__ne__', '__neg__', '__new__', '__or__', '__pos__']\n",
            "['__pow__', '__radd__', '__rand__', '__rdivmod__', '__reduce__']\n",
            "['__reduce_ex__', '__repr__', '__rfloordiv__', '__rlshift__', '__rmod__']\n",
            "['__rmul__', '__ror__', '__round__', '__rpow__', '__rrshift__']\n",
            "['__rshift__', '__rsub__', '__rtruediv__', '__rxor__', '__setattr__']\n",
            "['__sizeof__', '__str__', '__sub__', '__subclasshook__', '__truediv__']\n",
            "['__trunc__', '__xor__', 'as_integer_ratio', 'bit_length', 'conjugate']\n",
            "['denominator', 'from_bytes', 'imag', 'numerator', 'real']\n",
            "['to_bytes']\n"
          ]
        }
      ]
    },
    {
      "cell_type": "code",
      "source": [
        "True.as_integer_ratio(),True.__hash__(),False.__hash__()"
      ],
      "metadata": {
        "colab": {
          "base_uri": "https://localhost:8080/"
        },
        "id": "77cgWpYP5PwF",
        "outputId": "99552b5b-06c3-4c7f-cb19-35a11466478f"
      },
      "execution_count": 5,
      "outputs": [
        {
          "output_type": "execute_result",
          "data": {
            "text/plain": [
              "((1, 1), 1, 0)"
            ]
          },
          "metadata": {},
          "execution_count": 5
        }
      ]
    },
    {
      "cell_type": "code",
      "execution_count": 6,
      "metadata": {
        "colab": {
          "base_uri": "https://localhost:8080/"
        },
        "id": "uzRDphkty39p",
        "outputId": "e5681530-f82b-4171-bb41-91c1352ec976"
      },
      "outputs": [
        {
          "output_type": "stream",
          "name": "stdout",
          "text": [
            "True True False False False True "
          ]
        }
      ],
      "source": [
        "# сравнение\n",
        "logic_exp1 = [3 > 2, 5 < 8,len('abc') == 1, \n",
        "              2 ** 3 >= 9, 11 <= 7, 7 != 12]\n",
        "for le in logic_exp1: print(le, end=' ')"
      ]
    },
    {
      "cell_type": "code",
      "source": [
        "# логические выражения\n",
        "logic_exp2 = [True and False, True or False, True or 0, \n",
        "              1 or False, True and 0, 1 and False,\n",
        "              not False, not 1] \n",
        "for le in logic_exp2: print(le, end=\" \")"
      ],
      "metadata": {
        "colab": {
          "base_uri": "https://localhost:8080/"
        },
        "id": "nZ4abBLw9_x-",
        "outputId": "f6cffe6c-5bfc-48d4-833b-e962f1371ca2"
      },
      "execution_count": 7,
      "outputs": [
        {
          "output_type": "stream",
          "name": "stdout",
          "text": [
            "False True True 1 0 False True False "
          ]
        }
      ]
    },
    {
      "cell_type": "code",
      "source": [
        "# побитовые выражения \n",
        "byte_exp1 = [True & False, True | False, 1 & 0, 0 | 1,\n",
        "             1 | False, False | 1, 0 & True, True & 1, \n",
        "             ~ 0, ~ 1, ~ False, ~ True] \n",
        "for be in byte_exp1: print(be, end=' ')"
      ],
      "metadata": {
        "colab": {
          "base_uri": "https://localhost:8080/"
        },
        "id": "SxCFsghIXJW9",
        "outputId": "fbeec7b1-0350-4d66-9139-b4e2ea584cce"
      },
      "execution_count": 8,
      "outputs": [
        {
          "output_type": "stream",
          "name": "stdout",
          "text": [
            "False True 0 1 1 1 0 1 -1 -2 -1 -2 "
          ]
        }
      ]
    },
    {
      "cell_type": "code",
      "source": [
        "# встроенная функция bool()\n",
        "bool(None), not bool(None), not None, ~ bool(None)"
      ],
      "metadata": {
        "colab": {
          "base_uri": "https://localhost:8080/"
        },
        "id": "BNSRJ399O80G",
        "outputId": "56e4ce24-c8bb-43c1-b245-cb1e31ba5375"
      },
      "execution_count": 9,
      "outputs": [
        {
          "output_type": "execute_result",
          "data": {
            "text/plain": [
              "(False, True, True, -1)"
            ]
          },
          "metadata": {},
          "execution_count": 9
        }
      ]
    },
    {
      "cell_type": "code",
      "source": [
        "bool(0),bool(0j),bool(1),bool(-4.),bool(2j)"
      ],
      "metadata": {
        "colab": {
          "base_uri": "https://localhost:8080/"
        },
        "id": "_k6rInUNvEel",
        "outputId": "c06c5783-d1dc-4739-aed5-f8ffe7a2ab65"
      },
      "execution_count": 10,
      "outputs": [
        {
          "output_type": "execute_result",
          "data": {
            "text/plain": [
              "(False, False, True, True, True)"
            ]
          },
          "metadata": {},
          "execution_count": 10
        }
      ]
    },
    {
      "cell_type": "code",
      "source": [
        "bool([1,2,3]),bool({1,2,3}),\\\n",
        "bool(list()),bool(tuple()),bool([]),bool({})"
      ],
      "metadata": {
        "colab": {
          "base_uri": "https://localhost:8080/"
        },
        "id": "OZJ2TAwLX8C4",
        "outputId": "12f16314-131f-4d9f-ad54-3bb94887c64e"
      },
      "execution_count": 11,
      "outputs": [
        {
          "output_type": "execute_result",
          "data": {
            "text/plain": [
              "(True, True, False, False, False, False)"
            ]
          },
          "metadata": {},
          "execution_count": 11
        }
      ]
    },
    {
      "cell_type": "code",
      "source": [
        "# логические законы и таблицы истинности\n",
        "import numpy,sympy,itertools\n",
        "sympy.init_printing(use_unicode=True)\n",
        "from sympy.logic import simplify_logic,satisfiable\n",
        "from sympy.logic import And,Or,Not,Xor,Implies,Equivalent\n",
        "x1,x2,x3,x4,x5,x6,x7,x8,x9,x10=\\\n",
        "sympy.symbols('x1,x2,x3,x4,x5,x6,x7,x8,x9,x10')\n",
        "eq1=Or(x1,Not(x2))&(x3|~x4)\n",
        "eq2=Or(x3,Not(x4))&(x5|~x6)\n",
        "eq3=Or(x5,Not(x6))&(x7|~x8)\n",
        "eq4=Or(x7,Not(x8))&(x9|~x10)\n",
        "eq=simplify_logic(And(eq1,eq2)&And(eq3,eq4))\n",
        "s=list(satisfiable(eq,all_models=True))\n",
        "eqsubs=eq.subs({x1:1,x2:1,x3:1,x4:1,x5:1,\n",
        "                x6:1,x7:1,x8:1,x9:1,x10:1})\n",
        "for el in [eq,eqsubs,s[0],eq.subs(s[1])]:\n",
        "    print(el); print('\\n')"
      ],
      "metadata": {
        "id": "o1VNQpgVtMWW",
        "colab": {
          "base_uri": "https://localhost:8080/"
        },
        "outputId": "b7b57cf9-1da8-4925-c56e-79fe24a20d4b"
      },
      "execution_count": 12,
      "outputs": [
        {
          "output_type": "stream",
          "name": "stdout",
          "text": [
            "(x1 | ~x2) & (x3 | ~x4) & (x5 | ~x6) & (x7 | ~x8) & (x9 | ~x10)\n",
            "\n",
            "\n",
            "1\n",
            "\n",
            "\n",
            "{x9: True, x3: True, x7: True, x1: True, x5: True, x6: False, x2: False, x8: False, x4: False, x10: False}\n",
            "\n",
            "\n",
            "True\n",
            "\n",
            "\n"
          ]
        }
      ]
    },
    {
      "cell_type": "code",
      "source": [
        "# sympy - как логические \n",
        "for (t1,t2) in [(False,False),(False,True),(True,False),(True,True)]:\n",
        "    print((~x1 & ~x2).subs({x1:t1,x2:t2}),end=' ')\n",
        "    print(And(Not(x1),Not(x2)).subs({x1:t1,x2:t2}))"
      ],
      "metadata": {
        "colab": {
          "base_uri": "https://localhost:8080/"
        },
        "id": "_kVAfP-X-y_2",
        "outputId": "6b04c86b-0c30-4d90-e94b-a95f8552aef3"
      },
      "execution_count": 13,
      "outputs": [
        {
          "output_type": "stream",
          "name": "stdout",
          "text": [
            "True True\n",
            "False False\n",
            "False False\n",
            "False False\n"
          ]
        }
      ]
    },
    {
      "cell_type": "markdown",
      "source": [
        "## Строковые (`Text Sequence Type`: `str`)\n",
        "- последовательный \n",
        "- неизменяемый"
      ],
      "metadata": {
        "id": "h5xhDw4Pdn6A"
      }
    },
    {
      "cell_type": "code",
      "source": [
        "# отдельные символы, слова, фразы, предложения, тексты\n",
        "# в системе Юникод\n",
        "'hello', 'привет'"
      ],
      "metadata": {
        "colab": {
          "base_uri": "https://localhost:8080/"
        },
        "id": "m8x9tVeNh_TI",
        "outputId": "9b26ba81-14f8-454b-84ec-e4550009e210"
      },
      "execution_count": 14,
      "outputs": [
        {
          "output_type": "execute_result",
          "data": {
            "text/plain": [
              "('hello', 'привет')"
            ]
          },
          "metadata": {},
          "execution_count": 14
        }
      ]
    },
    {
      "cell_type": "code",
      "source": [
        "# строковый объект\n",
        "for el in [dir('a')[i:i+5] for i in range(0,80,5)]:\n",
        "    print(el)"
      ],
      "metadata": {
        "colab": {
          "base_uri": "https://localhost:8080/"
        },
        "id": "wCS0yK3lb7WW",
        "outputId": "0170f3e3-89d1-4c78-d946-9be9eeee3dbb"
      },
      "execution_count": 15,
      "outputs": [
        {
          "output_type": "stream",
          "name": "stdout",
          "text": [
            "['__add__', '__class__', '__contains__', '__delattr__', '__dir__']\n",
            "['__doc__', '__eq__', '__format__', '__ge__', '__getattribute__']\n",
            "['__getitem__', '__getnewargs__', '__gt__', '__hash__', '__init__']\n",
            "['__init_subclass__', '__iter__', '__le__', '__len__', '__lt__']\n",
            "['__mod__', '__mul__', '__ne__', '__new__', '__reduce__']\n",
            "['__reduce_ex__', '__repr__', '__rmod__', '__rmul__', '__setattr__']\n",
            "['__sizeof__', '__str__', '__subclasshook__', 'capitalize', 'casefold']\n",
            "['center', 'count', 'encode', 'endswith', 'expandtabs']\n",
            "['find', 'format', 'format_map', 'index', 'isalnum']\n",
            "['isalpha', 'isascii', 'isdecimal', 'isdigit', 'isidentifier']\n",
            "['islower', 'isnumeric', 'isprintable', 'isspace', 'istitle']\n",
            "['isupper', 'join', 'ljust', 'lower', 'lstrip']\n",
            "['maketrans', 'partition', 'replace', 'rfind', 'rindex']\n",
            "['rjust', 'rpartition', 'rsplit', 'rstrip', 'split']\n",
            "['splitlines', 'startswith', 'strip', 'swapcase', 'title']\n",
            "['translate', 'upper', 'zfill']\n"
          ]
        }
      ]
    },
    {
      "cell_type": "code",
      "source": [
        "# возвращает встроенная функция-конструктор str()\n",
        "str(1),str((1,2,3,4,5,6,7)),str(list())"
      ],
      "metadata": {
        "colab": {
          "base_uri": "https://localhost:8080/"
        },
        "id": "7e51_wUJbUx3",
        "outputId": "0b343a58-cb07-4019-98a0-99c3ba03a694"
      },
      "execution_count": 16,
      "outputs": [
        {
          "output_type": "execute_result",
          "data": {
            "text/plain": [
              "('1', '(1, 2, 3, 4, 5, 6, 7)', '[]')"
            ]
          },
          "metadata": {},
          "execution_count": 16
        }
      ]
    },
    {
      "cell_type": "code",
      "source": [
        "# результат некоторых математических операций\n",
        "bin(25),type(bin(25)),hex(25),type(hex(25))"
      ],
      "metadata": {
        "colab": {
          "base_uri": "https://localhost:8080/"
        },
        "id": "PmBVNQrihOc_",
        "outputId": "6eb3bcad-23d0-4e28-c935-4bfbfc1a7447"
      },
      "execution_count": 17,
      "outputs": [
        {
          "output_type": "execute_result",
          "data": {
            "text/plain": [
              "('0b11001', str, '0x19', str)"
            ]
          },
          "metadata": {},
          "execution_count": 17
        }
      ]
    },
    {
      "cell_type": "code",
      "source": [
        "# срезы строк\n",
        "string = \"абвгдеё\"\n",
        "# slice(сколько сначала), slice(старт,финиш-1,шаг)\n",
        "string[slice(3)], string[slice(1,5,2)],\\\n",
        "string[:3], string[1:5:2]"
      ],
      "metadata": {
        "colab": {
          "base_uri": "https://localhost:8080/"
        },
        "id": "rVcStfkAVZRZ",
        "outputId": "e0431221-74c5-49c6-aabd-25fe3e15e8b0"
      },
      "execution_count": 18,
      "outputs": [
        {
          "output_type": "execute_result",
          "data": {
            "text/plain": [
              "('абв', 'бг', 'абв', 'бг')"
            ]
          },
          "metadata": {},
          "execution_count": 18
        }
      ]
    },
    {
      "cell_type": "code",
      "source": [
        "# в обратном порядке, палиндром\n",
        "string = \"радар\"\n",
        "string[::-1], string == string[::-1]"
      ],
      "metadata": {
        "colab": {
          "base_uri": "https://localhost:8080/"
        },
        "id": "5kpfASjUWkb3",
        "outputId": "cab04e0c-31c0-4609-e483-39e006588bf0"
      },
      "execution_count": 19,
      "outputs": [
        {
          "output_type": "execute_result",
          "data": {
            "text/plain": [
              "('радар', True)"
            ]
          },
          "metadata": {},
          "execution_count": 19
        }
      ]
    },
    {
      "cell_type": "code",
      "source": [
        "# соединение и повторение\n",
        "2*'abc '+3*'def' 'ghi '"
      ],
      "metadata": {
        "colab": {
          "base_uri": "https://localhost:8080/",
          "height": 58
        },
        "id": "cnR0y6poMe_m",
        "outputId": "8fb425ee-397b-40fa-c489-fc30e3c7e909"
      },
      "execution_count": 20,
      "outputs": [
        {
          "output_type": "execute_result",
          "data": {
            "text/plain": [
              "'abc abc defghi defghi defghi '"
            ],
            "application/vnd.google.colaboratory.intrinsic+json": {
              "type": "string"
            }
          },
          "metadata": {},
          "execution_count": 20
        }
      ]
    },
    {
      "cell_type": "code",
      "source": [
        "# совпадение и принадлежность\n",
        "'a' == 'abc','a' != 'abc',\\\n",
        "'d' in 'abc','d' not in 'abc'"
      ],
      "metadata": {
        "colab": {
          "base_uri": "https://localhost:8080/"
        },
        "id": "7z-FO_b2tBb6",
        "outputId": "c4839854-9d6b-4fc4-c0ca-766da3b24554"
      },
      "execution_count": 21,
      "outputs": [
        {
          "output_type": "execute_result",
          "data": {
            "text/plain": [
              "(False, True, False, True)"
            ]
          },
          "metadata": {},
          "execution_count": 21
        }
      ]
    },
    {
      "cell_type": "code",
      "source": [
        "# с переменными, а не с литералами\n",
        "a,abc = 'a','abc'\n",
        "a is abc,a is not abc"
      ],
      "metadata": {
        "colab": {
          "base_uri": "https://localhost:8080/"
        },
        "id": "MR66x8UZMhhs",
        "outputId": "ab906dc3-d059-4de3-dd85-f50c795f8bfa"
      },
      "execution_count": 22,
      "outputs": [
        {
          "output_type": "execute_result",
          "data": {
            "text/plain": [
              "(False, True)"
            ]
          },
          "metadata": {},
          "execution_count": 22
        }
      ]
    },
    {
      "cell_type": "code",
      "source": [
        "# изменение объекта генератором\n",
        "string = \"123довод321\"\n",
        "gen = (x for x in string if not x.isdigit())\n",
        "type(gen),''.join(gen)"
      ],
      "metadata": {
        "colab": {
          "base_uri": "https://localhost:8080/"
        },
        "id": "PUTifF7DfzMr",
        "outputId": "30face55-bbd0-4ca7-842a-6324556c312c"
      },
      "execution_count": 23,
      "outputs": [
        {
          "output_type": "execute_result",
          "data": {
            "text/plain": [
              "(generator, 'довод')"
            ]
          },
          "metadata": {},
          "execution_count": 23
        }
      ]
    },
    {
      "cell_type": "code",
      "source": [
        "# применение анонимной функции\n",
        "string = \"123ротор321\"\n",
        "''.join(filter(lambda x: not x.isdigit(), string))"
      ],
      "metadata": {
        "colab": {
          "base_uri": "https://localhost:8080/",
          "height": 58
        },
        "id": "HfIF1myOgySl",
        "outputId": "6befaba1-c7ab-4a95-ba41-0df519e00c07"
      },
      "execution_count": 24,
      "outputs": [
        {
          "output_type": "execute_result",
          "data": {
            "text/plain": [
              "'ротор'"
            ],
            "application/vnd.google.colaboratory.intrinsic+json": {
              "type": "string"
            }
          },
          "metadata": {},
          "execution_count": 24
        }
      ]
    },
    {
      "cell_type": "code",
      "source": [
        "# обработка с помощью регулярных выражений\n",
        "import re\n",
        "string = \"123доход321\"\n",
        "pattern = r'[0-9]'\n",
        "re.sub(pattern,'',string),re.sub(pattern,'@',string,3),\\\n",
        "re.split('2',string),re.split('2',string,1)"
      ],
      "metadata": {
        "colab": {
          "base_uri": "https://localhost:8080/"
        },
        "id": "Bs7azQs2asYE",
        "outputId": "b4f91098-76d8-4825-cfce-8914e9bb5acf"
      },
      "execution_count": 25,
      "outputs": [
        {
          "output_type": "execute_result",
          "data": {
            "text/plain": [
              "('доход', '@@@доход321', ['1', '3доход3', '1'], ['1', '3доход321'])"
            ]
          },
          "metadata": {},
          "execution_count": 25
        }
      ]
    },
    {
      "cell_type": "code",
      "source": [
        "# проверка на наличие идентификаторов и ключевых слов\n",
        "from keyword import iskeyword\n",
        "'текст'.isidentifier(), iskeyword('текст'),\\\n",
        "'string'.isidentifier(), iskeyword('string'),\\\n",
        "'len'.isidentifier(), iskeyword('len'),\\\n",
        "'in'.isidentifier(), iskeyword('in')"
      ],
      "metadata": {
        "colab": {
          "base_uri": "https://localhost:8080/"
        },
        "id": "xxKJRDDvhUUC",
        "outputId": "f7f281b5-6154-41f7-fb39-6aafc884870f"
      },
      "execution_count": 26,
      "outputs": [
        {
          "output_type": "execute_result",
          "data": {
            "text/plain": [
              "(True, False, True, False, True, False, True, True)"
            ]
          },
          "metadata": {},
          "execution_count": 26
        }
      ]
    },
    {
      "cell_type": "code",
      "source": [
        "# может быть идентификатором\n",
        "len = len('123'); len"
      ],
      "metadata": {
        "colab": {
          "base_uri": "https://localhost:8080/",
          "height": 57
        },
        "id": "gPi8-6sehW11",
        "outputId": "4c52487d-c310-4ae8-bca4-4c53c6bff2a7"
      },
      "execution_count": 27,
      "outputs": [
        {
          "output_type": "execute_result",
          "data": {
            "text/plain": [
              "3"
            ],
            "image/png": "[encoded data removed]",
            "text/latex": "$\\displaystyle 3$"
          },
          "metadata": {},
          "execution_count": 27
        }
      ]
    },
    {
      "cell_type": "code",
      "source": [
        "# переходит в другие типы\n",
        "bool(''),bool('a'),bool('1'),int('1'),float('1.1')"
      ],
      "metadata": {
        "colab": {
          "base_uri": "https://localhost:8080/"
        },
        "id": "-GAGnoSer6fz",
        "outputId": "391c1223-c47a-409e-bcb2-1c1370fe5153"
      },
      "execution_count": 28,
      "outputs": [
        {
          "output_type": "execute_result",
          "data": {
            "text/plain": [
              "(False, True, True, 1, 1.1)"
            ]
          },
          "metadata": {},
          "execution_count": 28
        }
      ]
    },
    {
      "cell_type": "code",
      "source": [
        "# распадается на элементы-символы\n",
        "list(string), tuple(string), set(string)"
      ],
      "metadata": {
        "colab": {
          "base_uri": "https://localhost:8080/"
        },
        "id": "ZxOQycLHi96D",
        "outputId": "c10ee4dd-a109-452a-ad9f-5f28ca6790e4"
      },
      "execution_count": 29,
      "outputs": [
        {
          "output_type": "execute_result",
          "data": {
            "text/plain": [
              "(['1', '2', '3', 'д', 'о', 'х', 'о', 'д', '3', '2', '1'],\n",
              " ('1', '2', '3', 'д', 'о', 'х', 'о', 'д', '3', '2', '1'),\n",
              " {'1', '2', '3', 'д', 'о', 'х'})"
            ]
          },
          "metadata": {},
          "execution_count": 29
        }
      ]
    },
    {
      "cell_type": "code",
      "source": [
        "# огромное количество встроенных методов\n",
        "trans1 = {65:122,97:90,122:66,90:98}\n",
        "trans2 = {ord('A'):ord('z'),ord('a'):ord('Z'),\n",
        "          ord('Z'):ord('b'),ord('z'):ord('B')}\n",
        "st=\"AAAaaaZZZzzz\"\n",
        "st,st.translate(trans1),st.translate(trans2)"
      ],
      "metadata": {
        "colab": {
          "base_uri": "https://localhost:8080/"
        },
        "id": "7_UDPc7osmPC",
        "outputId": "917b30da-7753-4168-b225-0bf48f20eb55"
      },
      "execution_count": 30,
      "outputs": [
        {
          "output_type": "execute_result",
          "data": {
            "text/plain": [
              "('AAAaaaZZZzzz', 'zzzZZZbbbBBB', 'zzzZZZbbbBBB')"
            ]
          },
          "metadata": {},
          "execution_count": 30
        }
      ]
    },
    {
      "cell_type": "code",
      "source": [
        "# служебные символы можно игнорировать `\\`\n",
        "print('abc\\tdef','abc\\\\tdef',sep='||')\n",
        "print('abc\" \"def','abc\\' \\'def',sep='||')\n",
        "# r-строки \n",
        "# исключающие последовательности не транслируются\n",
        "print(r'abc\\tdef',R'abc\\' \\'def',sep='||')"
      ],
      "metadata": {
        "colab": {
          "base_uri": "https://localhost:8080/"
        },
        "id": "WZns0OpqB1C2",
        "outputId": "a5761de9-c24a-472c-ce96-4a111463146c"
      },
      "execution_count": 31,
      "outputs": [
        {
          "output_type": "stream",
          "name": "stdout",
          "text": [
            "abc\tdef||abc\\tdef\n",
            "abc\" \"def||abc' 'def\n",
            "abc\\tdef||abc\\' \\'def\n"
          ]
        }
      ]
    },
    {
      "cell_type": "code",
      "source": [
        "print(\"oct: \\150\\145\\154\\154\\157, hex: \\x68\\x65\\x6c\\x6c\\x6f\")\n",
        "print(r\"oct: \\147\\145\\154\\154\\157, hex: \\x48\\x65\\x6c\\x6c\\x6f\")\n",
        "print('\\u2192 \\N{rightwards arrow}')\n",
        "print(r'\\u2192 \\N{rightwards arrow}')\n",
        "print(\"hello \\bhello\", R\"hello \\bhello\")"
      ],
      "metadata": {
        "colab": {
          "base_uri": "https://localhost:8080/"
        },
        "id": "8BNjnNMKn1UU",
        "outputId": "bd3a21ca-b060-4e89-839c-a99ac7c5f5bd"
      },
      "execution_count": 32,
      "outputs": [
        {
          "output_type": "stream",
          "name": "stdout",
          "text": [
            "oct: hello, hex: hello\n",
            "oct: \\147\\145\\154\\154\\157, hex: \\x48\\x65\\x6c\\x6c\\x6f\n",
            "→ →\n",
            "\\u2192 \\N{rightwards arrow}\n",
            "hello \bhello hello \\bhello\n"
          ]
        }
      ]
    },
    {
      "cell_type": "code",
      "source": [
        "# различные стили форматирования\n",
        "print(\"int: %d, oct: %o, hex: %x\"%(3*(65,)))"
      ],
      "metadata": {
        "colab": {
          "base_uri": "https://localhost:8080/"
        },
        "id": "Bv_xUcTHvxWi",
        "outputId": "f7caba73-fc7f-4a29-ee38-5f74c97ac377"
      },
      "execution_count": 33,
      "outputs": [
        {
          "output_type": "stream",
          "name": "stdout",
          "text": [
            "int: 65, oct: 101, hex: 41\n"
          ]
        }
      ]
    },
    {
      "cell_type": "code",
      "source": [
        "# метод format()\n",
        "'{:.2f}'.format(3.999)"
      ],
      "metadata": {
        "colab": {
          "base_uri": "https://localhost:8080/",
          "height": 58
        },
        "id": "RLka-T3U3dYy",
        "outputId": "dec11495-5514-4170-f0d3-dd2c7947e899"
      },
      "execution_count": 34,
      "outputs": [
        {
          "output_type": "execute_result",
          "data": {
            "text/plain": [
              "'4.00'"
            ],
            "application/vnd.google.colaboratory.intrinsic+json": {
              "type": "string"
            }
          },
          "metadata": {},
          "execution_count": 34
        }
      ]
    },
    {
      "cell_type": "code",
      "source": [
        "# f-string\n",
        "from datetime import datetime\n",
        "now = datetime.now().strftime(\"%b/%d/%Y - %H:%M:%S\")\n",
        "f'{now = }'"
      ],
      "metadata": {
        "colab": {
          "base_uri": "https://localhost:8080/",
          "height": 58
        },
        "id": "Q-_oQo4O2BCc",
        "outputId": "c5fbeeab-037b-4296-aa60-7d2ce6509624"
      },
      "execution_count": 35,
      "outputs": [
        {
          "output_type": "execute_result",
          "data": {
            "text/plain": [
              "\"now = 'Dec/24/2022 - 14:56:57'\""
            ],
            "application/vnd.google.colaboratory.intrinsic+json": {
              "type": "string"
            }
          },
          "metadata": {},
          "execution_count": 35
        }
      ]
    },
    {
      "cell_type": "markdown",
      "source": [
        "## Числовые (`Numeric`: `int`, `float`, `complex`)\n",
        "- целочисленные\n",
        "- вещественные\n",
        "- комплексные\n",
        "\n",
        "!в различных системах счисления"
      ],
      "metadata": {
        "id": "S-mNUPXOekAW"
      }
    },
    {
      "cell_type": "code",
      "source": [
        "# числовой объект\n",
        "for n in [1, 1., 1+1j]:\n",
        "    for el in [dir(n)[i:i+5] for i in range(0,75,5)]:\n",
        "        print(el)\n",
        "    print()"
      ],
      "metadata": {
        "colab": {
          "base_uri": "https://localhost:8080/"
        },
        "id": "cezPErMDGgX9",
        "outputId": "b27c955b-afe7-4af7-f315-b075bf660180"
      },
      "execution_count": 36,
      "outputs": [
        {
          "output_type": "stream",
          "name": "stdout",
          "text": [
            "['__abs__', '__add__', '__and__', '__bool__', '__ceil__']\n",
            "['__class__', '__delattr__', '__dir__', '__divmod__', '__doc__']\n",
            "['__eq__', '__float__', '__floor__', '__floordiv__', '__format__']\n",
            "['__ge__', '__getattribute__', '__getnewargs__', '__gt__', '__hash__']\n",
            "['__index__', '__init__', '__init_subclass__', '__int__', '__invert__']\n",
            "['__le__', '__lshift__', '__lt__', '__mod__', '__mul__']\n",
            "['__ne__', '__neg__', '__new__', '__or__', '__pos__']\n",
            "['__pow__', '__radd__', '__rand__', '__rdivmod__', '__reduce__']\n",
            "['__reduce_ex__', '__repr__', '__rfloordiv__', '__rlshift__', '__rmod__']\n",
            "['__rmul__', '__ror__', '__round__', '__rpow__', '__rrshift__']\n",
            "['__rshift__', '__rsub__', '__rtruediv__', '__rxor__', '__setattr__']\n",
            "['__sizeof__', '__str__', '__sub__', '__subclasshook__', '__truediv__']\n",
            "['__trunc__', '__xor__', 'as_integer_ratio', 'bit_length', 'conjugate']\n",
            "['denominator', 'from_bytes', 'imag', 'numerator', 'real']\n",
            "['to_bytes']\n",
            "\n",
            "['__abs__', '__add__', '__bool__', '__class__', '__delattr__']\n",
            "['__dir__', '__divmod__', '__doc__', '__eq__', '__float__']\n",
            "['__floordiv__', '__format__', '__ge__', '__getattribute__', '__getformat__']\n",
            "['__getnewargs__', '__gt__', '__hash__', '__init__', '__init_subclass__']\n",
            "['__int__', '__le__', '__lt__', '__mod__', '__mul__']\n",
            "['__ne__', '__neg__', '__new__', '__pos__', '__pow__']\n",
            "['__radd__', '__rdivmod__', '__reduce__', '__reduce_ex__', '__repr__']\n",
            "['__rfloordiv__', '__rmod__', '__rmul__', '__round__', '__rpow__']\n",
            "['__rsub__', '__rtruediv__', '__set_format__', '__setattr__', '__sizeof__']\n",
            "['__str__', '__sub__', '__subclasshook__', '__truediv__', '__trunc__']\n",
            "['as_integer_ratio', 'conjugate', 'fromhex', 'hex', 'imag']\n",
            "['is_integer', 'real']\n",
            "[]\n",
            "[]\n",
            "[]\n",
            "\n",
            "['__abs__', '__add__', '__bool__', '__class__', '__delattr__']\n",
            "['__dir__', '__divmod__', '__doc__', '__eq__', '__float__']\n",
            "['__floordiv__', '__format__', '__ge__', '__getattribute__', '__getnewargs__']\n",
            "['__gt__', '__hash__', '__init__', '__init_subclass__', '__int__']\n",
            "['__le__', '__lt__', '__mod__', '__mul__', '__ne__']\n",
            "['__neg__', '__new__', '__pos__', '__pow__', '__radd__']\n",
            "['__rdivmod__', '__reduce__', '__reduce_ex__', '__repr__', '__rfloordiv__']\n",
            "['__rmod__', '__rmul__', '__rpow__', '__rsub__', '__rtruediv__']\n",
            "['__setattr__', '__sizeof__', '__str__', '__sub__', '__subclasshook__']\n",
            "['__truediv__', 'conjugate', 'imag', 'real']\n",
            "[]\n",
            "[]\n",
            "[]\n",
            "[]\n",
            "[]\n",
            "\n"
          ]
        }
      ]
    },
    {
      "cell_type": "code",
      "source": [
        "# атрибуты объекта\n",
        "(2+3j).real,(2+3j).imag,(1+3j).__class__"
      ],
      "metadata": {
        "colab": {
          "base_uri": "https://localhost:8080/"
        },
        "id": "auaFE-eievkr",
        "outputId": "e0a005c6-6b35-47e6-846a-aa9a3c47543a"
      },
      "execution_count": 37,
      "outputs": [
        {
          "output_type": "execute_result",
          "data": {
            "text/plain": [
              "(2.0, 3.0, complex)"
            ]
          },
          "metadata": {},
          "execution_count": 37
        }
      ]
    },
    {
      "cell_type": "code",
      "source": [
        "# количество разрядов натурального числа ограничено \n",
        "# только системой, которой вы пользуетесь\n",
        "str_num = 10*'1234567890'\n",
        "print(int(str_num)*1000)\n",
        "del str_num"
      ],
      "metadata": {
        "colab": {
          "base_uri": "https://localhost:8080/"
        },
        "id": "qzXlZBBAldi3",
        "outputId": "ac8b7353-8c12-4b41-a69f-6ad23b3be1f1"
      },
      "execution_count": 38,
      "outputs": [
        {
          "output_type": "stream",
          "name": "stdout",
          "text": [
            "1234567890123456789012345678901234567890123456789012345678901234567890123456789012345678901234567890000\n"
          ]
        }
      ]
    },
    {
      "cell_type": "code",
      "source": [
        "# по умолчанию - 10, есть бинарная, восьмеричная, шестнадцатеричная\n",
        "int('11'),int('11',base=10), \\\n",
        "int('11',base=2),int('11',base=8),int('11',base=16)"
      ],
      "metadata": {
        "id": "7jTSaDBXfUKv",
        "colab": {
          "base_uri": "https://localhost:8080/",
          "height": 57
        },
        "outputId": "84cf64c6-14e1-4c1b-f518-51c12b03eb85"
      },
      "execution_count": 39,
      "outputs": [
        {
          "output_type": "execute_result",
          "data": {
            "text/plain": [
              "(11, 11, 3, 9, 17)"
            ],
            "image/png": "[encoded data removed]",
            "text/latex": "$\\displaystyle \\left( 11, \\  11, \\  3, \\  9, \\  17\\right)$"
          },
          "metadata": {},
          "execution_count": 39
        }
      ]
    },
    {
      "cell_type": "code",
      "source": [
        "# целочисленный, бинарный, восьмеричный и шестнадцатеричный литералы\n",
        "numbers = [11,0b11,0B11,0o11,0O11,0x11,0X11]\n",
        "for n in numbers:\n",
        "    print('|',n,(type(n)),sep='',end='|')"
      ],
      "metadata": {
        "id": "rPoOuYyogdG2",
        "colab": {
          "base_uri": "https://localhost:8080/"
        },
        "outputId": "9755ecdd-74c2-474d-bfe1-6595a2fff424"
      },
      "execution_count": 40,
      "outputs": [
        {
          "output_type": "stream",
          "name": "stdout",
          "text": [
            "|11<class 'int'>||3<class 'int'>||3<class 'int'>||9<class 'int'>||9<class 'int'>||17<class 'int'>||17<class 'int'>|"
          ]
        }
      ]
    },
    {
      "cell_type": "code",
      "source": [
        "# ограничения для вещественных чисел\n",
        "# самые большие по модулю значения\n",
        "1.79e308,1.799e308,1.8e308,-1.8e308"
      ],
      "metadata": {
        "id": "4dgsYs7Zgdia",
        "colab": {
          "base_uri": "https://localhost:8080/",
          "height": 60
        },
        "outputId": "c1631347-cbca-4383-b529-a864adf71862"
      },
      "execution_count": 41,
      "outputs": [
        {
          "output_type": "execute_result",
          "data": {
            "text/plain": [
              "(1.79e+308, inf, inf, -inf)"
            ],
            "image/png": "[encoded data removed]",
            "text/latex": "$\\displaystyle \\left( 1.79 \\cdot 10^{308}, \\  \\infty, \\  \\infty, \\  -\\infty\\right)$"
          },
          "metadata": {},
          "execution_count": 41
        }
      ]
    },
    {
      "cell_type": "code",
      "source": [
        "# самые близкие к нулю значения\n",
        "print(1e-323,8e-324,7e-324,5e-324,3e-324,2e-324,1e-325)"
      ],
      "metadata": {
        "colab": {
          "base_uri": "https://localhost:8080/"
        },
        "id": "Wa4UiJU9oZA8",
        "outputId": "f323e01d-4842-4972-8b25-29afab5acd26"
      },
      "execution_count": 42,
      "outputs": [
        {
          "output_type": "stream",
          "name": "stdout",
          "text": [
            "1e-323 1e-323 5e-324 5e-324 5e-324 0.0 0.0\n"
          ]
        }
      ]
    },
    {
      "cell_type": "code",
      "source": [
        "# математические операторы\n",
        "+2,-2,5+7,4-1,2*10,2**10,9/5,9//5,9%5"
      ],
      "metadata": {
        "colab": {
          "base_uri": "https://localhost:8080/",
          "height": 57
        },
        "id": "MtTgKTkSxSRn",
        "outputId": "80709da1-4c42-4e23-e77c-b5f598425167"
      },
      "execution_count": 43,
      "outputs": [
        {
          "output_type": "execute_result",
          "data": {
            "text/plain": [
              "(2, -2, 12, 3, 20, 1024, 1.8, 1, 4)"
            ],
            "image/png": "[encoded data removed]",
            "text/latex": "$\\displaystyle \\left( 2, \\  -2, \\  12, \\  3, \\  20, \\  1024, \\  1.8, \\  1, \\  4\\right)$"
          },
          "metadata": {},
          "execution_count": 43
        }
      ]
    },
    {
      "cell_type": "code",
      "source": [
        "# встроенные функции\n",
        "abs(-3),abs(-3+4j),round(1.1111,2),pow(2,10),divmod(9,5)"
      ],
      "metadata": {
        "colab": {
          "base_uri": "https://localhost:8080/",
          "height": 57
        },
        "id": "D5EPrZbFyElz",
        "outputId": "b01580e7-53bd-4456-e8bb-14dc3672b120"
      },
      "execution_count": 44,
      "outputs": [
        {
          "output_type": "execute_result",
          "data": {
            "text/plain": [
              "(3, 5.0, 1.11, 1024, (1, 4))"
            ],
            "image/png": "[encoded data removed]",
            "text/latex": "$\\displaystyle \\left( 3, \\  5.0, \\  1.11, \\  1024, \\  \\left( 1, \\  4\\right)\\right)$"
          },
          "metadata": {},
          "execution_count": 44
        }
      ]
    },
    {
      "cell_type": "code",
      "source": [
        "5*divmod(9,5)[0]+divmod(9,5)[1]==9"
      ],
      "metadata": {
        "colab": {
          "base_uri": "https://localhost:8080/"
        },
        "id": "GINgz5e5z0yr",
        "outputId": "85648219-ddd7-452e-a2ca-ee11c1162f9a"
      },
      "execution_count": 45,
      "outputs": [
        {
          "output_type": "execute_result",
          "data": {
            "text/plain": [
              "True"
            ]
          },
          "metadata": {},
          "execution_count": 45
        }
      ]
    },
    {
      "cell_type": "code",
      "source": [
        "re,im=3,-4\n",
        "complex(re,im),re+im*1j,complex(re,im)==re+im*1j"
      ],
      "metadata": {
        "colab": {
          "base_uri": "https://localhost:8080/"
        },
        "id": "1Ig8GxFD2lAB",
        "outputId": "5dffd30b-a97e-4a41-d590-252520084aab"
      },
      "execution_count": 46,
      "outputs": [
        {
          "output_type": "execute_result",
          "data": {
            "text/plain": [
              "((3-4j), (3-4j), True)"
            ]
          },
          "metadata": {},
          "execution_count": 46
        }
      ]
    },
    {
      "cell_type": "code",
      "source": [
        "# методы объекта\n",
        "(21).as_integer_ratio(),complex(3,4).conjugate(),\\\n",
        "(35.41).hex(),float.fromhex('0x1.1b47ae147ae14p+5')"
      ],
      "metadata": {
        "colab": {
          "base_uri": "https://localhost:8080/"
        },
        "id": "D1Es722I3S5U",
        "outputId": "e91b8e57-3f93-4388-9db7-1a81723049cd"
      },
      "execution_count": 47,
      "outputs": [
        {
          "output_type": "execute_result",
          "data": {
            "text/plain": [
              "((21, 1), (3-4j), '0x1.1b47ae147ae14p+5', 35.41)"
            ]
          },
          "metadata": {},
          "execution_count": 47
        }
      ]
    },
    {
      "cell_type": "code",
      "source": [
        "# бинарное представление\n",
        "number = -124\n",
        "bin(number),bin(number).lstrip('-0b'),\\\n",
        "number.bit_length(),-0b1111100\n",
        "# number.bit_count() # python 3.10"
      ],
      "metadata": {
        "colab": {
          "base_uri": "https://localhost:8080/"
        },
        "id": "Bz1WMn3ANsRT",
        "outputId": "7635cbc6-a1ca-49d9-eb9a-764d82e26e38"
      },
      "execution_count": 48,
      "outputs": [
        {
          "output_type": "execute_result",
          "data": {
            "text/plain": [
              "('-0b1111100', '1111100', 7, -124)"
            ]
          },
          "metadata": {},
          "execution_count": 48
        }
      ]
    },
    {
      "cell_type": "code",
      "source": [
        "# побитовое представление\n",
        "bin(4096).lstrip('-0b'),bin(4097).lstrip('-0b'),\\\n",
        "(4096).to_bytes(2,byteorder='big'),\\\n",
        "(4097).to_bytes(2,byteorder='big'),\\\n",
        "(1024).to_bytes(10,byteorder='big'),\\\n",
        "(-1024).to_bytes(10,byteorder='big',signed=True)"
      ],
      "metadata": {
        "colab": {
          "base_uri": "https://localhost:8080/"
        },
        "id": "c2d_DtSBQ4RL",
        "outputId": "e97d7213-d775-4cda-9b07-1dbfff276247"
      },
      "execution_count": 49,
      "outputs": [
        {
          "output_type": "execute_result",
          "data": {
            "text/plain": [
              "('1000000000000',\n",
              " '1000000000001',\n",
              " b'\\x10\\x00',\n",
              " b'\\x10\\x01',\n",
              " b'\\x00\\x00\\x00\\x00\\x00\\x00\\x00\\x00\\x04\\x00',\n",
              " b'\\xff\\xff\\xff\\xff\\xff\\xff\\xff\\xff\\xfc\\x00')"
            ]
          },
          "metadata": {},
          "execution_count": 49
        }
      ]
    },
    {
      "cell_type": "code",
      "source": [
        "(65).to_bytes(1,byteorder='little'),\\\n",
        "(128).to_bytes(1,byteorder='little')"
      ],
      "metadata": {
        "colab": {
          "base_uri": "https://localhost:8080/"
        },
        "id": "f59znuKcWdaR",
        "outputId": "c48f0113-63d0-4438-ebb2-ac4e9f016632"
      },
      "execution_count": 50,
      "outputs": [
        {
          "output_type": "execute_result",
          "data": {
            "text/plain": [
              "(b'A', b'\\x80')"
            ]
          },
          "metadata": {},
          "execution_count": 50
        }
      ]
    },
    {
      "cell_type": "code",
      "source": [
        "# с помощью модулей - все известные математические преобразования\n",
        "import math\n",
        "math.cos(math.pi),math.sin(math.degrees(math.pi/2)),\\\n",
        "math.degrees(math.pi/2)"
      ],
      "metadata": {
        "colab": {
          "base_uri": "https://localhost:8080/",
          "height": 57
        },
        "id": "tK5s79NS0LlG",
        "outputId": "09e19ea2-87fa-4ff8-af7a-edafe6c4aaa3"
      },
      "execution_count": 51,
      "outputs": [
        {
          "output_type": "execute_result",
          "data": {
            "text/plain": [
              "(-1.0, 0.8939966636005579, 90.0)"
            ],
            "image/png": "[encoded data removed]",
            "text/latex": "$\\displaystyle \\left( -1.0, \\  0.893996663600558, \\  90.0\\right)$"
          },
          "metadata": {},
          "execution_count": 51
        }
      ]
    },
    {
      "cell_type": "code",
      "source": [
        "math.sqrt(625),math.log(1),math.ceil(-7.2),math.ceil(7.2)"
      ],
      "metadata": {
        "colab": {
          "base_uri": "https://localhost:8080/",
          "height": 57
        },
        "id": "MHHlDK731gcR",
        "outputId": "5291d5a4-6234-4879-f465-202600f5ca72"
      },
      "execution_count": 52,
      "outputs": [
        {
          "output_type": "execute_result",
          "data": {
            "text/plain": [
              "(25.0, 0.0, -7, 8)"
            ],
            "image/png": "[encoded data removed]",
            "text/latex": "$\\displaystyle \\left( 25.0, \\  0.0, \\  -7, \\  8\\right)$"
          },
          "metadata": {},
          "execution_count": 52
        }
      ]
    },
    {
      "cell_type": "code",
      "source": [
        "# хэширование \n",
        "(2).__hash__(),(1024).__hash__(),\\\n",
        "(-2).__hash__(),(10**12).__hash__()"
      ],
      "metadata": {
        "colab": {
          "base_uri": "https://localhost:8080/",
          "height": 57
        },
        "id": "Df54PBDLgiO5",
        "outputId": "ccb9c0e0-c5c6-40a9-e626-6cc106bff2ac"
      },
      "execution_count": 53,
      "outputs": [
        {
          "output_type": "execute_result",
          "data": {
            "text/plain": [
              "(2, 1024, -2, 1000000000000)"
            ],
            "image/png": "[encoded data removed]",
            "text/latex": "$\\displaystyle \\left( 2, \\  1024, \\  -2, \\  1000000000000\\right)$"
          },
          "metadata": {},
          "execution_count": 53
        }
      ]
    }
  ]
}