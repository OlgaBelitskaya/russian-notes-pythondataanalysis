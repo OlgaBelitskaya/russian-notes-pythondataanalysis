{
  "nbformat": 4,
  "nbformat_minor": 0,
  "metadata": {
    "colab": {
      "provenance": []
    },
    "kernelspec": {
      "name": "python3",
      "display_name": "Python 3"
    },
    "language_info": {
      "name": "python"
    }
  },
  "cells": [
    {
      "cell_type": "markdown",
      "source": [
        "# 2.14 Множества и словари\n",
        "## `set`\n",
        "- итерируемые (можно состав пройти циклом)\n",
        "- контейнеры (содержат хэшируемые элементы)\n",
        "- неупорядоченные\n",
        "- изменяемые\n",
        "- элементы не могут повторяться\n",
        "- могут состоять из элементов разных типов\n",
        "## `frozenset`\n",
        "- итерируемые (можно состав пройти циклом)\n",
        "- контейнеры (содержат хэшируемые элементы)\n",
        "- неупорядоченные\n",
        "- неизменяемые\n",
        "- элементы и сам объект уникальны\n",
        "- могут состоять из элементов разных типов\n",
        "\n",
        "Действия\n",
        "- проверка принадлежности \n",
        "- математические операции \n",
        "    - пересечение\n",
        "    - объединение\n",
        "    - разность\n",
        "    - симметричная разность\n",
        "    - ..."
      ],
      "metadata": {
        "id": "yU_aEAPiwkot"
      }
    },
    {
      "cell_type": "code",
      "source": [
        "for el in [dir({1,2,3})[i:i+5] for i in range(0,55,5)]:\n",
        "    print(el)"
      ],
      "metadata": {
        "colab": {
          "base_uri": "https://localhost:8080/"
        },
        "id": "hxvN_lD4Vjyh",
        "outputId": "983f0660-df09-4f87-bcef-6f2fd4a7de45"
      },
      "execution_count": 1,
      "outputs": [
        {
          "output_type": "stream",
          "name": "stdout",
          "text": [
            "['__and__', '__class__', '__contains__', '__delattr__', '__dir__']\n",
            "['__doc__', '__eq__', '__format__', '__ge__', '__getattribute__']\n",
            "['__gt__', '__hash__', '__iand__', '__init__', '__init_subclass__']\n",
            "['__ior__', '__isub__', '__iter__', '__ixor__', '__le__']\n",
            "['__len__', '__lt__', '__ne__', '__new__', '__or__']\n",
            "['__rand__', '__reduce__', '__reduce_ex__', '__repr__', '__ror__']\n",
            "['__rsub__', '__rxor__', '__setattr__', '__sizeof__', '__str__']\n",
            "['__sub__', '__subclasshook__', '__xor__', 'add', 'clear']\n",
            "['copy', 'difference', 'difference_update', 'discard', 'intersection']\n",
            "['intersection_update', 'isdisjoint', 'issubset', 'issuperset', 'pop']\n",
            "['remove', 'symmetric_difference', 'symmetric_difference_update', 'union', 'update']\n"
          ]
        }
      ]
    },
    {
      "cell_type": "code",
      "source": [
        "for el in [dir(frozenset({1,2,3}))[i:i+5] for i in range(0,45,5)]:\n",
        "    print(el)"
      ],
      "metadata": {
        "colab": {
          "base_uri": "https://localhost:8080/"
        },
        "id": "czwNFDDCVnOo",
        "outputId": "6d9ad89d-91a0-4dcd-ba85-5c2d2bd542e4"
      },
      "execution_count": 2,
      "outputs": [
        {
          "output_type": "stream",
          "name": "stdout",
          "text": [
            "['__and__', '__class__', '__contains__', '__delattr__', '__dir__']\n",
            "['__doc__', '__eq__', '__format__', '__ge__', '__getattribute__']\n",
            "['__gt__', '__hash__', '__init__', '__init_subclass__', '__iter__']\n",
            "['__le__', '__len__', '__lt__', '__ne__', '__new__']\n",
            "['__or__', '__rand__', '__reduce__', '__reduce_ex__', '__repr__']\n",
            "['__ror__', '__rsub__', '__rxor__', '__setattr__', '__sizeof__']\n",
            "['__str__', '__sub__', '__subclasshook__', '__xor__', 'copy']\n",
            "['difference', 'intersection', 'isdisjoint', 'issubset', 'issuperset']\n",
            "['symmetric_difference', 'union']\n"
          ]
        }
      ]
    },
    {
      "cell_type": "markdown",
      "source": [
        "1) Назовите как можно больше способов создания множеств"
      ],
      "metadata": {
        "id": "MMOkoNVZ7HEK"
      }
    },
    {
      "cell_type": "code",
      "source": [
        "# перечислением\n",
        "set1 = {1,2,3,'♔','♕','♖','♗','♘','♙'}\n",
        "print(type(set1))"
      ],
      "metadata": {
        "colab": {
          "base_uri": "https://localhost:8080/"
        },
        "id": "5fWdHZnb6UnK",
        "outputId": "d051421b-a224-407f-b662-81c0262590d5"
      },
      "execution_count": 3,
      "outputs": [
        {
          "output_type": "stream",
          "name": "stdout",
          "text": [
            "<class 'set'>\n"
          ]
        }
      ]
    },
    {
      "cell_type": "code",
      "source": [
        "# встроенные функции-конструкторы\n",
        "# из списка удалены все повторяющиеся элементы\n",
        "set(),set(range(5)),set([1,2,3,4,5,1,2])"
      ],
      "metadata": {
        "colab": {
          "base_uri": "https://localhost:8080/"
        },
        "id": "C1bnXNsJJEyM",
        "outputId": "19a36bc9-179a-406b-e664-100490014a29"
      },
      "execution_count": 4,
      "outputs": [
        {
          "output_type": "execute_result",
          "data": {
            "text/plain": [
              "(set(), {0, 1, 2, 3, 4}, {1, 2, 3, 4, 5})"
            ]
          },
          "metadata": {},
          "execution_count": 4
        }
      ]
    },
    {
      "cell_type": "code",
      "source": [
        "a = 'фан-фан Тюльпан'\n",
        "print(a, set(a))\n",
        "print(' ' in set(a))"
      ],
      "metadata": {
        "colab": {
          "base_uri": "https://localhost:8080/"
        },
        "id": "-s-KNWeiPVEm",
        "outputId": "23653140-a13d-43a4-9e6f-1a848283920a"
      },
      "execution_count": 5,
      "outputs": [
        {
          "output_type": "stream",
          "name": "stdout",
          "text": [
            "фан-фан Тюльпан {' ', 'ф', 'л', 'н', 'ь', 'Т', '-', 'п', 'ю', 'а'}\n",
            "True\n"
          ]
        }
      ]
    },
    {
      "cell_type": "code",
      "source": [
        "# встроенная функция-конструктор frozenset()\n",
        "frozenset1 = frozenset(set1)\n",
        "print(type(frozenset1),frozenset1.__hash__())"
      ],
      "metadata": {
        "colab": {
          "base_uri": "https://localhost:8080/"
        },
        "id": "uaDbt9QtF4FH",
        "outputId": "37b5e05c-0c4e-451b-a828-f07a24cd02f1"
      },
      "execution_count": 6,
      "outputs": [
        {
          "output_type": "stream",
          "name": "stdout",
          "text": [
            "<class 'frozenset'> -2068685580440799151\n"
          ]
        }
      ]
    },
    {
      "cell_type": "code",
      "source": [
        "frozenset(),frozenset(range(5))"
      ],
      "metadata": {
        "colab": {
          "base_uri": "https://localhost:8080/"
        },
        "id": "C_hwvkeboZGo",
        "outputId": "068e3c4e-dc59-47bf-ab71-b50b0a0d600f"
      },
      "execution_count": 7,
      "outputs": [
        {
          "output_type": "execute_result",
          "data": {
            "text/plain": [
              "(frozenset(), frozenset({0, 1, 2, 3, 4}))"
            ]
          },
          "metadata": {},
          "execution_count": 7
        }
      ]
    },
    {
      "cell_type": "markdown",
      "source": [
        "2) Как можно найти пересечение множеств \n",
        "\n",
        "`{1,2,3,'♔','♕','♖','♗','♘','♙'}` и `set([1,2,3,4,5,1,2])`?"
      ],
      "metadata": {
        "id": "xrqzk0yU9ZW7"
      }
    },
    {
      "cell_type": "code",
      "source": [
        "set1 = {1,2,3,'♔','♕','♖','♗','♘','♙'}\n",
        "set2 = set([1,2,3,4,5,1,2])\n",
        "print(set1 & set2)\n",
        "print(set1.intersection(set2))\n",
        "set1 &= set2\n",
        "print(set1)"
      ],
      "metadata": {
        "id": "AHLzPBwK9YBZ",
        "colab": {
          "base_uri": "https://localhost:8080/"
        },
        "outputId": "07dc4c48-4369-47f0-f5c1-7db201a699dc"
      },
      "execution_count": 8,
      "outputs": [
        {
          "output_type": "stream",
          "name": "stdout",
          "text": [
            "{1, 2, 3}\n",
            "{1, 2, 3}\n",
            "{1, 2, 3}\n"
          ]
        }
      ]
    },
    {
      "cell_type": "markdown",
      "source": [
        "3) Что является объединением множеств \n",
        "\n",
        "`{1,2,3,'♔','♕','♖','♗','♘','♙'}` и `set([1,2,3,4,5,1,2])`?"
      ],
      "metadata": {
        "id": "N4AtQGWjLEQf"
      }
    },
    {
      "cell_type": "code",
      "source": [
        "set1 = {1,2,3,'♔','♕','♖','♗','♘','♙'}\n",
        "set2 = set([1,2,3,4,5,1,2])\n",
        "print(set1 | set2)\n",
        "print(set1.union(set2))\n",
        "set1 |= set2\n",
        "print(set1)"
      ],
      "metadata": {
        "colab": {
          "base_uri": "https://localhost:8080/"
        },
        "id": "l7MTovtKLD1y",
        "outputId": "318bcf50-25cd-47d3-c78d-c78dfbf7f6d4"
      },
      "execution_count": 9,
      "outputs": [
        {
          "output_type": "stream",
          "name": "stdout",
          "text": [
            "{'♔', 1, 2, 3, '♖', 4, 5, '♘', '♙', '♕', '♗'}\n",
            "{'♔', 1, 2, 3, '♖', 4, 5, '♘', '♙', '♕', '♗'}\n",
            "{'♔', 1, 2, 3, '♖', 4, 5, '♘', '♙', '♕', '♗'}\n"
          ]
        }
      ]
    },
    {
      "cell_type": "code",
      "source": [
        "set1 = {1,2,3,'♔','♕','♖','♗','♘','♙'}\n",
        "set2 = set([1,2,3,4,5,1,2])\n",
        "set1.update(set2)\n",
        "set1"
      ],
      "metadata": {
        "colab": {
          "base_uri": "https://localhost:8080/"
        },
        "id": "QCfoZ9porxJs",
        "outputId": "b098bb85-ac9d-4d3e-cd32-45bf32e6d0de"
      },
      "execution_count": 10,
      "outputs": [
        {
          "output_type": "execute_result",
          "data": {
            "text/plain": [
              "{1, 2, 3, 4, 5, '♔', '♕', '♖', '♗', '♘', '♙'}"
            ]
          },
          "metadata": {},
          "execution_count": 10
        }
      ]
    },
    {
      "cell_type": "markdown",
      "source": [
        "4) Приведите примеры с разностью и симметричной разностью множеств"
      ],
      "metadata": {
        "id": "F-xJNSQw-GD-"
      }
    },
    {
      "cell_type": "code",
      "source": [
        "set1,set2 = {1,2,3,4},{1,1,2}\n",
        "set3,set4 = {14,3,9,'a',True},{1,2,5,7,'a','dddd'}\n",
        "print (set1 - set2, set2 - set1)\n",
        "print (set3 - set4, set4 - set3)"
      ],
      "metadata": {
        "colab": {
          "base_uri": "https://localhost:8080/"
        },
        "id": "K3_qHySRUBWZ",
        "outputId": "fff68952-a2a5-4620-f6ee-62e25a75dd2c"
      },
      "execution_count": 11,
      "outputs": [
        {
          "output_type": "stream",
          "name": "stdout",
          "text": [
            "{3, 4} set()\n",
            "{9, 3, 14} {2, 5, 'dddd', 7}\n"
          ]
        }
      ]
    },
    {
      "cell_type": "code",
      "source": [
        "print(set1.difference(set2),set2.difference(set1))\n",
        "print(set3.difference(set4),set4.difference(set3))\n",
        "set1.difference(set2)==set2.difference(set1),\\\n",
        "set3.difference(set4)==set4.difference(set3)"
      ],
      "metadata": {
        "colab": {
          "base_uri": "https://localhost:8080/"
        },
        "id": "ALInUlY4XExK",
        "outputId": "87d466d4-a797-4a12-e3a0-f3c7bff01899"
      },
      "execution_count": 12,
      "outputs": [
        {
          "output_type": "stream",
          "name": "stdout",
          "text": [
            "{3, 4} set()\n",
            "{9, 3, 14} {2, 5, 'dddd', 7}\n"
          ]
        },
        {
          "output_type": "execute_result",
          "data": {
            "text/plain": [
              "(False, False)"
            ]
          },
          "metadata": {},
          "execution_count": 12
        }
      ]
    },
    {
      "cell_type": "code",
      "source": [
        "set1 = {1,2,3,'♔','♕','♖','♗','♘','♙'}\n",
        "set2 = set([1,2,3,4,5,1,2])\n",
        "print(set1.symmetric_difference(set2),set2.symmetric_difference(set1))\n",
        "print(set1^set2,set2^set1)\n",
        "set1.symmetric_difference(set2)==set2.symmetric_difference(set1),\\\n",
        "set1^set2==set2^set1"
      ],
      "metadata": {
        "colab": {
          "base_uri": "https://localhost:8080/"
        },
        "id": "L15ihRhZWlOt",
        "outputId": "53fe8500-43a8-469e-a152-d417138237bd"
      },
      "execution_count": 13,
      "outputs": [
        {
          "output_type": "stream",
          "name": "stdout",
          "text": [
            "{'♔', 4, 5, '♖', '♘', '♙', '♕', '♗'} {'♔', '♖', 4, 5, '♘', '♙', '♕', '♗'}\n",
            "{'♔', 4, 5, '♖', '♘', '♙', '♕', '♗'} {'♔', '♖', 4, 5, '♘', '♙', '♕', '♗'}\n"
          ]
        },
        {
          "output_type": "execute_result",
          "data": {
            "text/plain": [
              "(True, True)"
            ]
          },
          "metadata": {},
          "execution_count": 13
        }
      ]
    },
    {
      "cell_type": "markdown",
      "source": [
        "5) Как добавлять или удалять элементы множеств?"
      ],
      "metadata": {
        "id": "XjIOt3sY9Y1E"
      }
    },
    {
      "cell_type": "code",
      "source": [
        "set_ = {1, 2, 3}\n",
        "print(set_)\n",
        "set_.add('♔')\n",
        "print(set_)\n",
        "set_.remove('♔')\n",
        "print(set_)"
      ],
      "metadata": {
        "colab": {
          "base_uri": "https://localhost:8080/"
        },
        "id": "GOjgtSoV7VLN",
        "outputId": "67ce5209-1172-4d47-dbb5-d1d83e60133b"
      },
      "execution_count": 14,
      "outputs": [
        {
          "output_type": "stream",
          "name": "stdout",
          "text": [
            "{1, 2, 3}\n",
            "{'♔', 1, 2, 3}\n",
            "{1, 2, 3}\n"
          ]
        }
      ]
    },
    {
      "cell_type": "code",
      "source": [
        "# удаление элементов\n",
        "set1 = {1,2,3,'♔','♕','♖','♗','♘','♙'}; print(set1)\n",
        "set1.pop(); print(set1); set1.pop(); print(set1)\n",
        "set1.remove('♙'); print(set1)\n",
        "# нет ошибки даже если нет элемента\n",
        "set1.discard('♘'); print(set1); set1.discard(9); print(set1)\n",
        "set1.clear(); print(set1)"
      ],
      "metadata": {
        "colab": {
          "base_uri": "https://localhost:8080/"
        },
        "id": "jJoh5oiewuz2",
        "outputId": "ee9058f2-ece3-4d5a-c068-993f7418ca68"
      },
      "execution_count": 15,
      "outputs": [
        {
          "output_type": "stream",
          "name": "stdout",
          "text": [
            "{'♔', 1, 2, 3, '♖', '♘', '♙', '♕', '♗'}\n",
            "{1, 2, 3, '♖', '♘', '♙', '♕', '♗'}\n",
            "{2, 3, '♖', '♘', '♙', '♕', '♗'}\n",
            "{2, 3, '♖', '♘', '♕', '♗'}\n",
            "{2, 3, '♖', '♕', '♗'}\n",
            "{2, 3, '♖', '♕', '♗'}\n",
            "set()\n"
          ]
        }
      ]
    },
    {
      "cell_type": "code",
      "source": [
        "# добавление или копирование элементов\n",
        "set1 = {1,2,3,'♔','♕','♖','♗','♘','♙'}; print(set1)\n",
        "set1.add('a'); print(set1)\n",
        "set1 |= {'bb'}; print(set1)\n",
        "set1.update({4,5,3}); print(set1)\n",
        "set1 |= {5,6,7,0}; print(set1)\n",
        "set2 = set1.copy(); print(set2)"
      ],
      "metadata": {
        "colab": {
          "base_uri": "https://localhost:8080/"
        },
        "id": "cMNFwsf-wzO3",
        "outputId": "7a14dd73-dcc4-49b7-a27b-c03410a55630"
      },
      "execution_count": 16,
      "outputs": [
        {
          "output_type": "stream",
          "name": "stdout",
          "text": [
            "{'♔', 1, 2, 3, '♖', '♘', '♙', '♕', '♗'}\n",
            "{'♔', 1, 2, 3, '♖', 'a', '♘', '♙', '♕', '♗'}\n",
            "{'♔', 1, 2, 3, '♖', 'a', '♘', 'bb', '♙', '♕', '♗'}\n",
            "{'♔', 1, 2, 3, '♖', 'a', 4, '♘', 5, 'bb', '♙', '♕', '♗'}\n",
            "{'♔', 1, 2, 3, '♖', 'a', 4, '♘', 5, 0, 6, 7, 'bb', '♙', '♕', '♗'}\n",
            "{'♔', 1, 2, 3, '♖', 4, 5, 0, 6, 7, 'bb', '♙', '♗', 'a', '♘', '♕'}\n"
          ]
        }
      ]
    },
    {
      "cell_type": "code",
      "source": [
        "set1.remove(1)\n",
        "set1,set2"
      ],
      "metadata": {
        "colab": {
          "base_uri": "https://localhost:8080/"
        },
        "id": "RO68zDmexsTH",
        "outputId": "4faf4f4b-54c5-4e5c-ef5e-a62b2f698a3e"
      },
      "execution_count": 17,
      "outputs": [
        {
          "output_type": "execute_result",
          "data": {
            "text/plain": [
              "({0, 2, 3, 4, 5, 6, 7, 'a', 'bb', '♔', '♕', '♖', '♗', '♘', '♙'},\n",
              " {0, 1, 2, 3, 4, 5, 6, 7, 'a', 'bb', '♔', '♕', '♖', '♗', '♘', '♙'})"
            ]
          },
          "metadata": {},
          "execution_count": 17
        }
      ]
    },
    {
      "cell_type": "markdown",
      "source": [
        "6) Являются ли множества контейнерами?"
      ],
      "metadata": {
        "id": "3BKNuIJJ3tLD"
      }
    },
    {
      "cell_type": "code",
      "execution_count": 18,
      "metadata": {
        "colab": {
          "base_uri": "https://localhost:8080/"
        },
        "id": "TVm2s3QBv_oj",
        "outputId": "e508b6a1-4847-4014-d911-b07a488e2db9"
      },
      "outputs": [
        {
          "output_type": "execute_result",
          "data": {
            "text/plain": [
              "(True, True)"
            ]
          },
          "metadata": {},
          "execution_count": 18
        }
      ],
      "source": [
        "{'♔', '♕', '♖', '♗', '♘', '♙'}.__contains__('♖'),\\\n",
        "frozenset({'♔', '♕', '♖', '♗', '♘', '♙'}).__contains__('♖') "
      ]
    },
    {
      "cell_type": "code",
      "source": [
        "'♖' in {'♔', '♕', '♖', '♗', '♘', '♙'},\\\n",
        "'♖' in frozenset({'♔', '♕', '♖', '♗', '♘', '♙'})"
      ],
      "metadata": {
        "colab": {
          "base_uri": "https://localhost:8080/"
        },
        "id": "6s_vTXX7NMQa",
        "outputId": "1ba8135c-17e8-4538-aed7-972c4fa4f138"
      },
      "execution_count": 19,
      "outputs": [
        {
          "output_type": "execute_result",
          "data": {
            "text/plain": [
              "(True, True)"
            ]
          },
          "metadata": {},
          "execution_count": 19
        }
      ]
    },
    {
      "cell_type": "code",
      "source": [
        "set1 = {1,2,3,'♔','♕','♖','♗','♘','♙'}\n",
        "set2,set3 = {1,2,3,4,5},{'♔','♕'}\n",
        "set2.issubset(set1),set3.issubset(set1),\\\n",
        "set2 <= set1,set3 <= set1,\\\n",
        "set1.issuperset(set2),set1.issuperset(set3),\\\n",
        "set1 >= set2,set1 >= set3"
      ],
      "metadata": {
        "colab": {
          "base_uri": "https://localhost:8080/"
        },
        "id": "J3-5FzCIf7Bm",
        "outputId": "7665c8b7-651e-4db8-c58c-6b9e7d056cb2"
      },
      "execution_count": 20,
      "outputs": [
        {
          "output_type": "execute_result",
          "data": {
            "text/plain": [
              "(False, True, False, True, False, True, False, True)"
            ]
          },
          "metadata": {},
          "execution_count": 20
        }
      ]
    },
    {
      "cell_type": "markdown",
      "source": [
        "7) Состоит ли множество из хэшированных объектов \n",
        "\n",
        "(хэширование - определенная процедура в программировании,\n",
        "\n",
        "подтверждающая неизменность объекта)?"
      ],
      "metadata": {
        "id": "kmSoTenN5Lzs"
      }
    },
    {
      "cell_type": "code",
      "source": [
        "# не может состоять из изменяемых типов (например, списков)\n",
        "set1 = {'♔', '♕', '♖', '♗', '♘', '♙'}\n",
        "set2 = {(1,2,3), (2,3,4)}\n",
        "'♙'.__hash__(), set1.pop().__hash__(),\\\n",
        "(1,2,3).__hash__(),set2.pop().__hash__()"
      ],
      "metadata": {
        "colab": {
          "base_uri": "https://localhost:8080/"
        },
        "id": "UXGF7G2B4Ake",
        "outputId": "f9da5335-7b15-48d5-a50e-ed37532ecae9"
      },
      "execution_count": 21,
      "outputs": [
        {
          "output_type": "execute_result",
          "data": {
            "text/plain": [
              "(-6262653116459417452,\n",
              " 852453790059159296,\n",
              " 529344067295497451,\n",
              " 529344067295497451)"
            ]
          },
          "metadata": {},
          "execution_count": 21
        }
      ]
    },
    {
      "cell_type": "markdown",
      "source": [
        "8) Одинаковые ли типы у объектов set() и {}?\n",
        "\n"
      ],
      "metadata": {
        "id": "TsbZUJZKOM-C"
      }
    },
    {
      "cell_type": "code",
      "source": [
        "print(type(set()),type({}))"
      ],
      "metadata": {
        "colab": {
          "base_uri": "https://localhost:8080/"
        },
        "id": "F-OhYoIvOc0k",
        "outputId": "e1996e3d-3010-4c74-eb4e-0257b01878b0"
      },
      "execution_count": 22,
      "outputs": [
        {
          "output_type": "stream",
          "name": "stdout",
          "text": [
            "<class 'set'> <class 'dict'>\n"
          ]
        }
      ]
    },
    {
      "cell_type": "markdown",
      "source": [
        "9) Задайте неизменяемое множество из одного элемента"
      ],
      "metadata": {
        "id": "gtNIx-mljplJ"
      }
    },
    {
      "cell_type": "code",
      "source": [
        "set0 = frozenset({1})\n",
        "set0"
      ],
      "metadata": {
        "colab": {
          "base_uri": "https://localhost:8080/"
        },
        "id": "dgCbpLlPj43O",
        "outputId": "841df67a-808d-4159-8098-3cb7235240c1"
      },
      "execution_count": 23,
      "outputs": [
        {
          "output_type": "execute_result",
          "data": {
            "text/plain": [
              "frozenset({1})"
            ]
          },
          "metadata": {},
          "execution_count": 23
        }
      ]
    },
    {
      "cell_type": "markdown",
      "source": [
        "10) Проиллюстрируйте примерами различия между `set` и `frozenset`"
      ],
      "metadata": {
        "id": "lzO-4uY8Raa4"
      }
    },
    {
      "cell_type": "code",
      "source": [
        "# добавить или удалить элементы невозможно\n",
        "set1 = frozenset({1,2,3,'a'})\n",
        "set2 = frozenset({'a','b','c',3})\n",
        "# являются хэшируемыми объектами\n",
        "set1.__hash__(),set2.__hash__()"
      ],
      "metadata": {
        "colab": {
          "base_uri": "https://localhost:8080/"
        },
        "id": "rNfZs7M5RYVE",
        "outputId": "753b7b61-a6a4-49bc-bb62-573aa3fd8e33"
      },
      "execution_count": 24,
      "outputs": [
        {
          "output_type": "execute_result",
          "data": {
            "text/plain": [
              "(5498117805328950756, 9174814910698310472)"
            ]
          },
          "metadata": {},
          "execution_count": 24
        }
      ]
    },
    {
      "cell_type": "code",
      "source": [
        "# математические операции аналогичны\n",
        "set1 | set2, set1 & set2, set1 - set2, set1 ^ set2"
      ],
      "metadata": {
        "colab": {
          "base_uri": "https://localhost:8080/"
        },
        "id": "t9-OsuHMR94h",
        "outputId": "3384f915-6619-496e-e7c1-271b73a856cc"
      },
      "execution_count": 25,
      "outputs": [
        {
          "output_type": "execute_result",
          "data": {
            "text/plain": [
              "(frozenset({1, 2, 3, 'a', 'b', 'c'}),\n",
              " frozenset({3, 'a'}),\n",
              " frozenset({1, 2}),\n",
              " frozenset({1, 2, 'b', 'c'}))"
            ]
          },
          "metadata": {},
          "execution_count": 25
        }
      ]
    },
    {
      "cell_type": "markdown",
      "source": [
        "## `dict` - словари\n",
        "- проецирующий тип (ключи <-> значения)\n",
        "- контейнер\n",
        "- неупорядоченный объект\n",
        "- ключи \n",
        "    - только неизменяемые типы \n",
        "    - только уникальные (неповторяющиеся) объекты"
      ],
      "metadata": {
        "id": "fJaiuXT6YQEr"
      }
    },
    {
      "cell_type": "code",
      "source": [
        "for el in [dir({1:11,2:22,3:33})[i:i+5] for i in range(0,35,5)]:\n",
        "    print(el)"
      ],
      "metadata": {
        "colab": {
          "base_uri": "https://localhost:8080/"
        },
        "id": "NNQs5O_wYPdt",
        "outputId": "383cf7c6-72b3-42cc-854a-0d95bd17c048"
      },
      "execution_count": 26,
      "outputs": [
        {
          "output_type": "stream",
          "name": "stdout",
          "text": [
            "['__class__', '__contains__', '__delattr__', '__delitem__', '__dir__']\n",
            "['__doc__', '__eq__', '__format__', '__ge__', '__getattribute__']\n",
            "['__getitem__', '__gt__', '__hash__', '__init__', '__init_subclass__']\n",
            "['__iter__', '__le__', '__len__', '__lt__', '__ne__']\n",
            "['__new__', '__reduce__', '__reduce_ex__', '__repr__', '__reversed__']\n",
            "['__setattr__', '__setitem__', '__sizeof__', '__str__', '__subclasshook__']\n",
            "['clear', 'copy', 'fromkeys', 'get', 'items']\n"
          ]
        }
      ]
    },
    {
      "cell_type": "markdown",
      "source": [
        "1) Назовите основные методы создания словарей"
      ],
      "metadata": {
        "id": "k7DhPWE0YH_R"
      }
    },
    {
      "cell_type": "code",
      "source": [
        "# перечисление в {} или функция-конструктор dict()\n",
        "xy = {1:'a',2:'bb',3:'ccc',4:'dddd',5:'eeeee'}\n",
        "yx = dict(zip(xy.values(),xy.keys()))\n",
        "z1 = dict([(1,'привет'), (2,'hello')])\n",
        "z2 = dict([[1,1],[2,22],[3,333]])\n",
        "z3 = dict(a=\"привет\",b=\"hello\")\n",
        "dict(),{},type({}),xy,type(xy),yx,type(yx),\\\n",
        "z1,type(z1),z2,type(z2),z3,type(z3)"
      ],
      "metadata": {
        "colab": {
          "base_uri": "https://localhost:8080/"
        },
        "id": "W6kqXo4FYDpQ",
        "outputId": "853e4eb1-14d4-414e-ede6-f3baa1d8dce2"
      },
      "execution_count": 27,
      "outputs": [
        {
          "output_type": "execute_result",
          "data": {
            "text/plain": [
              "({},\n",
              " {},\n",
              " dict,\n",
              " {1: 'a', 2: 'bb', 3: 'ccc', 4: 'dddd', 5: 'eeeee'},\n",
              " dict,\n",
              " {'a': 1, 'bb': 2, 'ccc': 3, 'dddd': 4, 'eeeee': 5},\n",
              " dict,\n",
              " {1: 'привет', 2: 'hello'},\n",
              " dict,\n",
              " {1: 1, 2: 22, 3: 333},\n",
              " dict,\n",
              " {'a': 'привет', 'b': 'hello'},\n",
              " dict)"
            ]
          },
          "metadata": {},
          "execution_count": 27
        }
      ]
    },
    {
      "cell_type": "code",
      "source": [
        "# c помощью встроенных методов\n",
        "dict.fromkeys([1,2,3]),\\\n",
        "dict.fromkeys([1,2,3],['a','bb','ccc']),\\\n",
        "dict(zip([1,2,3],[1,22,333]))"
      ],
      "metadata": {
        "colab": {
          "base_uri": "https://localhost:8080/"
        },
        "id": "SmZ7RGSkLnP6",
        "outputId": "d2df6e95-7949-4f4c-9ba9-41d43f9f90a6"
      },
      "execution_count": 28,
      "outputs": [
        {
          "output_type": "execute_result",
          "data": {
            "text/plain": [
              "({1: None, 2: None, 3: None},\n",
              " {1: ['a', 'bb', 'ccc'], 2: ['a', 'bb', 'ccc'], 3: ['a', 'bb', 'ccc']},\n",
              " {1: 1, 2: 22, 3: 333})"
            ]
          },
          "metadata": {},
          "execution_count": 28
        }
      ]
    },
    {
      "cell_type": "code",
      "source": [
        "# итерацией объектов\n",
        "{'z%d'%i:{} for i in range(3)}"
      ],
      "metadata": {
        "colab": {
          "base_uri": "https://localhost:8080/"
        },
        "id": "V7fT0g8mUfPS",
        "outputId": "1b883ffc-3d18-40e1-da59-3bb0bf80584e"
      },
      "execution_count": 29,
      "outputs": [
        {
          "output_type": "execute_result",
          "data": {
            "text/plain": [
              "{'z0': {}, 'z1': {}, 'z2': {}}"
            ]
          },
          "metadata": {},
          "execution_count": 29
        }
      ]
    },
    {
      "cell_type": "code",
      "source": [
        "# используя модули стандартной библиотеки\n",
        "from collections import defaultdict as dd\n",
        "d = dd(tuple)\n",
        "for i in range(3):\n",
        "    print(d[i], d, sep=' || ')\n",
        "d = dd(lambda:0)\n",
        "for i in range(3):\n",
        "    print(d[i], d, sep=' || ')\n",
        "# в обычный словарь\n",
        "dict(d)"
      ],
      "metadata": {
        "colab": {
          "base_uri": "https://localhost:8080/"
        },
        "id": "vRza1MB7L3JN",
        "outputId": "efc3542f-40b6-4823-cba1-e4e3bcc3c717"
      },
      "execution_count": 30,
      "outputs": [
        {
          "output_type": "stream",
          "name": "stdout",
          "text": [
            "() || defaultdict(<class 'tuple'>, {0: ()})\n",
            "() || defaultdict(<class 'tuple'>, {0: (), 1: ()})\n",
            "() || defaultdict(<class 'tuple'>, {0: (), 1: (), 2: ()})\n",
            "0 || defaultdict(<function <lambda> at 0x7fa5137b3af0>, {0: 0})\n",
            "0 || defaultdict(<function <lambda> at 0x7fa5137b3af0>, {0: 0, 1: 0})\n",
            "0 || defaultdict(<function <lambda> at 0x7fa5137b3af0>, {0: 0, 1: 0, 2: 0})\n"
          ]
        },
        {
          "output_type": "execute_result",
          "data": {
            "text/plain": [
              "{0: 0, 1: 0, 2: 0}"
            ]
          },
          "metadata": {},
          "execution_count": 30
        }
      ]
    },
    {
      "cell_type": "markdown",
      "source": [
        "2) Как извлекать отдельные объекты словаря?\n",
        "- ключи, значения, пары ключ-значение,..."
      ],
      "metadata": {
        "id": "yWscePC1LVXz"
      }
    },
    {
      "cell_type": "code",
      "source": [
        "# состав объектов\n",
        "z = {1:'a',2:'bb',3:'ccc',4:'dddd',5:'eeeee'}\n",
        "z.keys(),z.values(),z.items(),z.get(3),z[5]"
      ],
      "metadata": {
        "colab": {
          "base_uri": "https://localhost:8080/"
        },
        "id": "5DQn6WSeK7K_",
        "outputId": "dea12565-ff66-4fd7-b8d8-58d19a422506"
      },
      "execution_count": 31,
      "outputs": [
        {
          "output_type": "execute_result",
          "data": {
            "text/plain": [
              "(dict_keys([1, 2, 3, 4, 5]),\n",
              " dict_values(['a', 'bb', 'ccc', 'dddd', 'eeeee']),\n",
              " dict_items([(1, 'a'), (2, 'bb'), (3, 'ccc'), (4, 'dddd'), (5, 'eeeee')]),\n",
              " 'ccc',\n",
              " 'eeeee')"
            ]
          },
          "metadata": {},
          "execution_count": 31
        }
      ]
    },
    {
      "cell_type": "markdown",
      "source": [
        "3) Является ли словарь изменяемым объектом?"
      ],
      "metadata": {
        "id": "O3mQUdWqtgEp"
      }
    },
    {
      "cell_type": "code",
      "source": [
        "# изменение словаря или его компонентов\n",
        "z = {1:'a',2:'bb'}; print(z)\n",
        "z.update({3:'dddd',4:'ccc'}); print(z)\n",
        "z[3] = 'ccc'; print(z)\n",
        "z = {**z,**{4:'dddd'}}; print(z)\n",
        "del z[4]; print(z)\n",
        "z.pop(3); print(z)\n",
        "z.popitem(); print(z)\n",
        "z.clear(); print(z)"
      ],
      "metadata": {
        "colab": {
          "base_uri": "https://localhost:8080/"
        },
        "id": "V0c3mMQxuJEp",
        "outputId": "08393eb1-0fd4-4cf7-f3b3-4157592425f9"
      },
      "execution_count": 32,
      "outputs": [
        {
          "output_type": "stream",
          "name": "stdout",
          "text": [
            "{1: 'a', 2: 'bb'}\n",
            "{1: 'a', 2: 'bb', 3: 'dddd', 4: 'ccc'}\n",
            "{1: 'a', 2: 'bb', 3: 'ccc', 4: 'ccc'}\n",
            "{1: 'a', 2: 'bb', 3: 'ccc', 4: 'dddd'}\n",
            "{1: 'a', 2: 'bb', 3: 'ccc'}\n",
            "{1: 'a', 2: 'bb'}\n",
            "{1: 'a'}\n",
            "{}\n"
          ]
        }
      ]
    },
    {
      "cell_type": "markdown",
      "source": [
        "4) Приведите примеры использования операторов со словарями (`*`,`**`,...)"
      ],
      "metadata": {
        "id": "H263UbsJzwFs"
      }
    },
    {
      "cell_type": "code",
      "source": [
        "z1 = {1:'a',2:'b'}\n",
        "z2 = {2:'bb',3:'ccc',4:'dddd'}\n",
        "z = {**z1,**z2}; print(z)\n",
        "z = {*z1,*z2}; print(z)\n",
        "# z = z1 | z2; print(z) # python 3.9"
      ],
      "metadata": {
        "colab": {
          "base_uri": "https://localhost:8080/"
        },
        "id": "IhNZdhOly5Up",
        "outputId": "228ebb2e-564d-4b8c-8511-e2abbe2a501f"
      },
      "execution_count": 33,
      "outputs": [
        {
          "output_type": "stream",
          "name": "stdout",
          "text": [
            "{1: 'a', 2: 'bb', 3: 'ccc', 4: 'dddd'}\n",
            "{1, 2, 3, 4}\n"
          ]
        }
      ]
    },
    {
      "cell_type": "code",
      "source": [
        "z1 = {'a':1,'bb':3}\n",
        "z2 = {'bb':2,'ccc':3,'dddd':4}\n",
        "# только для ключей-строк\n",
        "z = dict(z1,**z2); print(z)"
      ],
      "metadata": {
        "colab": {
          "base_uri": "https://localhost:8080/"
        },
        "id": "WeNxzIRRL-Cw",
        "outputId": "2cc671c6-c4dd-413a-f858-d1cbb761a6e9"
      },
      "execution_count": 34,
      "outputs": [
        {
          "output_type": "stream",
          "name": "stdout",
          "text": [
            "{'a': 1, 'bb': 2, 'ccc': 3, 'dddd': 4}\n"
          ]
        }
      ]
    },
    {
      "cell_type": "code",
      "source": [
        "person = {'name': 'Мария', 'age': 23}\n",
        "print('My name is {name} and my age is {age}.'.format(**person))"
      ],
      "metadata": {
        "colab": {
          "base_uri": "https://localhost:8080/"
        },
        "id": "Hcda21FL_n0S",
        "outputId": "7f81605f-2736-447c-d6fb-42ef9907cbba"
      },
      "execution_count": 35,
      "outputs": [
        {
          "output_type": "stream",
          "name": "stdout",
          "text": [
            "My name is Мария and my age is 23.\n"
          ]
        }
      ]
    },
    {
      "cell_type": "markdown",
      "source": [
        "5) Как применить сортировку к словарю или его компонентам?"
      ],
      "metadata": {
        "id": "V0GSs-HyGjvS"
      }
    },
    {
      "cell_type": "code",
      "source": [
        "z = {1:'a',2:'bb',3:'ccc',4:'dddd',5:'eeeee'}\n",
        "sorted(z)"
      ],
      "metadata": {
        "colab": {
          "base_uri": "https://localhost:8080/"
        },
        "id": "okENf4WyGizO",
        "outputId": "bb5b1b40-3f8f-4a20-f286-32c9689680e1"
      },
      "execution_count": 36,
      "outputs": [
        {
          "output_type": "execute_result",
          "data": {
            "text/plain": [
              "[1, 2, 3, 4, 5]"
            ]
          },
          "metadata": {},
          "execution_count": 36
        }
      ]
    },
    {
      "cell_type": "code",
      "source": [
        "# по ключам\n",
        "dict(sorted(z.items()))"
      ],
      "metadata": {
        "colab": {
          "base_uri": "https://localhost:8080/"
        },
        "id": "wI08vmfxtjLD",
        "outputId": "82841a87-41cc-4a3b-9a73-020eb56097b9"
      },
      "execution_count": 37,
      "outputs": [
        {
          "output_type": "execute_result",
          "data": {
            "text/plain": [
              "{1: 'a', 2: 'bb', 3: 'ccc', 4: 'dddd', 5: 'eeeee'}"
            ]
          },
          "metadata": {},
          "execution_count": 37
        }
      ]
    },
    {
      "cell_type": "code",
      "source": [
        "# по значениям\n",
        "dict(sorted(z.items(), key=lambda item: item[1]))"
      ],
      "metadata": {
        "colab": {
          "base_uri": "https://localhost:8080/"
        },
        "id": "P-cADyIBttN5",
        "outputId": "7ed8cd9d-b6eb-4d96-b4b0-eea2aba3b70a"
      },
      "execution_count": 38,
      "outputs": [
        {
          "output_type": "execute_result",
          "data": {
            "text/plain": [
              "{1: 'a', 2: 'bb', 3: 'ccc', 4: 'dddd', 5: 'eeeee'}"
            ]
          },
          "metadata": {},
          "execution_count": 38
        }
      ]
    },
    {
      "cell_type": "code",
      "source": [
        "# по нужному принципу (длина строковых значений)\n",
        "dict(sorted(z.items(), key=lambda item: len(item[1]), reverse=True))"
      ],
      "metadata": {
        "colab": {
          "base_uri": "https://localhost:8080/"
        },
        "id": "WkwIMLYJt9fF",
        "outputId": "3ab9c8ed-71e5-49c2-c5a7-2738fa51ab82"
      },
      "execution_count": 39,
      "outputs": [
        {
          "output_type": "execute_result",
          "data": {
            "text/plain": [
              "{5: 'eeeee', 4: 'dddd', 3: 'ccc', 2: 'bb', 1: 'a'}"
            ]
          },
          "metadata": {},
          "execution_count": 39
        }
      ]
    },
    {
      "cell_type": "code",
      "source": [
        "# с помощью итератора \n",
        "from operator import itemgetter\n",
        "fruits = [(\"banana\",5),(\"orange\",15),(\"apple\",3),(\"kiwi\",0)]\n",
        "dict(sorted(fruits,key=itemgetter(0))),\\\n",
        "dict(sorted(fruits,key=itemgetter(1)))"
      ],
      "metadata": {
        "id": "vXp19zUnPwpl",
        "colab": {
          "base_uri": "https://localhost:8080/"
        },
        "outputId": "52cc0230-2a43-49a5-9773-26457472367d"
      },
      "execution_count": 40,
      "outputs": [
        {
          "output_type": "execute_result",
          "data": {
            "text/plain": [
              "({'apple': 3, 'banana': 5, 'kiwi': 0, 'orange': 15},\n",
              " {'kiwi': 0, 'apple': 3, 'banana': 5, 'orange': 15})"
            ]
          },
          "metadata": {},
          "execution_count": 40
        }
      ]
    },
    {
      "cell_type": "markdown",
      "source": [
        "**Бонус-пример** Сравнение скорости сортировки словарей"
      ],
      "metadata": {
        "id": "qF5gGWcWvWA7"
      }
    },
    {
      "cell_type": "code",
      "source": [
        "from timeit import timeit\n",
        "dict_example = {'a%d'%i:'a'*i for i in range(100)}\n",
        "sorted_lambda = \"sorted(dict_example.items(), key=lambda item: item[1])\"\n",
        "sorted_itemgetter = \"sorted(dict_example.items(), key=itemgetter(1))\"\n",
        "sorted_lambda_time = timeit(stmt=sorted_lambda, globals=globals())\n",
        "sorted_itemgetter_time = timeit(\n",
        "    stmt=sorted_itemgetter,\n",
        "    setup=\"from operator import itemgetter\",\n",
        "    globals=globals())\n",
        "sorted_lambda_time/sorted_itemgetter_time"
      ],
      "metadata": {
        "colab": {
          "base_uri": "https://localhost:8080/"
        },
        "id": "e4e8erZVvUpU",
        "outputId": "1f69f4b7-3158-498b-9a5d-9f9740df7c58"
      },
      "execution_count": 41,
      "outputs": [
        {
          "output_type": "execute_result",
          "data": {
            "text/plain": [
              "1.8099614762215879"
            ]
          },
          "metadata": {},
          "execution_count": 41
        }
      ]
    },
    {
      "cell_type": "markdown",
      "source": [
        "6) Определите количество элементов в словаре"
      ],
      "metadata": {
        "id": "rraSKJRCHFN1"
      }
    },
    {
      "cell_type": "code",
      "source": [
        "z = {1:1,3:333,5:55555}\n",
        "len(z)"
      ],
      "metadata": {
        "colab": {
          "base_uri": "https://localhost:8080/"
        },
        "id": "uJq7e5p4G70A",
        "outputId": "7c98cb32-d2b4-41ae-eb50-db14fb1eca23"
      },
      "execution_count": 42,
      "outputs": [
        {
          "output_type": "execute_result",
          "data": {
            "text/plain": [
              "3"
            ]
          },
          "metadata": {},
          "execution_count": 42
        }
      ]
    },
    {
      "cell_type": "markdown",
      "source": [
        "7) Найдите максимальный элемент в словаре"
      ],
      "metadata": {
        "id": "Ky2wil5bHnnC"
      }
    },
    {
      "cell_type": "code",
      "source": [
        "z = {1:1,3:333,5:55555}\n",
        "# ключ или значение\n",
        "max(z),z[max(z.keys(),key=(lambda k: z[k]))]"
      ],
      "metadata": {
        "colab": {
          "base_uri": "https://localhost:8080/"
        },
        "id": "8zTomXHoHy3A",
        "outputId": "d6663bde-ca95-4798-a930-1fb8680ea77e"
      },
      "execution_count": 43,
      "outputs": [
        {
          "output_type": "execute_result",
          "data": {
            "text/plain": [
              "(5, 55555)"
            ]
          },
          "metadata": {},
          "execution_count": 43
        }
      ]
    },
    {
      "cell_type": "markdown",
      "source": [
        "8) Объедините словари, используя стандартные библиотеки"
      ],
      "metadata": {
        "id": "WmBwLCTVKydS"
      }
    },
    {
      "cell_type": "code",
      "source": [
        "import itertools,collections\n",
        "z1 = {'a':1,'bb':3}\n",
        "z2 = {'bb':2,'ccc':3,'dddd':4}\n",
        "z3 = itertools.chain(z1.items(),z2.items())\n",
        "z4 = collections.ChainMap(z1,z2)\n",
        "z3,dict(z3),z4,dict(z4)"
      ],
      "metadata": {
        "colab": {
          "base_uri": "https://localhost:8080/"
        },
        "id": "AgkQrJvELAVj",
        "outputId": "360ba032-1eb3-4c27-b068-8d8a5c7f10bd"
      },
      "execution_count": 44,
      "outputs": [
        {
          "output_type": "execute_result",
          "data": {
            "text/plain": [
              "(<itertools.chain at 0x7fa5137d4580>,\n",
              " {'a': 1, 'bb': 2, 'ccc': 3, 'dddd': 4},\n",
              " ChainMap({'a': 1, 'bb': 3}, {'bb': 2, 'ccc': 3, 'dddd': 4}),\n",
              " {'bb': 3, 'ccc': 3, 'dddd': 4, 'a': 1})"
            ]
          },
          "metadata": {},
          "execution_count": 44
        }
      ]
    },
    {
      "cell_type": "markdown",
      "source": [
        "9) Создайте экземпляр словаря словарей (`nested dictionary`)"
      ],
      "metadata": {
        "id": "LvzKUQ6pXJN5"
      }
    },
    {
      "cell_type": "code",
      "source": [
        "# перечислением\n",
        "students = {'1':{'name':'Milena','age':'22','id':10027},  \n",
        "           '2':{'name':'Ivan','age':'23','id':10003}}\n",
        "students['1']['id']"
      ],
      "metadata": {
        "colab": {
          "base_uri": "https://localhost:8080/"
        },
        "id": "7ZtbwBdKOxHJ",
        "outputId": "99dbe74e-93b3-4a11-957b-b0ce4b891df0"
      },
      "execution_count": 45,
      "outputs": [
        {
          "output_type": "execute_result",
          "data": {
            "text/plain": [
              "10027"
            ]
          },
          "metadata": {},
          "execution_count": 45
        }
      ]
    },
    {
      "cell_type": "code",
      "source": [
        "# словарным выражением\n",
        "{str(i):{str(k):i**k for k in range(2,5)} for i in range(5)}"
      ],
      "metadata": {
        "colab": {
          "base_uri": "https://localhost:8080/"
        },
        "id": "1d2xttydptx8",
        "outputId": "87effe22-07e6-4082-b72e-8393d8e32945"
      },
      "execution_count": 46,
      "outputs": [
        {
          "output_type": "execute_result",
          "data": {
            "text/plain": [
              "{'0': {'2': 0, '3': 0, '4': 0},\n",
              " '1': {'2': 1, '3': 1, '4': 1},\n",
              " '2': {'2': 4, '3': 8, '4': 16},\n",
              " '3': {'2': 9, '3': 27, '4': 81},\n",
              " '4': {'2': 16, '3': 64, '4': 256}}"
            ]
          },
          "metadata": {},
          "execution_count": 46
        }
      ]
    },
    {
      "cell_type": "markdown",
      "source": [
        "10) Как фильтровать значения с помощью словарных выражений?"
      ],
      "metadata": {
        "id": "hdsh218HtMQx"
      }
    },
    {
      "cell_type": "code",
      "source": [
        "z = {'a':'apple','b':'banana','c':None}\n",
        "{key:value for (key, value) in z.items() if value is not None}"
      ],
      "metadata": {
        "colab": {
          "base_uri": "https://localhost:8080/"
        },
        "id": "JPLIUNA8tfD1",
        "outputId": "d6226192-5991-4317-8235-67207539247a"
      },
      "execution_count": 47,
      "outputs": [
        {
          "output_type": "execute_result",
          "data": {
            "text/plain": [
              "{'a': 'apple', 'b': 'banana'}"
            ]
          },
          "metadata": {},
          "execution_count": 47
        }
      ]
    },
    {
      "cell_type": "code",
      "source": [
        "z = {'a':'apple','b':'banana','c':'cherry'}\n",
        "{key:value for (key, value) in z.items() if value[0] == 'a'}"
      ],
      "metadata": {
        "colab": {
          "base_uri": "https://localhost:8080/"
        },
        "id": "cbNUaGkNtwgE",
        "outputId": "5aa819ee-ff69-4ee7-8e33-c193c36d3560"
      },
      "execution_count": 48,
      "outputs": [
        {
          "output_type": "execute_result",
          "data": {
            "text/plain": [
              "{'a': 'apple'}"
            ]
          },
          "metadata": {},
          "execution_count": 48
        }
      ]
    },
    {
      "cell_type": "markdown",
      "source": [
        "11) Как можно скопировать словарь? "
      ],
      "metadata": {
        "id": "cnKY79-XwfD7"
      }
    },
    {
      "cell_type": "code",
      "source": [
        "# изменения в копии влияют на оригинал\n",
        "doriginal = {\"name\":\"Max\", \"age\":28, \"city\":\"New York\"}\n",
        "dcopy = doriginal\n",
        "dcopy[\"name\"] = \"Lisa\"\n",
        "dcopy,doriginal"
      ],
      "metadata": {
        "colab": {
          "base_uri": "https://localhost:8080/"
        },
        "id": "5_FW9lP_wo3k",
        "outputId": "349e4eed-327c-4643-a992-e821a99e98ed"
      },
      "execution_count": 49,
      "outputs": [
        {
          "output_type": "execute_result",
          "data": {
            "text/plain": [
              "({'name': 'Lisa', 'age': 28, 'city': 'New York'},\n",
              " {'name': 'Lisa', 'age': 28, 'city': 'New York'})"
            ]
          },
          "metadata": {},
          "execution_count": 49
        }
      ]
    },
    {
      "cell_type": "code",
      "source": [
        "# изменения в копии не влияют на оригинал\n",
        "doriginal = {\"name\":\"Max\", \"age\":28, \"city\":\"New York\"}\n",
        "dcopy = doriginal.copy()\n",
        "dcopy[\"name\"] = \"Lisa\"\n",
        "dcopy,doriginal"
      ],
      "metadata": {
        "colab": {
          "base_uri": "https://localhost:8080/"
        },
        "id": "0GXtXFz13sKi",
        "outputId": "1003cbeb-1dbb-44e3-aa9f-5531ff653eb9"
      },
      "execution_count": 50,
      "outputs": [
        {
          "output_type": "execute_result",
          "data": {
            "text/plain": [
              "({'name': 'Lisa', 'age': 28, 'city': 'New York'},\n",
              " {'name': 'Max', 'age': 28, 'city': 'New York'})"
            ]
          },
          "metadata": {},
          "execution_count": 50
        }
      ]
    },
    {
      "cell_type": "markdown",
      "source": [
        "12) Распечатайте все элементы словаря с помощью f-строк и их методов"
      ],
      "metadata": {
        "id": "Usm_A1OCV2Va"
      }
    },
    {
      "cell_type": "code",
      "source": [
        "person = {\"name\":\"Max\", \"age\":28, \"city\":\"New York\"}\n",
        "stringified_person = ' '.join(\n",
        "    [f'{k.capitalize()} {v}' for k,v in person.items()])\n",
        "print(f'строковая переменная:\\n{stringified_person}')\n",
        "stringify_dict = lambda dict_val: ' '.join(\n",
        "    [f'{k.capitalize()} {v}' for k,v in dict_val.items()])\n",
        "stringified_person = stringify_dict(person)\n",
        "print(f'анонимная функция:\\n{stringified_person}')\n",
        "def stringify_dict(d:dict) -> str:\n",
        "    return ' '.join([f'{k.capitalize()} {v}' for k,v in d.items()])\n",
        "stringified_person = stringify_dict(person)\n",
        "print(f'пользовательская функция:\\n{stringified_person}')"
      ],
      "metadata": {
        "colab": {
          "base_uri": "https://localhost:8080/"
        },
        "id": "E9lmjDgbWafg",
        "outputId": "e713d54f-8d5d-411d-863d-133770a6574a"
      },
      "execution_count": 51,
      "outputs": [
        {
          "output_type": "stream",
          "name": "stdout",
          "text": [
            "строковая переменная:\n",
            "Name Max Age 28 City New York\n",
            "анонимная функция:\n",
            "Name Max Age 28 City New York\n",
            "пользовательская функция:\n",
            "Name Max Age 28 City New York\n"
          ]
        }
      ]
    },
    {
      "cell_type": "markdown",
      "source": [
        "13) Исследуйте метод словарей `.get()` с помощью экспериментов"
      ],
      "metadata": {
        "id": "SgV6GVEC0x85"
      }
    },
    {
      "cell_type": "code",
      "source": [
        "person = {\"name\":\"Max\", \"age\":28, \"city\":\"New York\"}\n",
        "person, person.get('name'), person.get('name','Lisa'),\\\n",
        "person.get('salary'), person.get('salary',1000),\\\n",
        "person"
      ],
      "metadata": {
        "colab": {
          "base_uri": "https://localhost:8080/"
        },
        "id": "BI9r0MMdzzNn",
        "outputId": "591dd859-7e5b-4ce0-ff94-f9ed5df005f9"
      },
      "execution_count": 52,
      "outputs": [
        {
          "output_type": "execute_result",
          "data": {
            "text/plain": [
              "({'name': 'Max', 'age': 28, 'city': 'New York'},\n",
              " 'Max',\n",
              " 'Max',\n",
              " None,\n",
              " 1000,\n",
              " {'name': 'Max', 'age': 28, 'city': 'New York'})"
            ]
          },
          "metadata": {},
          "execution_count": 52
        }
      ]
    },
    {
      "cell_type": "markdown",
      "source": [
        "14) Создайте словарь с помощью пользовательской функции"
      ],
      "metadata": {
        "id": "Rd7_2xX1mpJE"
      }
    },
    {
      "cell_type": "code",
      "source": [
        "def f1(a, b, c, d): return locals()\n",
        "d1 = f1(1,2,3,4)\n",
        "def f2(a, b, **c): return locals()\n",
        "d2 = f2(1,2,d=3,e=4)\n",
        "d1, type(d1), d2, type(d2)"
      ],
      "metadata": {
        "colab": {
          "base_uri": "https://localhost:8080/"
        },
        "id": "4ZmMncN7mp0_",
        "outputId": "50e47e42-a439-4e71-e041-dd96ea7a2a5e"
      },
      "execution_count": 53,
      "outputs": [
        {
          "output_type": "execute_result",
          "data": {
            "text/plain": [
              "({'a': 1, 'b': 2, 'c': 3, 'd': 4},\n",
              " dict,\n",
              " {'a': 1, 'b': 2, 'c': {'d': 3, 'e': 4}},\n",
              " dict)"
            ]
          },
          "metadata": {},
          "execution_count": 53
        }
      ]
    },
    {
      "cell_type": "markdown",
      "source": [
        "15) Создайте образец упорядоченного словаря `collections.OrderedDict`"
      ],
      "metadata": {
        "id": "j7DKMXvVlagY"
      }
    },
    {
      "cell_type": "code",
      "source": [
        "from collections import OrderedDict\n",
        "cod1 = OrderedDict()\n",
        "cod1['red'] = 4\n",
        "cod1['blue'] = 9\n",
        "cod1['green'] = 1\n",
        "print(cod1,dict(cod1))\n",
        "cod1['yellow'] = 11\n",
        "print(cod1)\n",
        "cod1.move_to_end('red')\n",
        "print(cod1)\n",
        "cod1.move_to_end('red',last=False)\n",
        "print(cod1)"
      ],
      "metadata": {
        "colab": {
          "base_uri": "https://localhost:8080/"
        },
        "id": "W2IJ9vcv1JB7",
        "outputId": "38e1deff-50ea-4761-866e-b37b5e26f32e"
      },
      "execution_count": 54,
      "outputs": [
        {
          "output_type": "stream",
          "name": "stdout",
          "text": [
            "OrderedDict([('red', 4), ('blue', 9), ('green', 1)]) {'red': 4, 'blue': 9, 'green': 1}\n",
            "OrderedDict([('red', 4), ('blue', 9), ('green', 1), ('yellow', 11)])\n",
            "OrderedDict([('blue', 9), ('green', 1), ('yellow', 11), ('red', 4)])\n",
            "OrderedDict([('red', 4), ('blue', 9), ('green', 1), ('yellow', 11)])\n"
          ]
        }
      ]
    }
  ]
}