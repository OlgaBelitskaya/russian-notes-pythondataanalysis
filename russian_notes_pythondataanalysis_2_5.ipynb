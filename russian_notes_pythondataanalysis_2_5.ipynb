{
  "cells": [
    {
      "cell_type": "markdown",
      "metadata": {
        "id": "gbHCq4vaEj7T"
      },
      "source": [
        "# 2.5 Типы данных в Python Часть 2\n",
        "## Основные последовательные типы `Sequence Types` \n",
        "- списки `list`\n",
        "- кортежи `tuple`\n",
        "- интервалы `range`\n",
        "\n",
        "Другие последовательные типы: бинарные, строковые\n",
        "### Тип \"Интервал\" и его использование с операторами"
      ]
    },
    {
      "cell_type": "code",
      "execution_count": 1,
      "metadata": {
        "colab": {
          "base_uri": "https://localhost:8080/"
        },
        "id": "W0Cfl8BHNgwQ",
        "outputId": "0317dcdd-9463-4d41-b804-0dff966133cf"
      },
      "outputs": [
        {
          "output_type": "execute_result",
          "data": {
            "text/plain": [
              "(False, True, False, True, True, False)"
            ]
          },
          "metadata": {},
          "execution_count": 1
        }
      ],
      "source": [
        "# сравнение\n",
        "[1,2,\"a\",4.5,\"b\",5,6] == [1,2,5,\"a\",4.5,\"b\",6],\\\n",
        "[1,2,\"a\",4.5,\"b\",5,6] != [1,2,5,\"a\",4.5,\"b\",6],\\\n",
        "[1,2,\"a\",4.5,\"b\",5,6] is [1,2,5,\"a\",4.5,\"b\",6],\\\n",
        "[1,2,\"a\",4.5,\"b\",5,6] is not [1,2,5,\"a\",4.5,\"b\",6],\\\n",
        "tuple() == (), tuple(range(3)) == (i for i in range(3))"
      ]
    },
    {
      "cell_type": "code",
      "execution_count": 2,
      "metadata": {
        "colab": {
          "base_uri": "https://localhost:8080/"
        },
        "id": "3Ou4z1U9OhjX",
        "outputId": "954f3f27-6365-443a-9293-64b32165a09e"
      },
      "outputs": [
        {
          "output_type": "execute_result",
          "data": {
            "text/plain": [
              "(tuple, generator)"
            ]
          },
          "metadata": {},
          "execution_count": 2
        }
      ],
      "source": [
        "type(tuple(range(3))),type((i for i in range(3)))"
      ]
    },
    {
      "cell_type": "code",
      "execution_count": 3,
      "metadata": {
        "colab": {
          "base_uri": "https://localhost:8080/"
        },
        "id": "RcmuodIA9oNv",
        "outputId": "553a1846-38b3-4833-9886-eb925f8d69c9"
      },
      "outputs": [
        {
          "output_type": "execute_result",
          "data": {
            "text/plain": [
              "(False, False, True, True, True, False)"
            ]
          },
          "metadata": {},
          "execution_count": 3
        }
      ],
      "source": [
        "# включение\n",
        "[2,3] in [1,2,3],[2,3] in (1,2,3),\\\n",
        "[2,3] in [1,[2,3]],[2,3] in (1,[2,3]),\\\n",
        "2 in range(3),[2] in range(3)"
      ]
    },
    {
      "cell_type": "code",
      "execution_count": 4,
      "metadata": {
        "colab": {
          "base_uri": "https://localhost:8080/"
        },
        "id": "NYX_d-5p-vLP",
        "outputId": "b8af37e5-c1d1-4355-9344-50a7a54c4f70"
      },
      "outputs": [
        {
          "output_type": "execute_result",
          "data": {
            "text/plain": [
              "((1, 2, 3, 3, 4, 5), [1, 2, 3, 1, 2, 3, 1, 2, 3])"
            ]
          },
          "metadata": {},
          "execution_count": 4
        }
      ],
      "source": [
        "# объединение и повторение\n",
        "(1,2,3)+(3,4,5),3*[1,2,3]"
      ]
    },
    {
      "cell_type": "code",
      "execution_count": 5,
      "metadata": {
        "colab": {
          "base_uri": "https://localhost:8080/"
        },
        "id": "RWR7mhXe-7uE",
        "outputId": "c4db229c-4800-46f8-b9d2-d787476a26b6"
      },
      "outputs": [
        {
          "output_type": "execute_result",
          "data": {
            "text/plain": [
              "(range(2, -1, -1), [2, 1, 0], (2, 1, 0))"
            ]
          },
          "metadata": {},
          "execution_count": 5
        }
      ],
      "source": [
        "# срезы\n",
        "r = range(3)\n",
        "r[::-1],list(r)[::-1],tuple(r)[::-1]"
      ]
    },
    {
      "cell_type": "code",
      "execution_count": 6,
      "metadata": {
        "colab": {
          "base_uri": "https://localhost:8080/"
        },
        "id": "LvQDIbFLCoDP",
        "outputId": "c935e61d-830a-4108-b766-f2fb2364a3c7"
      },
      "outputs": [
        {
          "output_type": "execute_result",
          "data": {
            "text/plain": [
              "(3, 2, 0, 1, 99)"
            ]
          },
          "metadata": {},
          "execution_count": 6
        }
      ],
      "source": [
        "# статистика\n",
        "len(range(3)),[1,2,3,1].count(1),(1,2,3,1).index(1),\\\n",
        "min([1,2,3]),max(range(100))"
      ]
    },
    {
      "cell_type": "code",
      "execution_count": 7,
      "metadata": {
        "colab": {
          "base_uri": "https://localhost:8080/"
        },
        "id": "LbCIlFaOyJJP",
        "outputId": "7d028ebd-9500-4d7b-9bee-56f8d70192af"
      },
      "outputs": [
        {
          "output_type": "stream",
          "name": "stdout",
          "text": [
            "True False False True True\n",
            "True False False True True\n"
          ]
        }
      ],
      "source": [
        "# all(),any()\n",
        "l1=[False,True,True,False]\n",
        "l2=[2,3,4,0,1,5]\n",
        "t1=(1,2,3,0)\n",
        "t2=('a',5,2,'b')\n",
        "print(all([]),all(l1),all(l2),any(l1),any(l2))\n",
        "print(all(()),all(l1),all(l2),any(l1),any(l2))"
      ]
    },
    {
      "cell_type": "code",
      "execution_count": 8,
      "metadata": {
        "colab": {
          "base_uri": "https://localhost:8080/"
        },
        "id": "PaiedFzX5hjB",
        "outputId": "f976172c-40dd-4a9c-ee04-77c13ff45ba0"
      },
      "outputs": [
        {
          "output_type": "execute_result",
          "data": {
            "text/plain": [
              "(range(0, 0), [], True, True, False, False)"
            ]
          },
          "metadata": {},
          "execution_count": 8
        }
      ],
      "source": [
        "range(0),list(range(0)),\\\n",
        "all(range(0)),all(list(range(0))),\\\n",
        "bool(range(0)),bool(list(range(0)))"
      ]
    },
    {
      "cell_type": "markdown",
      "metadata": {
        "id": "uDzOvYTq9aix"
      },
      "source": [
        "### Тип \"Список\"\n",
        "- итерируемый \n",
        "- коллекция (контейнер)\n",
        "- упорядоченный\n",
        "- изменяемый\n",
        "- обычно данные одного типа\n",
        "- возможны повторения элементов"
      ]
    },
    {
      "cell_type": "code",
      "execution_count": 9,
      "metadata": {
        "colab": {
          "base_uri": "https://localhost:8080/"
        },
        "id": "RIw2FWlZ8KVS",
        "outputId": "b387e8cc-3ec2-417e-b260-698da556ce1c"
      },
      "outputs": [
        {
          "output_type": "execute_result",
          "data": {
            "text/plain": [
              "([], [1, 2, 3, 4, 5], [0, 1, 2, 3, 4])"
            ]
          },
          "metadata": {},
          "execution_count": 9
        }
      ],
      "source": [
        "# минималистичный синтаксис\n",
        "# пустой список, перечисление, списочное выражение\n",
        "[],[1,2,3,4,5],[i for i in range(5)]"
      ]
    },
    {
      "cell_type": "code",
      "execution_count": 10,
      "metadata": {
        "colab": {
          "base_uri": "https://localhost:8080/"
        },
        "id": "qoGM_EFfM7w0",
        "outputId": "9c7b79cc-c294-441d-cfbd-700a34543377"
      },
      "outputs": [
        {
          "output_type": "execute_result",
          "data": {
            "text/plain": [
              "([], ['a', 'b', 'c'], [0, 1, 2])"
            ]
          },
          "metadata": {},
          "execution_count": 10
        }
      ],
      "source": [
        "# результат применения конструктора list()\n",
        "list(),list('abc'),list((i for i in range(3)))"
      ]
    },
    {
      "cell_type": "code",
      "execution_count": 11,
      "metadata": {
        "colab": {
          "base_uri": "https://localhost:8080/"
        },
        "id": "6Ruk1jRgDbhb",
        "outputId": "2307f6ee-5c4a-43cd-b628-9037f2e8ce46"
      },
      "outputs": [
        {
          "output_type": "execute_result",
          "data": {
            "text/plain": [
              "([3, 4, 63, 480, 2035], [1, 2, 3, 'a', 'b', 'c'])"
            ]
          },
          "metadata": {},
          "execution_count": 11
        }
      ],
      "source": [
        "# с применением анонимной функции или операторов\n",
        "list(map(lambda x:2*x**5-x**2+3,range(5))),\\\n",
        "list((*[1,2,3], *['a','b','c']))"
      ]
    },
    {
      "cell_type": "code",
      "execution_count": 12,
      "metadata": {
        "colab": {
          "base_uri": "https://localhost:8080/"
        },
        "id": "_hx1DSJ5EgXO",
        "outputId": "8b391815-5bfe-41e9-b50d-59f6b8550fb3"
      },
      "outputs": [
        {
          "output_type": "stream",
          "name": "stdout",
          "text": [
            "['__add__', '__class__', '__contains__', '__delattr__', '__delitem__']\n",
            "['__dir__', '__doc__', '__eq__', '__format__', '__ge__']\n",
            "['__getattribute__', '__getitem__', '__gt__', '__hash__', '__iadd__']\n",
            "['__imul__', '__init__', '__init_subclass__', '__iter__', '__le__']\n",
            "['__len__', '__lt__', '__mul__', '__ne__', '__new__']\n",
            "['__reduce__', '__reduce_ex__', '__repr__', '__reversed__', '__rmul__']\n",
            "['__setattr__', '__setitem__', '__sizeof__', '__str__', '__subclasshook__']\n",
            "['append', 'clear', 'copy', 'count', 'extend']\n",
            "['index', 'insert', 'pop', 'remove', 'reverse']\n",
            "['sort']\n"
          ]
        }
      ],
      "source": [
        "# свойства объекта\n",
        "for el in [dir([1,2,3])[i:i+5] for i in range(0,50,5)]:\n",
        "    print(el)"
      ]
    },
    {
      "cell_type": "code",
      "execution_count": 13,
      "metadata": {
        "colab": {
          "base_uri": "https://localhost:8080/"
        },
        "id": "Cfx6VbGv9NOD",
        "outputId": "5c900a4c-6087-4744-9a16-6391e96a1de4"
      },
      "outputs": [
        {
          "output_type": "stream",
          "name": "stdout",
          "text": [
            "[[], [], []]\n",
            "[[1], [1], [1]]\n"
          ]
        }
      ],
      "source": [
        "# добавление элементов\n",
        "lst = [[]] * 3\n",
        "print(lst)\n",
        "lst[0].append(1)\n",
        "print(lst)"
      ]
    },
    {
      "cell_type": "code",
      "execution_count": 14,
      "metadata": {
        "colab": {
          "base_uri": "https://localhost:8080/"
        },
        "id": "WlJvsUE0RZ7D",
        "outputId": "8ff03516-9b9d-4a63-cd3b-41e9040e04e9"
      },
      "outputs": [
        {
          "output_type": "stream",
          "name": "stdout",
          "text": [
            "[[], [], []] [[], [], []]\n",
            "[[1], [1], [1]] [[1], [1], [1]]\n"
          ]
        }
      ],
      "source": [
        "lst = 3 * [[]]\n",
        "lst1 = lst.copy()\n",
        "print(lst, lst1)\n",
        "lst1[0].append(1)\n",
        "print(lst, lst1)"
      ]
    },
    {
      "cell_type": "code",
      "execution_count": 15,
      "metadata": {
        "colab": {
          "base_uri": "https://localhost:8080/"
        },
        "id": "EDNm6cz6RE7R",
        "outputId": "be805b1c-5bc4-4ab6-c44d-d4436c83b0d4"
      },
      "outputs": [
        {
          "output_type": "stream",
          "name": "stdout",
          "text": [
            "[[], [], []]\n",
            "[[1], [], []]\n"
          ]
        }
      ],
      "source": [
        "lst = [[]] + [[]] + [[]]\n",
        "print(lst)\n",
        "lst[0].append(1)\n",
        "print(lst)"
      ]
    },
    {
      "cell_type": "code",
      "execution_count": 16,
      "metadata": {
        "colab": {
          "base_uri": "https://localhost:8080/"
        },
        "id": "XhRHiq9vSGAL",
        "outputId": "2257e46f-5cac-4798-fc5b-18ec49adb8b4"
      },
      "outputs": [
        {
          "output_type": "stream",
          "name": "stdout",
          "text": [
            "[[], [], []]\n",
            "[[1], [], []]\n"
          ]
        }
      ],
      "source": [
        "# .append(<obj>),.extend(<iterable>)\n",
        "lst = [[]]\n",
        "lst.extend(2*[[]])\n",
        "print(lst)\n",
        "lst[0].append(1)\n",
        "print(lst)"
      ]
    },
    {
      "cell_type": "code",
      "execution_count": 17,
      "metadata": {
        "colab": {
          "base_uri": "https://localhost:8080/"
        },
        "id": "4GaCrAd3IiCd",
        "outputId": "e07bfc2b-847b-477c-e17e-a4353a75f733"
      },
      "outputs": [
        {
          "output_type": "stream",
          "name": "stdout",
          "text": [
            "[1, 2, 3]\n",
            "[1, 2, 3, 4]\n",
            "[1, 2, 3, 4, 1, 2, 3, 4, 1, 2, 3, 4, 1, 2, 3, 4]\n"
          ]
        }
      ],
      "source": [
        "# с применением операторов\n",
        "lst7 = [1,2,3]; print(lst7)\n",
        "lst7 += [4]; print(lst7)\n",
        "lst7 *= 4; print(lst7)"
      ]
    },
    {
      "cell_type": "code",
      "execution_count": 18,
      "metadata": {
        "colab": {
          "base_uri": "https://localhost:8080/"
        },
        "id": "Oz4rBRwyE-p1",
        "outputId": "ea130279-b845-43dd-a19a-7bb85b44eea4"
      },
      "outputs": [
        {
          "output_type": "execute_result",
          "data": {
            "text/plain": [
              "[10, 23, 33, 38, 43, 47, 54]"
            ]
          },
          "metadata": {},
          "execution_count": 18
        }
      ],
      "source": [
        "# удаление и замена элементов\n",
        "lst10 = [10,23,38,43,47,54]\n",
        "lst10.insert(2,33)\n",
        "lst10"
      ]
    },
    {
      "cell_type": "code",
      "execution_count": 19,
      "metadata": {
        "colab": {
          "base_uri": "https://localhost:8080/"
        },
        "id": "BFTZxLSbKVf_",
        "outputId": "b031e6fa-0d57-4155-dae2-88b391305cc4"
      },
      "outputs": [
        {
          "output_type": "execute_result",
          "data": {
            "text/plain": [
              "[0, 0, 1, 2, 1, 2, 1, 2, 1, 2, 1, 0, 0]"
            ]
          },
          "metadata": {},
          "execution_count": 19
        }
      ],
      "source": [
        "lst11 = [0,0,0,0,0,0,0,0,0,0,0,0,0]\n",
        "lst11[2:11:2] = [1,1,1,1,1]\n",
        "lst11[slice(3,10,2)] = [2,2,2,2]\n",
        "lst11"
      ]
    },
    {
      "cell_type": "code",
      "execution_count": 20,
      "metadata": {
        "colab": {
          "base_uri": "https://localhost:8080/"
        },
        "id": "46y652Ca1Vgy",
        "outputId": "783f4711-286e-4de2-c23c-2c7417ed4026"
      },
      "outputs": [
        {
          "output_type": "execute_result",
          "data": {
            "text/plain": [
              "[1, 2, 3, 5, 7, 9, 11, 13, 14, 15]"
            ]
          },
          "metadata": {},
          "execution_count": 20
        }
      ],
      "source": [
        "lst12 = [1,2,3,4,5,6,7,8,9,10,11,12,13,14,15]\n",
        "del(lst12[3:12:2])\n",
        "lst12"
      ]
    },
    {
      "cell_type": "code",
      "execution_count": 21,
      "metadata": {
        "colab": {
          "base_uri": "https://localhost:8080/"
        },
        "id": "h6xBbjZn2TNs",
        "outputId": "e92031fb-6c0f-4050-f1f6-91c309f53340"
      },
      "outputs": [
        {
          "output_type": "stream",
          "name": "stdout",
          "text": [
            "[1, 2, 3]\n",
            "[]\n"
          ]
        }
      ],
      "source": [
        "lst13 = [1,2,3]; print(lst13)\n",
        "lst13.clear(); print(lst13)"
      ]
    },
    {
      "cell_type": "code",
      "execution_count": 22,
      "metadata": {
        "colab": {
          "base_uri": "https://localhost:8080/"
        },
        "id": "iZ-WvEgL4ugX",
        "outputId": "76a20109-d0d9-4261-d8f5-92b92c72daac"
      },
      "outputs": [
        {
          "output_type": "execute_result",
          "data": {
            "text/plain": [
              "(5, [1, 3, 4], 2, [1, 3, 4])"
            ]
          },
          "metadata": {},
          "execution_count": 22
        }
      ],
      "source": [
        "# удаление по индексу\n",
        "lst14 = [1,2,3,4,5]\n",
        "lst14.pop(),lst14,lst14.pop(1),lst14"
      ]
    },
    {
      "cell_type": "code",
      "execution_count": 23,
      "metadata": {
        "colab": {
          "base_uri": "https://localhost:8080/"
        },
        "id": "02gjhlfW9b0v",
        "outputId": "eaf332aa-b9d0-4a01-d847-29817753f344"
      },
      "outputs": [
        {
          "output_type": "execute_result",
          "data": {
            "text/plain": [
              "(None, [1, 2, 4, 5])"
            ]
          },
          "metadata": {},
          "execution_count": 23
        }
      ],
      "source": [
        "# удаление по значению элемента\n",
        "lst15 = [1,2,3,4,5]\n",
        "lst15.remove(3),lst15"
      ]
    },
    {
      "cell_type": "code",
      "execution_count": 24,
      "metadata": {
        "colab": {
          "base_uri": "https://localhost:8080/"
        },
        "id": "vkiNBOkLEB7Z",
        "outputId": "0de2489b-d117-4fbc-99b2-c398db51d585"
      },
      "outputs": [
        {
          "output_type": "execute_result",
          "data": {
            "text/plain": [
              "([5, 4, 3, 2, 1], None, [5, 4, 3, 2, 1])"
            ]
          },
          "metadata": {},
          "execution_count": 24
        }
      ],
      "source": [
        "# в обратном порядке\n",
        "lst16 = [1,2,3,4,5]\n",
        "lst16[::-1],lst16.reverse(),lst16"
      ]
    },
    {
      "cell_type": "code",
      "execution_count": 25,
      "metadata": {
        "colab": {
          "base_uri": "https://localhost:8080/"
        },
        "id": "Z1cyEV9iGQep",
        "outputId": "2443a55b-dafc-49cc-9412-f41ea590ee43"
      },
      "outputs": [
        {
          "output_type": "stream",
          "name": "stdout",
          "text": [
            "[12, 9, 7, 5, 4, 3, 2, 1]\n",
            "[1, 2, 3, 4, 5, 7, 9, 12]\n"
          ]
        }
      ],
      "source": [
        "# сортировка\n",
        "lst17 = [7,1,2,12,3,9,4,5]\n",
        "lst17.sort(reverse=True); print(lst17)\n",
        "lst17 = sorted(lst17); print(lst17)"
      ]
    },
    {
      "cell_type": "code",
      "execution_count": 26,
      "metadata": {
        "colab": {
          "base_uri": "https://localhost:8080/"
        },
        "id": "MDG3vym1VDUa",
        "outputId": "00930ad2-d7ed-4433-e784-c6e6efaa51a8"
      },
      "outputs": [
        {
          "output_type": "execute_result",
          "data": {
            "text/plain": [
              "('333', False, False, True)"
            ]
          },
          "metadata": {},
          "execution_count": 26
        }
      ],
      "source": [
        "# индексация вложенных списков\n",
        "lst18 = ['1',['22',['333','444'],'55','66'],'7',['88','99'],'0']\n",
        "lst18[1][1][0],'333'in lst18,'333' in lst18[1],'333' in lst18[1][1]"
      ]
    },
    {
      "cell_type": "markdown",
      "metadata": {
        "id": "NxBYvuOyLm5Q"
      },
      "source": [
        "### Тип \"Кортеж\"\n",
        "- итерируемый \n",
        "- коллекция (контейнер)\n",
        "- упорядоченный\n",
        "- неизменяемый\n",
        "- обычно данные разных типов\n",
        "- возможны повторения элементов"
      ]
    },
    {
      "cell_type": "code",
      "execution_count": 27,
      "metadata": {
        "colab": {
          "base_uri": "https://localhost:8080/"
        },
        "id": "kWtWbeI3L3dy",
        "outputId": "37eb234e-89e2-4965-e408-f68d1234045a"
      },
      "outputs": [
        {
          "output_type": "stream",
          "name": "stdout",
          "text": [
            "['__add__', '__class__', '__contains__', '__delattr__', '__dir__']\n",
            "['__doc__', '__eq__', '__format__', '__ge__', '__getattribute__']\n",
            "['__getitem__', '__getnewargs__', '__gt__', '__hash__', '__init__']\n",
            "['__init_subclass__', '__iter__', '__le__', '__len__', '__lt__']\n",
            "['__mul__', '__ne__', '__new__', '__reduce__', '__reduce_ex__']\n",
            "['__repr__', '__rmul__', '__setattr__', '__sizeof__', '__str__']\n",
            "['__subclasshook__', 'count', 'index']\n"
          ]
        }
      ],
      "source": [
        "# свойства объекта\n",
        "for el in [dir((1,2,3))[i:i+5] for i in range(0,35,5)]:\n",
        "    print(el)"
      ]
    },
    {
      "cell_type": "code",
      "execution_count": 28,
      "metadata": {
        "colab": {
          "base_uri": "https://localhost:8080/"
        },
        "id": "f4MZavFkCtq-",
        "outputId": "6295aea5-5d10-483b-8f1f-1937b89a0f08"
      },
      "outputs": [
        {
          "output_type": "execute_result",
          "data": {
            "text/plain": [
              "((),\n",
              " tuple,\n",
              " (1, 2, 'a', 'b', 'c', ('🍋', '🍎', '🍋', '🍎', '🍋', '🍎')),\n",
              " tuple,\n",
              " (True, 1, 2, 3, 'a'),\n",
              " tuple)"
            ]
          },
          "metadata": {},
          "execution_count": 28
        }
      ],
      "source": [
        "# минималистичный синтаксис перечисления\n",
        "t0 = ()\n",
        "t1 = 1,2,'a','b','c',3*('🍊','🍋','🍎','🍐','🍑')[1:3]\n",
        "t2 = (True,1,2,3,'a')\n",
        "t0,type(t0),t1,type(t1),t2,type(t2)"
      ]
    },
    {
      "cell_type": "code",
      "execution_count": 29,
      "metadata": {
        "colab": {
          "base_uri": "https://localhost:8080/"
        },
        "id": "AT95poW6C_9r",
        "outputId": "e24f4cc7-5114-422f-c4e1-69bead0332bb"
      },
      "outputs": [
        {
          "output_type": "execute_result",
          "data": {
            "text/plain": [
              "(True, [1, 3], 'a')"
            ]
          },
          "metadata": {},
          "execution_count": 29
        }
      ],
      "source": [
        "# удаление или всего объекта, \n",
        "# или только фрагмента изменяемого элемента\n",
        "t3 = (True,[1,2,3],'a')\n",
        "del(t3[1][1])\n",
        "t3"
      ]
    },
    {
      "cell_type": "code",
      "execution_count": 30,
      "metadata": {
        "colab": {
          "base_uri": "https://localhost:8080/"
        },
        "id": "WdYsBZnY6CCa",
        "outputId": "9da674d7-18fb-4c00-8b69-9de4d0691090"
      },
      "outputs": [
        {
          "output_type": "execute_result",
          "data": {
            "text/plain": [
              "(([1, 2, 3], ['a', 'b', 'c']), (1, 2, 3, 'a', 'b', 'c'))"
            ]
          },
          "metadata": {},
          "execution_count": 30
        }
      ],
      "source": [
        "# объединение кортежей или другого типа объектов\n",
        "([1,2,3],['a','b','c']),(*[1,2,3],*['a','b','c'])"
      ]
    },
    {
      "cell_type": "markdown",
      "metadata": {
        "id": "LbkiFupTbPZp"
      },
      "source": [
        "## Бинарные последовательные типы `Binary Sequence Types` \n",
        "- `bytes`: неизменяемый, индексируемый\n",
        "- `bytearray`: изменяемый, индексируемый\n",
        "- `memoryview`: доступ к внутренним данным объекта \n",
        "    - с протоколом буфера обмена\n",
        "    - без копирования"
      ]
    },
    {
      "cell_type": "code",
      "execution_count": 31,
      "metadata": {
        "colab": {
          "base_uri": "https://localhost:8080/"
        },
        "id": "KOccM8Ytbcxa",
        "outputId": "234f58b8-e8a1-4fb8-88e0-e3a2ae8a6731"
      },
      "outputs": [
        {
          "output_type": "execute_result",
          "data": {
            "text/plain": [
              "(b'\\x01\\x02\\x03\\x80',\n",
              " b'\\xf4',\n",
              " b'el ni\\xc3\\xb1o come camar\\xc3\\xb3n',\n",
              " b'\\xd8\\xe1\\xb7\\xeb\\xa8\\xe5, \\xd2\\xb7\\xe1')"
            ]
          },
          "metadata": {},
          "execution_count": 31
        }
      ],
      "source": [
        "# встроенная функция-конструктор bytes(),\n",
        "# \"b\" | \"B\" | \"br\" | \"Br\" | \"bR\" | \"BR\" литералы\n",
        "# или кодирование в различных системах\n",
        "bytes([1,2,3,128]),bytes.fromhex('f4'),\\\n",
        "'el niño come camarón'.encode(),\\\n",
        "'привет, мир'.encode('cp855')"
      ]
    },
    {
      "cell_type": "code",
      "execution_count": 32,
      "metadata": {
        "colab": {
          "base_uri": "https://localhost:8080/"
        },
        "id": "DTva_qlfeCzL",
        "outputId": "c0858a3c-720f-49e5-8146-61f563826bbe"
      },
      "outputs": [
        {
          "output_type": "execute_result",
          "data": {
            "text/plain": [
              "(b'123', b'123', b'123', b'abc')"
            ]
          },
          "metadata": {},
          "execution_count": 32
        }
      ],
      "source": [
        "# ASCII symbols & '\\'\n",
        "b'123','123'.encode('ascii'),b'123','abc'.encode('ascii')"
      ]
    },
    {
      "cell_type": "code",
      "execution_count": 33,
      "metadata": {
        "colab": {
          "base_uri": "https://localhost:8080/"
        },
        "id": "A7BIX_F7wAO2",
        "outputId": "655f9ed1-2017-4765-86a2-70100bb1bbac"
      },
      "outputs": [
        {
          "output_type": "execute_result",
          "data": {
            "text/plain": [
              "(112, 'p', [112, 121, 116, 104, 111, 110])"
            ]
          },
          "metadata": {},
          "execution_count": 33
        }
      ],
      "source": [
        "# реакция на встроенные функции\n",
        "ord(b'p'),chr(112),list(b'python')"
      ]
    },
    {
      "cell_type": "code",
      "execution_count": 34,
      "metadata": {
        "colab": {
          "base_uri": "https://localhost:8080/"
        },
        "id": "kDxUZLnChcvJ",
        "outputId": "d9c01671-40b3-46b5-f37b-e710f43dcbd1"
      },
      "outputs": [
        {
          "output_type": "execute_result",
          "data": {
            "text/plain": [
              "('el niño come camarón', 'привет, мир')"
            ]
          },
          "metadata": {},
          "execution_count": 34
        }
      ],
      "source": [
        "# другие символы\n",
        "# обнаружение тех, что есть в юникод, но нет в ascii\n",
        "b'el ni\\xc3\\xb1o come camar\\xc3\\xb3n'.decode(),\\\n",
        "b'\\xd8\\xe1\\xb7\\xeb\\xa8\\xe5, \\xd2\\xb7\\xe1'.decode('cp855')"
      ]
    },
    {
      "cell_type": "code",
      "execution_count": 35,
      "metadata": {
        "colab": {
          "base_uri": "https://localhost:8080/",
          "height": 38
        },
        "id": "-E-Vrlh52awc",
        "outputId": "648ddda7-e1e6-4363-8875-7b31782222c1"
      },
      "outputs": [
        {
          "output_type": "execute_result",
          "data": {
            "text/plain": [
              "'m13hin5 l51rning'"
            ],
            "application/vnd.google.colaboratory.intrinsic+json": {
              "type": "string"
            }
          },
          "metadata": {},
          "execution_count": 35
        }
      ],
      "source": [
        "# встроенные методы\n",
        "btrans = bytes.maketrans(b'abcde',b'12345')\n",
        "string = 'machine learning'\n",
        "string.translate(btrans)"
      ]
    },
    {
      "cell_type": "code",
      "execution_count": 36,
      "metadata": {
        "colab": {
          "base_uri": "https://localhost:8080/",
          "height": 153
        },
        "id": "g6xdeMnn4yxc",
        "outputId": "9eb5be15-e5f1-4a02-b84a-16e88e3fd902"
      },
      "outputs": [
        {
          "output_type": "execute_result",
          "data": {
            "text/plain": [
              "'b\\'\\\\x00\\\\x01\\\\x02\\\\x03\\\\x04\\\\x05\\\\x06\\\\x07\\\\x08\\\\t\\\\n\\\\x0b\\\\x0c\\\\r\\\\x0e\\\\x0f\\\\x10\\\\x11\\\\x12\\\\x13\\\\x14\\\\x15\\\\x16\\\\x17\\\\x18\\\\x19\\\\x1a\\\\x1b\\\\x1c\\\\x1d\\\\x1e\\\\x1f !\"#$%&\\\\\\'()*+,-./0123456789:;<=>?@ABCDEFGHIJKLMNOPQRSTUVWXYZ[\\\\\\\\]^_`12345fghijklmnopqrstuvwxyz{|}~\\\\x7f\\\\x80\\\\x81\\\\x82\\\\x83\\\\x84\\\\x85\\\\x86\\\\x87\\\\x88\\\\x89\\\\x8a\\\\x8b\\\\x8c\\\\x8d\\\\x8e\\\\x8f\\\\x90\\\\x91\\\\x92\\\\x93\\\\x94\\\\x95\\\\x96\\\\x97\\\\x98\\\\x99\\\\x9a\\\\x9b\\\\x9c\\\\x9d\\\\x9e\\\\x9f\\\\xa0\\\\xa1\\\\xa2\\\\xa3\\\\xa4\\\\xa5\\\\xa6\\\\xa7\\\\xa8\\\\xa9\\\\xaa\\\\xab\\\\xac\\\\xad\\\\xae\\\\xaf\\\\xb0\\\\xb1\\\\xb2\\\\xb3\\\\xb4\\\\xb5\\\\xb6\\\\xb7\\\\xb8\\\\xb9\\\\xba\\\\xbb\\\\xbc\\\\xbd\\\\xbe\\\\xbf\\\\xc0\\\\xc1\\\\xc2\\\\xc3\\\\xc4\\\\xc5\\\\xc6\\\\xc7\\\\xc8\\\\xc9\\\\xca\\\\xcb\\\\xcc\\\\xcd\\\\xce\\\\xcf\\\\xd0\\\\xd1\\\\xd2\\\\xd3\\\\xd4\\\\xd5\\\\xd6\\\\xd7\\\\xd8\\\\xd9\\\\xda\\\\xdb\\\\xdc\\\\xdd\\\\xde\\\\xdf\\\\xe0\\\\xe1\\\\xe2\\\\xe3\\\\xe4\\\\xe5\\\\xe6\\\\xe7\\\\xe8\\\\xe9\\\\xea\\\\xeb\\\\xec\\\\xed\\\\xee\\\\xef\\\\xf0\\\\xf1\\\\xf2\\\\xf3\\\\xf4\\\\xf5\\\\xf6\\\\xf7\\\\xf8\\\\xf9\\\\xfa\\\\xfb\\\\xfc\\\\xfd\\\\xfe\\\\xff\\''"
            ],
            "application/vnd.google.colaboratory.intrinsic+json": {
              "type": "string"
            }
          },
          "metadata": {},
          "execution_count": 36
        }
      ],
      "source": [
        "f\"{btrans}\""
      ]
    },
    {
      "cell_type": "code",
      "execution_count": 37,
      "metadata": {
        "colab": {
          "base_uri": "https://localhost:8080/"
        },
        "id": "2hhGN4QW6yaK",
        "outputId": "4837d6c0-76b0-420a-9a32-229084734396"
      },
      "outputs": [
        {
          "output_type": "execute_result",
          "data": {
            "text/plain": [
              "([b'1', b'2', b'3'], b'zbc')"
            ]
          },
          "metadata": {},
          "execution_count": 37
        }
      ],
      "source": [
        "# практически все, что и для строковых литералов\n",
        "b'1,2,3'.split(b','),b'abc'.replace(b'a',b'z')"
      ]
    },
    {
      "cell_type": "code",
      "execution_count": 38,
      "metadata": {
        "colab": {
          "base_uri": "https://localhost:8080/"
        },
        "id": "FdzJ3KaHqfYS",
        "outputId": "e9023675-8b54-46f0-8cb2-35aacebbbb20"
      },
      "outputs": [
        {
          "output_type": "execute_result",
          "data": {
            "text/plain": [
              "b'python has 003 binary sequence types'"
            ]
          },
          "metadata": {},
          "execution_count": 38
        }
      ],
      "source": [
        "# b-форматирование\n",
        "b'%(language)s has %(number)03d binary sequence types'%\\\n",
        "({b'language': b\"python\", b\"number\":3})"
      ]
    },
    {
      "cell_type": "code",
      "execution_count": 39,
      "metadata": {
        "colab": {
          "base_uri": "https://localhost:8080/"
        },
        "id": "g_XISXt7og9s",
        "outputId": "07711782-43cd-45bf-de1a-f3e9fa73f77f"
      },
      "outputs": [
        {
          "output_type": "execute_result",
          "data": {
            "text/plain": [
              "(bytearray(b''),\n",
              " bytearray(b'\\x00\\x00\\x00\\x00\\x00'),\n",
              " bytearray(b'\\x00\\x01\\x02\\x03\\x04'))"
            ]
          },
          "metadata": {},
          "execution_count": 39
        }
      ],
      "source": [
        "# встроенная функция-конструктор bytearray()\n",
        "bytearray(),bytearray(5),bytearray(range(5))"
      ]
    },
    {
      "cell_type": "code",
      "execution_count": 40,
      "metadata": {
        "colab": {
          "base_uri": "https://localhost:8080/"
        },
        "id": "pryj6immBmYE",
        "outputId": "01ed198a-b57f-4fb4-faa8-285f08aa3bbd"
      },
      "outputs": [
        {
          "output_type": "execute_result",
          "data": {
            "text/plain": [
              "(bytearray(b'python'), bytearray(b' !\"#$%&\\'()*+,-./0123456789:;<=>?@ABCDE'))"
            ]
          },
          "metadata": {},
          "execution_count": 40
        }
      ],
      "source": [
        "bytearray(b'python'),bytearray(list(range(32,70)))"
      ]
    },
    {
      "cell_type": "code",
      "execution_count": 41,
      "metadata": {
        "colab": {
          "base_uri": "https://localhost:8080/"
        },
        "id": "9E40YyXSo8eR",
        "outputId": "1921e8b7-d771-4e94-f659-eef420f8c3f6"
      },
      "outputs": [
        {
          "output_type": "stream",
          "name": "stdout",
          "text": [
            "bytearray(b'python bytearray')\n",
            "bytearray(b'pythonbytearray')\n",
            "bytearray(b'python|bytearray')\n",
            "bytearray(b'python|bytearray&')\n"
          ]
        }
      ],
      "source": [
        "# отличие от bytes\n",
        "barr = bytearray(\"python bytearray\", \"utf8\")\n",
        "print(barr)\n",
        "# удаление фрагментов\n",
        "del barr[6:7]; print(barr)\n",
        "# замена элементов\n",
        "barr[6:7] = b\"|b\"; print(barr)\n",
        "# добавление символов\n",
        "barr.append(38); print(barr)"
      ]
    },
    {
      "cell_type": "code",
      "execution_count": 42,
      "metadata": {
        "colab": {
          "base_uri": "https://localhost:8080/"
        },
        "id": "-i7B3FTugsVx",
        "outputId": "60c2d137-e995-46b5-be68-f7dd58e3a4c9"
      },
      "outputs": [
        {
          "output_type": "stream",
          "name": "stdout",
          "text": [
            "bytes: 60.850\n",
            "memoryview: 0.151\n"
          ]
        }
      ],
      "source": [
        "# встроенная функция-конструктор memoryview()\n",
        "# способ модифицировать большие данные без их копирования\n",
        "import time\n",
        "n = 10**6\n",
        "byarr = bytes(n)\n",
        "mvarr = memoryview(byarr)\n",
        "start = time.time()\n",
        "while byarr:\n",
        "    byarr = byarr[1:]\n",
        "print(f\"bytes: {time.time()-start:.3f}\")\n",
        "start = time.time()\n",
        "while mvarr:\n",
        "    mvarr = mvarr[1:]\n",
        "print(f\"memoryview: {time.time()-start:.3f}\")"
      ]
    },
    {
      "cell_type": "markdown",
      "metadata": {
        "id": "YtQT3ZLS6Ms2"
      },
      "source": [
        "## Изменяемые и неизменяемые множества `set`, `frozenset`\n",
        "- неупорядоченные\n",
        "- коллекция хэшируемых объектов или хэшируемый экземпляр\n",
        "- нет повторений элементов\n",
        "- могут состоять из данных разных типов\n",
        "---\n",
        "- `frozenset` - неизменяемое\n",
        "- `set` - изменяемое"
      ]
    },
    {
      "cell_type": "code",
      "execution_count": 43,
      "metadata": {
        "colab": {
          "base_uri": "https://localhost:8080/"
        },
        "id": "xCybg8YE8p_B",
        "outputId": "f65829af-6c29-40b3-bff5-9fec14f6688d"
      },
      "outputs": [
        {
          "output_type": "execute_result",
          "data": {
            "text/plain": [
              "(set(), frozenset(), {0, 1, 2, 3, 4}, frozenset({0, 1, 2, 3, 4}))"
            ]
          },
          "metadata": {},
          "execution_count": 43
        }
      ],
      "source": [
        "# встроенные функции-конструкторы\n",
        "set(),frozenset(),set(range(5)),frozenset(range(5))"
      ]
    },
    {
      "cell_type": "code",
      "execution_count": 44,
      "metadata": {
        "colab": {
          "base_uri": "https://localhost:8080/"
        },
        "id": "EQAtITpl9wQp",
        "outputId": "99661ca5-b9cb-464d-e6e5-9953b90a667b"
      },
      "outputs": [
        {
          "output_type": "execute_result",
          "data": {
            "text/plain": [
              "({14, 3, 9, True, 'a'}, {1, 2, 4, 7, 9}, {1, 2, 4, 7, 9})"
            ]
          },
          "metadata": {},
          "execution_count": 44
        }
      ],
      "source": [
        "# минималистичный синтаксис\n",
        "{14,3,9,'a',True},set([1,2,9,7,4]),set((1,2,9,7,4))"
      ]
    },
    {
      "cell_type": "code",
      "execution_count": 45,
      "metadata": {
        "colab": {
          "base_uri": "https://localhost:8080/"
        },
        "id": "ljnv8H9lC9IX",
        "outputId": "0255938c-882b-4f1e-b6c6-249ef8b64f1e"
      },
      "outputs": [
        {
          "output_type": "stream",
          "name": "stdout",
          "text": [
            "{True, 3, 9, 14, 'bb', 'a'}\n",
            "{3, 9, 14, 'bb', 'a'}\n",
            "{9, 14, 'bb', 'a'}\n",
            "{9, 'bb', 'a'}\n",
            "{'bb', 'a'}\n",
            "set()\n"
          ]
        }
      ],
      "source": [
        "# удаление элементов\n",
        "s01 = {14,3,9,'a',True,'bb'}; print(s01)\n",
        "s01.pop(); print(s01)\n",
        "s01.pop(); print(s01)\n",
        "s01.remove(14); print(s01)\n",
        "# нет ошибки аже если нет элемента\n",
        "s01.discard(9); print(s01)\n",
        "s01.clear(); print(s01)"
      ]
    },
    {
      "cell_type": "code",
      "execution_count": 46,
      "metadata": {
        "colab": {
          "base_uri": "https://localhost:8080/"
        },
        "id": "qzOkzxjU_yka",
        "outputId": "6529f12f-8150-416a-9bfd-15e7c29a7cc3"
      },
      "outputs": [
        {
          "output_type": "stream",
          "name": "stdout",
          "text": [
            "{True, 3, 9, 14, 'bb', 'a'}\n",
            "{True, 3, 9, 14, 'bb', 'a', 'ccc'}\n",
            "{True, 3, 4, 8, 9, 14, 'bb', 'a', 'ccc'}\n",
            "{0, True, 3, 4, 5, 8, 9, 14, 'bb', 'a', 'ccc'}\n"
          ]
        },
        {
          "output_type": "execute_result",
          "data": {
            "text/plain": [
              "{0, 14, 3, 4, 5, 8, 9, True, 'a', 'bb', 'ccc'}"
            ]
          },
          "metadata": {},
          "execution_count": 46
        }
      ],
      "source": [
        "# добавление или копирование элементов\n",
        "s01 = {14,3,9,'a',True}\n",
        "s01.add('bb'); print(s01)\n",
        "s01 |= {'ccc'}; print(s01)\n",
        "s01.update({4,8,3}); print(s01)\n",
        "s01 |= {8,5,0}; print(s01)\n",
        "s01.copy()"
      ]
    },
    {
      "cell_type": "code",
      "execution_count": 47,
      "metadata": {
        "colab": {
          "base_uri": "https://localhost:8080/"
        },
        "id": "N7vrHbcy-MqB",
        "outputId": "5fe65602-227f-4304-f2f9-3b9efe8fec5f"
      },
      "outputs": [
        {
          "output_type": "stream",
          "name": "stdout",
          "text": [
            "{0, True, 2, 3, 4, 5, 7, 8, 9, 'dddd', 14, 'bb', 'a', 'ccc'}\n",
            "{0, True, 2, 3, 4, 5, 7, 8, 9, 'dddd', 14, 'bb', 'a', 'ccc'}\n",
            "{'a', 1, 5}\n",
            "{'a', 1, 5}\n",
            "{0, 3, 4, 8, 9, 14, 'bb', 'ccc'}\n",
            "{0, 3, 4, 8, 9, 14, 'bb', 'ccc'}\n",
            "{0, 2, 3, 4, 7, 8, 'dddd', 9, 14, 'ccc', 'bb'}\n",
            "{0, 2, 3, 4, 7, 8, 'dddd', 9, 14, 'ccc', 'bb'}\n"
          ]
        },
        {
          "output_type": "execute_result",
          "data": {
            "text/plain": [
              "(True, False, True, False, True, False, True, False)"
            ]
          },
          "metadata": {},
          "execution_count": 47
        }
      ],
      "source": [
        "# операции с множествами\n",
        "s02 = {1,2,5,7,'a','dddd'}\n",
        "s03 = s01.union(s02); print(s03)\n",
        "s03 = s01 | s02; print(s03)\n",
        "s04 = s01.intersection(s02); print(s04)\n",
        "s04 = s01 & s02; print(s04)\n",
        "s05 = s01.difference(s02); print(s05)\n",
        "s05 = s01 - s02; print(s05)\n",
        "s06 = s01.symmetric_difference(s02); print(s06)\n",
        "s06 = s01 ^ s02; print(s06)\n",
        "s01.issubset(s03),s02.issubset(s04),\\\n",
        "s01 <= s03,s02 <= s04,\\\n",
        "s03.issuperset(s01),s04.issuperset(s02),\\\n",
        "s03 >= s01,s04 >= s02"
      ]
    },
    {
      "cell_type": "code",
      "execution_count": 48,
      "metadata": {
        "colab": {
          "base_uri": "https://localhost:8080/"
        },
        "id": "UmVv3ultk-7f",
        "outputId": "6b3d999f-3980-4894-f68a-a3f0d5a2061c"
      },
      "outputs": [
        {
          "output_type": "execute_result",
          "data": {
            "text/plain": [
              "(-4742786685087522642,\n",
              " 6131417963612008260,\n",
              " frozenset({1, 2, 3, 'a', 'b', 'c'}),\n",
              " frozenset({3, 'a'}))"
            ]
          },
          "metadata": {},
          "execution_count": 48
        }
      ],
      "source": [
        "# добавить или удалить элементы невозможно\n",
        "s07 = frozenset({1,2,3,'a'})\n",
        "s08 = frozenset({'a','b','c',3})\n",
        "s07.__hash__(),s08.__hash__(),s07 | s08, s07 & s08"
      ]
    },
    {
      "cell_type": "markdown",
      "metadata": {
        "id": "awE919m_8rLa"
      },
      "source": [
        "## Проецирующие типы `Mapping Types — dict`"
      ]
    },
    {
      "cell_type": "code",
      "execution_count": 49,
      "metadata": {
        "colab": {
          "base_uri": "https://localhost:8080/"
        },
        "id": "JmXC5HZw82lg",
        "outputId": "023ca4d5-af00-49ab-bb9b-7e2cab3968eb"
      },
      "outputs": [
        {
          "output_type": "execute_result",
          "data": {
            "text/plain": [
              "({},\n",
              " {},\n",
              " dict,\n",
              " {1: 11, 2: 22, 3: 33, 4: 44, 5: 55},\n",
              " {11: 1, 22: 2, 33: 3, 44: 4, 55: 5},\n",
              " {1: 'привет', 2: 'hello'})"
            ]
          },
          "metadata": {},
          "execution_count": 49
        }
      ],
      "source": [
        "# {} или функция-конструктор dict()\n",
        "xy = {1:11, 2:22, 3:33, 4:44, 5:55}\n",
        "yx = dict(zip(xy.values(), xy.keys()))\n",
        "z = dict([(1, 'привет'), (2, 'hello')]) \n",
        "dict(),{},type({}),xy,yx,z"
      ]
    },
    {
      "cell_type": "code",
      "execution_count": 50,
      "metadata": {
        "colab": {
          "base_uri": "https://localhost:8080/"
        },
        "id": "5ONVW8AISOlg",
        "outputId": "4e1edcd5-5cd6-46af-f5ed-2ad12bae6847"
      },
      "outputs": [
        {
          "output_type": "execute_result",
          "data": {
            "text/plain": [
              "({1: None, 2: None, 3: None},\n",
              " {1: [11, 22, 33], 2: [11, 22, 33], 3: [11, 22, 33]},\n",
              " {1: 11, 2: 22, 3: 33})"
            ]
          },
          "metadata": {},
          "execution_count": 50
        }
      ],
      "source": [
        "# встроенные методы\n",
        "dict.fromkeys([1,2,3]),\\\n",
        "dict.fromkeys([1,2,3],[11,22,33]),\\\n",
        "dict(zip([1,2,3],[11,22,33]))"
      ]
    },
    {
      "cell_type": "code",
      "execution_count": 51,
      "metadata": {
        "colab": {
          "base_uri": "https://localhost:8080/"
        },
        "id": "yA2XAXVBVDQK",
        "outputId": "664a5956-5188-4d53-f68f-f46b57ab9c93"
      },
      "outputs": [
        {
          "output_type": "stream",
          "name": "stdout",
          "text": [
            "()\n",
            "defaultdict(<class 'tuple'>, {1: ()})\n",
            "1\n",
            "defaultdict(<function <lambda> at 0x7fc88e998700>, {1: 1})\n"
          ]
        }
      ],
      "source": [
        "# используя модули\n",
        "from collections import defaultdict as dd\n",
        "d = dd(tuple)\n",
        "print(d[1], d, sep='\\n')\n",
        "d = dd(lambda:1)\n",
        "print(d[1], d, sep='\\n')"
      ]
    },
    {
      "cell_type": "code",
      "execution_count": 52,
      "metadata": {
        "colab": {
          "base_uri": "https://localhost:8080/"
        },
        "id": "lErh8VOKi1kt",
        "outputId": "54b0a3be-d21f-4111-8907-7c92a9b3de94"
      },
      "outputs": [
        {
          "output_type": "execute_result",
          "data": {
            "text/plain": [
              "(dict_keys([1, 2]),\n",
              " dict_values(['привет', 'hello']),\n",
              " dict_items([(1, 'привет'), (2, 'hello')]),\n",
              " 'привет',\n",
              " 'привет')"
            ]
          },
          "metadata": {},
          "execution_count": 52
        }
      ],
      "source": [
        "# состав объектов\n",
        "z.keys(),z.values(),z.items(),\\\n",
        "z.get(1),z[1]"
      ]
    },
    {
      "cell_type": "code",
      "execution_count": 53,
      "metadata": {
        "colab": {
          "base_uri": "https://localhost:8080/"
        },
        "id": "HJDRlDTWnKQT",
        "outputId": "9cf20217-1b1e-4108-c675-a186973d1d23"
      },
      "outputs": [
        {
          "output_type": "stream",
          "name": "stdout",
          "text": [
            "{1: 111, 2: 222}\n",
            "{1: 111, 2: 222, 3: 444, 4: 333}\n",
            "{1: 111, 2: 222, 3: 333, 4: 333}\n",
            "{1: 111, 2: 222, 3: 333}\n",
            "{1: 111, 2: 222}\n"
          ]
        }
      ],
      "source": [
        "# изменение объектов\n",
        "d = {1:111,2:222}; print(d)\n",
        "d.update({3:444,4:333}); print(d)\n",
        "d[3] = 333; print(d)\n",
        "del d[4]; print(d)\n",
        "d.pop(3); print(d)"
      ]
    },
    {
      "cell_type": "code",
      "execution_count": 54,
      "metadata": {
        "colab": {
          "base_uri": "https://localhost:8080/"
        },
        "id": "BSPVzC6wTWub",
        "outputId": "1048ab5f-13a9-45c8-b34a-bb8b1c4d9c3a"
      },
      "outputs": [
        {
          "output_type": "stream",
          "name": "stdout",
          "text": [
            "{0: None}\n",
            "{0: None, 1: 111} 111\n"
          ]
        }
      ],
      "source": [
        "d = {}; v = 111\n",
        "d.setdefault(0); print(d)\n",
        "d.setdefault(1,v); print(d,v)"
      ]
    },
    {
      "cell_type": "code",
      "execution_count": 55,
      "metadata": {
        "colab": {
          "base_uri": "https://localhost:8080/"
        },
        "id": "WKfimUgzQyfM",
        "outputId": "f93c4a90-f785-4c89-89fd-0c7ec45a5526"
      },
      "outputs": [
        {
          "output_type": "execute_result",
          "data": {
            "text/plain": [
              "(3, 555)"
            ]
          },
          "metadata": {},
          "execution_count": 55
        }
      ],
      "source": [
        "# применение встроенных функций\n",
        "d = {1: 111, 3: 333, 5: 555}\n",
        "len(d),d[max(d.keys(), key=(lambda k: d[k]))]"
      ]
    },
    {
      "cell_type": "markdown",
      "metadata": {
        "id": "rqhHCVVlYkRB"
      },
      "source": [
        "## Итераторы `iterator`, в том числе генераторы `generator`\n",
        "- для поэлементного исследования контейнеров\n",
        "- реализованы как классы\n",
        "- могут определяться в пользовательских классах\n",
        "\n",
        "- `container.__iter__()` - итератор данного контейнера\n",
        "    - может быть несколько типов для одного контейнера\n",
        "- `iterator.__iter__()` - объект-итератор\n",
        "    - контейнер и итератор должны поддерживать действия с `for` и `in`\n",
        "- `iterator.__next__()` - правило получения следующего элемента контейнера\n",
        "- `generator` - наиболее удобная формулировка итератора"
      ]
    },
    {
      "cell_type": "code",
      "execution_count": 56,
      "metadata": {
        "id": "mPJ7_W9sioQy",
        "colab": {
          "base_uri": "https://localhost:8080/"
        },
        "outputId": "dcd929c1-9c0f-45f0-c622-6fc81da4d973"
      },
      "outputs": [
        {
          "output_type": "execute_result",
          "data": {
            "text/plain": [
              "([1, 2, 3], [])"
            ]
          },
          "metadata": {},
          "execution_count": 56
        }
      ],
      "source": [
        "# встроенные функции iter(), next()\n",
        "niter = iter([1, 2, 3])\n",
        "[next(niter) for i in range(3)],\\\n",
        "list(niter)"
      ]
    },
    {
      "cell_type": "code",
      "source": [
        "# итератор интервала\n",
        "class Range:\n",
        "    def __init__(self, start, end, step):\n",
        "        self.start = start\n",
        "        self.end = end\n",
        "        self.step = step\n",
        "    def __iter__(self):\n",
        "        return self\n",
        "    def __next__(self):\n",
        "        if self.start < self.end:\n",
        "            i = self.start\n",
        "            self.start += self.step\n",
        "            return i\n",
        "        else:\n",
        "            raise StopIteration()\n",
        "r = Range(-1,3,.5)\n",
        "tuple(r),list(r)"
      ],
      "metadata": {
        "colab": {
          "base_uri": "https://localhost:8080/"
        },
        "id": "bb5Rw_iXDIRv",
        "outputId": "3a556b80-4496-4358-e6b7-bc859161ad79"
      },
      "execution_count": 57,
      "outputs": [
        {
          "output_type": "execute_result",
          "data": {
            "text/plain": [
              "((-1, -0.5, 0.0, 0.5, 1.0, 1.5, 2.0, 2.5), [])"
            ]
          },
          "metadata": {},
          "execution_count": 57
        }
      ]
    },
    {
      "cell_type": "code",
      "source": [
        "# итератор и итерируемый объект совпадают\n",
        "class RangeI:\n",
        "    def __init__(self, start, end, step):\n",
        "        self.start = start\n",
        "        self.end = end\n",
        "        self.step = step\n",
        "    def __iter__(self):\n",
        "        return RangeIter(self.start, self.end, self.step)\n",
        "class RangeIter:\n",
        "    def __init__(self, start, end, step):\n",
        "        self.start = start\n",
        "        self.end = end\n",
        "        self.step = step\n",
        "    def __iter__(self):\n",
        "        return self\n",
        "    def __next__(self):\n",
        "        if self.start < self.end:\n",
        "            i = self.start\n",
        "            self.start += self.step\n",
        "            return i\n",
        "        else:\n",
        "            raise StopIteration()\n",
        "ri = RangeI(-1,3,.5)\n",
        "tuple(ri),list(ri)"
      ],
      "metadata": {
        "colab": {
          "base_uri": "https://localhost:8080/"
        },
        "id": "jFw0YoB8KnYh",
        "outputId": "7974da2e-b5e5-42a4-ae0b-8014b9362496"
      },
      "execution_count": 58,
      "outputs": [
        {
          "output_type": "execute_result",
          "data": {
            "text/plain": [
              "((-1, -0.5, 0.0, 0.5, 1.0, 1.5, 2.0, 2.5),\n",
              " [-1, -0.5, 0.0, 0.5, 1.0, 1.5, 2.0, 2.5])"
            ]
          },
          "metadata": {},
          "execution_count": 58
        }
      ]
    },
    {
      "cell_type": "code",
      "source": [
        "from random import randint\n",
        "def rroll(): return randint(0,9)\n",
        "# итератор, останавливающийся при условии\n",
        "# достижения определенного значения\n",
        "for r in iter(rroll, 0):\n",
        "    print(r, end=' ')"
      ],
      "metadata": {
        "colab": {
          "base_uri": "https://localhost:8080/"
        },
        "id": "e8Os5HhMF8rX",
        "outputId": "0ac4c680-e573-4245-9772-97b2dd6be9e7"
      },
      "execution_count": 59,
      "outputs": [
        {
          "output_type": "stream",
          "name": "stdout",
          "text": [
            "6 2 4 8 7 3 6 8 5 8 2 9 4 5 4 "
          ]
        }
      ]
    },
    {
      "cell_type": "code",
      "source": [
        "# генератор-функция - итератор, \n",
        "# производящий последовательные значения\n",
        "def grange(start, end, step):\n",
        "    i = start\n",
        "    while i < end:\n",
        "        yield i\n",
        "        i += step\n",
        "g = grange(-1,3,.5)\n",
        "tuple(g),list(g)"
      ],
      "metadata": {
        "colab": {
          "base_uri": "https://localhost:8080/"
        },
        "id": "IWZ9NCySnRk9",
        "outputId": "fd2253e7-146b-43af-e321-a20e336bd966"
      },
      "execution_count": 60,
      "outputs": [
        {
          "output_type": "execute_result",
          "data": {
            "text/plain": [
              "((-1, -0.5, 0.0, 0.5, 1.0, 1.5, 2.0, 2.5), [])"
            ]
          },
          "metadata": {},
          "execution_count": 60
        }
      ]
    },
    {
      "cell_type": "code",
      "source": [
        "# генератор-выражение\n",
        "ge = (x*x for x in range(10))\n",
        "tuple(ge),list(ge)"
      ],
      "metadata": {
        "colab": {
          "base_uri": "https://localhost:8080/"
        },
        "id": "PiInJdybnaCw",
        "outputId": "03e495c1-ae06-4323-bc59-a17ada58a37d"
      },
      "execution_count": 61,
      "outputs": [
        {
          "output_type": "execute_result",
          "data": {
            "text/plain": [
              "((0, 1, 4, 9, 16, 25, 36, 49, 64, 81), [])"
            ]
          },
          "metadata": {},
          "execution_count": 61
        }
      ]
    },
    {
      "cell_type": "code",
      "source": [
        "# допустимый синтаксис\n",
        "sum(x*x for x in range(10))"
      ],
      "metadata": {
        "colab": {
          "base_uri": "https://localhost:8080/"
        },
        "id": "3qZK1ONGwGcj",
        "outputId": "b4ecfd95-5faf-4250-9022-e108350a2aa6"
      },
      "execution_count": 62,
      "outputs": [
        {
          "output_type": "execute_result",
          "data": {
            "text/plain": [
              "285"
            ]
          },
          "metadata": {},
          "execution_count": 62
        }
      ]
    },
    {
      "cell_type": "markdown",
      "metadata": {
        "id": "4bO3dVfh97Q_"
      },
      "source": [
        "## Вызываемые типы `Callable Types`\n",
        "Концепция - повторное использование кода\n",
        "\n",
        "встроенные и пользовательские\n",
        "- классы `Classes and Class Instances`\n",
        "- функции `Functions`\n",
        "- методы `Methods`\n",
        "\n",
        "### Классы `Classes and Class Instances`"
      ]
    },
    {
      "cell_type": "code",
      "execution_count": 63,
      "metadata": {
        "colab": {
          "base_uri": "https://localhost:8080/"
        },
        "id": "lYmgKfR098Cj",
        "outputId": "1b8ca8ac-4921-4681-be56-442e67821afb"
      },
      "outputs": [
        {
          "output_type": "execute_result",
          "data": {
            "text/plain": [
              "('A', 12, 'Tom')"
            ]
          },
          "metadata": {},
          "execution_count": 63
        }
      ],
      "source": [
        "# создание пользовательских типов данных (class)\n",
        "# и объектов (экземпляров класса) со свойствами и поведением \n",
        "class Student: # тип данных\n",
        "    grade = 'A'\n",
        "    number = 12\n",
        "    name = 'Tom'\n",
        "s = Student() # объект\n",
        "s.grade,s.number,s.name"
      ]
    },
    {
      "cell_type": "code",
      "execution_count": 64,
      "metadata": {
        "colab": {
          "base_uri": "https://localhost:8080/"
        },
        "id": "35mL3EEjfO-E",
        "outputId": "56265585-02f1-4d38-9e27-61459d63b9c9"
      },
      "outputs": [
        {
          "output_type": "execute_result",
          "data": {
            "text/plain": [
              "[Person(name=John, grade=A, number=10),\n",
              " Person(name=Anne, grade=A, number=8),\n",
              " Person(name=Mary, grade=B, number=2)]"
            ]
          },
          "metadata": {},
          "execution_count": 64
        }
      ],
      "source": [
        "# методы класса определяют реакцию объекта\n",
        "class Person:\n",
        "    def __init__(self, grade, number, name):\n",
        "        self.grade = grade\n",
        "        self.number = number\n",
        "        self.name = name\n",
        "    def __repr__(self):\n",
        "        return f'Person(name={self.name}, grade={self.grade}, number={self.number})'\n",
        "    def __lt__(self, other):\n",
        "        return self.number < other.number\n",
        "data = [{'name':'John','grade':'A','number':10},\n",
        "        {'name':'Anne','grade':'A','number':8},\n",
        "        {'name':'Mary','grade':'B','number':2}]\n",
        "[Person(**row) for row in data]"
      ]
    },
    {
      "cell_type": "markdown",
      "metadata": {
        "id": "7yiJh0cpJn3u"
      },
      "source": [
        "### Функции `Functions`\n",
        "- объекты `first class`\n",
        "    - для любых языков\n",
        "        - передаются как параметр\n",
        "        - возвращаются функцией\n",
        "        - присваиваются переменной\n",
        "    - для python\n",
        "        - динамически создаются\n",
        "- сложные \"вложенные\" функции\n",
        "    - аргумент или результат - другая функция\n",
        "- многократное использование\n",
        "    - `Don’t Repeat Yourself (DRY)`\n",
        "- декомпозиция программирования\n",
        "    - разбиение задачи на подзадачи"
      ]
    },
    {
      "cell_type": "code",
      "execution_count": 65,
      "metadata": {
        "colab": {
          "base_uri": "https://localhost:8080/"
        },
        "id": "LFPaStYRiucA",
        "outputId": "8d687bda-b604-41da-85bb-0a7cb7479b5b"
      },
      "outputs": [
        {
          "output_type": "execute_result",
          "data": {
            "text/plain": [
              "(enumerate,\n",
              " [(0, 'зима'), (1, 'весна'), (2, 'лето'), (3, 'осень')],\n",
              " zip,\n",
              " {(1, 4, 7), (2, 5, 8), (3, 6, 9)})"
            ]
          },
          "metadata": {},
          "execution_count": 65
        }
      ],
      "source": [
        "# встроенные\n",
        "seasons = enumerate(['зима','весна','лето','осень'])\n",
        "numbers = zip(*([1,2,3],[4,5,6],[7,8,9]))\n",
        "type(seasons),list(seasons),\\\n",
        "type(numbers),set(numbers)"
      ]
    },
    {
      "cell_type": "code",
      "execution_count": 66,
      "metadata": {
        "colab": {
          "base_uri": "https://localhost:8080/"
        },
        "id": "KnkW0wZlOlQs",
        "outputId": "722c808a-5a44-44bd-c6f9-b7068027cb5c"
      },
      "outputs": [
        {
          "output_type": "stream",
          "name": "stdout",
          "text": [
            "pow_xy = 125\n"
          ]
        }
      ],
      "source": [
        "code_string = 'x=%d \\ny=%d \\np=x**y \\nprint(\"pow_xy =\",p)'\n",
        "code_obejct = compile(\n",
        "    code_string%(5,3),'codestring','exec')\n",
        "exec(code_obejct)"
      ]
    },
    {
      "cell_type": "code",
      "execution_count": 67,
      "metadata": {
        "colab": {
          "base_uri": "https://localhost:8080/"
        },
        "id": "9UrNEqfcJwdX",
        "outputId": "4cb1a514-2b10-4c7e-aa30-62c51f69461e"
      },
      "outputs": [
        {
          "output_type": "execute_result",
          "data": {
            "text/plain": [
              "25"
            ]
          },
          "metadata": {},
          "execution_count": 67
        }
      ],
      "source": [
        "# пользовательские\n",
        "def sum_square(x, y):\n",
        "    return (x*x + 2*x*y + y*y)\n",
        "sum_square(2, 3)"
      ]
    },
    {
      "cell_type": "code",
      "execution_count": 68,
      "metadata": {
        "colab": {
          "base_uri": "https://localhost:8080/"
        },
        "id": "5ynYktY7KmHu",
        "outputId": "921cb1df-8cf7-4c46-fa31-0805b851b944"
      },
      "outputs": [
        {
          "output_type": "execute_result",
          "data": {
            "text/plain": [
              "True"
            ]
          },
          "metadata": {},
          "execution_count": 68
        }
      ],
      "source": [
        "# анонимные\n",
        "y = lambda x: True if x**4 > 50 else False\n",
        "y(5)"
      ]
    },
    {
      "cell_type": "code",
      "execution_count": 69,
      "metadata": {
        "colab": {
          "base_uri": "https://localhost:8080/",
          "height": 38
        },
        "id": "qE7w1b3m1v_e",
        "outputId": "3d81621f-05ee-416d-f464-a3e4924d2725"
      },
      "outputs": [
        {
          "output_type": "execute_result",
          "data": {
            "text/plain": [
              "'9 8 7 6 5 4 3 2 1 0'"
            ],
            "application/vnd.google.colaboratory.intrinsic+json": {
              "type": "string"
            }
          },
          "metadata": {},
          "execution_count": 69
        }
      ],
      "source": [
        "# рекурсивные\n",
        "def countdown(n):\n",
        "    return 0 if n == 0 else ' '.join([str(n),str(countdown(n-1))])\n",
        "countdown(9)"
      ]
    },
    {
      "cell_type": "code",
      "source": [
        "# сложные \n",
        "def base(x):\n",
        "    def pow_y(y):\n",
        "        return x ** y\n",
        "    return pow_y\n",
        "x,y = 2,10\n",
        "x,y,base(x)(y)"
      ],
      "metadata": {
        "colab": {
          "base_uri": "https://localhost:8080/"
        },
        "id": "kf7JqKQqrnqb",
        "outputId": "a40d3cdf-6a5e-409a-ab0d-f69f34f573c5"
      },
      "execution_count": 70,
      "outputs": [
        {
          "output_type": "execute_result",
          "data": {
            "text/plain": [
              "(2, 10, 1024)"
            ]
          },
          "metadata": {},
          "execution_count": 70
        }
      ]
    },
    {
      "cell_type": "markdown",
      "metadata": {
        "id": "0EN96nKjxX-x"
      },
      "source": [
        "### Методы `Methods`"
      ]
    },
    {
      "cell_type": "code",
      "execution_count": 71,
      "metadata": {
        "colab": {
          "base_uri": "https://localhost:8080/"
        },
        "id": "BZKST3HxwbHY",
        "outputId": "b2b11444-505d-4faa-f371-863de49dc633"
      },
      "outputs": [
        {
          "output_type": "execute_result",
          "data": {
            "text/plain": [
              "['__add__',\n",
              " '__class__',\n",
              " '__contains__',\n",
              " '__delattr__',\n",
              " '__delitem__',\n",
              " '__dir__',\n",
              " '__doc__',\n",
              " '__eq__',\n",
              " '__format__',\n",
              " '__ge__',\n",
              " '__getattribute__',\n",
              " '__getitem__',\n",
              " '__gt__',\n",
              " '__hash__',\n",
              " '__iadd__',\n",
              " '__imul__',\n",
              " '__init__',\n",
              " '__init_subclass__',\n",
              " '__iter__',\n",
              " '__le__',\n",
              " '__len__',\n",
              " '__lt__',\n",
              " '__mul__',\n",
              " '__ne__',\n",
              " '__new__',\n",
              " '__reduce__',\n",
              " '__reduce_ex__',\n",
              " '__repr__',\n",
              " '__reversed__',\n",
              " '__rmul__',\n",
              " '__setattr__',\n",
              " '__setitem__',\n",
              " '__sizeof__',\n",
              " '__str__',\n",
              " '__subclasshook__']"
            ]
          },
          "metadata": {},
          "execution_count": 71
        }
      ],
      "source": [
        "# магические (внутренние) методы классов\n",
        "# не предназначены для вызова пользователем\n",
        "def mmethods(cls):\n",
        "    return [m for m in dir(cls) if '__' in m]\n",
        "mmethods(list)"
      ]
    },
    {
      "cell_type": "code",
      "execution_count": 72,
      "metadata": {
        "colab": {
          "base_uri": "https://localhost:8080/"
        },
        "id": "iOWm0oqXxXX0",
        "outputId": "c2092d94-8602-4c9f-f002-476f4d12c3e7"
      },
      "outputs": [
        {
          "output_type": "stream",
          "name": "stdout",
          "text": [
            "['append', 'clear', 'copy', 'count', 'extend', 'index', 'insert', 'pop', 'remove', 'reverse', 'sort']\n"
          ]
        },
        {
          "output_type": "execute_result",
          "data": {
            "text/plain": [
              "[3, 2, 1]"
            ]
          },
          "metadata": {},
          "execution_count": 72
        }
      ],
      "source": [
        "# встроенные методы классов\n",
        "def bmethods(cls):\n",
        "    return [m for m in dir(cls) if '__' not in m]\n",
        "print(bmethods(list))\n",
        "# вызов пользователем\n",
        "[3,2,1].copy()"
      ]
    },
    {
      "cell_type": "code",
      "execution_count": 73,
      "metadata": {
        "colab": {
          "base_uri": "https://localhost:8080/"
        },
        "id": "UYnr6iDxv6WK",
        "outputId": "182344c1-c480-4ea4-9393-54247fabaae4"
      },
      "outputs": [
        {
          "output_type": "stream",
          "name": "stdout",
          "text": [
            "сфера с центром в точке (0, 0, 0) и радиусом 1\n",
            "сфера с центром в точке (5, 5, 5) и радиусом 1\n",
            "True\n"
          ]
        },
        {
          "output_type": "execute_result",
          "data": {
            "text/plain": [
              "(<__main__.Sphere at 0x7fc88e99db50>,\n",
              " <__main__.Sphere at 0x7fc88e99d7c0>,\n",
              " 'сфера с центром в точке (0, 0, 0) и радиусом 1',\n",
              " 'сфера с центром в точке (5, 5, 5) и радиусом 1')"
            ]
          },
          "metadata": {},
          "execution_count": 73
        }
      ],
      "source": [
        "# пользовательские магические методы классов\n",
        "# объявление класса \n",
        "# с определением равенства объектов\n",
        "# и формата их строкового представления \n",
        "class Sphere:\n",
        "    def __init__(self, x, y, z, r):\n",
        "        self.x = x\n",
        "        self.y = y\n",
        "        self.z = z\n",
        "        self.r = r\n",
        "    def __eq__(self, other):\n",
        "        return self.r == other.r\n",
        "    def __str__(self):\n",
        "        return f\"сфера с центром в точке {self.x,self.y,self.z} \"+\\\n",
        "               f\"и радиусом {self.r}\"\n",
        "s1 = Sphere(0,0,0,1)\n",
        "s2 = Sphere(5,5,5,1)\n",
        "print(s1,s2,s1==s2,sep='\\n')\n",
        "s1,s2,str(s1),str(s2)"
      ]
    },
    {
      "cell_type": "code",
      "execution_count": 74,
      "metadata": {
        "colab": {
          "base_uri": "https://localhost:8080/"
        },
        "id": "LrAzqvUZ0eOb",
        "outputId": "48d583b9-84fc-4787-9d8a-f9e30a69d7eb"
      },
      "outputs": [
        {
          "output_type": "stream",
          "name": "stdout",
          "text": [
            "28.26 18.84\n"
          ]
        }
      ],
      "source": [
        "# пользовательские методы классов\n",
        "# объявление класса с определением методов объектов\n",
        "class Circle():\n",
        "    def __init__(self, center, radius):\n",
        "        self.x = center[0]\n",
        "        self.y = center[1]\n",
        "        self.radius = radius\n",
        "    def area(self):\n",
        "        return self.radius ** 2 * 3.14\n",
        "    def perimeter(self):\n",
        "        return 2 * self.radius * 3.14\n",
        "с = Circle([0,0],3)\n",
        "print(с.area(),с.perimeter()) "
      ]
    },
    {
      "cell_type": "markdown",
      "metadata": {
        "id": "MIf2JfoIiyY5"
      },
      "source": [
        "## Модули `Modules`\n",
        "- организованные фрагменты кода\n",
        "- файлы с расширением `.py`\n",
        "\n",
        "Классификация\n",
        "- встроенные (`Python Standard library`)\n",
        "- установленные пользователем\n",
        "- созданные пользователем\n"
      ]
    },
    {
      "cell_type": "code",
      "execution_count": 75,
      "metadata": {
        "colab": {
          "base_uri": "https://localhost:8080/"
        },
        "id": "FNyJE8hQ9YBv",
        "outputId": "d278698e-a8fa-4305-891b-4c0af0351d6d"
      },
      "outputs": [
        {
          "output_type": "execute_result",
          "data": {
            "text/plain": [
              "(3.141592653589793, 1.0)"
            ]
          },
          "metadata": {},
          "execution_count": 75
        }
      ],
      "source": [
        "# вызов стандартного модуля\n",
        "import math\n",
        "math.pi, math.cos(2*math.pi)"
      ]
    },
    {
      "cell_type": "code",
      "execution_count": 76,
      "metadata": {
        "colab": {
          "base_uri": "https://localhost:8080/"
        },
        "id": "nHcWoSp13iIa",
        "outputId": "6bf53a35-8602-456b-d5b3-2b2f2ebbdf57"
      },
      "outputs": [
        {
          "output_type": "execute_result",
          "data": {
            "text/plain": [
              "array([0.        , 0.69314718, 1.09861229])"
            ]
          },
          "metadata": {},
          "execution_count": 76
        }
      ],
      "source": [
        "# вызов установленного модуля с переименованием\n",
        "import numpy as np\n",
        "np.log([1,2,3])"
      ]
    },
    {
      "cell_type": "code",
      "execution_count": 77,
      "metadata": {
        "colab": {
          "base_uri": "https://localhost:8080/",
          "height": 59
        },
        "id": "VPJsfeaM3_mn",
        "outputId": "837f0c20-04ab-4907-a4cd-ff66539b16c0"
      },
      "outputs": [
        {
          "output_type": "display_data",
          "data": {
            "text/plain": [
              "2*x + y"
            ],
            "text/latex": "$\\displaystyle 2 x + y$"
          },
          "metadata": {}
        },
        {
          "output_type": "display_data",
          "data": {
            "text/plain": [
              "x + 3*y**2"
            ],
            "text/latex": "$\\displaystyle x + 3 y^{2}$"
          },
          "metadata": {}
        }
      ],
      "source": [
        "# использование функций из модуля\n",
        "from IPython.display import display\n",
        "from sympy import symbols\n",
        "x,y = symbols('x,y')\n",
        "f = x**2 + x*y + y**3\n",
        "display(f.diff(x), f.diff(y))"
      ]
    },
    {
      "cell_type": "code",
      "execution_count": 78,
      "metadata": {
        "colab": {
          "base_uri": "https://localhost:8080/"
        },
        "id": "oPE7njzT5sDn",
        "outputId": "f374832c-a586-48db-8026-96aad171e931"
      },
      "outputs": [
        {
          "output_type": "stream",
          "name": "stdout",
          "text": [
            "Writing ctext.py\n"
          ]
        }
      ],
      "source": [
        "# создание собственного модуля\n",
        "%%writefile ctext.py\n",
        "from IPython.display import display,HTML\n",
        "\n",
        "f1,f2,f3,f4,f5,f6,f7,f8=\\\n",
        "'Akronim','Wallpoet','Orbitron','Ewert',\\\n",
        "'Lobster','Roboto','Miss Fajardose','Monoton'\n",
        "\n",
        "def color_text(string,font_family=f1,font_size=24,font_color='#ff36ff'):\n",
        "    css_str=\"\"\"<style>@import \"\"\"+\\\n",
        "    \"\"\"'https://fonts.googleapis.com/css?family=\"\"\"+font_family+\"\"\"'; \n",
        "    .ch1 {color:\"\"\"+font_color+\"\"\"; font-family:\"\"\"+font_family+\"\"\"; \n",
        "    font-size:\"\"\"+str(font_size)+\"\"\"px;}</style>\"\"\"\n",
        "    h1_str=\"\"\"<h1 class='ch1'>\"\"\"+string+\"\"\"</h1>\"\"\"\n",
        "    display(HTML(css_str+h1_str))"
      ]
    },
    {
      "cell_type": "code",
      "execution_count": 79,
      "metadata": {
        "colab": {
          "base_uri": "https://localhost:8080/",
          "height": 67
        },
        "id": "9K6U9KOD69G7",
        "outputId": "880b6134-29bf-463f-df03-1d270f035d84"
      },
      "outputs": [
        {
          "output_type": "display_data",
          "data": {
            "text/plain": [
              "<IPython.core.display.HTML object>"
            ],
            "text/html": [
              "<style>@import 'https://fonts.googleapis.com/css?family=Akronim'; \n",
              "    .ch1 {color:#ff36ff; font-family:Akronim; \n",
              "    font-size:24px;}</style><h1 class='ch1'>hello</h1>"
            ]
          },
          "metadata": {}
        }
      ],
      "source": [
        "import ctext\n",
        "ctext.color_text('hello')"
      ]
    },
    {
      "cell_type": "markdown",
      "metadata": {
        "id": "nZWO9HQy9ZCn"
      },
      "source": [
        "## Другие типы\n",
        "- `Context Manager Types`\n",
        "- `Type Annotation Types`\n",
        "- ..."
      ]
    }
  ],
  "metadata": {
    "colab": {
      "provenance": []
    },
    "kernelspec": {
      "display_name": "Python 3",
      "name": "python3"
    },
    "language_info": {
      "name": "python"
    }
  },
  "nbformat": 4,
  "nbformat_minor": 0
}