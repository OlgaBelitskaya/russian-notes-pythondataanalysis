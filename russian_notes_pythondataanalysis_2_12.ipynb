{
  "nbformat": 4,
  "nbformat_minor": 0,
  "metadata": {
    "colab": {
      "provenance": []
    },
    "kernelspec": {
      "name": "python3",
      "display_name": "Python 3"
    },
    "language_info": {
      "name": "python"
    }
  },
  "cells": [
    {
      "cell_type": "markdown",
      "source": [
        "# 2.12 Строки и методы их обработки"
      ],
      "metadata": {
        "id": "vX1HUrfDJary"
      }
    },
    {
      "cell_type": "markdown",
      "source": [
        "## Извлечение и преобразование фрагментов"
      ],
      "metadata": {
        "id": "zFMQXrXOLrgv"
      }
    },
    {
      "cell_type": "code",
      "source": [
        "# извлечение и преобразование в числовые значения\n",
        "a,b,c = map(float,'1|2|3'.split('|'))\n",
        "a,b,c,a*b*c"
      ],
      "metadata": {
        "colab": {
          "base_uri": "https://localhost:8080/"
        },
        "id": "3U5H4qcbJvVw",
        "outputId": "d4fa96b8-cfa1-4215-d8f5-df3bace9fd94"
      },
      "execution_count": 1,
      "outputs": [
        {
          "output_type": "execute_result",
          "data": {
            "text/plain": [
              "(1.0, 2.0, 3.0, 6.0)"
            ]
          },
          "metadata": {},
          "execution_count": 1
        }
      ]
    },
    {
      "cell_type": "code",
      "source": [
        "# ограничение количества фрагментов\n",
        "'string methods in python'.split(' ',maxsplit=2)"
      ],
      "metadata": {
        "colab": {
          "base_uri": "https://localhost:8080/"
        },
        "id": "yakwH4Bum56L",
        "outputId": "b0e20a5a-19ef-4165-c6c8-0cd9feba862b"
      },
      "execution_count": 2,
      "outputs": [
        {
          "output_type": "execute_result",
          "data": {
            "text/plain": [
              "['string', 'methods', 'in python']"
            ]
          },
          "metadata": {},
          "execution_count": 2
        }
      ]
    },
    {
      "cell_type": "code",
      "source": [
        "# извлечение и преобразование в списки, кортежи и пр.\n",
        "list('довод'), tuple('довод'), set('довод')"
      ],
      "metadata": {
        "colab": {
          "base_uri": "https://localhost:8080/"
        },
        "id": "2moxDjGUMLXv",
        "outputId": "18337355-f1ce-49f8-a0a6-42e28838ceca"
      },
      "execution_count": 3,
      "outputs": [
        {
          "output_type": "execute_result",
          "data": {
            "text/plain": [
              "(['д', 'о', 'в', 'о', 'д'], ('д', 'о', 'в', 'о', 'д'), {'в', 'д', 'о'})"
            ]
          },
          "metadata": {},
          "execution_count": 3
        }
      ]
    },
    {
      "cell_type": "code",
      "source": [
        "'string methods in python'.rsplit(' ',maxsplit=2)"
      ],
      "metadata": {
        "colab": {
          "base_uri": "https://localhost:8080/"
        },
        "id": "t43xFgsrnT1l",
        "outputId": "43473cb4-7cf5-4601-d7d4-312277d37a2b"
      },
      "execution_count": 4,
      "outputs": [
        {
          "output_type": "execute_result",
          "data": {
            "text/plain": [
              "['string methods', 'in', 'python']"
            ]
          },
          "metadata": {},
          "execution_count": 4
        }
      ]
    },
    {
      "cell_type": "code",
      "source": [
        "# split vs splitlines\n",
        "'две линии\\n'.split('\\n')"
      ],
      "metadata": {
        "colab": {
          "base_uri": "https://localhost:8080/"
        },
        "id": "8_5Xnmecqvh-",
        "outputId": "eb7d0a38-465c-4486-a9d2-6e7a73e8bbfe"
      },
      "execution_count": 5,
      "outputs": [
        {
          "output_type": "execute_result",
          "data": {
            "text/plain": [
              "['две линии', '']"
            ]
          },
          "metadata": {},
          "execution_count": 5
        }
      ]
    },
    {
      "cell_type": "code",
      "source": [
        "'одна линия\\n'.splitlines()"
      ],
      "metadata": {
        "colab": {
          "base_uri": "https://localhost:8080/"
        },
        "id": "xvyfzehPqpkQ",
        "outputId": "d9f43d43-839d-4936-87a2-a9bce8655274"
      },
      "execution_count": 6,
      "outputs": [
        {
          "output_type": "execute_result",
          "data": {
            "text/plain": [
              "['одна линия']"
            ]
          },
          "metadata": {},
          "execution_count": 6
        }
      ]
    },
    {
      "cell_type": "code",
      "source": [
        "# Line Feed, Carriage Return, Line Feed, Carriage Return + Line Feed\n",
        "print('ab\\ncd','ab*\\rcd!','ab**\\ncd!!','ab***\\r\\ncd!!!')"
      ],
      "metadata": {
        "colab": {
          "base_uri": "https://localhost:8080/"
        },
        "id": "sEuZDumlsE1-",
        "outputId": "969a0711-6762-47fd-ba85-07cd91e238c8"
      },
      "execution_count": 7,
      "outputs": [
        {
          "output_type": "stream",
          "name": "stdout",
          "text": [
            "ab\n",
            "cd ab*\rcd! ab**\n",
            "cd!! ab***\r\n",
            "cd!!!\n"
          ]
        }
      ]
    },
    {
      "cell_type": "code",
      "source": [
        "# Line Tabulation, Form Feed\n",
        "print('12\\v34\\x0b56!!!','12\\f34\\x0c56!!!')\n",
        "# File Separator, \n",
        "print('12\\x1c34!!!','12\\x1d34!!!','12\\x1e34!!!')\n",
        "# Line Separator, Paragraph Separator, Next Line (C1 Control Code)\n",
        "print('12\\u202834!!!','12\\u202934!!!','12\\x8534!!!')"
      ],
      "metadata": {
        "colab": {
          "base_uri": "https://localhost:8080/"
        },
        "id": "jQeqvuaFsbOx",
        "outputId": "61fb9097-4f68-4a99-cee9-40b5da3ab93c"
      },
      "execution_count": 8,
      "outputs": [
        {
          "output_type": "stream",
          "name": "stdout",
          "text": [
            "12\u000b34\u000b56!!! 12\f34\f56!!!\n",
            "12\u001c34!!! 12\u001d34!!! 12\u001e34!!!\n",
            "12 34!!! 12 34!!! 1234!!!\n"
          ]
        }
      ]
    },
    {
      "cell_type": "code",
      "source": [
        "st='ab c\\n\\nde fg\\rhij\\r\\nkl\\vmn\\fopr\\u2028'\n",
        "st.splitlines(),st.splitlines(keepends=True),st.split()"
      ],
      "metadata": {
        "colab": {
          "base_uri": "https://localhost:8080/"
        },
        "id": "BQTN_WjfrGs8",
        "outputId": "13861dd6-7d45-45e2-b83e-c4338a83fcd2"
      },
      "execution_count": 9,
      "outputs": [
        {
          "output_type": "execute_result",
          "data": {
            "text/plain": [
              "(['ab c', '', 'de fg', 'hij', 'kl', 'mn', 'opr'],\n",
              " ['ab c\\n', '\\n', 'de fg\\r', 'hij\\r\\n', 'kl\\x0b', 'mn\\x0c', 'opr\\u2028'],\n",
              " ['ab', 'c', 'de', 'fg', 'hij', 'kl', 'mn', 'opr'])"
            ]
          },
          "metadata": {},
          "execution_count": 9
        }
      ]
    },
    {
      "cell_type": "code",
      "source": [
        "st = 'python is awesome!'\n",
        "st.partition('is'),st.partition('was')"
      ],
      "metadata": {
        "colab": {
          "base_uri": "https://localhost:8080/"
        },
        "id": "LHPBp2e7-W7M",
        "outputId": "feb64204-921f-4eab-a10c-a7f31054cf88"
      },
      "execution_count": 10,
      "outputs": [
        {
          "output_type": "execute_result",
          "data": {
            "text/plain": [
              "(('python ', 'is', ' awesome!'), ('python is awesome!', '', ''))"
            ]
          },
          "metadata": {},
          "execution_count": 10
        }
      ]
    },
    {
      "cell_type": "markdown",
      "source": [
        "## Удаление и замена элементов"
      ],
      "metadata": {
        "id": "qmMwNenGL8zj"
      }
    },
    {
      "cell_type": "code",
      "source": [
        "# замена фрагмента во всей строке\n",
        "'  hello   '.replace('  ','*')"
      ],
      "metadata": {
        "colab": {
          "base_uri": "https://localhost:8080/",
          "height": 58
        },
        "id": "7yX4-vuZFGdW",
        "outputId": "0b963d21-3799-45b4-a584-58c01c2f67eb"
      },
      "execution_count": 11,
      "outputs": [
        {
          "output_type": "execute_result",
          "data": {
            "text/plain": [
              "'*hello* '"
            ],
            "application/vnd.google.colaboratory.intrinsic+json": {
              "type": "string"
            }
          },
          "metadata": {},
          "execution_count": 11
        }
      ]
    },
    {
      "cell_type": "code",
      "execution_count": 12,
      "metadata": {
        "colab": {
          "base_uri": "https://localhost:8080/"
        },
        "id": "6y0Bm4s8JKfA",
        "outputId": "c42e0342-5560-4845-8f31-177f755519a5"
      },
      "outputs": [
        {
          "output_type": "execute_result",
          "data": {
            "text/plain": [
              "('hello', 'hello hello', 'hello', 'hello@@@###hello')"
            ]
          },
          "metadata": {},
          "execution_count": 12
        }
      ],
      "source": [
        "# удаление начальных и конечных элементов\n",
        "'   hello    '.strip(),'   hello hello   '.strip(),\\\n",
        "'@@@hello###'.strip('#@'),'@@@hello@@@###hello###'.strip('#@')"
      ]
    },
    {
      "cell_type": "code",
      "source": [
        "# слева или справа\n",
        "'   hello   '.lstrip(),'###hello###'.rstrip('#')"
      ],
      "metadata": {
        "colab": {
          "base_uri": "https://localhost:8080/"
        },
        "id": "FpRapjVEKXRG",
        "outputId": "00a42ae4-29f4-47c7-b038-1863597dcf89"
      },
      "execution_count": 13,
      "outputs": [
        {
          "output_type": "execute_result",
          "data": {
            "text/plain": [
              "('hello   ', '###hello')"
            ]
          },
          "metadata": {},
          "execution_count": 13
        }
      ]
    },
    {
      "cell_type": "code",
      "source": [
        "# начинается с пробела, а не с \\n\n",
        "' \\n \\t hello\\n'.strip('\\n')"
      ],
      "metadata": {
        "colab": {
          "base_uri": "https://localhost:8080/",
          "height": 58
        },
        "id": "-X36simdMs0N",
        "outputId": "76eb51e5-5903-4a66-86d6-1e5772e935a9"
      },
      "execution_count": 14,
      "outputs": [
        {
          "output_type": "execute_result",
          "data": {
            "text/plain": [
              "' \\n \\t hello'"
            ],
            "application/vnd.google.colaboratory.intrinsic+json": {
              "type": "string"
            }
          },
          "metadata": {},
          "execution_count": 14
        }
      ]
    },
    {
      "cell_type": "code",
      "source": [
        "# удалит и часть второго слова\n",
        "'проект: пять!'.lstrip('проект: ')"
      ],
      "metadata": {
        "colab": {
          "base_uri": "https://localhost:8080/",
          "height": 58
        },
        "id": "ptq7UONwQHDg",
        "outputId": "755b325f-bb1f-4b9e-df5a-91fb6a81b870"
      },
      "execution_count": 15,
      "outputs": [
        {
          "output_type": "execute_result",
          "data": {
            "text/plain": [
              "'ять!'"
            ],
            "application/vnd.google.colaboratory.intrinsic+json": {
              "type": "string"
            }
          },
          "metadata": {},
          "execution_count": 15
        }
      ]
    },
    {
      "cell_type": "markdown",
      "source": [
        "[python shell](https://www.python.org/shell/)\n",
        "![Screenshot 2022-12-20 at 23.56.24.png](data:image/png;base64,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)"
      ],
      "metadata": {
        "id": "jmMG0vW9U0Ts"
      }
    },
    {
      "cell_type": "code",
      "source": [
        "# python 3.9\n",
        "#'проект: пять!'.removeprefix('проект: '),\\\n",
        "#'проект: пять!'.removesuffix(': пять!')"
      ],
      "metadata": {
        "id": "JAbXa-2KSCnK"
      },
      "execution_count": 16,
      "outputs": []
    },
    {
      "cell_type": "code",
      "source": [
        "# используя анонимную функцию\n",
        "''.join(filter(lambda x: x.isalpha(), 'abc123def456')),\\\n",
        "''.join(filter(lambda x: not x.isalpha(), 'abc123def456'))"
      ],
      "metadata": {
        "colab": {
          "base_uri": "https://localhost:8080/"
        },
        "id": "cRSGwtrxsFsv",
        "outputId": "9f948d37-9bd8-431a-bde9-2bf32e5608cc"
      },
      "execution_count": 17,
      "outputs": [
        {
          "output_type": "execute_result",
          "data": {
            "text/plain": [
              "('abcdef', '123456')"
            ]
          },
          "metadata": {},
          "execution_count": 17
        }
      ]
    },
    {
      "cell_type": "code",
      "source": [
        "# не зависит от расположения заменяемого фрагмента\n",
        "' \\n \\t hello\\n'.replace('\\n', '')"
      ],
      "metadata": {
        "colab": {
          "base_uri": "https://localhost:8080/",
          "height": 58
        },
        "id": "5qGomm7RXICr",
        "outputId": "4718a524-aaa0-4922-d518-529706bee826"
      },
      "execution_count": 18,
      "outputs": [
        {
          "output_type": "execute_result",
          "data": {
            "text/plain": [
              "'  \\t hello'"
            ],
            "application/vnd.google.colaboratory.intrinsic+json": {
              "type": "string"
            }
          },
          "metadata": {},
          "execution_count": 18
        }
      ]
    },
    {
      "cell_type": "code",
      "source": [
        "# с помощью регулярных выражений\n",
        "import re\n",
        "s = \"string      methods    in  python\"\n",
        "re.sub(\"\\s+\",\"-\",s),re.sub(\"\\s\",\"*\",s)"
      ],
      "metadata": {
        "colab": {
          "base_uri": "https://localhost:8080/"
        },
        "id": "BPPEWfm4mKEF",
        "outputId": "d74f1e14-74d1-4578-be5b-233ccc361b4a"
      },
      "execution_count": 19,
      "outputs": [
        {
          "output_type": "execute_result",
          "data": {
            "text/plain": [
              "('string-methods-in-python', 'string******methods****in**python')"
            ]
          },
          "metadata": {},
          "execution_count": 19
        }
      ]
    },
    {
      "cell_type": "code",
      "source": [
        "# часть не удаляется, только весь объект\n",
        "st = 'hello'\n",
        "del st"
      ],
      "metadata": {
        "id": "2l3Q4RgmF_4y"
      },
      "execution_count": 20,
      "outputs": []
    },
    {
      "cell_type": "markdown",
      "source": [
        "## Срезы и соединения строк"
      ],
      "metadata": {
        "id": "td1Sz3I04SCA"
      }
    },
    {
      "cell_type": "code",
      "source": [
        "st = 'string methods in python'\n",
        "st[0],st[14:],st[:14],st[::3],st[::-1]"
      ],
      "metadata": {
        "colab": {
          "base_uri": "https://localhost:8080/"
        },
        "id": "DpJOxk4b5-rt",
        "outputId": "105cb354-1ff2-4451-a9ff-f055f39777f1"
      },
      "execution_count": 21,
      "outputs": [
        {
          "output_type": "execute_result",
          "data": {
            "text/plain": [
              "('s', ' in python', 'string methods', 'si tdiph', 'nohtyp ni sdohtem gnirts')"
            ]
          },
          "metadata": {},
          "execution_count": 21
        }
      ]
    },
    {
      "cell_type": "code",
      "source": [
        "st[slice(1)],st[slice(14,None)],st[slice(14)],\\\n",
        "st[slice(None,None,3)],st[slice(None,None,-1)]"
      ],
      "metadata": {
        "colab": {
          "base_uri": "https://localhost:8080/"
        },
        "id": "VZ92qEHHDq7u",
        "outputId": "45c53aff-3f95-4e12-9095-3b55ac8a0138"
      },
      "execution_count": 22,
      "outputs": [
        {
          "output_type": "execute_result",
          "data": {
            "text/plain": [
              "('s', ' in python', 'string methods', 'si tdiph', 'nohtyp ni sdohtem gnirts')"
            ]
          },
          "metadata": {},
          "execution_count": 22
        }
      ]
    },
    {
      "cell_type": "code",
      "source": [
        "st = 'hello'\n",
        "st[:2]+st[4:]"
      ],
      "metadata": {
        "colab": {
          "base_uri": "https://localhost:8080/",
          "height": 58
        },
        "id": "UpLiRLCZGV7b",
        "outputId": "02dd4f9e-8b8a-413e-f1bc-86ce6133e388"
      },
      "execution_count": 23,
      "outputs": [
        {
          "output_type": "execute_result",
          "data": {
            "text/plain": [
              "'heo'"
            ],
            "application/vnd.google.colaboratory.intrinsic+json": {
              "type": "string"
            }
          },
          "metadata": {},
          "execution_count": 23
        }
      ]
    },
    {
      "cell_type": "code",
      "source": [
        "# методом join\n",
        "ls = ['string', 'methods', 'in', 'python']\n",
        "ls,' '.join(ls),tuple(ls),' '.join(tuple(ls))"
      ],
      "metadata": {
        "colab": {
          "base_uri": "https://localhost:8080/"
        },
        "id": "v1GrqiTp4fFr",
        "outputId": "658b43ff-aa62-4639-e970-3fb4f52c6c98"
      },
      "execution_count": 24,
      "outputs": [
        {
          "output_type": "execute_result",
          "data": {
            "text/plain": [
              "(['string', 'methods', 'in', 'python'],\n",
              " 'string methods in python',\n",
              " ('string', 'methods', 'in', 'python'),\n",
              " 'string methods in python')"
            ]
          },
          "metadata": {},
          "execution_count": 24
        }
      ]
    },
    {
      "cell_type": "code",
      "source": [
        "# с оператором и без\n",
        "'string '+'methods '+'in '+'python', \\\n",
        "'string ' 'methods ' 'in ' 'python'"
      ],
      "metadata": {
        "colab": {
          "base_uri": "https://localhost:8080/"
        },
        "id": "Y00RlRYp4fy3",
        "outputId": "825e053c-d0a4-498e-e132-706d627b2b6a"
      },
      "execution_count": 25,
      "outputs": [
        {
          "output_type": "execute_result",
          "data": {
            "text/plain": [
              "('string methods in python', 'string methods in python')"
            ]
          },
          "metadata": {},
          "execution_count": 25
        }
      ]
    },
    {
      "cell_type": "code",
      "source": [
        "# строковый объект с несколькими линиями\n",
        "\"\"\"hello\n",
        " world\"\"\""
      ],
      "metadata": {
        "colab": {
          "base_uri": "https://localhost:8080/",
          "height": 58
        },
        "id": "2J3LIjuhCkPT",
        "outputId": "79010052-7ee3-4226-83e7-c592674a96c5"
      },
      "execution_count": 26,
      "outputs": [
        {
          "output_type": "execute_result",
          "data": {
            "text/plain": [
              "'hello\\n world'"
            ],
            "application/vnd.google.colaboratory.intrinsic+json": {
              "type": "string"
            }
          },
          "metadata": {},
          "execution_count": 26
        }
      ]
    },
    {
      "cell_type": "code",
      "source": [
        "# одна строка\n",
        "\"\"\"hello\\\n",
        " world\"\"\""
      ],
      "metadata": {
        "colab": {
          "base_uri": "https://localhost:8080/",
          "height": 58
        },
        "id": "VbZDl3QeCrW-",
        "outputId": "15ee8e01-32b8-4a38-a600-e2363c0d027a"
      },
      "execution_count": 27,
      "outputs": [
        {
          "output_type": "execute_result",
          "data": {
            "text/plain": [
              "'hello world'"
            ],
            "application/vnd.google.colaboratory.intrinsic+json": {
              "type": "string"
            }
          },
          "metadata": {},
          "execution_count": 27
        }
      ]
    },
    {
      "cell_type": "markdown",
      "source": [
        "## Регистры"
      ],
      "metadata": {
        "id": "PJBcR1Ew3W9J"
      }
    },
    {
      "cell_type": "code",
      "source": [
        "# переключение\n",
        "'ABCdef'.upper(), 'abcDEF'.lower(),\\\n",
        "'ABCdef'.swapcase(), 'abcDEF'.swapcase()"
      ],
      "metadata": {
        "colab": {
          "base_uri": "https://localhost:8080/"
        },
        "id": "tOh4RKf23eM_",
        "outputId": "a77b9128-0ff3-46f4-c244-75d995025e79"
      },
      "execution_count": 28,
      "outputs": [
        {
          "output_type": "execute_result",
          "data": {
            "text/plain": [
              "('ABCDEF', 'abcdef', 'abcDEF', 'ABCdef')"
            ]
          },
          "metadata": {},
          "execution_count": 28
        }
      ]
    },
    {
      "cell_type": "code",
      "source": [
        "'hello, world!'.capitalize(), 'hello, world!'.title()"
      ],
      "metadata": {
        "colab": {
          "base_uri": "https://localhost:8080/"
        },
        "id": "VcI0NVpJ6LcE",
        "outputId": "6d19f1e0-6c58-4f9a-9a30-8411c27d08b2"
      },
      "execution_count": 29,
      "outputs": [
        {
          "output_type": "execute_result",
          "data": {
            "text/plain": [
              "('Hello, world!', 'Hello, World!')"
            ]
          },
          "metadata": {},
          "execution_count": 29
        }
      ]
    },
    {
      "cell_type": "code",
      "source": [
        "# title - не всегда грамматически корректный результат\n",
        "\"they're bill's friends from the UK\".title()"
      ],
      "metadata": {
        "colab": {
          "base_uri": "https://localhost:8080/",
          "height": 58
        },
        "id": "WiDe2vDk4MmO",
        "outputId": "4e7c71f8-fe2f-448c-94f1-e14a53236d0e"
      },
      "execution_count": 30,
      "outputs": [
        {
          "output_type": "execute_result",
          "data": {
            "text/plain": [
              "\"They'Re Bill'S Friends From The Uk\""
            ],
            "application/vnd.google.colaboratory.intrinsic+json": {
              "type": "string"
            }
          },
          "metadata": {},
          "execution_count": 30
        }
      ]
    },
    {
      "cell_type": "code",
      "source": [
        "# чуть получше, но без сокращений (UK)\n",
        "import re\n",
        "s = \"they're bill's friends.\"\n",
        "re.sub(\"[A-Za-z]+('[A-Za-z]+)?\",\n",
        "       lambda x: x.group(0).capitalize(),s)"
      ],
      "metadata": {
        "colab": {
          "base_uri": "https://localhost:8080/",
          "height": 58
        },
        "id": "w8yuJ9lT4_IN",
        "outputId": "6aad70b9-c12a-4b43-c66b-4217af882b86"
      },
      "execution_count": 31,
      "outputs": [
        {
          "output_type": "execute_result",
          "data": {
            "text/plain": [
              "\"They're Bill's Friends.\""
            ],
            "application/vnd.google.colaboratory.intrinsic+json": {
              "type": "string"
            }
          },
          "metadata": {},
          "execution_count": 31
        }
      ]
    },
    {
      "cell_type": "code",
      "source": [
        "# все ли буквы в нужном регистре\n",
        "'PYTHON'.islower(),'python'.islower(),'Python'.islower(),\\\n",
        "'PYTHON'.isupper(),'python'.isupper(),'Python'.isupper()"
      ],
      "metadata": {
        "colab": {
          "base_uri": "https://localhost:8080/"
        },
        "id": "QpJeOTwSJHTJ",
        "outputId": "4e6aef6c-ec10-4644-e28b-12a6b5cb69c4"
      },
      "execution_count": 32,
      "outputs": [
        {
          "output_type": "execute_result",
          "data": {
            "text/plain": [
              "(False, True, False, True, False, False)"
            ]
          },
          "metadata": {},
          "execution_count": 32
        }
      ]
    },
    {
      "cell_type": "markdown",
      "source": [
        "## Декодирование"
      ],
      "metadata": {
        "id": "VOWaIRxI3l9Z"
      }
    },
    {
      "cell_type": "code",
      "source": [
        "# взаимно обратные методы\n",
        "\"résumé\".encode(\"utf-8\"),b\"r\\xc3\\xa9sum\\xc3\\xa9\".decode(\"utf-8\")"
      ],
      "metadata": {
        "colab": {
          "base_uri": "https://localhost:8080/"
        },
        "id": "j3BROdNm3lXD",
        "outputId": "68acaf54-24b9-4791-a19c-e7a3440994db"
      },
      "execution_count": 33,
      "outputs": [
        {
          "output_type": "execute_result",
          "data": {
            "text/plain": [
              "(b'r\\xc3\\xa9sum\\xc3\\xa9', 'résumé')"
            ]
          },
          "metadata": {},
          "execution_count": 33
        }
      ]
    },
    {
      "cell_type": "code",
      "source": [
        "# юникод-символ\n",
        "s = \"🤨\"\n",
        "s,len(s),\\\n",
        "s.encode(\"utf-8\"),len(s.encode(\"utf-8\")),list(s.encode(\"utf-8\")),\\\n",
        "s.encode(\"utf-16\"),len(s.encode(\"utf-16\")),list(s.encode(\"utf-16\")),\\\n",
        "s.encode(\"utf-32\"),len(s.encode(\"utf-32\")),list(s.encode(\"utf-32\"))"
      ],
      "metadata": {
        "colab": {
          "base_uri": "https://localhost:8080/"
        },
        "id": "Cfpd9Gck8cOe",
        "outputId": "e81af949-35e8-403f-960c-5c7c96c8d653"
      },
      "execution_count": 34,
      "outputs": [
        {
          "output_type": "execute_result",
          "data": {
            "text/plain": [
              "('🤨',\n",
              " 1,\n",
              " b'\\xf0\\x9f\\xa4\\xa8',\n",
              " 4,\n",
              " [240, 159, 164, 168],\n",
              " b'\\xff\\xfe>\\xd8(\\xdd',\n",
              " 6,\n",
              " [255, 254, 62, 216, 40, 221],\n",
              " b'\\xff\\xfe\\x00\\x00(\\xf9\\x01\\x00',\n",
              " 8,\n",
              " [255, 254, 0, 0, 40, 249, 1, 0])"
            ]
          },
          "metadata": {},
          "execution_count": 34
        }
      ]
    },
    {
      "cell_type": "code",
      "source": [
        "# несколько систем декодирования\n",
        "letters = 'αβγδεζηθικλμνξοπρςστυφχψ'\n",
        "enc8_letters = letters.encode('utf-8')\n",
        "enc8_letters.decode('utf-8'),\\\n",
        "enc8_letters.decode('utf-16'),\\\n",
        "enc8_letters.decode('latin-1')"
      ],
      "metadata": {
        "colab": {
          "base_uri": "https://localhost:8080/"
        },
        "id": "7kJQvERKA_zw",
        "outputId": "c5f9e5ab-1450-4334-9875-f68c966bee4d"
      },
      "execution_count": 35,
      "outputs": [
        {
          "output_type": "execute_result",
          "data": {
            "text/plain": [
              "('αβγδεζηθικλμνξοπρςστυφχψ',\n",
              " '뇎닎돎듎뗎뛎럎룎많뫎믎볎뷎뻎뿎胏臏苏菏蓏藏蛏蟏裏',\n",
              " 'Î±Î²Î³Î´ÎµÎ¶Î·Î¸Î¹ÎºÎ»Î¼Î½Î¾Î¿Ï\\x80Ï\\x81Ï\\x82Ï\\x83Ï\\x84Ï\\x85Ï\\x86Ï\\x87Ï\\x88')"
            ]
          },
          "metadata": {},
          "execution_count": 35
        }
      ]
    },
    {
      "cell_type": "code",
      "source": [
        "# latin-1 отображает дроби\n",
        "b'\\xbe cup of coffee'.decode('latin-1')"
      ],
      "metadata": {
        "colab": {
          "base_uri": "https://localhost:8080/",
          "height": 58
        },
        "id": "2FjZnLy_v86-",
        "outputId": "f8bf7257-ba5b-47ff-b8df-1510778b7fc6"
      },
      "execution_count": 36,
      "outputs": [
        {
          "output_type": "execute_result",
          "data": {
            "text/plain": [
              "'¾ cup of coffee'"
            ],
            "application/vnd.google.colaboratory.intrinsic+json": {
              "type": "string"
            }
          },
          "metadata": {},
          "execution_count": 36
        }
      ]
    },
    {
      "cell_type": "code",
      "source": [
        "# ascii => U+0000-U+007F\n",
        "letters = '12345abcde'\n",
        "enc8_letters = letters.encode('utf-8')\n",
        "enc8_letters.decode('ascii')"
      ],
      "metadata": {
        "colab": {
          "base_uri": "https://localhost:8080/",
          "height": 58
        },
        "id": "ksVQCWjPmPyw",
        "outputId": "89c94471-99c8-4ec6-9fba-77c964eddd2d"
      },
      "execution_count": 37,
      "outputs": [
        {
          "output_type": "execute_result",
          "data": {
            "text/plain": [
              "'12345abcde'"
            ],
            "application/vnd.google.colaboratory.intrinsic+json": {
              "type": "string"
            }
          },
          "metadata": {},
          "execution_count": 37
        }
      ]
    },
    {
      "cell_type": "code",
      "source": [
        "# особенности кириллицы\n",
        "start, stop = 'Ё','ё'\n",
        "''.join(chr(n) for n in range(ord(start), ord(stop) + 1))"
      ],
      "metadata": {
        "colab": {
          "base_uri": "https://localhost:8080/",
          "height": 58
        },
        "id": "LaHl4v9DCBgT",
        "outputId": "71dd9198-5750-4fc9-a324-5092a880dca7"
      },
      "execution_count": 38,
      "outputs": [
        {
          "output_type": "execute_result",
          "data": {
            "text/plain": [
              "'ЁЂЃЄЅІЇЈЉЊЋЌЍЎЏАБВГДЕЖЗИЙКЛМНОПРСТУФХЦЧШЩЪЫЬЭЮЯабвгдежзийклмнопрстуфхцчшщъыьэюяѐё'"
            ],
            "application/vnd.google.colaboratory.intrinsic+json": {
              "type": "string"
            }
          },
          "metadata": {},
          "execution_count": 38
        }
      ]
    },
    {
      "cell_type": "code",
      "source": [
        "# реакция объекта на встроенные функции\n",
        "data=('abcαβγабв뇎닎돎')\n",
        "print(print(data)), repr(data)"
      ],
      "metadata": {
        "colab": {
          "base_uri": "https://localhost:8080/"
        },
        "id": "ycBMm38SdBQI",
        "outputId": "3a4e3c6f-6b9d-4eb8-f313-4d63790bda27"
      },
      "execution_count": 39,
      "outputs": [
        {
          "output_type": "stream",
          "name": "stdout",
          "text": [
            "abcαβγабв뇎닎돎\n",
            "None\n"
          ]
        },
        {
          "output_type": "execute_result",
          "data": {
            "text/plain": [
              "(None, \"'abcαβγабв뇎닎돎'\")"
            ]
          },
          "metadata": {},
          "execution_count": 39
        }
      ]
    },
    {
      "cell_type": "code",
      "source": [
        "# symbol, oct, hex, named, utf-16, utf-32\n",
        "\"a\" == \"\\141\" == \"\\x61\" == \\\n",
        "\"\\N{LATIN SMALL LETTER A}\" == \\\n",
        "\"\\u0061\" == \"\\U00000061\""
      ],
      "metadata": {
        "colab": {
          "base_uri": "https://localhost:8080/"
        },
        "id": "hErtpWcftbfQ",
        "outputId": "937d49cc-4d98-46f2-dbdc-18c8c4b5531c"
      },
      "execution_count": 40,
      "outputs": [
        {
          "output_type": "execute_result",
          "data": {
            "text/plain": [
              "True"
            ]
          },
          "metadata": {},
          "execution_count": 40
        }
      ]
    },
    {
      "cell_type": "code",
      "source": [
        "# подключение модуля\n",
        "import unicodedata as ud\n",
        "ud.name(\"€\"),ud.lookup(\"EURO SIGN\"),\\\n",
        "ud.name(\"🤨\"),ud.lookup(\"FACE WITH ONE EYEBROW RAISED\")"
      ],
      "metadata": {
        "colab": {
          "base_uri": "https://localhost:8080/"
        },
        "id": "5gu8PDFc42Uh",
        "outputId": "5d094e12-f3a0-43ec-8eaa-91e56d170a02"
      },
      "execution_count": 41,
      "outputs": [
        {
          "output_type": "execute_result",
          "data": {
            "text/plain": [
              "('EURO SIGN', '€', 'FACE WITH ONE EYEBROW RAISED', '🤨')"
            ]
          },
          "metadata": {},
          "execution_count": 41
        }
      ]
    },
    {
      "cell_type": "markdown",
      "source": [
        "## Проверка состава объекта"
      ],
      "metadata": {
        "id": "haEyfIIQeUfR"
      }
    },
    {
      "cell_type": "code",
      "source": [
        "# подсчет символов\n",
        "'hello world'.count('o')"
      ],
      "metadata": {
        "colab": {
          "base_uri": "https://localhost:8080/"
        },
        "id": "R4sAnWP_6Uya",
        "outputId": "d1c165c8-02b1-441c-bb15-6ab0d36447f9"
      },
      "execution_count": 42,
      "outputs": [
        {
          "output_type": "execute_result",
          "data": {
            "text/plain": [
              "2"
            ]
          },
          "metadata": {},
          "execution_count": 42
        }
      ]
    },
    {
      "cell_type": "code",
      "source": [
        "# in, not in\n",
        "'e' in 'hello','lo' not in 'hello'"
      ],
      "metadata": {
        "colab": {
          "base_uri": "https://localhost:8080/"
        },
        "id": "sGtZX8-uHgAh",
        "outputId": "d1ca0269-1888-4c77-8b92-3920b782616e"
      },
      "execution_count": 43,
      "outputs": [
        {
          "output_type": "execute_result",
          "data": {
            "text/plain": [
              "(True, False)"
            ]
          },
          "metadata": {},
          "execution_count": 43
        }
      ]
    },
    {
      "cell_type": "code",
      "source": [
        "# обнаружение символов\n",
        "st = 'машинное обучение'\n",
        "idx = st.find('о')\n",
        "print(idx,st[idx:])\n",
        "idx = st.find('о',idx+1)\n",
        "print(idx,st[idx:])\n",
        "idx = st.rfind('о')\n",
        "print(idx,st[idx::-1])"
      ],
      "metadata": {
        "colab": {
          "base_uri": "https://localhost:8080/"
        },
        "id": "WE4P8w6w6UQV",
        "outputId": "3e740c9c-5a84-4527-dad1-7354bb7af440"
      },
      "execution_count": 44,
      "outputs": [
        {
          "output_type": "stream",
          "name": "stdout",
          "text": [
            "6 ое обучение\n",
            "9 обучение\n",
            "9 о еоннишам\n"
          ]
        }
      ]
    },
    {
      "cell_type": "code",
      "source": [
        "# состоит ли строка только из цифр, из букв\n",
        "\"123\".isdigit(), \"абв\".isalpha()"
      ],
      "metadata": {
        "colab": {
          "base_uri": "https://localhost:8080/"
        },
        "id": "hcvso5AiexV7",
        "outputId": "8c4540c5-fd84-4bee-b664-3432170e5a18"
      },
      "execution_count": 45,
      "outputs": [
        {
          "output_type": "execute_result",
          "data": {
            "text/plain": [
              "(True, True)"
            ]
          },
          "metadata": {},
          "execution_count": 45
        }
      ]
    },
    {
      "cell_type": "code",
      "source": [
        "# ascii => U+0000-U+007F\n",
        "'🤨'.isascii(),'αβγ'.isascii(),'뇎닎돎'.isascii(),'абв'.isascii(),\\\n",
        "'abc'.isascii(),'123'.isascii(),'!.,:;'.isascii()"
      ],
      "metadata": {
        "colab": {
          "base_uri": "https://localhost:8080/"
        },
        "id": "5Beb1OhZhCIM",
        "outputId": "9750dafc-0f4e-462d-a197-13a8e8b16173"
      },
      "execution_count": 46,
      "outputs": [
        {
          "output_type": "execute_result",
          "data": {
            "text/plain": [
              "(False, False, False, False, True, True, True)"
            ]
          },
          "metadata": {},
          "execution_count": 46
        }
      ]
    },
    {
      "cell_type": "code",
      "source": [
        "# .isalnum() == c.isalpha()|.isdecimal()|.isdigit()|.isnumeric()\n",
        "'🤨'.isalnum(),'!.,:;'.isalnum(),\\\n",
        "'αβγ123'.isalnum(),'뇎닎돎'.isalnum(),\\\n",
        "'абв123'.isalnum(),'abc123'.isalnum()"
      ],
      "metadata": {
        "colab": {
          "base_uri": "https://localhost:8080/"
        },
        "id": "UMc2HVimoQlW",
        "outputId": "999a843f-50fd-4f3c-9e23-3a35912eca9f"
      },
      "execution_count": 47,
      "outputs": [
        {
          "output_type": "execute_result",
          "data": {
            "text/plain": [
              "(False, False, True, True, True, True)"
            ]
          },
          "metadata": {},
          "execution_count": 47
        }
      ]
    },
    {
      "cell_type": "code",
      "source": [
        "# символы, регулирующие свойства вывода\n",
        "'\\n'.isprintable(),'\\t'.isprintable(),'\\033['.isprintable()"
      ],
      "metadata": {
        "colab": {
          "base_uri": "https://localhost:8080/"
        },
        "id": "y2usWJqLrHZd",
        "outputId": "e8cf666d-e2c2-4229-e717-29afe776fe84"
      },
      "execution_count": 48,
      "outputs": [
        {
          "output_type": "execute_result",
          "data": {
            "text/plain": [
              "(False, False, False)"
            ]
          },
          "metadata": {},
          "execution_count": 48
        }
      ]
    },
    {
      "cell_type": "code",
      "source": [
        "# только пробелы\n",
        "''.isspace(),'   '.isspace(),'hello'.isspace(),'hello hello'.isspace()"
      ],
      "metadata": {
        "colab": {
          "base_uri": "https://localhost:8080/"
        },
        "id": "RsIu1qFBsGxc",
        "outputId": "d83516a7-767e-425d-e8ed-508cfd6de266"
      },
      "execution_count": 49,
      "outputs": [
        {
          "output_type": "execute_result",
          "data": {
            "text/plain": [
              "(False, True, False, False)"
            ]
          },
          "metadata": {},
          "execution_count": 49
        }
      ]
    },
    {
      "cell_type": "markdown",
      "source": [
        "## Форматирование"
      ],
      "metadata": {
        "id": "oSR6JMSmpH-R"
      }
    },
    {
      "cell_type": "code",
      "source": [
        "# центрирование с заполнением\n",
        "'hello'.center(21,'*')"
      ],
      "metadata": {
        "colab": {
          "base_uri": "https://localhost:8080/",
          "height": 58
        },
        "id": "-mcRogj8pMce",
        "outputId": "94822f5e-cdef-4d98-8296-e59a52489466"
      },
      "execution_count": 50,
      "outputs": [
        {
          "output_type": "execute_result",
          "data": {
            "text/plain": [
              "'********hello********'"
            ],
            "application/vnd.google.colaboratory.intrinsic+json": {
              "type": "string"
            }
          },
          "metadata": {},
          "execution_count": 50
        }
      ]
    },
    {
      "cell_type": "code",
      "source": [
        "# выравнивание с заполнением\n",
        "'hello'.ljust(21,'*'),'hello'.rjust(21,'*')"
      ],
      "metadata": {
        "colab": {
          "base_uri": "https://localhost:8080/"
        },
        "id": "EVeJ1GJvx8dH",
        "outputId": "1e7c9c1e-7478-4211-b522-e3de2ea71492"
      },
      "execution_count": 51,
      "outputs": [
        {
          "output_type": "execute_result",
          "data": {
            "text/plain": [
              "('hello****************', '****************hello')"
            ]
          },
          "metadata": {},
          "execution_count": 51
        }
      ]
    },
    {
      "cell_type": "code",
      "source": [
        "# табуляция с определением количества символов\n",
        "'01\\t012\\t0123\\t01234'.expandtabs(),\\\n",
        "'01\\t012\\t0123\\t01234'.expandtabs(3),\\\n",
        "'01\\t012\\t0123\\t01234'.expandtabs(6),\\\n",
        "'01\\t012\\t0123\\t01234'.expandtabs(9)"
      ],
      "metadata": {
        "colab": {
          "base_uri": "https://localhost:8080/"
        },
        "id": "MtQGGy_m5GiU",
        "outputId": "67816667-d775-4a95-f61c-08b0344b4260"
      },
      "execution_count": 52,
      "outputs": [
        {
          "output_type": "execute_result",
          "data": {
            "text/plain": [
              "('01      012     0123    01234',\n",
              " '01 012   0123  01234',\n",
              " '01    012   0123  01234',\n",
              " '01       012      0123     01234')"
            ]
          },
          "metadata": {},
          "execution_count": 52
        }
      ]
    },
    {
      "cell_type": "code",
      "source": [
        "# заполнение нулями\n",
        "\"12345\".zfill(10),\"-12345\".zfill(10),\"+12345\".zfill(10)"
      ],
      "metadata": {
        "colab": {
          "base_uri": "https://localhost:8080/"
        },
        "id": "k0HUW-z4xFSK",
        "outputId": "469a8521-c920-4b58-e0d0-7cd95b4b82c4"
      },
      "execution_count": 53,
      "outputs": [
        {
          "output_type": "execute_result",
          "data": {
            "text/plain": [
              "('0000012345', '-000012345', '+000012345')"
            ]
          },
          "metadata": {},
          "execution_count": 53
        }
      ]
    },
    {
      "cell_type": "markdown",
      "source": [
        "## \"Старый стиль\" форматирования"
      ],
      "metadata": {
        "id": "3LnM3_w1YJ6D"
      }
    },
    {
      "cell_type": "code",
      "source": [
        "# ! - последний символ неотформатированного фрагмента\n",
        "st = 'world'\n",
        "'hello, !%30.1s!' % st"
      ],
      "metadata": {
        "colab": {
          "base_uri": "https://localhost:8080/",
          "height": 58
        },
        "id": "BiFkpSOxYQM-",
        "outputId": "109c2e08-c66d-4bcb-b174-46612d1da84e"
      },
      "execution_count": 54,
      "outputs": [
        {
          "output_type": "execute_result",
          "data": {
            "text/plain": [
              "'hello, !                             w!'"
            ],
            "application/vnd.google.colaboratory.intrinsic+json": {
              "type": "string"
            }
          },
          "metadata": {},
          "execution_count": 54
        }
      ]
    },
    {
      "cell_type": "code",
      "source": [
        "# числовое форматирование\n",
        "num = 22.55\n",
        "'%030.5f' % num"
      ],
      "metadata": {
        "colab": {
          "base_uri": "https://localhost:8080/",
          "height": 58
        },
        "id": "6gpuDk2Sx7Ll",
        "outputId": "ba96bc44-8611-4e30-c5f1-dfe723014278"
      },
      "execution_count": 55,
      "outputs": [
        {
          "output_type": "execute_result",
          "data": {
            "text/plain": [
              "'000000000000000000000022.55000'"
            ],
            "application/vnd.google.colaboratory.intrinsic+json": {
              "type": "string"
            }
          },
          "metadata": {},
          "execution_count": 55
        }
      ]
    },
    {
      "cell_type": "code",
      "source": [
        "# элементы словаря\n",
        "'%(language)s has %(number)03d quote types: \\', \\\"' % \\\n",
        "{'language': \"python\", \"number\": 2}"
      ],
      "metadata": {
        "colab": {
          "base_uri": "https://localhost:8080/",
          "height": 58
        },
        "id": "rQTz3D352i1g",
        "outputId": "7d98772d-2127-4a42-c919-8d66a6c5b426"
      },
      "execution_count": 56,
      "outputs": [
        {
          "output_type": "execute_result",
          "data": {
            "text/plain": [
              "'python has 002 quote types: \\', \"'"
            ],
            "application/vnd.google.colaboratory.intrinsic+json": {
              "type": "string"
            }
          },
          "metadata": {},
          "execution_count": 56
        }
      ]
    },
    {
      "cell_type": "markdown",
      "source": [
        "## \"Новый стиль\" форматирования\n",
        "`[[fill]align][sign][#][0][minimumwidth][.precision][type]`"
      ],
      "metadata": {
        "id": "0VmO5grVYRI1"
      }
    },
    {
      "cell_type": "code",
      "source": [
        "# встроенная функция или метод строк format\n",
        "format(10.,\"10.5f\"), \"{:10.5f}\".format(10), \\\n",
        "\"{0:{1}}\".format(10,\"10.5f\")"
      ],
      "metadata": {
        "colab": {
          "base_uri": "https://localhost:8080/"
        },
        "id": "_l3c6-_LYax1",
        "outputId": "845a899a-428e-4716-e95c-b3fa58bceb96"
      },
      "execution_count": 57,
      "outputs": [
        {
          "output_type": "execute_result",
          "data": {
            "text/plain": [
              "('  10.00000', '  10.00000', '  10.00000')"
            ]
          },
          "metadata": {},
          "execution_count": 57
        }
      ]
    },
    {
      "cell_type": "code",
      "source": [
        "\"the float value is {0:e}\".format(2.1234)"
      ],
      "metadata": {
        "colab": {
          "base_uri": "https://localhost:8080/",
          "height": 58
        },
        "id": "_5O2m-u7IPz2",
        "outputId": "1afdd0b5-f605-4d42-8784-90c4135ac00d"
      },
      "execution_count": 58,
      "outputs": [
        {
          "output_type": "execute_result",
          "data": {
            "text/plain": [
              "'the float value is 2.123400e+00'"
            ],
            "application/vnd.google.colaboratory.intrinsic+json": {
              "type": "string"
            }
          },
          "metadata": {},
          "execution_count": 58
        }
      ]
    },
    {
      "cell_type": "code",
      "source": [
        "# игнорирование {} - двойные фигурные скобки\n",
        "'только одна переменная - {{}} : {}'.format(5), \\\n",
        "'две переменные - {1} : {0}'.format(5,1)"
      ],
      "metadata": {
        "colab": {
          "base_uri": "https://localhost:8080/"
        },
        "id": "uj-0NqBSpG7V",
        "outputId": "2e3059a8-ca85-4ab2-bfa4-9248152e828f"
      },
      "execution_count": 59,
      "outputs": [
        {
          "output_type": "execute_result",
          "data": {
            "text/plain": [
              "('только одна переменная - {} : 5', 'две переменные - 1 : 5')"
            ]
          },
          "metadata": {},
          "execution_count": 59
        }
      ]
    },
    {
      "cell_type": "code",
      "source": [
        "# игнорирование кавычек\n",
        "# !r - repr(), !s - str()\n",
        "\"{0!r:25}\".format(\"привет\"), \\\n",
        "\"{0!s:25}\".format(\"\\'привет\\'\"), \\\n",
        "\"{:25}\".format(\"\\'привет\\'\")"
      ],
      "metadata": {
        "colab": {
          "base_uri": "https://localhost:8080/"
        },
        "id": "rVvpBkCLqDzY",
        "outputId": "45660ddd-75d1-49cb-925c-f44f37ae2bb6"
      },
      "execution_count": 60,
      "outputs": [
        {
          "output_type": "execute_result",
          "data": {
            "text/plain": [
              "(\"'привет'                 \",\n",
              " \"'привет'                 \",\n",
              " \"'привет'                 \")"
            ]
          },
          "metadata": {},
          "execution_count": 60
        }
      ]
    },
    {
      "cell_type": "markdown",
      "source": [
        "## Строковая интерполяция f-string"
      ],
      "metadata": {
        "id": "9TCPYSGBwBZ7"
      }
    },
    {
      "cell_type": "code",
      "source": [
        "# преобразование форматов\n",
        "\" \".join(f\"{i:08b}\" for i in (0xc3, 0xb1))"
      ],
      "metadata": {
        "colab": {
          "base_uri": "https://localhost:8080/",
          "height": 58
        },
        "id": "wo--_EUR4EeC",
        "outputId": "78860c3f-544c-49db-cfdb-36574dc84867"
      },
      "execution_count": 61,
      "outputs": [
        {
          "output_type": "execute_result",
          "data": {
            "text/plain": [
              "'11000011 10110001'"
            ],
            "application/vnd.google.colaboratory.intrinsic+json": {
              "type": "string"
            }
          },
          "metadata": {},
          "execution_count": 61
        }
      ]
    },
    {
      "cell_type": "code",
      "source": [
        "# подсчет значений\n",
        "f\"2 в 10-й степени равно {2**10}\""
      ],
      "metadata": {
        "colab": {
          "base_uri": "https://localhost:8080/",
          "height": 58
        },
        "id": "9L6fmBDBIven",
        "outputId": "9788faaf-47d4-4073-e355-64a2b3766bb0"
      },
      "execution_count": 62,
      "outputs": [
        {
          "output_type": "execute_result",
          "data": {
            "text/plain": [
              "'2 в 10-й степени равно 1024'"
            ],
            "application/vnd.google.colaboratory.intrinsic+json": {
              "type": "string"
            }
          },
          "metadata": {},
          "execution_count": 62
        }
      ]
    },
    {
      "cell_type": "code",
      "source": [
        "# игнорирование команд цвета, табуляции и пр. \n",
        "# с применением параметров вывода на печать\n",
        "st = '\\tпривет\\n'\n",
        "back = f\"\\033[48;5;{253}m\"\n",
        "color = f\"\\033[38;5;{165}m\"\n",
        "string = f\"{st:{50}s}\"\n",
        "print(back + \" \" + color + \" \" + string + \" \\033[0;0m\")"
      ],
      "metadata": {
        "colab": {
          "base_uri": "https://localhost:8080/"
        },
        "id": "8w99a_T0p8mO",
        "outputId": "e63ea0cc-ad73-4d89-d12e-00756d596b94"
      },
      "execution_count": 63,
      "outputs": [
        {
          "output_type": "stream",
          "name": "stdout",
          "text": [
            "\u001b[48;5;253m \u001b[38;5;165m \tпривет\n",
            "                                           \u001b[0;0m\n"
          ]
        }
      ]
    },
    {
      "cell_type": "markdown",
      "source": [
        "## Стандартный модуль `Template Strings`"
      ],
      "metadata": {
        "id": "PT8oVXcYwKYj"
      }
    },
    {
      "cell_type": "code",
      "source": [
        "from string import Template\n",
        "name = 'Иван'\n",
        "t = Template('Привет, $name!')\n",
        "t.substitute(name=name)"
      ],
      "metadata": {
        "colab": {
          "base_uri": "https://localhost:8080/",
          "height": 58
        },
        "id": "wob5VL_Xw7xA",
        "outputId": "fca65493-0617-49e0-97f2-41514a6e7a3e"
      },
      "execution_count": 64,
      "outputs": [
        {
          "output_type": "execute_result",
          "data": {
            "text/plain": [
              "'Привет, Иван!'"
            ],
            "application/vnd.google.colaboratory.intrinsic+json": {
              "type": "string"
            }
          },
          "metadata": {},
          "execution_count": 64
        }
      ]
    }
  ]
}