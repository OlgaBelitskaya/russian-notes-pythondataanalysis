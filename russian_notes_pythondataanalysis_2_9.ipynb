{
  "nbformat": 4,
  "nbformat_minor": 0,
  "metadata": {
    "colab": {
      "provenance": []
    },
    "kernelspec": {
      "name": "python3",
      "display_name": "Python 3"
    },
    "language_info": {
      "name": "python"
    }
  },
  "cells": [
    {
      "cell_type": "markdown",
      "source": [
        "\n",
        "# 2.9 Управляющая конструкция if и тернарные операторы\n",
        "Основные управляющие конструкции языка:\n",
        "- условия `if ... elif ... else ...`\n",
        "- циклы `for ... in ...`, `while ...`\n",
        "- исключения `try ... except ...`\n",
        "\n",
        "## Возможные варианты конструкций с `if`\n",
        "от простого варианта ===> к сложному"
      ],
      "metadata": {
        "id": "RtHvUUFhfn_C"
      }
    },
    {
      "cell_type": "code",
      "source": [
        "# I\n",
        "# только если выполнено условие, программа выполняет действия\n",
        "string = input()\n",
        "if ' ' in string:\n",
        "    print('В напечатанной строке есть пробелы.')"
      ],
      "metadata": {
        "colab": {
          "base_uri": "https://localhost:8080/"
        },
        "id": "O8DU1XXHS9Tv",
        "outputId": "988da700-6402-4a56-e148-e46775c7b426"
      },
      "execution_count": 1,
      "outputs": [
        {
          "output_type": "stream",
          "name": "stdout",
          "text": [
            "привет, мир\n",
            "В напечатанной строке есть пробелы.\n"
          ]
        }
      ]
    },
    {
      "cell_type": "code",
      "source": [
        "# II\n",
        "a, b = map(float, input().split())\n",
        "# если выполнено условие, программа выполняет один набор действий\n",
        "if a <= b:\n",
        "    print('%.2f не больше %.2f'%(a, b))\n",
        "# если не выполнено - другой\n",
        "else:\n",
        "    print('%.2f больше %.2f'%(a, b))"
      ],
      "metadata": {
        "colab": {
          "base_uri": "https://localhost:8080/"
        },
        "id": "4V3nmdjaVEMp",
        "outputId": "687abb27-1447-46c8-96e8-e8e46540aac7"
      },
      "execution_count": 2,
      "outputs": [
        {
          "output_type": "stream",
          "name": "stdout",
          "text": [
            "2 5\n",
            "2.00 не больше 5.00\n"
          ]
        }
      ]
    },
    {
      "cell_type": "code",
      "source": [
        "# III\n",
        "x = int(input())\n",
        "# если выполнено 1-е условие, программа выполняет один набор действий\n",
        "if x > 0:\n",
        "    print('%d - положительное число'%x)\n",
        "# если выполнено 2-е условие, программа выполняет другой набор действий\n",
        "elif x < 0:\n",
        "    print('%d - отрицательное число'%x)\n",
        "# если не выполнено ни 1-е, ни 2-е - третий набор действий    \n",
        "else:\n",
        "    print('значение равно нулю')"
      ],
      "metadata": {
        "colab": {
          "base_uri": "https://localhost:8080/"
        },
        "id": "7-rT5Cw9BHEv",
        "outputId": "71c87b68-ecd0-47d8-d702-d45a26eadd51"
      },
      "execution_count": 3,
      "outputs": [
        {
          "output_type": "stream",
          "name": "stdout",
          "text": [
            "0\n",
            "значение равно нулю\n"
          ]
        }
      ]
    },
    {
      "cell_type": "code",
      "source": [
        "# IV / I\n",
        "# условие используется внутри цикла\n",
        "count_k, sum_k = 0, 0\n",
        "list_k = [3, 8, None, 4, 9, None, 7]\n",
        "for k in list_k:\n",
        "# отсутствующие значения не участвуют в подсчете среднего\n",
        "    if k is None:\n",
        "        continue # пропуск итерации\n",
        "# None => в текущей итерации не выполняются \n",
        "# следующие 2 команды тела цикла\n",
        "    sum_k += k; count_k += 1\n",
        "mean_k = sum_k / count_k\n",
        "print(f'Среднее значение в списке {list_k} равно {mean_k}.')"
      ],
      "metadata": {
        "colab": {
          "base_uri": "https://localhost:8080/"
        },
        "id": "pGJeljNA2Kie",
        "outputId": "098b04d5-72ce-42cb-b582-4120e483f7bc"
      },
      "execution_count": 4,
      "outputs": [
        {
          "output_type": "stream",
          "name": "stdout",
          "text": [
            "Среднее значение в списке [3, 8, None, 4, 9, None, 7] равно 6.2.\n"
          ]
        }
      ]
    },
    {
      "cell_type": "code",
      "source": [
        "# IV / II\n",
        "# исключение используется внутри цикла\n",
        "count_k, sum_k = 0, 0\n",
        "list_k = [3, 8, None, 4, 9, None, 7]\n",
        "for k in list_k:\n",
        "# отсутствующие значения не участвуют в подсчете среднего\n",
        "# попытка суммирования с None приводит к срабатыванию except\n",
        "# TypeError - None невозможно прибавить к числу\n",
        "    try:\n",
        "        sum_k += k; count_k += 1\n",
        "    except:\n",
        "        pass\n",
        "mean_k = sum_k / count_k\n",
        "print(f'Среднее значение в списке {list_k} равно {mean_k}.')"
      ],
      "metadata": {
        "colab": {
          "base_uri": "https://localhost:8080/"
        },
        "id": "LibmLeMb92an",
        "outputId": "f47e013c-5615-4eed-dccb-2a8788e444de"
      },
      "execution_count": 5,
      "outputs": [
        {
          "output_type": "stream",
          "name": "stdout",
          "text": [
            "Среднее значение в списке [3, 8, None, 4, 9, None, 7] равно 6.2.\n"
          ]
        }
      ]
    },
    {
      "cell_type": "code",
      "source": [
        "# V\n",
        "# условие используется внутри цикла\n",
        "factorial, n = 1, 7\n",
        "while True:\n",
        "    factorial = factorial * n\n",
        "    n -= 1\n",
        "# цикл, в котором условие выхода ещё не достигнуто\n",
        "    if n == 0:\n",
        "        break # досрочный выход\n",
        "print(factorial)"
      ],
      "metadata": {
        "colab": {
          "base_uri": "https://localhost:8080/"
        },
        "id": "rMq3TAG25uGZ",
        "outputId": "8afafef8-58d0-4e6f-d185-6f4a8c3bb8ff"
      },
      "execution_count": 6,
      "outputs": [
        {
          "output_type": "stream",
          "name": "stdout",
          "text": [
            "5040\n"
          ]
        }
      ]
    },
    {
      "cell_type": "code",
      "source": [
        "# VI\n",
        "# условие используется внутри другого условия\n",
        "x = -10\n",
        "if 0 <= x <= 200:\n",
        "    print(\"0 <= х <= 200\")\n",
        "    if x > 150:\n",
        "        print(\"150 < x <= 200\")\n",
        "    elif x == 100:\n",
        "        print(\"x = 100\")\n",
        "    elif x < 50:\n",
        "        print(\"0 <= x < 50\")\n",
        "    else:\n",
        "        print(\"50 <= x <= 150 & x <> 100\")\n",
        "else:\n",
        "    print(\"x < 0 или x > 200 \")"
      ],
      "metadata": {
        "colab": {
          "base_uri": "https://localhost:8080/"
        },
        "id": "8mm8ioKSNPGh",
        "outputId": "031f94e1-36ed-4a8e-fb7d-8ce0b7a68eb1"
      },
      "execution_count": 7,
      "outputs": [
        {
          "output_type": "stream",
          "name": "stdout",
          "text": [
            "x < 0 или x > 200 \n"
          ]
        }
      ]
    },
    {
      "cell_type": "markdown",
      "source": [
        " ## `else` - необязательная часть всех управляющих конструкций\n",
        " ```\n",
        "for <переменная> in <список>:\n",
        "    <оператор1> \n",
        "[else: <оператор2>] \n",
        "```\n",
        "```\n",
        "while <условие>:\n",
        "    <оператор1> \n",
        "[else: <оператор2>]\n",
        "```"
      ],
      "metadata": {
        "id": "ryaJgofnJPHC"
      }
    },
    {
      "cell_type": "code",
      "source": [
        "c = 0\n",
        "for i in range(5):\n",
        "    c += i\n",
        "else: c += 5 # выполнено\n",
        "print(c)\n",
        "print(sum(range(5)))"
      ],
      "metadata": {
        "colab": {
          "base_uri": "https://localhost:8080/"
        },
        "id": "ql2sneQQJP2z",
        "outputId": "c0fc48b7-3503-436a-a127-c0584b250718"
      },
      "execution_count": 8,
      "outputs": [
        {
          "output_type": "stream",
          "name": "stdout",
          "text": [
            "15\n",
            "10\n"
          ]
        }
      ]
    },
    {
      "cell_type": "code",
      "source": [
        "c = 0\n",
        "for i in range(5):\n",
        "    c += i\n",
        "    if i == 3:\n",
        "        break\n",
        "else: c += 5 # не выполнено\n",
        "print(c)\n",
        "print(sum(range(5)))"
      ],
      "metadata": {
        "colab": {
          "base_uri": "https://localhost:8080/"
        },
        "id": "rA4lKrZiKdJU",
        "outputId": "ac85a215-e7c7-4b87-ebd3-94714ae2a337"
      },
      "execution_count": 9,
      "outputs": [
        {
          "output_type": "stream",
          "name": "stdout",
          "text": [
            "6\n",
            "10\n"
          ]
        }
      ]
    },
    {
      "cell_type": "markdown",
      "source": [
        "## Логические выражения в управляющих конструкциях\n",
        "- простые\n",
        "- составные (`or`, `and`, `not`)\n",
        "\n",
        "Приоритет:\n",
        "- отношения сравнения (`<`, `>`, `<=`, `>=`, `==`, `!=`)\n",
        "- `not` («НЕ»)\n",
        "- `and` («И»)\n",
        "- `or` («ИЛИ»)"
      ],
      "metadata": {
        "id": "2_86RSY_epB1"
      }
    },
    {
      "cell_type": "code",
      "source": [
        "v = 49\n",
        "print('Простое условие выполнено?', v>=25)\n",
        "print('Составное условие выполнено?', (v>=25) and (v<40))"
      ],
      "metadata": {
        "colab": {
          "base_uri": "https://localhost:8080/"
        },
        "id": "Lu6hIFh_epk_",
        "outputId": "2e038eca-bf44-45a2-c388-6f8d87fe54b9"
      },
      "execution_count": 10,
      "outputs": [
        {
          "output_type": "stream",
          "name": "stdout",
          "text": [
            "Простое условие выполнено? True\n",
            "Составное условие выполнено? False\n"
          ]
        }
      ]
    },
    {
      "cell_type": "code",
      "source": [
        "lst = []\n",
        "if not lst:\n",
        "    print('список пуст')\n",
        "else:\n",
        "    print('список содержит элементы')"
      ],
      "metadata": {
        "colab": {
          "base_uri": "https://localhost:8080/"
        },
        "id": "CFH_tuwTZQKN",
        "outputId": "f365277b-0382-4f19-e3b0-6e6ec4fbe473"
      },
      "execution_count": 11,
      "outputs": [
        {
          "output_type": "stream",
          "name": "stdout",
          "text": [
            "список пуст\n"
          ]
        }
      ]
    },
    {
      "cell_type": "markdown",
      "source": [
        "## Тернарные операторы"
      ],
      "metadata": {
        "id": "IpXiENmBekX5"
      }
    },
    {
      "cell_type": "code",
      "source": [
        "# <условие выполнено> if <условие> else <условие не выполнено>\n",
        "x = -10\n",
        "print(\"х < 0\") if x < 0 else print(\"x >= 0\") "
      ],
      "metadata": {
        "colab": {
          "base_uri": "https://localhost:8080/"
        },
        "id": "cWqFGtpltVhp",
        "outputId": "714d9829-11ff-4403-913a-a9813868ff1f"
      },
      "execution_count": 27,
      "outputs": [
        {
          "output_type": "stream",
          "name": "stdout",
          "text": [
            "х < 0\n"
          ]
        }
      ]
    },
    {
      "cell_type": "code",
      "source": [
        "# только if\n",
        "cond = True\n",
        "print('привет') if cond else None"
      ],
      "metadata": {
        "colab": {
          "base_uri": "https://localhost:8080/"
        },
        "id": "nopt6ZSezYpU",
        "outputId": "ee3f3e13-426e-43f6-8e92-d7b69c3eaa30"
      },
      "execution_count": 28,
      "outputs": [
        {
          "output_type": "stream",
          "name": "stdout",
          "text": [
            "привет\n"
          ]
        }
      ]
    },
    {
      "cell_type": "code",
      "source": [
        "# if => elif => else\n",
        "x = -10\n",
        "pos = lambda x: print('%d - положительное число'%x)\n",
        "neg = lambda x: print('%d - отрицательное число'%x)\n",
        "zero = lambda x: print('%d - значение равно 0'%x)\n",
        "if x > 0:\n",
        "    pos(x)\n",
        "elif x < 0:\n",
        "    neg(x)\n",
        "else:\n",
        "    zero(x)\n",
        "# соответствующий тернарный оператор\n",
        "pos(x) if x > 0 else neg(x) if x < 0 else zero(x)"
      ],
      "metadata": {
        "colab": {
          "base_uri": "https://localhost:8080/"
        },
        "id": "ryItHEpmtplY",
        "outputId": "b7cf78bb-0684-425c-bf8f-3fd6f885ad4d"
      },
      "execution_count": 25,
      "outputs": [
        {
          "output_type": "stream",
          "name": "stdout",
          "text": [
            "-10 - отрицательное число\n",
            "-10 - отрицательное число\n"
          ]
        }
      ]
    },
    {
      "cell_type": "code",
      "source": [
        "# условное выражение - одной строкой\n",
        "logic = False\n",
        "condition = logic or not logic\n",
        "print(condition) \n",
        "\"условие всегда выполняется - это тавтология\" if condition else \"!!!!!!\""
      ],
      "metadata": {
        "colab": {
          "base_uri": "https://localhost:8080/",
          "height": 74
        },
        "id": "ifX35s_3G4Sr",
        "outputId": "fbe03d3f-447a-4fcc-afb3-06c4723fbe72"
      },
      "execution_count": 12,
      "outputs": [
        {
          "output_type": "stream",
          "name": "stdout",
          "text": [
            "True\n"
          ]
        },
        {
          "output_type": "execute_result",
          "data": {
            "text/plain": [
              "'условие всегда выполняется - это тавтология'"
            ],
            "application/vnd.google.colaboratory.intrinsic+json": {
              "type": "string"
            }
          },
          "metadata": {},
          "execution_count": 12
        }
      ]
    },
    {
      "cell_type": "code",
      "source": [
        "# True == 1 и False == 0\n",
        "# выбор из списка или кортежа\n",
        "logic = True\n",
        "'🍎 - ' + ('зеленое', 'красное')[logic or not logic]"
      ],
      "metadata": {
        "colab": {
          "base_uri": "https://localhost:8080/",
          "height": 58
        },
        "id": "Jfracp0qEleS",
        "outputId": "93dfec60-bf9f-486d-cc79-c7fff85cfbec"
      },
      "execution_count": 13,
      "outputs": [
        {
          "output_type": "execute_result",
          "data": {
            "text/plain": [
              "'🍎 - красное'"
            ],
            "application/vnd.google.colaboratory.intrinsic+json": {
              "type": "string"
            }
          },
          "metadata": {},
          "execution_count": 13
        }
      ]
    },
    {
      "cell_type": "code",
      "execution_count": 14,
      "metadata": {
        "id": "hCz_GS4Xfh4-",
        "colab": {
          "base_uri": "https://localhost:8080/"
        },
        "outputId": "b04adcd9-12b4-4c93-c6e4-77f8c6ea80f5"
      },
      "outputs": [
        {
          "output_type": "stream",
          "name": "stdout",
          "text": [
            "25\n",
            "не равно 5\n"
          ]
        }
      ],
      "source": [
        "# сохранение результата в виде переменной\n",
        "number = int(input())\n",
        "result = \"равно 5\" if number==5 else \"не равно 5\"\n",
        "print(result)"
      ]
    },
    {
      "cell_type": "markdown",
      "source": [
        "## Задание\n",
        "Придумате ситуацию и запрограммируйте диалог, для которой конструкция `while` эффективнее `if`."
      ],
      "metadata": {
        "id": "Bzb0cEu5BzmR"
      }
    },
    {
      "cell_type": "code",
      "source": [
        "def password():\n",
        "    return input('Выберите пароль ')\n",
        "a = password()\n",
        "while len(a) < 6:\n",
        "    print('Пароль слишком короткий, необходимо задать пароль '+\\\n",
        "          'длиной не менее 6 символов, наберите еще раз!')\n",
        "    a = password()  \n",
        "print('Пароль %s принят.'%a)"
      ],
      "metadata": {
        "id": "F_7CyAWNBtpK",
        "colab": {
          "base_uri": "https://localhost:8080/"
        },
        "outputId": "118a83fb-16b4-4346-f795-2cbb79c42c0f"
      },
      "execution_count": 15,
      "outputs": [
        {
          "output_type": "stream",
          "name": "stdout",
          "text": [
            "Выберите пароль 12345\n",
            "Пароль слишком короткий, необходимо задать пароль длиной не менее 6 символов, наберите еще раз!\n",
            "Выберите пароль 1234567890\n",
            "Пароль 1234567890 принят.\n"
          ]
        }
      ]
    }
  ]
}