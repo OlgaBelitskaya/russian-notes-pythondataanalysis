{
  "nbformat": 4,
  "nbformat_minor": 0,
  "metadata": {
    "colab": {
      "provenance": []
    },
    "kernelspec": {
      "name": "python3",
      "display_name": "Python 3"
    },
    "language_info": {
      "name": "python"
    },
    "gpuClass": "standard"
  },
  "cells": [
    {
      "cell_type": "markdown",
      "source": [
        "# 2.28 Python NumPy Часть 1"
      ],
      "metadata": {
        "id": "qKVgAUJsy6Z2"
      }
    },
    {
      "cell_type": "code",
      "source": [
        "# организация программной среды\n",
        "# загрузка модулей и пользовательские установки\n",
        "import numpy as np,sympy as sp,pandas as pd,pylab as pl\n",
        "import random,torch,functools,itertools,requests\n",
        "from io import StringIO\n",
        "from sympy import init_printing; init_printing(unicode=True) \n",
        "from IPython.display import display,HTML,Latex"
      ],
      "metadata": {
        "id": "4MO4cOyoRNho"
      },
      "execution_count": 1,
      "outputs": []
    },
    {
      "cell_type": "code",
      "source": [
        "def coloring(f):\n",
        "    @functools.wraps(f)\n",
        "    def wrapped(*args, **kwargs):\n",
        "        link = f\"\"\"<style>\n",
        "        @import 'https://fonts.googleapis.com/css?family=Roboto';\n",
        "        </style>\"\"\"\n",
        "        # случайный оттенок цвета темнее всего спектра\n",
        "        # 0xFFFFFF - любой случайный оттенок\n",
        "        col=(f\"color:#{random.randint(0,0x3333FF):06x};\" \n",
        "             for i in range(len(args)))\n",
        "        font='font-size:16px; font-family:Roboto;'\n",
        "        return f(*(HTML(link+f\"<p style='{next(col)} {font}'>{a}</p>\")\n",
        "                   for i,a in enumerate(args)), **kwargs)\n",
        "    return wrapped\n",
        "# определение функций для строк и массивов\n",
        "@coloring\n",
        "def sdisplay(*args, **kwargs):\n",
        "    return display(*args, **kwargs)\n",
        "def mdisplay(*arrs):\n",
        "    for arr in arrs:\n",
        "        col=\"\\color {#\"+f\"{random.randint(0,0x3333FF):06x}\"+\"} \"\n",
        "        if len(arr.shape)==1: arr=[arr]\n",
        "        display(Latex(col+\"{\"+sp.latex(sp.Matrix(arr))+\"}\"))"
      ],
      "metadata": {
        "id": "pEMJN-Fe_4Kx"
      },
      "execution_count": 2,
      "outputs": []
    },
    {
      "cell_type": "code",
      "source": [
        "# генерация строк для случайного цвета \n",
        "[f\"#{random.randint(0,0xAAAAFF):06x}\" for i in range(5)]"
      ],
      "metadata": {
        "colab": {
          "base_uri": "https://localhost:8080/"
        },
        "id": "om-bfnJpf7SU",
        "outputId": "c8fa7455-a54a-4f77-fe68-688544df8b79"
      },
      "execution_count": 3,
      "outputs": [
        {
          "output_type": "execute_result",
          "data": {
            "text/plain": [
              "['#33d7e5', '#278c9a', '#14268f', '#9391e2', '#2ae204']"
            ]
          },
          "metadata": {},
          "execution_count": 3
        }
      ]
    },
    {
      "cell_type": "markdown",
      "source": [
        "## Создание массивов\n",
        "- из последовательных типов Python\n",
        "- используя функции, определенные в модуле\n",
        "- модифицируя существующие\n",
        "- загружая информацию из внешних источников\n",
        "- из объектов других модулей\n",
        "- ..."
      ],
      "metadata": {
        "id": "uoksGc2pWcJw"
      }
    },
    {
      "cell_type": "code",
      "source": [
        "# свойства объекта\n",
        "x = np.array([1,2,5.,8])\n",
        "display(*x.__array_interface__.items())"
      ],
      "metadata": {
        "colab": {
          "base_uri": "https://localhost:8080/",
          "height": 137
        },
        "id": "NltPxEirMmAM",
        "outputId": "a3841bdc-ad54-40fe-c78e-847fa5515b58"
      },
      "execution_count": 4,
      "outputs": [
        {
          "output_type": "display_data",
          "data": {
            "text/plain": [
              "('data', (134473936, False))"
            ]
          },
          "metadata": {}
        },
        {
          "output_type": "display_data",
          "data": {
            "text/plain": [
              "('strides', None)"
            ]
          },
          "metadata": {}
        },
        {
          "output_type": "display_data",
          "data": {
            "text/plain": [
              "('descr', [('', '<f8')])"
            ]
          },
          "metadata": {}
        },
        {
          "output_type": "display_data",
          "data": {
            "text/plain": [
              "('typestr', '<f8')"
            ]
          },
          "metadata": {}
        },
        {
          "output_type": "display_data",
          "data": {
            "text/plain": [
              "('shape', (4,))"
            ]
          },
          "metadata": {}
        },
        {
          "output_type": "display_data",
          "data": {
            "text/plain": [
              "('version', 3)"
            ]
          },
          "metadata": {}
        }
      ]
    },
    {
      "cell_type": "code",
      "source": [
        "# из последовательных типов Python\n",
        "# 8-bit signed integer => [-2**7; 2**7-1]\n",
        "lst1 = [2**7+i-1 for i in range(5)]\n",
        "arr1 = np.array(lst1, dtype=np.int8)\n",
        "lst2 = [2**31+i-1 for i in range(5)]\n",
        "arr2 = np.array(lst2, dtype=np.int32)\n",
        "sdisplay(arr1, arr2)"
      ],
      "metadata": {
        "colab": {
          "base_uri": "https://localhost:8080/",
          "height": 93
        },
        "id": "cMgnVm3ZWjZ6",
        "outputId": "406b5b8c-8f2d-46b2-ffe1-c5ede95a02ae"
      },
      "execution_count": 5,
      "outputs": [
        {
          "output_type": "display_data",
          "data": {
            "text/plain": [
              "<IPython.core.display.HTML object>"
            ],
            "text/html": [
              "<style>\n",
              "        @import 'https://fonts.googleapis.com/css?family=Roboto';\n",
              "        </style><p style='color:#15f806; font-size:16px; font-family:Roboto;'>[ 127 -128 -127 -126 -125]</p>"
            ]
          },
          "metadata": {}
        },
        {
          "output_type": "display_data",
          "data": {
            "text/plain": [
              "<IPython.core.display.HTML object>"
            ],
            "text/html": [
              "<style>\n",
              "        @import 'https://fonts.googleapis.com/css?family=Roboto';\n",
              "        </style><p style='color:#00c299; font-size:16px; font-family:Roboto;'>[ 2147483647 -2147483648 -2147483647 -2147483646 -2147483645]</p>"
            ]
          },
          "metadata": {}
        }
      ]
    },
    {
      "cell_type": "code",
      "source": [
        "# 16-bit unsigned integer => [0; 2**16-1]\n",
        "arr1 = np.array([2, 3, 4], dtype=np.uint16)\n",
        "arr2 = np.array([4, 4, 4], dtype=np.uint16)\n",
        "# одинаковый тип данных\n",
        "arr3 = arr1 - arr2\n",
        "# разные типы данных массивов =>\n",
        "# тип данных, включающий все элементы вычислений\n",
        "arr4 = arr1 - arr2.astype(np.int16)\n",
        "sdisplay(arr3, arr3.dtype, arr4, arr4.dtype)"
      ],
      "metadata": {
        "colab": {
          "base_uri": "https://localhost:8080/",
          "height": 144
        },
        "id": "kx3D85c9YvuS",
        "outputId": "94af9a6a-a849-4ebf-e244-308f1587a0d3"
      },
      "execution_count": 6,
      "outputs": [
        {
          "output_type": "display_data",
          "data": {
            "text/plain": [
              "<IPython.core.display.HTML object>"
            ],
            "text/html": [
              "<style>\n",
              "        @import 'https://fonts.googleapis.com/css?family=Roboto';\n",
              "        </style><p style='color:#0ad9a7; font-size:16px; font-family:Roboto;'>[65534 65535     0]</p>"
            ]
          },
          "metadata": {}
        },
        {
          "output_type": "display_data",
          "data": {
            "text/plain": [
              "<IPython.core.display.HTML object>"
            ],
            "text/html": [
              "<style>\n",
              "        @import 'https://fonts.googleapis.com/css?family=Roboto';\n",
              "        </style><p style='color:#22c431; font-size:16px; font-family:Roboto;'>uint16</p>"
            ]
          },
          "metadata": {}
        },
        {
          "output_type": "display_data",
          "data": {
            "text/plain": [
              "<IPython.core.display.HTML object>"
            ],
            "text/html": [
              "<style>\n",
              "        @import 'https://fonts.googleapis.com/css?family=Roboto';\n",
              "        </style><p style='color:#289eac; font-size:16px; font-family:Roboto;'>[-2 -1  0]</p>"
            ]
          },
          "metadata": {}
        },
        {
          "output_type": "display_data",
          "data": {
            "text/plain": [
              "<IPython.core.display.HTML object>"
            ],
            "text/html": [
              "<style>\n",
              "        @import 'https://fonts.googleapis.com/css?family=Roboto';\n",
              "        </style><p style='color:#132744; font-size:16px; font-family:Roboto;'>int32</p>"
            ]
          },
          "metadata": {}
        }
      ]
    },
    {
      "cell_type": "code",
      "source": [
        "# встроенные функции numpy\n",
        "arr1D_1 = np.arange(2,20,2,dtype=float)\n",
        "# 10 равных промежутков на отрезке [0; 1] - 11 точек\n",
        "arr1D_2 = np.linspace(1,3,11)\n",
        "mdisplay(arr1D_1,arr1D_2)"
      ],
      "metadata": {
        "colab": {
          "base_uri": "https://localhost:8080/",
          "height": 80
        },
        "id": "MaKw1fkpozpn",
        "outputId": "ba17b439-897a-418f-81b5-a6f68007002c"
      },
      "execution_count": 7,
      "outputs": [
        {
          "output_type": "display_data",
          "data": {
            "text/plain": [
              "<IPython.core.display.Latex object>"
            ],
            "text/latex": "\\color {#08e1f3} {\\left[\\begin{matrix}2.0 & 4.0 & 6.0 & 8.0 & 10.0 & 12.0 & 14.0 & 16.0 & 18.0\\end{matrix}\\right]}"
          },
          "metadata": {}
        },
        {
          "output_type": "display_data",
          "data": {
            "text/plain": [
              "<IPython.core.display.Latex object>"
            ],
            "text/latex": "\\color {#1c582e} {\\left[\\begin{array}{ccccccccccc}1.0 & 1.2 & 1.4 & 1.6 & 1.8 & 2.0 & 2.2 & 2.4 & 2.6 & 2.8 & 3.0\\end{array}\\right]}"
          },
          "metadata": {}
        }
      ]
    },
    {
      "cell_type": "code",
      "source": [
        "# диагональные матрицы, по умолчанию - квадратные\n",
        "arr2D_1 = np.eye(3,6)\n",
        "arr2D_2 = np.diag([1,2,3],2)\n",
        "# числа в последовательности в степени до 0,1,2,3 (до 4-1)\n",
        "arr2D_3 = np.vander((1,3,5),4)\n",
        "mdisplay(arr2D_1,arr2D_2,arr2D_3)"
      ],
      "metadata": {
        "colab": {
          "base_uri": "https://localhost:8080/",
          "height": 262
        },
        "id": "oK4P024VymAz",
        "outputId": "54211d4b-f4cc-411a-ec22-faf41c8af6d3"
      },
      "execution_count": 8,
      "outputs": [
        {
          "output_type": "display_data",
          "data": {
            "text/plain": [
              "<IPython.core.display.Latex object>"
            ],
            "text/latex": "\\color {#1192fd} {\\left[\\begin{matrix}1.0 & 0 & 0 & 0 & 0 & 0\\\\0 & 1.0 & 0 & 0 & 0 & 0\\\\0 & 0 & 1.0 & 0 & 0 & 0\\end{matrix}\\right]}"
          },
          "metadata": {}
        },
        {
          "output_type": "display_data",
          "data": {
            "text/plain": [
              "<IPython.core.display.Latex object>"
            ],
            "text/latex": "\\color {#0d9665} {\\left[\\begin{matrix}0 & 0 & 1 & 0 & 0\\\\0 & 0 & 0 & 2 & 0\\\\0 & 0 & 0 & 0 & 3\\\\0 & 0 & 0 & 0 & 0\\\\0 & 0 & 0 & 0 & 0\\end{matrix}\\right]}"
          },
          "metadata": {}
        },
        {
          "output_type": "display_data",
          "data": {
            "text/plain": [
              "<IPython.core.display.Latex object>"
            ],
            "text/latex": "\\color {#1f47ae} {\\left[\\begin{matrix}1 & 1 & 1 & 1\\\\27 & 9 & 3 & 1\\\\125 & 25 & 5 & 1\\end{matrix}\\right]}"
          },
          "metadata": {}
        }
      ]
    },
    {
      "cell_type": "code",
      "source": [
        "# нули и единицы\n",
        "mdisplay(np.zeros((2,3)),np.ones((3,2)))"
      ],
      "metadata": {
        "colab": {
          "base_uri": "https://localhost:8080/",
          "height": 140
        },
        "id": "YVj-fo7wi3gQ",
        "outputId": "37b4fa99-2e75-4b6b-92fe-b0481ef249a5"
      },
      "execution_count": 9,
      "outputs": [
        {
          "output_type": "display_data",
          "data": {
            "text/plain": [
              "<IPython.core.display.Latex object>"
            ],
            "text/latex": "\\color {#2f67d7} {\\left[\\begin{matrix}0 & 0 & 0\\\\0 & 0 & 0\\end{matrix}\\right]}"
          },
          "metadata": {}
        },
        {
          "output_type": "display_data",
          "data": {
            "text/plain": [
              "<IPython.core.display.Latex object>"
            ],
            "text/latex": "\\color {#0fc29d} {\\left[\\begin{matrix}1.0 & 1.0\\\\1.0 & 1.0\\\\1.0 & 1.0\\end{matrix}\\right]}"
          },
          "metadata": {}
        }
      ]
    },
    {
      "cell_type": "code",
      "source": [
        "# массивы случайных чисел\n",
        "# np.random.choice(5,10) <=> np.random.randint(0,5,10)\n",
        "mdisplay(np.random.choice(5,10,p=[.1,0,.3,.6,0]))"
      ],
      "metadata": {
        "colab": {
          "base_uri": "https://localhost:8080/",
          "height": 59
        },
        "id": "gCzAL1XJl0SZ",
        "outputId": "ca9acc23-db17-46e3-9a0d-63ee60094edb"
      },
      "execution_count": 10,
      "outputs": [
        {
          "output_type": "display_data",
          "data": {
            "text/plain": [
              "<IPython.core.display.Latex object>"
            ],
            "text/latex": "\\color {#02b359} {\\left[\\begin{matrix}3 & 0 & 3 & 0 & 3 & 3 & 3 & 3 & 2 & 3\\end{matrix}\\right]}"
          },
          "metadata": {}
        }
      ]
    },
    {
      "cell_type": "code",
      "source": [
        "# влияет на оригинальный объект\n",
        "arr11 = np.array([1,2,3,4,5])\n",
        "arr21 = arr11[:2]\n",
        "arr21 += 1\n",
        "# не влияет на оригинальный объект\n",
        "arr12 = np.array([1,2,3,4,5])\n",
        "arr22 = arr12.copy()[:2]\n",
        "arr22 += 1\n",
        "sdisplay([arr11,arr21],[arr12,arr22])"
      ],
      "metadata": {
        "colab": {
          "base_uri": "https://localhost:8080/",
          "height": 93
        },
        "id": "PY4c38ybwI4R",
        "outputId": "b6bb5b08-2e51-418f-e3f1-3050adaa20e1"
      },
      "execution_count": 11,
      "outputs": [
        {
          "output_type": "display_data",
          "data": {
            "text/plain": [
              "<IPython.core.display.HTML object>"
            ],
            "text/html": [
              "<style>\n",
              "        @import 'https://fonts.googleapis.com/css?family=Roboto';\n",
              "        </style><p style='color:#19f2f6; font-size:16px; font-family:Roboto;'>[array([2, 3, 3, 4, 5]), array([2, 3])]</p>"
            ]
          },
          "metadata": {}
        },
        {
          "output_type": "display_data",
          "data": {
            "text/plain": [
              "<IPython.core.display.HTML object>"
            ],
            "text/html": [
              "<style>\n",
              "        @import 'https://fonts.googleapis.com/css?family=Roboto';\n",
              "        </style><p style='color:#2fd7f1; font-size:16px; font-family:Roboto;'>[array([1, 2, 3, 4, 5]), array([2, 3])]</p>"
            ]
          },
          "metadata": {}
        }
      ]
    },
    {
      "cell_type": "code",
      "source": [
        "# numpy.vstack, numpy.hstack, numpy.block...\n",
        "arr = np.block([[np.ones((2,2)),np.eye(2,2)],\n",
        "                [np.zeros((2,2)),np.diag((10,100))]])\n",
        "mdisplay(arr)"
      ],
      "metadata": {
        "colab": {
          "base_uri": "https://localhost:8080/",
          "height": 120
        },
        "id": "CVFsQSxUyx6N",
        "outputId": "72af166f-0116-4de7-ca93-40f78d431b3e"
      },
      "execution_count": 12,
      "outputs": [
        {
          "output_type": "display_data",
          "data": {
            "text/plain": [
              "<IPython.core.display.Latex object>"
            ],
            "text/latex": "\\color {#24557f} {\\left[\\begin{matrix}1.0 & 1.0 & 1.0 & 0\\\\1.0 & 1.0 & 0 & 1.0\\\\0 & 0 & 10.0 & 0\\\\0 & 0 & 0 & 100.0\\end{matrix}\\right]}"
          },
          "metadata": {}
        }
      ]
    },
    {
      "cell_type": "code",
      "source": [
        "%%writefile example.csv\n",
        "x, y, z\n",
        "0, 0, 0\n",
        "1, 1, 1\n",
        "2, 4, 8"
      ],
      "metadata": {
        "colab": {
          "base_uri": "https://localhost:8080/"
        },
        "id": "n1EQzNT09_QH",
        "outputId": "e59d9f0b-b99c-4877-e1f8-8741df138e49"
      },
      "execution_count": 13,
      "outputs": [
        {
          "output_type": "stream",
          "name": "stdout",
          "text": [
            "Writing example.csv\n"
          ]
        }
      ]
    },
    {
      "cell_type": "code",
      "source": [
        "# из внешних источников\n",
        "arr = np.loadtxt('example.csv',delimiter=',',skiprows=1)\n",
        "mdisplay(arr)"
      ],
      "metadata": {
        "colab": {
          "base_uri": "https://localhost:8080/",
          "height": 99
        },
        "id": "lXml3MiH-eyf",
        "outputId": "b501ba5c-be02-47c5-a6ae-b34fb76d159b"
      },
      "execution_count": 14,
      "outputs": [
        {
          "output_type": "display_data",
          "data": {
            "text/plain": [
              "<IPython.core.display.Latex object>"
            ],
            "text/latex": "\\color {#229489} {\\left[\\begin{matrix}0 & 0 & 0\\\\1.0 & 1.0 & 1.0\\\\2.0 & 4.0 & 8.0\\end{matrix}\\right]}"
          },
          "metadata": {}
        }
      ]
    },
    {
      "cell_type": "markdown",
      "source": [
        "[Importing data with genfromtxt](https://numpy.org/devdocs/user/basics.io.genfromtxt.html)"
      ],
      "metadata": {
        "id": "Zsb0_HMcXCxM"
      }
    },
    {
      "cell_type": "code",
      "source": [
        "# из строковых объектов\n",
        "data = u\"\"\"#\n",
        "# комментарий\n",
        "1, 2\\n3, 4\n",
        "5,   6 # добавим лишних пробелов\n",
        "7, 8\\n9, 0\n",
        "\"\"\"\n",
        "arr = np.genfromtxt(StringIO(data),comments=\"#\",delimiter=\",\")\n",
        "sdisplay(arr,arr.dtype)"
      ],
      "metadata": {
        "colab": {
          "base_uri": "https://localhost:8080/",
          "height": 93
        },
        "id": "hDqOmKi4WpJ_",
        "outputId": "9e63a59a-52cd-4c9b-fe93-2e52559e5a32"
      },
      "execution_count": 15,
      "outputs": [
        {
          "output_type": "display_data",
          "data": {
            "text/plain": [
              "<IPython.core.display.HTML object>"
            ],
            "text/html": [
              "<style>\n",
              "        @import 'https://fonts.googleapis.com/css?family=Roboto';\n",
              "        </style><p style='color:#1932cf; font-size:16px; font-family:Roboto;'>[[1. 2.]\n",
              " [3. 4.]\n",
              " [5. 6.]\n",
              " [7. 8.]\n",
              " [9. 0.]]</p>"
            ]
          },
          "metadata": {}
        },
        {
          "output_type": "display_data",
          "data": {
            "text/plain": [
              "<IPython.core.display.HTML object>"
            ],
            "text/html": [
              "<style>\n",
              "        @import 'https://fonts.googleapis.com/css?family=Roboto';\n",
              "        </style><p style='color:#167bb1; font-size:16px; font-family:Roboto;'>float64</p>"
            ]
          },
          "metadata": {}
        }
      ]
    },
    {
      "cell_type": "code",
      "source": [
        "# из рамок данных pandas\n",
        "df = pd.DataFrame(\n",
        "    {\"A\":[1,2],\"B\":[3.,4.],\n",
        "     \"D\":pd.date_range('2000',periods=2)})\n",
        "# массив с учетом всех типов данных\n",
        "sdisplay([df.to_numpy()],[df.__array__()])"
      ],
      "metadata": {
        "colab": {
          "base_uri": "https://localhost:8080/",
          "height": 93
        },
        "id": "XRmW06BA-z1n",
        "outputId": "90517a3f-7655-41bb-8735-1dcb48e95901"
      },
      "execution_count": 16,
      "outputs": [
        {
          "output_type": "display_data",
          "data": {
            "text/plain": [
              "<IPython.core.display.HTML object>"
            ],
            "text/html": [
              "<style>\n",
              "        @import 'https://fonts.googleapis.com/css?family=Roboto';\n",
              "        </style><p style='color:#1a3694; font-size:16px; font-family:Roboto;'>[array([[1, 3.0, Timestamp('2000-01-01 00:00:00')],\n",
              "       [2, 4.0, Timestamp('2000-01-02 00:00:00')]], dtype=object)]</p>"
            ]
          },
          "metadata": {}
        },
        {
          "output_type": "display_data",
          "data": {
            "text/plain": [
              "<IPython.core.display.HTML object>"
            ],
            "text/html": [
              "<style>\n",
              "        @import 'https://fonts.googleapis.com/css?family=Roboto';\n",
              "        </style><p style='color:#0f6ee9; font-size:16px; font-family:Roboto;'>[array([[1, 3.0, Timestamp('2000-01-01 00:00:00')],\n",
              "       [2, 4.0, Timestamp('2000-01-02 00:00:00')]], dtype=object)]</p>"
            ]
          },
          "metadata": {}
        }
      ]
    },
    {
      "cell_type": "code",
      "source": [
        "# не меняет типа (класса) исходного объекта\n",
        "s = np.add(pd.Series(range(5)),range(5))\n",
        "print(type(s))\n",
        "sdisplay(s)\n",
        "t = np.sqrt(torch.tensor([[1,2],[3,4]]))\n",
        "print(type(t))\n",
        "sdisplay(t)"
      ],
      "metadata": {
        "colab": {
          "base_uri": "https://localhost:8080/",
          "height": 134
        },
        "id": "xDqFDiioRbpv",
        "outputId": "d156fb0a-fccb-4602-8c9a-ac6d5632c83f"
      },
      "execution_count": 17,
      "outputs": [
        {
          "output_type": "stream",
          "name": "stdout",
          "text": [
            "<class 'pandas.core.series.Series'>\n"
          ]
        },
        {
          "output_type": "display_data",
          "data": {
            "text/plain": [
              "<IPython.core.display.HTML object>"
            ],
            "text/html": [
              "<style>\n",
              "        @import 'https://fonts.googleapis.com/css?family=Roboto';\n",
              "        </style><p style='color:#1c3103; font-size:16px; font-family:Roboto;'>0    0\n",
              "1    2\n",
              "2    4\n",
              "3    6\n",
              "4    8\n",
              "dtype: int64</p>"
            ]
          },
          "metadata": {}
        },
        {
          "output_type": "stream",
          "name": "stdout",
          "text": [
            "<class 'torch.Tensor'>\n"
          ]
        },
        {
          "output_type": "display_data",
          "data": {
            "text/plain": [
              "<IPython.core.display.HTML object>"
            ],
            "text/html": [
              "<style>\n",
              "        @import 'https://fonts.googleapis.com/css?family=Roboto';\n",
              "        </style><p style='color:#1c9f4f; font-size:16px; font-family:Roboto;'>tensor([[1.0000, 1.4142],\n",
              "        [1.7321, 2.0000]], dtype=torch.float64)</p>"
            ]
          },
          "metadata": {}
        }
      ]
    },
    {
      "cell_type": "code",
      "source": [
        "# не получится сразу превратить в np.array\n",
        "# упражнение только при запуске ускорителя\n",
        "# x_torch = torch.arange(5,device='cuda')\n",
        "# print(type(x_torch))\n",
        "# sdisplay(x_torch)\n",
        "# x = np.exp(x_torch.detach().cpu().numpy())\n",
        "# print(type(x))\n",
        "# sdisplay(x)"
      ],
      "metadata": {
        "id": "1vaJb9fZUBOH"
      },
      "execution_count": 18,
      "outputs": []
    },
    {
      "cell_type": "code",
      "source": [
        "# из списка, созданного итератором\n",
        "s = [\"🍊\",\"🍋\",\"🍎\"]\n",
        "s = np.array(list(itertools.permutations(s,2)))\n",
        "s"
      ],
      "metadata": {
        "colab": {
          "base_uri": "https://localhost:8080/"
        },
        "id": "BxHYGUqGR49l",
        "outputId": "198736c7-b194-40c6-c3cc-ec3a31f26e35"
      },
      "execution_count": 19,
      "outputs": [
        {
          "output_type": "execute_result",
          "data": {
            "text/plain": [
              "array([['🍊', '🍋'],\n",
              "       ['🍊', '🍎'],\n",
              "       ['🍋', '🍊'],\n",
              "       ['🍋', '🍎'],\n",
              "       ['🍎', '🍊'],\n",
              "       ['🍎', '🍋']], dtype='<U1')"
            ]
          },
          "metadata": {},
          "execution_count": 19
        }
      ]
    },
    {
      "cell_type": "markdown",
      "source": [
        "## Обращение к элементам массива"
      ],
      "metadata": {
        "id": "el0oID-GXFFa"
      }
    },
    {
      "cell_type": "code",
      "source": [
        "# индексирование двумя способами\n",
        "x = np.arange(10).reshape(2,5)\n",
        "sdisplay(x,x[0,2]==x[0][2])"
      ],
      "metadata": {
        "colab": {
          "base_uri": "https://localhost:8080/",
          "height": 93
        },
        "id": "SCM-4LQJWxKp",
        "outputId": "e7129114-4281-4339-8d46-e04531e8dea9"
      },
      "execution_count": 20,
      "outputs": [
        {
          "output_type": "display_data",
          "data": {
            "text/plain": [
              "<IPython.core.display.HTML object>"
            ],
            "text/html": [
              "<style>\n",
              "        @import 'https://fonts.googleapis.com/css?family=Roboto';\n",
              "        </style><p style='color:#0fe062; font-size:16px; font-family:Roboto;'>[[0 1 2 3 4]\n",
              " [5 6 7 8 9]]</p>"
            ]
          },
          "metadata": {}
        },
        {
          "output_type": "display_data",
          "data": {
            "text/plain": [
              "<IPython.core.display.HTML object>"
            ],
            "text/html": [
              "<style>\n",
              "        @import 'https://fonts.googleapis.com/css?family=Roboto';\n",
              "        </style><p style='color:#15b382; font-size:16px; font-family:Roboto;'>True</p>"
            ]
          },
          "metadata": {}
        }
      ]
    },
    {
      "cell_type": "code",
      "source": [
        "# индексы: срезы, интервалы, списки, кортежи\n",
        "x = np.arange(16).reshape(4,4)\n",
        "mdisplay(x)\n",
        "sdisplay(x[slice(2,3)],x[range(2,3)],x[[2,2]],x[(2,2)])"
      ],
      "metadata": {
        "colab": {
          "base_uri": "https://localhost:8080/",
          "height": 226
        },
        "id": "Azx_pI5cK1KZ",
        "outputId": "bdd60d14-29e7-4293-c20f-46234ceb35e5"
      },
      "execution_count": 21,
      "outputs": [
        {
          "output_type": "display_data",
          "data": {
            "text/plain": [
              "<IPython.core.display.Latex object>"
            ],
            "text/latex": "\\color {#24b221} {\\left[\\begin{matrix}0 & 1 & 2 & 3\\\\4 & 5 & 6 & 7\\\\8 & 9 & 10 & 11\\\\12 & 13 & 14 & 15\\end{matrix}\\right]}"
          },
          "metadata": {}
        },
        {
          "output_type": "display_data",
          "data": {
            "text/plain": [
              "<IPython.core.display.HTML object>"
            ],
            "text/html": [
              "<style>\n",
              "        @import 'https://fonts.googleapis.com/css?family=Roboto';\n",
              "        </style><p style='color:#10e2ea; font-size:16px; font-family:Roboto;'>[[ 8  9 10 11]]</p>"
            ]
          },
          "metadata": {}
        },
        {
          "output_type": "display_data",
          "data": {
            "text/plain": [
              "<IPython.core.display.HTML object>"
            ],
            "text/html": [
              "<style>\n",
              "        @import 'https://fonts.googleapis.com/css?family=Roboto';\n",
              "        </style><p style='color:#171abd; font-size:16px; font-family:Roboto;'>[[ 8  9 10 11]]</p>"
            ]
          },
          "metadata": {}
        },
        {
          "output_type": "display_data",
          "data": {
            "text/plain": [
              "<IPython.core.display.HTML object>"
            ],
            "text/html": [
              "<style>\n",
              "        @import 'https://fonts.googleapis.com/css?family=Roboto';\n",
              "        </style><p style='color:#1a11eb; font-size:16px; font-family:Roboto;'>[[ 8  9 10 11]\n",
              " [ 8  9 10 11]]</p>"
            ]
          },
          "metadata": {}
        },
        {
          "output_type": "display_data",
          "data": {
            "text/plain": [
              "<IPython.core.display.HTML object>"
            ],
            "text/html": [
              "<style>\n",
              "        @import 'https://fonts.googleapis.com/css?family=Roboto';\n",
              "        </style><p style='color:#22ef07; font-size:16px; font-family:Roboto;'>10</p>"
            ]
          },
          "metadata": {}
        }
      ]
    },
    {
      "cell_type": "code",
      "source": [
        "# задание - определить закономерности отбора объектов\n",
        "x = np.arange(30).reshape(3,10)\n",
        "mdisplay(x,x[2:],x[:,::-3])"
      ],
      "metadata": {
        "colab": {
          "base_uri": "https://localhost:8080/",
          "height": 180
        },
        "id": "J-Q-nms1dipo",
        "outputId": "45cf28af-84b4-4171-ef69-2b910097b355"
      },
      "execution_count": 22,
      "outputs": [
        {
          "output_type": "display_data",
          "data": {
            "text/plain": [
              "<IPython.core.display.Latex object>"
            ],
            "text/latex": "\\color {#1a36d2} {\\left[\\begin{matrix}0 & 1 & 2 & 3 & 4 & 5 & 6 & 7 & 8 & 9\\\\10 & 11 & 12 & 13 & 14 & 15 & 16 & 17 & 18 & 19\\\\20 & 21 & 22 & 23 & 24 & 25 & 26 & 27 & 28 & 29\\end{matrix}\\right]}"
          },
          "metadata": {}
        },
        {
          "output_type": "display_data",
          "data": {
            "text/plain": [
              "<IPython.core.display.Latex object>"
            ],
            "text/latex": "\\color {#1ce903} {\\left[\\begin{matrix}20 & 21 & 22 & 23 & 24 & 25 & 26 & 27 & 28 & 29\\end{matrix}\\right]}"
          },
          "metadata": {}
        },
        {
          "output_type": "display_data",
          "data": {
            "text/plain": [
              "<IPython.core.display.Latex object>"
            ],
            "text/latex": "\\color {#131137} {\\left[\\begin{matrix}9 & 6 & 3 & 0\\\\19 & 16 & 13 & 10\\\\29 & 26 & 23 & 20\\end{matrix}\\right]}"
          },
          "metadata": {}
        }
      ]
    },
    {
      "cell_type": "code",
      "source": [
        "# размерность \"сетки\" должна совпадать (3x3)\n",
        "x = np.arange(35).reshape(5,7)\n",
        "idx1,idx2 = [0,2,4],[1,3,5]\n",
        "mdisplay(x,x[idx1,idx2])"
      ],
      "metadata": {
        "colab": {
          "base_uri": "https://localhost:8080/",
          "height": 161
        },
        "id": "_cegMtcPKVi9",
        "outputId": "811575e6-a248-45c5-fedc-1393aa8474cf"
      },
      "execution_count": 23,
      "outputs": [
        {
          "output_type": "display_data",
          "data": {
            "text/plain": [
              "<IPython.core.display.Latex object>"
            ],
            "text/latex": "\\color {#189aa6} {\\left[\\begin{matrix}0 & 1 & 2 & 3 & 4 & 5 & 6\\\\7 & 8 & 9 & 10 & 11 & 12 & 13\\\\14 & 15 & 16 & 17 & 18 & 19 & 20\\\\21 & 22 & 23 & 24 & 25 & 26 & 27\\\\28 & 29 & 30 & 31 & 32 & 33 & 34\\end{matrix}\\right]}"
          },
          "metadata": {}
        },
        {
          "output_type": "display_data",
          "data": {
            "text/plain": [
              "<IPython.core.display.Latex object>"
            ],
            "text/latex": "\\color {#0a1d42} {\\left[\\begin{matrix}1 & 17 & 33\\end{matrix}\\right]}"
          },
          "metadata": {}
        }
      ]
    },
    {
      "cell_type": "code",
      "source": [
        "x = np.arange(35).reshape(5,7)\n",
        "rows1 = np.array([[0,0],[3,3]], dtype=np.intp)\n",
        "cols1 = np.array([[1,4],[1,4]], dtype=np.intp)\n",
        "# нет необходимости в повторении \n",
        "rows2 = np.array([0,3], dtype=np.intp)\n",
        "cols2 = np.array([1,4], dtype=np.intp)\n",
        "mdisplay(x,x[rows1,cols1],\n",
        "         x[rows2[:,np.newaxis],cols2],\n",
        "         x[np.ix_(rows2,cols2)])"
      ],
      "metadata": {
        "colab": {
          "base_uri": "https://localhost:8080/",
          "height": 266
        },
        "id": "HfROS7CUM-yP",
        "outputId": "c7c7f22a-51f3-495d-af29-02bf576ea044"
      },
      "execution_count": 24,
      "outputs": [
        {
          "output_type": "display_data",
          "data": {
            "text/plain": [
              "<IPython.core.display.Latex object>"
            ],
            "text/latex": "\\color {#25c163} {\\left[\\begin{matrix}0 & 1 & 2 & 3 & 4 & 5 & 6\\\\7 & 8 & 9 & 10 & 11 & 12 & 13\\\\14 & 15 & 16 & 17 & 18 & 19 & 20\\\\21 & 22 & 23 & 24 & 25 & 26 & 27\\\\28 & 29 & 30 & 31 & 32 & 33 & 34\\end{matrix}\\right]}"
          },
          "metadata": {}
        },
        {
          "output_type": "display_data",
          "data": {
            "text/plain": [
              "<IPython.core.display.Latex object>"
            ],
            "text/latex": "\\color {#162c8a} {\\left[\\begin{matrix}1 & 4\\\\22 & 25\\end{matrix}\\right]}"
          },
          "metadata": {}
        },
        {
          "output_type": "display_data",
          "data": {
            "text/plain": [
              "<IPython.core.display.Latex object>"
            ],
            "text/latex": "\\color {#149cc3} {\\left[\\begin{matrix}1 & 4\\\\22 & 25\\end{matrix}\\right]}"
          },
          "metadata": {}
        },
        {
          "output_type": "display_data",
          "data": {
            "text/plain": [
              "<IPython.core.display.Latex object>"
            ],
            "text/latex": "\\color {#174f05} {\\left[\\begin{matrix}1 & 4\\\\22 & 25\\end{matrix}\\right]}"
          },
          "metadata": {}
        }
      ]
    },
    {
      "cell_type": "code",
      "source": [
        "# многомерное индексирование\n",
        "x = np.arange(24).reshape(2,3,4)\n",
        "# одинаковый результат отбора\n",
        "sdisplay(x,x[...,0],x[:,:,0])"
      ],
      "metadata": {
        "colab": {
          "base_uri": "https://localhost:8080/",
          "height": 119
        },
        "id": "7gZA3OlijAKw",
        "outputId": "97cdb2bd-beb5-4caa-9468-9189ccff0877"
      },
      "execution_count": 25,
      "outputs": [
        {
          "output_type": "display_data",
          "data": {
            "text/plain": [
              "<IPython.core.display.HTML object>"
            ],
            "text/html": [
              "<style>\n",
              "        @import 'https://fonts.googleapis.com/css?family=Roboto';\n",
              "        </style><p style='color:#210e7d; font-size:16px; font-family:Roboto;'>[[[ 0  1  2  3]\n",
              "  [ 4  5  6  7]\n",
              "  [ 8  9 10 11]]\n",
              "\n",
              " [[12 13 14 15]\n",
              "  [16 17 18 19]\n",
              "  [20 21 22 23]]]</p>"
            ]
          },
          "metadata": {}
        },
        {
          "output_type": "display_data",
          "data": {
            "text/plain": [
              "<IPython.core.display.HTML object>"
            ],
            "text/html": [
              "<style>\n",
              "        @import 'https://fonts.googleapis.com/css?family=Roboto';\n",
              "        </style><p style='color:#2b1edb; font-size:16px; font-family:Roboto;'>[[ 0  4  8]\n",
              " [12 16 20]]</p>"
            ]
          },
          "metadata": {}
        },
        {
          "output_type": "display_data",
          "data": {
            "text/plain": [
              "<IPython.core.display.HTML object>"
            ],
            "text/html": [
              "<style>\n",
              "        @import 'https://fonts.googleapis.com/css?family=Roboto';\n",
              "        </style><p style='color:#033f72; font-size:16px; font-family:Roboto;'>[[ 0  4  8]\n",
              " [12 16 20]]</p>"
            ]
          },
          "metadata": {}
        }
      ]
    },
    {
      "cell_type": "code",
      "source": [
        "# 4-хмерный массив и 2-мерный срез\n",
        "x = np.array(12*[0,1,2]).reshape(3,2,2,3)\n",
        "sdisplay(x,x.shape,x[0],x[0,...,2],x[0,...,2].shape)"
      ],
      "metadata": {
        "colab": {
          "base_uri": "https://localhost:8080/",
          "height": 169
        },
        "id": "0rD3XSWpF3Hm",
        "outputId": "dd61bc51-09ae-41c4-8cb5-413dcdaa7c84"
      },
      "execution_count": 26,
      "outputs": [
        {
          "output_type": "display_data",
          "data": {
            "text/plain": [
              "<IPython.core.display.HTML object>"
            ],
            "text/html": [
              "<style>\n",
              "        @import 'https://fonts.googleapis.com/css?family=Roboto';\n",
              "        </style><p style='color:#2e4838; font-size:16px; font-family:Roboto;'>[[[[0 1 2]\n",
              "   [0 1 2]]\n",
              "\n",
              "  [[0 1 2]\n",
              "   [0 1 2]]]\n",
              "\n",
              "\n",
              " [[[0 1 2]\n",
              "   [0 1 2]]\n",
              "\n",
              "  [[0 1 2]\n",
              "   [0 1 2]]]\n",
              "\n",
              "\n",
              " [[[0 1 2]\n",
              "   [0 1 2]]\n",
              "\n",
              "  [[0 1 2]\n",
              "   [0 1 2]]]]</p>"
            ]
          },
          "metadata": {}
        },
        {
          "output_type": "display_data",
          "data": {
            "text/plain": [
              "<IPython.core.display.HTML object>"
            ],
            "text/html": [
              "<style>\n",
              "        @import 'https://fonts.googleapis.com/css?family=Roboto';\n",
              "        </style><p style='color:#167b9b; font-size:16px; font-family:Roboto;'>(3, 2, 2, 3)</p>"
            ]
          },
          "metadata": {}
        },
        {
          "output_type": "display_data",
          "data": {
            "text/plain": [
              "<IPython.core.display.HTML object>"
            ],
            "text/html": [
              "<style>\n",
              "        @import 'https://fonts.googleapis.com/css?family=Roboto';\n",
              "        </style><p style='color:#0fb7c1; font-size:16px; font-family:Roboto;'>[[[0 1 2]\n",
              "  [0 1 2]]\n",
              "\n",
              " [[0 1 2]\n",
              "  [0 1 2]]]</p>"
            ]
          },
          "metadata": {}
        },
        {
          "output_type": "display_data",
          "data": {
            "text/plain": [
              "<IPython.core.display.HTML object>"
            ],
            "text/html": [
              "<style>\n",
              "        @import 'https://fonts.googleapis.com/css?family=Roboto';\n",
              "        </style><p style='color:#008472; font-size:16px; font-family:Roboto;'>[[2 2]\n",
              " [2 2]]</p>"
            ]
          },
          "metadata": {}
        },
        {
          "output_type": "display_data",
          "data": {
            "text/plain": [
              "<IPython.core.display.HTML object>"
            ],
            "text/html": [
              "<style>\n",
              "        @import 'https://fonts.googleapis.com/css?family=Roboto';\n",
              "        </style><p style='color:#083a50; font-size:16px; font-family:Roboto;'>(2, 2)</p>"
            ]
          },
          "metadata": {}
        }
      ]
    },
    {
      "cell_type": "code",
      "source": [
        "# увеличение размерности\n",
        "x = np.arange(12).reshape(2,3,2)\n",
        "sdisplay(x,x[:,:,:,np.newaxis],x[:,:,:,None])"
      ],
      "metadata": {
        "colab": {
          "base_uri": "https://localhost:8080/",
          "height": 119
        },
        "id": "ZeuTv93xm3Qg",
        "outputId": "82be2181-7c8d-4b94-8d9d-802a825eeb63"
      },
      "execution_count": 27,
      "outputs": [
        {
          "output_type": "display_data",
          "data": {
            "text/plain": [
              "<IPython.core.display.HTML object>"
            ],
            "text/html": [
              "<style>\n",
              "        @import 'https://fonts.googleapis.com/css?family=Roboto';\n",
              "        </style><p style='color:#188916; font-size:16px; font-family:Roboto;'>[[[ 0  1]\n",
              "  [ 2  3]\n",
              "  [ 4  5]]\n",
              "\n",
              " [[ 6  7]\n",
              "  [ 8  9]\n",
              "  [10 11]]]</p>"
            ]
          },
          "metadata": {}
        },
        {
          "output_type": "display_data",
          "data": {
            "text/plain": [
              "<IPython.core.display.HTML object>"
            ],
            "text/html": [
              "<style>\n",
              "        @import 'https://fonts.googleapis.com/css?family=Roboto';\n",
              "        </style><p style='color:#25598d; font-size:16px; font-family:Roboto;'>[[[[ 0]\n",
              "   [ 1]]\n",
              "\n",
              "  [[ 2]\n",
              "   [ 3]]\n",
              "\n",
              "  [[ 4]\n",
              "   [ 5]]]\n",
              "\n",
              "\n",
              " [[[ 6]\n",
              "   [ 7]]\n",
              "\n",
              "  [[ 8]\n",
              "   [ 9]]\n",
              "\n",
              "  [[10]\n",
              "   [11]]]]</p>"
            ]
          },
          "metadata": {}
        },
        {
          "output_type": "display_data",
          "data": {
            "text/plain": [
              "<IPython.core.display.HTML object>"
            ],
            "text/html": [
              "<style>\n",
              "        @import 'https://fonts.googleapis.com/css?family=Roboto';\n",
              "        </style><p style='color:#2c1baf; font-size:16px; font-family:Roboto;'>[[[[ 0]\n",
              "   [ 1]]\n",
              "\n",
              "  [[ 2]\n",
              "   [ 3]]\n",
              "\n",
              "  [[ 4]\n",
              "   [ 5]]]\n",
              "\n",
              "\n",
              " [[[ 6]\n",
              "   [ 7]]\n",
              "\n",
              "  [[ 8]\n",
              "   [ 9]]\n",
              "\n",
              "  [[10]\n",
              "   [11]]]]</p>"
            ]
          },
          "metadata": {}
        }
      ]
    },
    {
      "cell_type": "markdown",
      "source": [
        "## Присвоение новых значений"
      ],
      "metadata": {
        "id": "4NPzX9T8H31u"
      }
    },
    {
      "cell_type": "code",
      "source": [
        "x = np.arange(16).reshape(4*(2,))\n",
        "sdisplay(x)\n",
        "sdisplay(x[1,Ellipsis,1])# x[1,Ellipsis,1]==x[1,...,1]\n",
        "# тип данных один для всего массива\n",
        "# выполняется, если возможно извлечь значения того же типа\n",
        "x[1,Ellipsis,1] = 100.2\n",
        "sdisplay(x)"
      ],
      "metadata": {
        "colab": {
          "base_uri": "https://localhost:8080/",
          "height": 119
        },
        "id": "7GM90Aj5H2Nh",
        "outputId": "7ff6b5e5-b573-47fc-9835-ebeedb28a520"
      },
      "execution_count": 28,
      "outputs": [
        {
          "output_type": "display_data",
          "data": {
            "text/plain": [
              "<IPython.core.display.HTML object>"
            ],
            "text/html": [
              "<style>\n",
              "        @import 'https://fonts.googleapis.com/css?family=Roboto';\n",
              "        </style><p style='color:#1df817; font-size:16px; font-family:Roboto;'>[[[[ 0  1]\n",
              "   [ 2  3]]\n",
              "\n",
              "  [[ 4  5]\n",
              "   [ 6  7]]]\n",
              "\n",
              "\n",
              " [[[ 8  9]\n",
              "   [10 11]]\n",
              "\n",
              "  [[12 13]\n",
              "   [14 15]]]]</p>"
            ]
          },
          "metadata": {}
        },
        {
          "output_type": "display_data",
          "data": {
            "text/plain": [
              "<IPython.core.display.HTML object>"
            ],
            "text/html": [
              "<style>\n",
              "        @import 'https://fonts.googleapis.com/css?family=Roboto';\n",
              "        </style><p style='color:#1db37e; font-size:16px; font-family:Roboto;'>[[ 9 11]\n",
              " [13 15]]</p>"
            ]
          },
          "metadata": {}
        },
        {
          "output_type": "display_data",
          "data": {
            "text/plain": [
              "<IPython.core.display.HTML object>"
            ],
            "text/html": [
              "<style>\n",
              "        @import 'https://fonts.googleapis.com/css?family=Roboto';\n",
              "        </style><p style='color:#251249; font-size:16px; font-family:Roboto;'>[[[[  0   1]\n",
              "   [  2   3]]\n",
              "\n",
              "  [[  4   5]\n",
              "   [  6   7]]]\n",
              "\n",
              "\n",
              " [[[  8 100]\n",
              "   [ 10 100]]\n",
              "\n",
              "  [[ 12 100]\n",
              "   [ 14 100]]]]</p>"
            ]
          },
          "metadata": {}
        }
      ]
    },
    {
      "cell_type": "markdown",
      "source": [
        "## Продвинутое  индексирование\n",
        "- логическое\n",
        "- именованное\n",
        "- итерационное\n",
        "- ...\n",
        "\n"
      ],
      "metadata": {
        "id": "lA0VDf2CrFFu"
      }
    },
    {
      "cell_type": "code",
      "source": [
        "x = np.array([[1,2],[np.nan,3],[np.nan,np.nan],[4,np.nan]])\n",
        "print(x.shape)\n",
        "# 1D отбор существующих значений\n",
        "sdisplay(x[~np.isnan(x)])"
      ],
      "metadata": {
        "colab": {
          "base_uri": "https://localhost:8080/",
          "height": 86
        },
        "id": "JUmUMxygCkD1",
        "outputId": "d78e5452-2735-407d-89fd-97c97bb2caa6"
      },
      "execution_count": 29,
      "outputs": [
        {
          "output_type": "stream",
          "name": "stdout",
          "text": [
            "(4, 2)\n"
          ]
        },
        {
          "output_type": "display_data",
          "data": {
            "text/plain": [
              "<IPython.core.display.HTML object>"
            ],
            "text/html": [
              "<style>\n",
              "        @import 'https://fonts.googleapis.com/css?family=Roboto';\n",
              "        </style><p style='color:#12e7cd; font-size:16px; font-family:Roboto;'>[1. 2. 3. 4.]</p>"
            ]
          },
          "metadata": {}
        }
      ]
    },
    {
      "cell_type": "code",
      "source": [
        "x = np.arange(15).reshape(5,3)\n",
        "# матрица, маркирующая выполнение условия\n",
        "# для каждого элемента\n",
        "cond = x > 10\n",
        "sdisplay(cond)\n",
        "mdisplay(cond[3:,:].astype('int'),x[cond])"
      ],
      "metadata": {
        "colab": {
          "base_uri": "https://localhost:8080/",
          "height": 131
        },
        "id": "tc2uTJYkOuok",
        "outputId": "db2f5365-3527-46c9-b8b0-a7eeb3bc944d"
      },
      "execution_count": 30,
      "outputs": [
        {
          "output_type": "display_data",
          "data": {
            "text/plain": [
              "<IPython.core.display.HTML object>"
            ],
            "text/html": [
              "<style>\n",
              "        @import 'https://fonts.googleapis.com/css?family=Roboto';\n",
              "        </style><p style='color:#0c5b4c; font-size:16px; font-family:Roboto;'>[[False False False]\n",
              " [False False False]\n",
              " [False False False]\n",
              " [False False  True]\n",
              " [ True  True  True]]</p>"
            ]
          },
          "metadata": {}
        },
        {
          "output_type": "display_data",
          "data": {
            "text/plain": [
              "<IPython.core.display.Latex object>"
            ],
            "text/latex": "\\color {#0acc74} {\\left[\\begin{matrix}0 & 0 & 1\\\\1 & 1 & 1\\end{matrix}\\right]}"
          },
          "metadata": {}
        },
        {
          "output_type": "display_data",
          "data": {
            "text/plain": [
              "<IPython.core.display.Latex object>"
            ],
            "text/latex": "\\color {#1ab04d} {\\left[\\begin{matrix}11 & 12 & 13 & 14\\end{matrix}\\right]}"
          },
          "metadata": {}
        }
      ]
    },
    {
      "cell_type": "code",
      "source": [
        "x = np.arange(15).reshape(5,3)\n",
        "mdisplay(x)\n",
        "# применение метода .sum() в разных измерениях\n",
        "sdisplay(x.sum(),x.sum(axis=0),x.sum(axis=1),x.sum(-1))\n",
        "# выбор строк по сумме элементов в строке \n",
        "cond = x.sum(-1) <= 20\n",
        "mdisplay(x[cond])"
      ],
      "metadata": {
        "colab": {
          "base_uri": "https://localhost:8080/",
          "height": 288
        },
        "id": "ktnwTBG1wr67",
        "outputId": "ec5491ce-bdf3-42b3-fbbe-43dfcf8f058a"
      },
      "execution_count": 31,
      "outputs": [
        {
          "output_type": "display_data",
          "data": {
            "text/plain": [
              "<IPython.core.display.Latex object>"
            ],
            "text/latex": "\\color {#3245bf} {\\left[\\begin{matrix}0 & 1 & 2\\\\3 & 4 & 5\\\\6 & 7 & 8\\\\9 & 10 & 11\\\\12 & 13 & 14\\end{matrix}\\right]}"
          },
          "metadata": {}
        },
        {
          "output_type": "display_data",
          "data": {
            "text/plain": [
              "<IPython.core.display.HTML object>"
            ],
            "text/html": [
              "<style>\n",
              "        @import 'https://fonts.googleapis.com/css?family=Roboto';\n",
              "        </style><p style='color:#0c81cb; font-size:16px; font-family:Roboto;'>105</p>"
            ]
          },
          "metadata": {}
        },
        {
          "output_type": "display_data",
          "data": {
            "text/plain": [
              "<IPython.core.display.HTML object>"
            ],
            "text/html": [
              "<style>\n",
              "        @import 'https://fonts.googleapis.com/css?family=Roboto';\n",
              "        </style><p style='color:#20bf97; font-size:16px; font-family:Roboto;'>[30 35 40]</p>"
            ]
          },
          "metadata": {}
        },
        {
          "output_type": "display_data",
          "data": {
            "text/plain": [
              "<IPython.core.display.HTML object>"
            ],
            "text/html": [
              "<style>\n",
              "        @import 'https://fonts.googleapis.com/css?family=Roboto';\n",
              "        </style><p style='color:#1246d4; font-size:16px; font-family:Roboto;'>[ 3 12 21 30 39]</p>"
            ]
          },
          "metadata": {}
        },
        {
          "output_type": "display_data",
          "data": {
            "text/plain": [
              "<IPython.core.display.HTML object>"
            ],
            "text/html": [
              "<style>\n",
              "        @import 'https://fonts.googleapis.com/css?family=Roboto';\n",
              "        </style><p style='color:#006d5e; font-size:16px; font-family:Roboto;'>[ 3 12 21 30 39]</p>"
            ]
          },
          "metadata": {}
        },
        {
          "output_type": "display_data",
          "data": {
            "text/plain": [
              "<IPython.core.display.Latex object>"
            ],
            "text/latex": "\\color {#2bcc59} {\\left[\\begin{matrix}0 & 1 & 2\\\\3 & 4 & 5\\end{matrix}\\right]}"
          },
          "metadata": {}
        }
      ]
    },
    {
      "cell_type": "code",
      "source": [
        "# возможно сочетание разных типов данных\n",
        "x = np.ones((1,3),dtype=[('a',np.int32),('b',np.float64,(2,1))])\n",
        "display(x)\n",
        "# организация именных полей\n",
        "sdisplay(x['a'],x['a'].shape,x['b'],x['b'].shape)"
      ],
      "metadata": {
        "colab": {
          "base_uri": "https://localhost:8080/",
          "height": 179
        },
        "id": "7ob7jV76FOep",
        "outputId": "063e31ef-3cea-4eb2-e090-37457245a7ae"
      },
      "execution_count": 32,
      "outputs": [
        {
          "output_type": "display_data",
          "data": {
            "text/plain": [
              "array([[(1, [[1.], [1.]]), (1, [[1.], [1.]]), (1, [[1.], [1.]])]],\n",
              "      dtype=[('a', '<i4'), ('b', '<f8', (2, 1))])"
            ]
          },
          "metadata": {}
        },
        {
          "output_type": "display_data",
          "data": {
            "text/plain": [
              "<IPython.core.display.HTML object>"
            ],
            "text/html": [
              "<style>\n",
              "        @import 'https://fonts.googleapis.com/css?family=Roboto';\n",
              "        </style><p style='color:#242025; font-size:16px; font-family:Roboto;'>[[1 1 1]]</p>"
            ]
          },
          "metadata": {}
        },
        {
          "output_type": "display_data",
          "data": {
            "text/plain": [
              "<IPython.core.display.HTML object>"
            ],
            "text/html": [
              "<style>\n",
              "        @import 'https://fonts.googleapis.com/css?family=Roboto';\n",
              "        </style><p style='color:#20f480; font-size:16px; font-family:Roboto;'>(1, 3)</p>"
            ]
          },
          "metadata": {}
        },
        {
          "output_type": "display_data",
          "data": {
            "text/plain": [
              "<IPython.core.display.HTML object>"
            ],
            "text/html": [
              "<style>\n",
              "        @import 'https://fonts.googleapis.com/css?family=Roboto';\n",
              "        </style><p style='color:#0fe190; font-size:16px; font-family:Roboto;'>[[[[1.]\n",
              "   [1.]]\n",
              "\n",
              "  [[1.]\n",
              "   [1.]]\n",
              "\n",
              "  [[1.]\n",
              "   [1.]]]]</p>"
            ]
          },
          "metadata": {}
        },
        {
          "output_type": "display_data",
          "data": {
            "text/plain": [
              "<IPython.core.display.HTML object>"
            ],
            "text/html": [
              "<style>\n",
              "        @import 'https://fonts.googleapis.com/css?family=Roboto';\n",
              "        </style><p style='color:#1d5003; font-size:16px; font-family:Roboto;'>(1, 3, 2, 1)</p>"
            ]
          },
          "metadata": {}
        }
      ]
    },
    {
      "cell_type": "code",
      "source": [
        "x = np.arange(1,7).reshape(2,3)\n",
        "sdisplay(x)\n",
        "# 1D итератор\n",
        "print(type(x.flat))\n",
        "x.flat = 0\n",
        "sdisplay(x)\n",
        "x.flat[1:4] = 1\n",
        "sdisplay(x)"
      ],
      "metadata": {
        "colab": {
          "base_uri": "https://localhost:8080/",
          "height": 142
        },
        "id": "mFLnRMbC2lOf",
        "outputId": "59cbc43e-c21c-4a72-eeaf-d75eb3e6de7b"
      },
      "execution_count": 33,
      "outputs": [
        {
          "output_type": "display_data",
          "data": {
            "text/plain": [
              "<IPython.core.display.HTML object>"
            ],
            "text/html": [
              "<style>\n",
              "        @import 'https://fonts.googleapis.com/css?family=Roboto';\n",
              "        </style><p style='color:#312f6e; font-size:16px; font-family:Roboto;'>[[1 2 3]\n",
              " [4 5 6]]</p>"
            ]
          },
          "metadata": {}
        },
        {
          "output_type": "stream",
          "name": "stdout",
          "text": [
            "<class 'numpy.flatiter'>\n"
          ]
        },
        {
          "output_type": "display_data",
          "data": {
            "text/plain": [
              "<IPython.core.display.HTML object>"
            ],
            "text/html": [
              "<style>\n",
              "        @import 'https://fonts.googleapis.com/css?family=Roboto';\n",
              "        </style><p style='color:#14986c; font-size:16px; font-family:Roboto;'>[[0 0 0]\n",
              " [0 0 0]]</p>"
            ]
          },
          "metadata": {}
        },
        {
          "output_type": "display_data",
          "data": {
            "text/plain": [
              "<IPython.core.display.HTML object>"
            ],
            "text/html": [
              "<style>\n",
              "        @import 'https://fonts.googleapis.com/css?family=Roboto';\n",
              "        </style><p style='color:#070904; font-size:16px; font-family:Roboto;'>[[0 1 1]\n",
              " [1 0 0]]</p>"
            ]
          },
          "metadata": {}
        }
      ]
    },
    {
      "cell_type": "markdown",
      "source": [
        "## Типы данных"
      ],
      "metadata": {
        "id": "iEWExbwacWlo"
      }
    },
    {
      "cell_type": "code",
      "source": [
        "url='https://numpy.org/devdocs/user/basics.types.html'\n",
        "page = requests.get(url).text\n",
        "data_types = pd.read_html(page)[0]\n",
        "props = [('min-height','30px'),('min-wigth','15px'),\n",
        "         ('text-align','center'),('color','darkblue')]\n",
        "cells = {'selector':'td','props':props}\n",
        "data_types.style.set_table_styles([cells])"
      ],
      "metadata": {
        "colab": {
          "base_uri": "https://localhost:8080/",
          "height": 651
        },
        "id": "MTCLm6sYcWKy",
        "outputId": "9ba23868-d765-4b0a-f02b-30981dafb6ca"
      },
      "execution_count": 34,
      "outputs": [
        {
          "output_type": "execute_result",
          "data": {
            "text/plain": [
              "<pandas.io.formats.style.Styler at 0x7f5b631d72b0>"
            ],
            "text/html": [
              "<style type=\"text/css\">\n",
              "#T_51651 td {\n",
              "  min-height: 30px;\n",
              "  min-wigth: 15px;\n",
              "  text-align: center;\n",
              "  color: darkblue;\n",
              "}\n",
              "</style>\n",
              "<table id=\"T_51651\" class=\"dataframe\">\n",
              "  <thead>\n",
              "    <tr>\n",
              "      <th class=\"blank level0\" >&nbsp;</th>\n",
              "      <th id=\"T_51651_level0_col0\" class=\"col_heading level0 col0\" >Numpy type</th>\n",
              "      <th id=\"T_51651_level0_col1\" class=\"col_heading level0 col1\" >C type</th>\n",
              "      <th id=\"T_51651_level0_col2\" class=\"col_heading level0 col2\" >Description</th>\n",
              "    </tr>\n",
              "  </thead>\n",
              "  <tbody>\n",
              "    <tr>\n",
              "      <th id=\"T_51651_level0_row0\" class=\"row_heading level0 row0\" >0</th>\n",
              "      <td id=\"T_51651_row0_col0\" class=\"data row0 col0\" >numpy.bool_</td>\n",
              "      <td id=\"T_51651_row0_col1\" class=\"data row0 col1\" >bool</td>\n",
              "      <td id=\"T_51651_row0_col2\" class=\"data row0 col2\" >Boolean (True or False) stored as a byte</td>\n",
              "    </tr>\n",
              "    <tr>\n",
              "      <th id=\"T_51651_level0_row1\" class=\"row_heading level0 row1\" >1</th>\n",
              "      <td id=\"T_51651_row1_col0\" class=\"data row1 col0\" >numpy.byte</td>\n",
              "      <td id=\"T_51651_row1_col1\" class=\"data row1 col1\" >signed char</td>\n",
              "      <td id=\"T_51651_row1_col2\" class=\"data row1 col2\" >Platform-defined</td>\n",
              "    </tr>\n",
              "    <tr>\n",
              "      <th id=\"T_51651_level0_row2\" class=\"row_heading level0 row2\" >2</th>\n",
              "      <td id=\"T_51651_row2_col0\" class=\"data row2 col0\" >numpy.ubyte</td>\n",
              "      <td id=\"T_51651_row2_col1\" class=\"data row2 col1\" >unsigned char</td>\n",
              "      <td id=\"T_51651_row2_col2\" class=\"data row2 col2\" >Platform-defined</td>\n",
              "    </tr>\n",
              "    <tr>\n",
              "      <th id=\"T_51651_level0_row3\" class=\"row_heading level0 row3\" >3</th>\n",
              "      <td id=\"T_51651_row3_col0\" class=\"data row3 col0\" >numpy.short</td>\n",
              "      <td id=\"T_51651_row3_col1\" class=\"data row3 col1\" >short</td>\n",
              "      <td id=\"T_51651_row3_col2\" class=\"data row3 col2\" >Platform-defined</td>\n",
              "    </tr>\n",
              "    <tr>\n",
              "      <th id=\"T_51651_level0_row4\" class=\"row_heading level0 row4\" >4</th>\n",
              "      <td id=\"T_51651_row4_col0\" class=\"data row4 col0\" >numpy.ushort</td>\n",
              "      <td id=\"T_51651_row4_col1\" class=\"data row4 col1\" >unsigned short</td>\n",
              "      <td id=\"T_51651_row4_col2\" class=\"data row4 col2\" >Platform-defined</td>\n",
              "    </tr>\n",
              "    <tr>\n",
              "      <th id=\"T_51651_level0_row5\" class=\"row_heading level0 row5\" >5</th>\n",
              "      <td id=\"T_51651_row5_col0\" class=\"data row5 col0\" >numpy.intc</td>\n",
              "      <td id=\"T_51651_row5_col1\" class=\"data row5 col1\" >int</td>\n",
              "      <td id=\"T_51651_row5_col2\" class=\"data row5 col2\" >Platform-defined</td>\n",
              "    </tr>\n",
              "    <tr>\n",
              "      <th id=\"T_51651_level0_row6\" class=\"row_heading level0 row6\" >6</th>\n",
              "      <td id=\"T_51651_row6_col0\" class=\"data row6 col0\" >numpy.uintc</td>\n",
              "      <td id=\"T_51651_row6_col1\" class=\"data row6 col1\" >unsigned int</td>\n",
              "      <td id=\"T_51651_row6_col2\" class=\"data row6 col2\" >Platform-defined</td>\n",
              "    </tr>\n",
              "    <tr>\n",
              "      <th id=\"T_51651_level0_row7\" class=\"row_heading level0 row7\" >7</th>\n",
              "      <td id=\"T_51651_row7_col0\" class=\"data row7 col0\" >numpy.int_</td>\n",
              "      <td id=\"T_51651_row7_col1\" class=\"data row7 col1\" >long</td>\n",
              "      <td id=\"T_51651_row7_col2\" class=\"data row7 col2\" >Platform-defined</td>\n",
              "    </tr>\n",
              "    <tr>\n",
              "      <th id=\"T_51651_level0_row8\" class=\"row_heading level0 row8\" >8</th>\n",
              "      <td id=\"T_51651_row8_col0\" class=\"data row8 col0\" >numpy.uint</td>\n",
              "      <td id=\"T_51651_row8_col1\" class=\"data row8 col1\" >unsigned long</td>\n",
              "      <td id=\"T_51651_row8_col2\" class=\"data row8 col2\" >Platform-defined</td>\n",
              "    </tr>\n",
              "    <tr>\n",
              "      <th id=\"T_51651_level0_row9\" class=\"row_heading level0 row9\" >9</th>\n",
              "      <td id=\"T_51651_row9_col0\" class=\"data row9 col0\" >numpy.longlong</td>\n",
              "      <td id=\"T_51651_row9_col1\" class=\"data row9 col1\" >long long</td>\n",
              "      <td id=\"T_51651_row9_col2\" class=\"data row9 col2\" >Platform-defined</td>\n",
              "    </tr>\n",
              "    <tr>\n",
              "      <th id=\"T_51651_level0_row10\" class=\"row_heading level0 row10\" >10</th>\n",
              "      <td id=\"T_51651_row10_col0\" class=\"data row10 col0\" >numpy.ulonglong</td>\n",
              "      <td id=\"T_51651_row10_col1\" class=\"data row10 col1\" >unsigned long long</td>\n",
              "      <td id=\"T_51651_row10_col2\" class=\"data row10 col2\" >Platform-defined</td>\n",
              "    </tr>\n",
              "    <tr>\n",
              "      <th id=\"T_51651_level0_row11\" class=\"row_heading level0 row11\" >11</th>\n",
              "      <td id=\"T_51651_row11_col0\" class=\"data row11 col0\" >numpy.half / numpy.float16</td>\n",
              "      <td id=\"T_51651_row11_col1\" class=\"data row11 col1\" >nan</td>\n",
              "      <td id=\"T_51651_row11_col2\" class=\"data row11 col2\" >Half precision float: sign bit, 5 bits exponent, 10 bits mantissa</td>\n",
              "    </tr>\n",
              "    <tr>\n",
              "      <th id=\"T_51651_level0_row12\" class=\"row_heading level0 row12\" >12</th>\n",
              "      <td id=\"T_51651_row12_col0\" class=\"data row12 col0\" >numpy.single</td>\n",
              "      <td id=\"T_51651_row12_col1\" class=\"data row12 col1\" >float</td>\n",
              "      <td id=\"T_51651_row12_col2\" class=\"data row12 col2\" >Platform-defined single precision float: typically sign bit, 8 bits exponent, 23 bits mantissa</td>\n",
              "    </tr>\n",
              "    <tr>\n",
              "      <th id=\"T_51651_level0_row13\" class=\"row_heading level0 row13\" >13</th>\n",
              "      <td id=\"T_51651_row13_col0\" class=\"data row13 col0\" >numpy.double</td>\n",
              "      <td id=\"T_51651_row13_col1\" class=\"data row13 col1\" >double</td>\n",
              "      <td id=\"T_51651_row13_col2\" class=\"data row13 col2\" >Platform-defined double precision float: typically sign bit, 11 bits exponent, 52 bits mantissa.</td>\n",
              "    </tr>\n",
              "    <tr>\n",
              "      <th id=\"T_51651_level0_row14\" class=\"row_heading level0 row14\" >14</th>\n",
              "      <td id=\"T_51651_row14_col0\" class=\"data row14 col0\" >numpy.longdouble</td>\n",
              "      <td id=\"T_51651_row14_col1\" class=\"data row14 col1\" >long double</td>\n",
              "      <td id=\"T_51651_row14_col2\" class=\"data row14 col2\" >Platform-defined extended-precision float</td>\n",
              "    </tr>\n",
              "    <tr>\n",
              "      <th id=\"T_51651_level0_row15\" class=\"row_heading level0 row15\" >15</th>\n",
              "      <td id=\"T_51651_row15_col0\" class=\"data row15 col0\" >numpy.csingle</td>\n",
              "      <td id=\"T_51651_row15_col1\" class=\"data row15 col1\" >float complex</td>\n",
              "      <td id=\"T_51651_row15_col2\" class=\"data row15 col2\" >Complex number, represented by two single-precision floats (real and imaginary components)</td>\n",
              "    </tr>\n",
              "    <tr>\n",
              "      <th id=\"T_51651_level0_row16\" class=\"row_heading level0 row16\" >16</th>\n",
              "      <td id=\"T_51651_row16_col0\" class=\"data row16 col0\" >numpy.cdouble</td>\n",
              "      <td id=\"T_51651_row16_col1\" class=\"data row16 col1\" >double complex</td>\n",
              "      <td id=\"T_51651_row16_col2\" class=\"data row16 col2\" >Complex number, represented by two double-precision floats (real and imaginary components).</td>\n",
              "    </tr>\n",
              "    <tr>\n",
              "      <th id=\"T_51651_level0_row17\" class=\"row_heading level0 row17\" >17</th>\n",
              "      <td id=\"T_51651_row17_col0\" class=\"data row17 col0\" >numpy.clongdouble</td>\n",
              "      <td id=\"T_51651_row17_col1\" class=\"data row17 col1\" >long double complex</td>\n",
              "      <td id=\"T_51651_row17_col2\" class=\"data row17 col2\" >Complex number, represented by two extended-precision floats (real and imaginary components).</td>\n",
              "    </tr>\n",
              "  </tbody>\n",
              "</table>\n"
            ]
          },
          "metadata": {},
          "execution_count": 34
        }
      ]
    },
    {
      "cell_type": "code",
      "source": [
        "# огромное количество способов управления типами \n",
        "x = np.float32(range(5))\n",
        "y = np.arange(3,dtype=np.uint8)\n",
        "sdisplay([x],[y],[y.astype(float)],[np.uint8(x)])"
      ],
      "metadata": {
        "colab": {
          "base_uri": "https://localhost:8080/",
          "height": 144
        },
        "id": "O47VZ9ZJtahP",
        "outputId": "fa26ec61-c3b1-4627-b6f1-1112b291ceef"
      },
      "execution_count": 35,
      "outputs": [
        {
          "output_type": "display_data",
          "data": {
            "text/plain": [
              "<IPython.core.display.HTML object>"
            ],
            "text/html": [
              "<style>\n",
              "        @import 'https://fonts.googleapis.com/css?family=Roboto';\n",
              "        </style><p style='color:#080891; font-size:16px; font-family:Roboto;'>[array([0., 1., 2., 3., 4.], dtype=float32)]</p>"
            ]
          },
          "metadata": {}
        },
        {
          "output_type": "display_data",
          "data": {
            "text/plain": [
              "<IPython.core.display.HTML object>"
            ],
            "text/html": [
              "<style>\n",
              "        @import 'https://fonts.googleapis.com/css?family=Roboto';\n",
              "        </style><p style='color:#1b3032; font-size:16px; font-family:Roboto;'>[array([0, 1, 2], dtype=uint8)]</p>"
            ]
          },
          "metadata": {}
        },
        {
          "output_type": "display_data",
          "data": {
            "text/plain": [
              "<IPython.core.display.HTML object>"
            ],
            "text/html": [
              "<style>\n",
              "        @import 'https://fonts.googleapis.com/css?family=Roboto';\n",
              "        </style><p style='color:#1dee6d; font-size:16px; font-family:Roboto;'>[array([0., 1., 2.])]</p>"
            ]
          },
          "metadata": {}
        },
        {
          "output_type": "display_data",
          "data": {
            "text/plain": [
              "<IPython.core.display.HTML object>"
            ],
            "text/html": [
              "<style>\n",
              "        @import 'https://fonts.googleapis.com/css?family=Roboto';\n",
              "        </style><p style='color:#0befa2; font-size:16px; font-family:Roboto;'>[array([0, 1, 2, 3, 4], dtype=uint8)]</p>"
            ]
          },
          "metadata": {}
        }
      ]
    },
    {
      "cell_type": "code",
      "source": [
        "# границы значений\n",
        "sdisplay([np.iinfo(np.int64)])"
      ],
      "metadata": {
        "colab": {
          "base_uri": "https://localhost:8080/",
          "height": 68
        },
        "id": "DljZZgPhtdPw",
        "outputId": "6696fdd9-f1ed-4d4d-cb3b-27503910a21f"
      },
      "execution_count": 36,
      "outputs": [
        {
          "output_type": "display_data",
          "data": {
            "text/plain": [
              "<IPython.core.display.HTML object>"
            ],
            "text/html": [
              "<style>\n",
              "        @import 'https://fonts.googleapis.com/css?family=Roboto';\n",
              "        </style><p style='color:#14b3b6; font-size:16px; font-family:Roboto;'>[iinfo(min=-9223372036854775808, max=9223372036854775807, dtype=int64)]</p>"
            ]
          },
          "metadata": {}
        }
      ]
    },
    {
      "cell_type": "code",
      "source": [
        "# np.longdouble - выше точность вычислений, чем python float\n",
        "sdisplay([np.finfo(np.longdouble)])"
      ],
      "metadata": {
        "colab": {
          "base_uri": "https://localhost:8080/",
          "height": 68
        },
        "id": "_t0sP_5NumDV",
        "outputId": "8b4a9f4d-e948-46a2-ab4d-9dc4f711c43a"
      },
      "execution_count": 37,
      "outputs": [
        {
          "output_type": "display_data",
          "data": {
            "text/plain": [
              "<IPython.core.display.HTML object>"
            ],
            "text/html": [
              "<style>\n",
              "        @import 'https://fonts.googleapis.com/css?family=Roboto';\n",
              "        </style><p style='color:#253134; font-size:16px; font-family:Roboto;'>[finfo(resolution=1e-18, min=-1.189731495357231765e+4932, max=1.189731495357231765e+4932, dtype=float128)]</p>"
            ]
          },
          "metadata": {}
        }
      ]
    },
    {
      "cell_type": "code",
      "source": [
        "# таблица приведения типов данных \n",
        "mark = {False:'\\033[1;31m -\\033[0;0m', \n",
        "        True:'\\033[1;34m +\\033[0;0m'}\n",
        "nptypes = np.typecodes['All']\n",
        "print('* ' + ' '.join(nptypes))\n",
        "for row in nptypes:\n",
        "    print(row,end='')\n",
        "    for col in nptypes:\n",
        "        print(mark[np.can_cast(row,col)],end='')\n",
        "    print()"
      ],
      "metadata": {
        "colab": {
          "base_uri": "https://localhost:8080/"
        },
        "id": "4aa7l2tr_tuN",
        "outputId": "c757a0e4-bbab-4256-bb8d-a326569acc67"
      },
      "execution_count": 38,
      "outputs": [
        {
          "output_type": "stream",
          "name": "stdout",
          "text": [
            "* ? b h i l q p B H I L Q P e f d g F D G S U V O M m\n",
            "?\u001b[1;34m +\u001b[0;0m\u001b[1;34m +\u001b[0;0m\u001b[1;34m +\u001b[0;0m\u001b[1;34m +\u001b[0;0m\u001b[1;34m +\u001b[0;0m\u001b[1;34m +\u001b[0;0m\u001b[1;34m +\u001b[0;0m\u001b[1;34m +\u001b[0;0m\u001b[1;34m +\u001b[0;0m\u001b[1;34m +\u001b[0;0m\u001b[1;34m +\u001b[0;0m\u001b[1;34m +\u001b[0;0m\u001b[1;34m +\u001b[0;0m\u001b[1;34m +\u001b[0;0m\u001b[1;34m +\u001b[0;0m\u001b[1;34m +\u001b[0;0m\u001b[1;34m +\u001b[0;0m\u001b[1;34m +\u001b[0;0m\u001b[1;34m +\u001b[0;0m\u001b[1;34m +\u001b[0;0m\u001b[1;34m +\u001b[0;0m\u001b[1;34m +\u001b[0;0m\u001b[1;34m +\u001b[0;0m\u001b[1;34m +\u001b[0;0m\u001b[1;31m -\u001b[0;0m\u001b[1;34m +\u001b[0;0m\n",
            "b\u001b[1;31m -\u001b[0;0m\u001b[1;34m +\u001b[0;0m\u001b[1;34m +\u001b[0;0m\u001b[1;34m +\u001b[0;0m\u001b[1;34m +\u001b[0;0m\u001b[1;34m +\u001b[0;0m\u001b[1;34m +\u001b[0;0m\u001b[1;31m -\u001b[0;0m\u001b[1;31m -\u001b[0;0m\u001b[1;31m -\u001b[0;0m\u001b[1;31m -\u001b[0;0m\u001b[1;31m -\u001b[0;0m\u001b[1;31m -\u001b[0;0m\u001b[1;34m +\u001b[0;0m\u001b[1;34m +\u001b[0;0m\u001b[1;34m +\u001b[0;0m\u001b[1;34m +\u001b[0;0m\u001b[1;34m +\u001b[0;0m\u001b[1;34m +\u001b[0;0m\u001b[1;34m +\u001b[0;0m\u001b[1;34m +\u001b[0;0m\u001b[1;34m +\u001b[0;0m\u001b[1;34m +\u001b[0;0m\u001b[1;34m +\u001b[0;0m\u001b[1;31m -\u001b[0;0m\u001b[1;34m +\u001b[0;0m\n",
            "h\u001b[1;31m -\u001b[0;0m\u001b[1;31m -\u001b[0;0m\u001b[1;34m +\u001b[0;0m\u001b[1;34m +\u001b[0;0m\u001b[1;34m +\u001b[0;0m\u001b[1;34m +\u001b[0;0m\u001b[1;34m +\u001b[0;0m\u001b[1;31m -\u001b[0;0m\u001b[1;31m -\u001b[0;0m\u001b[1;31m -\u001b[0;0m\u001b[1;31m -\u001b[0;0m\u001b[1;31m -\u001b[0;0m\u001b[1;31m -\u001b[0;0m\u001b[1;31m -\u001b[0;0m\u001b[1;34m +\u001b[0;0m\u001b[1;34m +\u001b[0;0m\u001b[1;34m +\u001b[0;0m\u001b[1;34m +\u001b[0;0m\u001b[1;34m +\u001b[0;0m\u001b[1;34m +\u001b[0;0m\u001b[1;34m +\u001b[0;0m\u001b[1;34m +\u001b[0;0m\u001b[1;34m +\u001b[0;0m\u001b[1;34m +\u001b[0;0m\u001b[1;31m -\u001b[0;0m\u001b[1;34m +\u001b[0;0m\n",
            "i\u001b[1;31m -\u001b[0;0m\u001b[1;31m -\u001b[0;0m\u001b[1;31m -\u001b[0;0m\u001b[1;34m +\u001b[0;0m\u001b[1;34m +\u001b[0;0m\u001b[1;34m +\u001b[0;0m\u001b[1;34m +\u001b[0;0m\u001b[1;31m -\u001b[0;0m\u001b[1;31m -\u001b[0;0m\u001b[1;31m -\u001b[0;0m\u001b[1;31m -\u001b[0;0m\u001b[1;31m -\u001b[0;0m\u001b[1;31m -\u001b[0;0m\u001b[1;31m -\u001b[0;0m\u001b[1;31m -\u001b[0;0m\u001b[1;34m +\u001b[0;0m\u001b[1;34m +\u001b[0;0m\u001b[1;31m -\u001b[0;0m\u001b[1;34m +\u001b[0;0m\u001b[1;34m +\u001b[0;0m\u001b[1;34m +\u001b[0;0m\u001b[1;34m +\u001b[0;0m\u001b[1;34m +\u001b[0;0m\u001b[1;34m +\u001b[0;0m\u001b[1;31m -\u001b[0;0m\u001b[1;34m +\u001b[0;0m\n",
            "l\u001b[1;31m -\u001b[0;0m\u001b[1;31m -\u001b[0;0m\u001b[1;31m -\u001b[0;0m\u001b[1;31m -\u001b[0;0m\u001b[1;34m +\u001b[0;0m\u001b[1;34m +\u001b[0;0m\u001b[1;34m +\u001b[0;0m\u001b[1;31m -\u001b[0;0m\u001b[1;31m -\u001b[0;0m\u001b[1;31m -\u001b[0;0m\u001b[1;31m -\u001b[0;0m\u001b[1;31m -\u001b[0;0m\u001b[1;31m -\u001b[0;0m\u001b[1;31m -\u001b[0;0m\u001b[1;31m -\u001b[0;0m\u001b[1;34m +\u001b[0;0m\u001b[1;34m +\u001b[0;0m\u001b[1;31m -\u001b[0;0m\u001b[1;34m +\u001b[0;0m\u001b[1;34m +\u001b[0;0m\u001b[1;34m +\u001b[0;0m\u001b[1;34m +\u001b[0;0m\u001b[1;34m +\u001b[0;0m\u001b[1;34m +\u001b[0;0m\u001b[1;31m -\u001b[0;0m\u001b[1;34m +\u001b[0;0m\n",
            "q\u001b[1;31m -\u001b[0;0m\u001b[1;31m -\u001b[0;0m\u001b[1;31m -\u001b[0;0m\u001b[1;31m -\u001b[0;0m\u001b[1;34m +\u001b[0;0m\u001b[1;34m +\u001b[0;0m\u001b[1;34m +\u001b[0;0m\u001b[1;31m -\u001b[0;0m\u001b[1;31m -\u001b[0;0m\u001b[1;31m -\u001b[0;0m\u001b[1;31m -\u001b[0;0m\u001b[1;31m -\u001b[0;0m\u001b[1;31m -\u001b[0;0m\u001b[1;31m -\u001b[0;0m\u001b[1;31m -\u001b[0;0m\u001b[1;34m +\u001b[0;0m\u001b[1;34m +\u001b[0;0m\u001b[1;31m -\u001b[0;0m\u001b[1;34m +\u001b[0;0m\u001b[1;34m +\u001b[0;0m\u001b[1;34m +\u001b[0;0m\u001b[1;34m +\u001b[0;0m\u001b[1;34m +\u001b[0;0m\u001b[1;34m +\u001b[0;0m\u001b[1;31m -\u001b[0;0m\u001b[1;34m +\u001b[0;0m\n",
            "p\u001b[1;31m -\u001b[0;0m\u001b[1;31m -\u001b[0;0m\u001b[1;31m -\u001b[0;0m\u001b[1;31m -\u001b[0;0m\u001b[1;34m +\u001b[0;0m\u001b[1;34m +\u001b[0;0m\u001b[1;34m +\u001b[0;0m\u001b[1;31m -\u001b[0;0m\u001b[1;31m -\u001b[0;0m\u001b[1;31m -\u001b[0;0m\u001b[1;31m -\u001b[0;0m\u001b[1;31m -\u001b[0;0m\u001b[1;31m -\u001b[0;0m\u001b[1;31m -\u001b[0;0m\u001b[1;31m -\u001b[0;0m\u001b[1;34m +\u001b[0;0m\u001b[1;34m +\u001b[0;0m\u001b[1;31m -\u001b[0;0m\u001b[1;34m +\u001b[0;0m\u001b[1;34m +\u001b[0;0m\u001b[1;34m +\u001b[0;0m\u001b[1;34m +\u001b[0;0m\u001b[1;34m +\u001b[0;0m\u001b[1;34m +\u001b[0;0m\u001b[1;31m -\u001b[0;0m\u001b[1;34m +\u001b[0;0m\n",
            "B\u001b[1;31m -\u001b[0;0m\u001b[1;31m -\u001b[0;0m\u001b[1;34m +\u001b[0;0m\u001b[1;34m +\u001b[0;0m\u001b[1;34m +\u001b[0;0m\u001b[1;34m +\u001b[0;0m\u001b[1;34m +\u001b[0;0m\u001b[1;34m +\u001b[0;0m\u001b[1;34m +\u001b[0;0m\u001b[1;34m +\u001b[0;0m\u001b[1;34m +\u001b[0;0m\u001b[1;34m +\u001b[0;0m\u001b[1;34m +\u001b[0;0m\u001b[1;34m +\u001b[0;0m\u001b[1;34m +\u001b[0;0m\u001b[1;34m +\u001b[0;0m\u001b[1;34m +\u001b[0;0m\u001b[1;34m +\u001b[0;0m\u001b[1;34m +\u001b[0;0m\u001b[1;34m +\u001b[0;0m\u001b[1;34m +\u001b[0;0m\u001b[1;34m +\u001b[0;0m\u001b[1;34m +\u001b[0;0m\u001b[1;34m +\u001b[0;0m\u001b[1;31m -\u001b[0;0m\u001b[1;34m +\u001b[0;0m\n",
            "H\u001b[1;31m -\u001b[0;0m\u001b[1;31m -\u001b[0;0m\u001b[1;31m -\u001b[0;0m\u001b[1;34m +\u001b[0;0m\u001b[1;34m +\u001b[0;0m\u001b[1;34m +\u001b[0;0m\u001b[1;34m +\u001b[0;0m\u001b[1;31m -\u001b[0;0m\u001b[1;34m +\u001b[0;0m\u001b[1;34m +\u001b[0;0m\u001b[1;34m +\u001b[0;0m\u001b[1;34m +\u001b[0;0m\u001b[1;34m +\u001b[0;0m\u001b[1;31m -\u001b[0;0m\u001b[1;34m +\u001b[0;0m\u001b[1;34m +\u001b[0;0m\u001b[1;34m +\u001b[0;0m\u001b[1;34m +\u001b[0;0m\u001b[1;34m +\u001b[0;0m\u001b[1;34m +\u001b[0;0m\u001b[1;34m +\u001b[0;0m\u001b[1;34m +\u001b[0;0m\u001b[1;34m +\u001b[0;0m\u001b[1;34m +\u001b[0;0m\u001b[1;31m -\u001b[0;0m\u001b[1;34m +\u001b[0;0m\n",
            "I\u001b[1;31m -\u001b[0;0m\u001b[1;31m -\u001b[0;0m\u001b[1;31m -\u001b[0;0m\u001b[1;31m -\u001b[0;0m\u001b[1;34m +\u001b[0;0m\u001b[1;34m +\u001b[0;0m\u001b[1;34m +\u001b[0;0m\u001b[1;31m -\u001b[0;0m\u001b[1;31m -\u001b[0;0m\u001b[1;34m +\u001b[0;0m\u001b[1;34m +\u001b[0;0m\u001b[1;34m +\u001b[0;0m\u001b[1;34m +\u001b[0;0m\u001b[1;31m -\u001b[0;0m\u001b[1;31m -\u001b[0;0m\u001b[1;34m +\u001b[0;0m\u001b[1;34m +\u001b[0;0m\u001b[1;31m -\u001b[0;0m\u001b[1;34m +\u001b[0;0m\u001b[1;34m +\u001b[0;0m\u001b[1;34m +\u001b[0;0m\u001b[1;34m +\u001b[0;0m\u001b[1;34m +\u001b[0;0m\u001b[1;34m +\u001b[0;0m\u001b[1;31m -\u001b[0;0m\u001b[1;34m +\u001b[0;0m\n",
            "L\u001b[1;31m -\u001b[0;0m\u001b[1;31m -\u001b[0;0m\u001b[1;31m -\u001b[0;0m\u001b[1;31m -\u001b[0;0m\u001b[1;31m -\u001b[0;0m\u001b[1;31m -\u001b[0;0m\u001b[1;31m -\u001b[0;0m\u001b[1;31m -\u001b[0;0m\u001b[1;31m -\u001b[0;0m\u001b[1;31m -\u001b[0;0m\u001b[1;34m +\u001b[0;0m\u001b[1;34m +\u001b[0;0m\u001b[1;34m +\u001b[0;0m\u001b[1;31m -\u001b[0;0m\u001b[1;31m -\u001b[0;0m\u001b[1;34m +\u001b[0;0m\u001b[1;34m +\u001b[0;0m\u001b[1;31m -\u001b[0;0m\u001b[1;34m +\u001b[0;0m\u001b[1;34m +\u001b[0;0m\u001b[1;34m +\u001b[0;0m\u001b[1;34m +\u001b[0;0m\u001b[1;34m +\u001b[0;0m\u001b[1;34m +\u001b[0;0m\u001b[1;31m -\u001b[0;0m\u001b[1;31m -\u001b[0;0m\n",
            "Q\u001b[1;31m -\u001b[0;0m\u001b[1;31m -\u001b[0;0m\u001b[1;31m -\u001b[0;0m\u001b[1;31m -\u001b[0;0m\u001b[1;31m -\u001b[0;0m\u001b[1;31m -\u001b[0;0m\u001b[1;31m -\u001b[0;0m\u001b[1;31m -\u001b[0;0m\u001b[1;31m -\u001b[0;0m\u001b[1;31m -\u001b[0;0m\u001b[1;34m +\u001b[0;0m\u001b[1;34m +\u001b[0;0m\u001b[1;34m +\u001b[0;0m\u001b[1;31m -\u001b[0;0m\u001b[1;31m -\u001b[0;0m\u001b[1;34m +\u001b[0;0m\u001b[1;34m +\u001b[0;0m\u001b[1;31m -\u001b[0;0m\u001b[1;34m +\u001b[0;0m\u001b[1;34m +\u001b[0;0m\u001b[1;34m +\u001b[0;0m\u001b[1;34m +\u001b[0;0m\u001b[1;34m +\u001b[0;0m\u001b[1;34m +\u001b[0;0m\u001b[1;31m -\u001b[0;0m\u001b[1;31m -\u001b[0;0m\n",
            "P\u001b[1;31m -\u001b[0;0m\u001b[1;31m -\u001b[0;0m\u001b[1;31m -\u001b[0;0m\u001b[1;31m -\u001b[0;0m\u001b[1;31m -\u001b[0;0m\u001b[1;31m -\u001b[0;0m\u001b[1;31m -\u001b[0;0m\u001b[1;31m -\u001b[0;0m\u001b[1;31m -\u001b[0;0m\u001b[1;31m -\u001b[0;0m\u001b[1;34m +\u001b[0;0m\u001b[1;34m +\u001b[0;0m\u001b[1;34m +\u001b[0;0m\u001b[1;31m -\u001b[0;0m\u001b[1;31m -\u001b[0;0m\u001b[1;34m +\u001b[0;0m\u001b[1;34m +\u001b[0;0m\u001b[1;31m -\u001b[0;0m\u001b[1;34m +\u001b[0;0m\u001b[1;34m +\u001b[0;0m\u001b[1;34m +\u001b[0;0m\u001b[1;34m +\u001b[0;0m\u001b[1;34m +\u001b[0;0m\u001b[1;34m +\u001b[0;0m\u001b[1;31m -\u001b[0;0m\u001b[1;31m -\u001b[0;0m\n",
            "e\u001b[1;31m -\u001b[0;0m\u001b[1;31m -\u001b[0;0m\u001b[1;31m -\u001b[0;0m\u001b[1;31m -\u001b[0;0m\u001b[1;31m -\u001b[0;0m\u001b[1;31m -\u001b[0;0m\u001b[1;31m -\u001b[0;0m\u001b[1;31m -\u001b[0;0m\u001b[1;31m -\u001b[0;0m\u001b[1;31m -\u001b[0;0m\u001b[1;31m -\u001b[0;0m\u001b[1;31m -\u001b[0;0m\u001b[1;31m -\u001b[0;0m\u001b[1;34m +\u001b[0;0m\u001b[1;34m +\u001b[0;0m\u001b[1;34m +\u001b[0;0m\u001b[1;34m +\u001b[0;0m\u001b[1;34m +\u001b[0;0m\u001b[1;34m +\u001b[0;0m\u001b[1;34m +\u001b[0;0m\u001b[1;34m +\u001b[0;0m\u001b[1;34m +\u001b[0;0m\u001b[1;34m +\u001b[0;0m\u001b[1;34m +\u001b[0;0m\u001b[1;31m -\u001b[0;0m\u001b[1;31m -\u001b[0;0m\n",
            "f\u001b[1;31m -\u001b[0;0m\u001b[1;31m -\u001b[0;0m\u001b[1;31m -\u001b[0;0m\u001b[1;31m -\u001b[0;0m\u001b[1;31m -\u001b[0;0m\u001b[1;31m -\u001b[0;0m\u001b[1;31m -\u001b[0;0m\u001b[1;31m -\u001b[0;0m\u001b[1;31m -\u001b[0;0m\u001b[1;31m -\u001b[0;0m\u001b[1;31m -\u001b[0;0m\u001b[1;31m -\u001b[0;0m\u001b[1;31m -\u001b[0;0m\u001b[1;31m -\u001b[0;0m\u001b[1;34m +\u001b[0;0m\u001b[1;34m +\u001b[0;0m\u001b[1;34m +\u001b[0;0m\u001b[1;34m +\u001b[0;0m\u001b[1;34m +\u001b[0;0m\u001b[1;34m +\u001b[0;0m\u001b[1;34m +\u001b[0;0m\u001b[1;34m +\u001b[0;0m\u001b[1;34m +\u001b[0;0m\u001b[1;34m +\u001b[0;0m\u001b[1;31m -\u001b[0;0m\u001b[1;31m -\u001b[0;0m\n",
            "d\u001b[1;31m -\u001b[0;0m\u001b[1;31m -\u001b[0;0m\u001b[1;31m -\u001b[0;0m\u001b[1;31m -\u001b[0;0m\u001b[1;31m -\u001b[0;0m\u001b[1;31m -\u001b[0;0m\u001b[1;31m -\u001b[0;0m\u001b[1;31m -\u001b[0;0m\u001b[1;31m -\u001b[0;0m\u001b[1;31m -\u001b[0;0m\u001b[1;31m -\u001b[0;0m\u001b[1;31m -\u001b[0;0m\u001b[1;31m -\u001b[0;0m\u001b[1;31m -\u001b[0;0m\u001b[1;31m -\u001b[0;0m\u001b[1;34m +\u001b[0;0m\u001b[1;34m +\u001b[0;0m\u001b[1;31m -\u001b[0;0m\u001b[1;34m +\u001b[0;0m\u001b[1;34m +\u001b[0;0m\u001b[1;34m +\u001b[0;0m\u001b[1;34m +\u001b[0;0m\u001b[1;34m +\u001b[0;0m\u001b[1;34m +\u001b[0;0m\u001b[1;31m -\u001b[0;0m\u001b[1;31m -\u001b[0;0m\n",
            "g\u001b[1;31m -\u001b[0;0m\u001b[1;31m -\u001b[0;0m\u001b[1;31m -\u001b[0;0m\u001b[1;31m -\u001b[0;0m\u001b[1;31m -\u001b[0;0m\u001b[1;31m -\u001b[0;0m\u001b[1;31m -\u001b[0;0m\u001b[1;31m -\u001b[0;0m\u001b[1;31m -\u001b[0;0m\u001b[1;31m -\u001b[0;0m\u001b[1;31m -\u001b[0;0m\u001b[1;31m -\u001b[0;0m\u001b[1;31m -\u001b[0;0m\u001b[1;31m -\u001b[0;0m\u001b[1;31m -\u001b[0;0m\u001b[1;31m -\u001b[0;0m\u001b[1;34m +\u001b[0;0m\u001b[1;31m -\u001b[0;0m\u001b[1;31m -\u001b[0;0m\u001b[1;34m +\u001b[0;0m\u001b[1;34m +\u001b[0;0m\u001b[1;34m +\u001b[0;0m\u001b[1;34m +\u001b[0;0m\u001b[1;34m +\u001b[0;0m\u001b[1;31m -\u001b[0;0m\u001b[1;31m -\u001b[0;0m\n",
            "F\u001b[1;31m -\u001b[0;0m\u001b[1;31m -\u001b[0;0m\u001b[1;31m -\u001b[0;0m\u001b[1;31m -\u001b[0;0m\u001b[1;31m -\u001b[0;0m\u001b[1;31m -\u001b[0;0m\u001b[1;31m -\u001b[0;0m\u001b[1;31m -\u001b[0;0m\u001b[1;31m -\u001b[0;0m\u001b[1;31m -\u001b[0;0m\u001b[1;31m -\u001b[0;0m\u001b[1;31m -\u001b[0;0m\u001b[1;31m -\u001b[0;0m\u001b[1;31m -\u001b[0;0m\u001b[1;31m -\u001b[0;0m\u001b[1;31m -\u001b[0;0m\u001b[1;31m -\u001b[0;0m\u001b[1;34m +\u001b[0;0m\u001b[1;34m +\u001b[0;0m\u001b[1;34m +\u001b[0;0m\u001b[1;34m +\u001b[0;0m\u001b[1;34m +\u001b[0;0m\u001b[1;34m +\u001b[0;0m\u001b[1;34m +\u001b[0;0m\u001b[1;31m -\u001b[0;0m\u001b[1;31m -\u001b[0;0m\n",
            "D\u001b[1;31m -\u001b[0;0m\u001b[1;31m -\u001b[0;0m\u001b[1;31m -\u001b[0;0m\u001b[1;31m -\u001b[0;0m\u001b[1;31m -\u001b[0;0m\u001b[1;31m -\u001b[0;0m\u001b[1;31m -\u001b[0;0m\u001b[1;31m -\u001b[0;0m\u001b[1;31m -\u001b[0;0m\u001b[1;31m -\u001b[0;0m\u001b[1;31m -\u001b[0;0m\u001b[1;31m -\u001b[0;0m\u001b[1;31m -\u001b[0;0m\u001b[1;31m -\u001b[0;0m\u001b[1;31m -\u001b[0;0m\u001b[1;31m -\u001b[0;0m\u001b[1;31m -\u001b[0;0m\u001b[1;31m -\u001b[0;0m\u001b[1;34m +\u001b[0;0m\u001b[1;34m +\u001b[0;0m\u001b[1;34m +\u001b[0;0m\u001b[1;34m +\u001b[0;0m\u001b[1;34m +\u001b[0;0m\u001b[1;34m +\u001b[0;0m\u001b[1;31m -\u001b[0;0m\u001b[1;31m -\u001b[0;0m\n",
            "G\u001b[1;31m -\u001b[0;0m\u001b[1;31m -\u001b[0;0m\u001b[1;31m -\u001b[0;0m\u001b[1;31m -\u001b[0;0m\u001b[1;31m -\u001b[0;0m\u001b[1;31m -\u001b[0;0m\u001b[1;31m -\u001b[0;0m\u001b[1;31m -\u001b[0;0m\u001b[1;31m -\u001b[0;0m\u001b[1;31m -\u001b[0;0m\u001b[1;31m -\u001b[0;0m\u001b[1;31m -\u001b[0;0m\u001b[1;31m -\u001b[0;0m\u001b[1;31m -\u001b[0;0m\u001b[1;31m -\u001b[0;0m\u001b[1;31m -\u001b[0;0m\u001b[1;31m -\u001b[0;0m\u001b[1;31m -\u001b[0;0m\u001b[1;31m -\u001b[0;0m\u001b[1;34m +\u001b[0;0m\u001b[1;34m +\u001b[0;0m\u001b[1;34m +\u001b[0;0m\u001b[1;34m +\u001b[0;0m\u001b[1;34m +\u001b[0;0m\u001b[1;31m -\u001b[0;0m\u001b[1;31m -\u001b[0;0m\n",
            "S\u001b[1;31m -\u001b[0;0m\u001b[1;31m -\u001b[0;0m\u001b[1;31m -\u001b[0;0m\u001b[1;31m -\u001b[0;0m\u001b[1;31m -\u001b[0;0m\u001b[1;31m -\u001b[0;0m\u001b[1;31m -\u001b[0;0m\u001b[1;31m -\u001b[0;0m\u001b[1;31m -\u001b[0;0m\u001b[1;31m -\u001b[0;0m\u001b[1;31m -\u001b[0;0m\u001b[1;31m -\u001b[0;0m\u001b[1;31m -\u001b[0;0m\u001b[1;31m -\u001b[0;0m\u001b[1;31m -\u001b[0;0m\u001b[1;31m -\u001b[0;0m\u001b[1;31m -\u001b[0;0m\u001b[1;31m -\u001b[0;0m\u001b[1;31m -\u001b[0;0m\u001b[1;31m -\u001b[0;0m\u001b[1;34m +\u001b[0;0m\u001b[1;34m +\u001b[0;0m\u001b[1;34m +\u001b[0;0m\u001b[1;34m +\u001b[0;0m\u001b[1;31m -\u001b[0;0m\u001b[1;31m -\u001b[0;0m\n",
            "U\u001b[1;31m -\u001b[0;0m\u001b[1;31m -\u001b[0;0m\u001b[1;31m -\u001b[0;0m\u001b[1;31m -\u001b[0;0m\u001b[1;31m -\u001b[0;0m\u001b[1;31m -\u001b[0;0m\u001b[1;31m -\u001b[0;0m\u001b[1;31m -\u001b[0;0m\u001b[1;31m -\u001b[0;0m\u001b[1;31m -\u001b[0;0m\u001b[1;31m -\u001b[0;0m\u001b[1;31m -\u001b[0;0m\u001b[1;31m -\u001b[0;0m\u001b[1;31m -\u001b[0;0m\u001b[1;31m -\u001b[0;0m\u001b[1;31m -\u001b[0;0m\u001b[1;31m -\u001b[0;0m\u001b[1;31m -\u001b[0;0m\u001b[1;31m -\u001b[0;0m\u001b[1;31m -\u001b[0;0m\u001b[1;31m -\u001b[0;0m\u001b[1;34m +\u001b[0;0m\u001b[1;34m +\u001b[0;0m\u001b[1;34m +\u001b[0;0m\u001b[1;31m -\u001b[0;0m\u001b[1;31m -\u001b[0;0m\n",
            "V\u001b[1;31m -\u001b[0;0m\u001b[1;31m -\u001b[0;0m\u001b[1;31m -\u001b[0;0m\u001b[1;31m -\u001b[0;0m\u001b[1;31m -\u001b[0;0m\u001b[1;31m -\u001b[0;0m\u001b[1;31m -\u001b[0;0m\u001b[1;31m -\u001b[0;0m\u001b[1;31m -\u001b[0;0m\u001b[1;31m -\u001b[0;0m\u001b[1;31m -\u001b[0;0m\u001b[1;31m -\u001b[0;0m\u001b[1;31m -\u001b[0;0m\u001b[1;31m -\u001b[0;0m\u001b[1;31m -\u001b[0;0m\u001b[1;31m -\u001b[0;0m\u001b[1;31m -\u001b[0;0m\u001b[1;31m -\u001b[0;0m\u001b[1;31m -\u001b[0;0m\u001b[1;31m -\u001b[0;0m\u001b[1;31m -\u001b[0;0m\u001b[1;31m -\u001b[0;0m\u001b[1;34m +\u001b[0;0m\u001b[1;34m +\u001b[0;0m\u001b[1;31m -\u001b[0;0m\u001b[1;31m -\u001b[0;0m\n",
            "O\u001b[1;31m -\u001b[0;0m\u001b[1;31m -\u001b[0;0m\u001b[1;31m -\u001b[0;0m\u001b[1;31m -\u001b[0;0m\u001b[1;31m -\u001b[0;0m\u001b[1;31m -\u001b[0;0m\u001b[1;31m -\u001b[0;0m\u001b[1;31m -\u001b[0;0m\u001b[1;31m -\u001b[0;0m\u001b[1;31m -\u001b[0;0m\u001b[1;31m -\u001b[0;0m\u001b[1;31m -\u001b[0;0m\u001b[1;31m -\u001b[0;0m\u001b[1;31m -\u001b[0;0m\u001b[1;31m -\u001b[0;0m\u001b[1;31m -\u001b[0;0m\u001b[1;31m -\u001b[0;0m\u001b[1;31m -\u001b[0;0m\u001b[1;31m -\u001b[0;0m\u001b[1;31m -\u001b[0;0m\u001b[1;31m -\u001b[0;0m\u001b[1;31m -\u001b[0;0m\u001b[1;31m -\u001b[0;0m\u001b[1;34m +\u001b[0;0m\u001b[1;31m -\u001b[0;0m\u001b[1;31m -\u001b[0;0m\n",
            "M\u001b[1;31m -\u001b[0;0m\u001b[1;31m -\u001b[0;0m\u001b[1;31m -\u001b[0;0m\u001b[1;31m -\u001b[0;0m\u001b[1;31m -\u001b[0;0m\u001b[1;31m -\u001b[0;0m\u001b[1;31m -\u001b[0;0m\u001b[1;31m -\u001b[0;0m\u001b[1;31m -\u001b[0;0m\u001b[1;31m -\u001b[0;0m\u001b[1;31m -\u001b[0;0m\u001b[1;31m -\u001b[0;0m\u001b[1;31m -\u001b[0;0m\u001b[1;31m -\u001b[0;0m\u001b[1;31m -\u001b[0;0m\u001b[1;31m -\u001b[0;0m\u001b[1;31m -\u001b[0;0m\u001b[1;31m -\u001b[0;0m\u001b[1;31m -\u001b[0;0m\u001b[1;31m -\u001b[0;0m\u001b[1;31m -\u001b[0;0m\u001b[1;31m -\u001b[0;0m\u001b[1;34m +\u001b[0;0m\u001b[1;34m +\u001b[0;0m\u001b[1;34m +\u001b[0;0m\u001b[1;31m -\u001b[0;0m\n",
            "m\u001b[1;31m -\u001b[0;0m\u001b[1;31m -\u001b[0;0m\u001b[1;31m -\u001b[0;0m\u001b[1;31m -\u001b[0;0m\u001b[1;31m -\u001b[0;0m\u001b[1;31m -\u001b[0;0m\u001b[1;31m -\u001b[0;0m\u001b[1;31m -\u001b[0;0m\u001b[1;31m -\u001b[0;0m\u001b[1;31m -\u001b[0;0m\u001b[1;31m -\u001b[0;0m\u001b[1;31m -\u001b[0;0m\u001b[1;31m -\u001b[0;0m\u001b[1;31m -\u001b[0;0m\u001b[1;31m -\u001b[0;0m\u001b[1;31m -\u001b[0;0m\u001b[1;31m -\u001b[0;0m\u001b[1;31m -\u001b[0;0m\u001b[1;31m -\u001b[0;0m\u001b[1;31m -\u001b[0;0m\u001b[1;31m -\u001b[0;0m\u001b[1;31m -\u001b[0;0m\u001b[1;34m +\u001b[0;0m\u001b[1;34m +\u001b[0;0m\u001b[1;31m -\u001b[0;0m\u001b[1;34m +\u001b[0;0m\n"
          ]
        }
      ]
    },
    {
      "cell_type": "markdown",
      "source": [
        "## Передаваемые (`broadcastable`) массивы\n",
        "- типы данных\n",
        "- размерность\n",
        "- правила математических операций\n",
        "- ..."
      ],
      "metadata": {
        "id": "Y6yZOlqM1L8z"
      }
    },
    {
      "cell_type": "code",
      "source": [
        "# умножение выполнится со списком. но не с массивом\n",
        "# несовместимо с типом данных\n",
        "np.array(3*['a','b'])"
      ],
      "metadata": {
        "colab": {
          "base_uri": "https://localhost:8080/"
        },
        "id": "_0CUraN31LH7",
        "outputId": "79a2ef24-bd3c-4654-f04c-bf3073367c1a"
      },
      "execution_count": 39,
      "outputs": [
        {
          "output_type": "execute_result",
          "data": {
            "text/plain": [
              "array(['a', 'b', 'a', 'b', 'a', 'b'], dtype='<U1')"
            ]
          },
          "metadata": {},
          "execution_count": 39
        }
      ]
    },
    {
      "cell_type": "code",
      "source": [
        "# совместимость размерности массивов\n",
        "# в соответствии с правилами умножения\n",
        "from numpy.linalg import multi_dot\n",
        "A = np.random.random((10,100))\n",
        "B = np.random.randint(1,100,(100,1000))\n",
        "C = np.random.random((1000,5))\n",
        "D = np.random.random((5,3))\n",
        "# умножение матриц с одинаковым результатом\n",
        "# np.dot(np.dot(np.dot(A, B), C), D)\n",
        "# A.dot(B).dot(C).dot(D)\n",
        "M = multi_dot([A, B, C, D])\n",
        "mdisplay(M)"
      ],
      "metadata": {
        "id": "3Vb0HshWx5vt",
        "colab": {
          "base_uri": "https://localhost:8080/",
          "height": 241
        },
        "outputId": "240765a8-66e4-497d-d6b6-823cbda9d555"
      },
      "execution_count": 40,
      "outputs": [
        {
          "output_type": "display_data",
          "data": {
            "text/plain": [
              "<IPython.core.display.Latex object>"
            ],
            "text/latex": "\\color {#27aa7b} {\\left[\\begin{matrix}3245372.69675386 & 2234194.21210865 & 1042785.31255542\\\\2945132.45447604 & 2027606.69199127 & 946260.143253968\\\\3374977.15865351 & 2323336.03233087 & 1084286.10269935\\\\3548582.79200119 & 2443616.72492083 & 1140125.67276108\\\\3506830.57360941 & 2414137.36681804 & 1126798.61028945\\\\2996738.40553415 & 2062695.38065818 & 962902.652603772\\\\3494960.21736941 & 2406350.38844948 & 1122943.89554883\\\\3169551.39415019 & 2182256.91364717 & 1018232.85685987\\\\3139502.4459455 & 2161643.84815246 & 1008754.86188449\\\\3116740.03953751 & 2145120.87663397 & 1001825.59987017\\end{matrix}\\right]}"
          },
          "metadata": {}
        }
      ]
    },
    {
      "cell_type": "code",
      "source": [
        "# пример совместимости размерности #1\n",
        "# изображение                             (3d): 256 x 256 x 3\n",
        "# черно-белое масштабирование             (1d):             3\n",
        "# результат                               (3d): 256 x 256\n",
        "img = np.random.random((10,10,3))\n",
        "# каждый пиксель - скалярное произведение\n",
        "# вектора цвета [r,g,b] на вектор [.33,.33,.33]\n",
        "gray_img = np.dot(img,3*[.33])\n",
        "f, (ax1,ax2) = pl.subplots(1,2,figsize=(6,2))\n",
        "ax1.imshow(img)\n",
        "ax1.set_title(f'{img.shape}')\n",
        "ax2.imshow(gray_img,cmap='gray')\n",
        "ax2.set_title(f'{gray_img.shape}');"
      ],
      "metadata": {
        "colab": {
          "base_uri": "https://localhost:8080/",
          "height": 193
        },
        "id": "Z-yUKKrrv_Vy",
        "outputId": "6109e98a-a2d1-41b4-c1c5-ad64e77a7f59"
      },
      "execution_count": 41,
      "outputs": [
        {
          "output_type": "display_data",
          "data": {
            "text/plain": [
              "<Figure size 432x144 with 2 Axes>"
            ],
            "image/png": "[encoded data removed]"
          },
          "metadata": {
            "needs_background": "light"
          }
        }
      ]
    },
    {
      "cell_type": "code",
      "source": [
        "# пример совместимости размерности #2\n",
        "# к какому из 4 атлетов точка sample ближе всего по показателям\n",
        "values = np.array(\n",
        "    [[102.,203.],[132.,193.],[45.,155.],[57.,173.]])\n",
        "sample = np.array([111., 188.])\n",
        "labels =['basketball player','football lineman',\n",
        "         'artistic gymnast','marathon runner']\n",
        "fig,ax = pl.subplots(figsize=(9,5))\n",
        "ax.scatter(values[:,0],values[:,1],500*values[:,1]/values[:,0],\n",
        "           c=\"green\",alpha=.3,marker=r'$\\clubsuit$')\n",
        "[ax.annotate(labels[i],values[i],ha='center') for i in range(4)]\n",
        "# сравнение 2 тех же самых характеристик (рост и вес)\n",
        "diff = values - sample # broadcastable !!!\n",
        "dist = np.sqrt(np.sum(diff**2,axis=-1))\n",
        "ax.scatter(sample[0],sample[1],500*sample[1]/sample[0],\n",
        "           c=\"red\",alpha=.3,marker=r'$\\clubsuit$')\n",
        "ax.annotate('closest to: '+labels[np.argmin(dist)],\n",
        "            sample,ha='center')\n",
        "ax.set_xlabel(\"weight\"); ax.set_ylabel(\"height\")\n",
        "ax.set_xlim(20,160); ax.set_ylim(140,220); ax.grid();"
      ],
      "metadata": {
        "colab": {
          "base_uri": "https://localhost:8080/",
          "height": 359
        },
        "id": "n5n4N60XEM9E",
        "outputId": "53ea61fb-ae8f-4608-9393-06c6b2947cdd"
      },
      "execution_count": 42,
      "outputs": [
        {
          "output_type": "display_data",
          "data": {
            "text/plain": [
              "<Figure size 648x360 with 1 Axes>"
            ],
            "image/png": "[encoded data removed]"
          },
          "metadata": {
            "needs_background": "light"
          }
        }
      ]
    },
    {
      "cell_type": "markdown",
      "source": [
        "## Копии и представления массивов\n",
        "- изменения в представлении отражаются в исходных данных\n",
        "- изменения в копии не влияют на оригинал"
      ],
      "metadata": {
        "id": "yfklvJ1-FR5K"
      }
    },
    {
      "cell_type": "code",
      "source": [
        "# базовое индексирование => представление \n",
        "x = np.arange(10)\n",
        "y = x[1:3]\n",
        "sdisplay(y,x,y.base)\n",
        "x[1:3] = [100,101]\n",
        "sdisplay(y,x,y.base)"
      ],
      "metadata": {
        "colab": {
          "base_uri": "https://localhost:8080/",
          "height": 194
        },
        "id": "Fnn0ZJCDFcvG",
        "outputId": "bbbe6708-05b3-4bb2-c32b-0b8c90b0372e"
      },
      "execution_count": 43,
      "outputs": [
        {
          "output_type": "display_data",
          "data": {
            "text/plain": [
              "<IPython.core.display.HTML object>"
            ],
            "text/html": [
              "<style>\n",
              "        @import 'https://fonts.googleapis.com/css?family=Roboto';\n",
              "        </style><p style='color:#24285f; font-size:16px; font-family:Roboto;'>[1 2]</p>"
            ]
          },
          "metadata": {}
        },
        {
          "output_type": "display_data",
          "data": {
            "text/plain": [
              "<IPython.core.display.HTML object>"
            ],
            "text/html": [
              "<style>\n",
              "        @import 'https://fonts.googleapis.com/css?family=Roboto';\n",
              "        </style><p style='color:#2b4279; font-size:16px; font-family:Roboto;'>[0 1 2 3 4 5 6 7 8 9]</p>"
            ]
          },
          "metadata": {}
        },
        {
          "output_type": "display_data",
          "data": {
            "text/plain": [
              "<IPython.core.display.HTML object>"
            ],
            "text/html": [
              "<style>\n",
              "        @import 'https://fonts.googleapis.com/css?family=Roboto';\n",
              "        </style><p style='color:#2ddaab; font-size:16px; font-family:Roboto;'>[0 1 2 3 4 5 6 7 8 9]</p>"
            ]
          },
          "metadata": {}
        },
        {
          "output_type": "display_data",
          "data": {
            "text/plain": [
              "<IPython.core.display.HTML object>"
            ],
            "text/html": [
              "<style>\n",
              "        @import 'https://fonts.googleapis.com/css?family=Roboto';\n",
              "        </style><p style='color:#2f9bf4; font-size:16px; font-family:Roboto;'>[100 101]</p>"
            ]
          },
          "metadata": {}
        },
        {
          "output_type": "display_data",
          "data": {
            "text/plain": [
              "<IPython.core.display.HTML object>"
            ],
            "text/html": [
              "<style>\n",
              "        @import 'https://fonts.googleapis.com/css?family=Roboto';\n",
              "        </style><p style='color:#32bbe1; font-size:16px; font-family:Roboto;'>[  0 100 101   3   4   5   6   7   8   9]</p>"
            ]
          },
          "metadata": {}
        },
        {
          "output_type": "display_data",
          "data": {
            "text/plain": [
              "<IPython.core.display.HTML object>"
            ],
            "text/html": [
              "<style>\n",
              "        @import 'https://fonts.googleapis.com/css?family=Roboto';\n",
              "        </style><p style='color:#302ea1; font-size:16px; font-family:Roboto;'>[  0 100 101   3   4   5   6   7   8   9]</p>"
            ]
          },
          "metadata": {}
        }
      ]
    },
    {
      "cell_type": "code",
      "source": [
        "# продвинутое индексирование => копия \n",
        "x = np.arange(10)\n",
        "y = x[[1,2]]\n",
        "sdisplay(y,x,y.base)\n",
        "x[1:3] = [100,101]\n",
        "sdisplay(y,x,y.base)"
      ],
      "metadata": {
        "colab": {
          "base_uri": "https://localhost:8080/",
          "height": 194
        },
        "id": "kEaRk6OkPc8n",
        "outputId": "d8c6af26-49d8-4841-c3a7-bd2aea746f29"
      },
      "execution_count": 44,
      "outputs": [
        {
          "output_type": "display_data",
          "data": {
            "text/plain": [
              "<IPython.core.display.HTML object>"
            ],
            "text/html": [
              "<style>\n",
              "        @import 'https://fonts.googleapis.com/css?family=Roboto';\n",
              "        </style><p style='color:#15fb9b; font-size:16px; font-family:Roboto;'>[1 2]</p>"
            ]
          },
          "metadata": {}
        },
        {
          "output_type": "display_data",
          "data": {
            "text/plain": [
              "<IPython.core.display.HTML object>"
            ],
            "text/html": [
              "<style>\n",
              "        @import 'https://fonts.googleapis.com/css?family=Roboto';\n",
              "        </style><p style='color:#2dafd7; font-size:16px; font-family:Roboto;'>[0 1 2 3 4 5 6 7 8 9]</p>"
            ]
          },
          "metadata": {}
        },
        {
          "output_type": "display_data",
          "data": {
            "text/plain": [
              "<IPython.core.display.HTML object>"
            ],
            "text/html": [
              "<style>\n",
              "        @import 'https://fonts.googleapis.com/css?family=Roboto';\n",
              "        </style><p style='color:#30f68c; font-size:16px; font-family:Roboto;'>None</p>"
            ]
          },
          "metadata": {}
        },
        {
          "output_type": "display_data",
          "data": {
            "text/plain": [
              "<IPython.core.display.HTML object>"
            ],
            "text/html": [
              "<style>\n",
              "        @import 'https://fonts.googleapis.com/css?family=Roboto';\n",
              "        </style><p style='color:#12f257; font-size:16px; font-family:Roboto;'>[1 2]</p>"
            ]
          },
          "metadata": {}
        },
        {
          "output_type": "display_data",
          "data": {
            "text/plain": [
              "<IPython.core.display.HTML object>"
            ],
            "text/html": [
              "<style>\n",
              "        @import 'https://fonts.googleapis.com/css?family=Roboto';\n",
              "        </style><p style='color:#1854fe; font-size:16px; font-family:Roboto;'>[  0 100 101   3   4   5   6   7   8   9]</p>"
            ]
          },
          "metadata": {}
        },
        {
          "output_type": "display_data",
          "data": {
            "text/plain": [
              "<IPython.core.display.HTML object>"
            ],
            "text/html": [
              "<style>\n",
              "        @import 'https://fonts.googleapis.com/css?family=Roboto';\n",
              "        </style><p style='color:#082112; font-size:16px; font-family:Roboto;'>None</p>"
            ]
          },
          "metadata": {}
        }
      ]
    },
    {
      "cell_type": "code",
      "source": [
        "x = np.random.random((2,3))\n",
        "y = x.T\n",
        "sdisplay(y.base,y)\n",
        "# несовместимы форма представления и модификация\n",
        "# y.shape = 6 - ошибка\n",
        "# reshape создает или представления, или копии\n",
        "z = y.reshape(6)\n",
        "x[0,:] = [0,0,0]\n",
        "sdisplay(y,z.base,z)"
      ],
      "metadata": {
        "colab": {
          "base_uri": "https://localhost:8080/",
          "height": 169
        },
        "id": "HVus8o44Q5Vn",
        "outputId": "7f43ca6e-7eff-4565-a268-c875a300f7e8"
      },
      "execution_count": 45,
      "outputs": [
        {
          "output_type": "display_data",
          "data": {
            "text/plain": [
              "<IPython.core.display.HTML object>"
            ],
            "text/html": [
              "<style>\n",
              "        @import 'https://fonts.googleapis.com/css?family=Roboto';\n",
              "        </style><p style='color:#0a884a; font-size:16px; font-family:Roboto;'>[[0.04335052 0.01373224 0.66076071]\n",
              " [0.31156148 0.93612766 0.40247118]]</p>"
            ]
          },
          "metadata": {}
        },
        {
          "output_type": "display_data",
          "data": {
            "text/plain": [
              "<IPython.core.display.HTML object>"
            ],
            "text/html": [
              "<style>\n",
              "        @import 'https://fonts.googleapis.com/css?family=Roboto';\n",
              "        </style><p style='color:#05ad0b; font-size:16px; font-family:Roboto;'>[[0.04335052 0.31156148]\n",
              " [0.01373224 0.93612766]\n",
              " [0.66076071 0.40247118]]</p>"
            ]
          },
          "metadata": {}
        },
        {
          "output_type": "display_data",
          "data": {
            "text/plain": [
              "<IPython.core.display.HTML object>"
            ],
            "text/html": [
              "<style>\n",
              "        @import 'https://fonts.googleapis.com/css?family=Roboto';\n",
              "        </style><p style='color:#00dbf7; font-size:16px; font-family:Roboto;'>[[0.         0.31156148]\n",
              " [0.         0.93612766]\n",
              " [0.         0.40247118]]</p>"
            ]
          },
          "metadata": {}
        },
        {
          "output_type": "display_data",
          "data": {
            "text/plain": [
              "<IPython.core.display.HTML object>"
            ],
            "text/html": [
              "<style>\n",
              "        @import 'https://fonts.googleapis.com/css?family=Roboto';\n",
              "        </style><p style='color:#25c39f; font-size:16px; font-family:Roboto;'>[[0.04335052 0.31156148]\n",
              " [0.01373224 0.93612766]\n",
              " [0.66076071 0.40247118]]</p>"
            ]
          },
          "metadata": {}
        },
        {
          "output_type": "display_data",
          "data": {
            "text/plain": [
              "<IPython.core.display.HTML object>"
            ],
            "text/html": [
              "<style>\n",
              "        @import 'https://fonts.googleapis.com/css?family=Roboto';\n",
              "        </style><p style='color:#005ca2; font-size:16px; font-family:Roboto;'>[0.04335052 0.31156148 0.01373224 0.93612766 0.66076071 0.40247118]</p>"
            ]
          },
          "metadata": {}
        }
      ]
    },
    {
      "cell_type": "markdown",
      "source": [
        "## Структурированные массивы"
      ],
      "metadata": {
        "id": "Nfix0bPngRtW"
      }
    },
    {
      "cell_type": "code",
      "source": [
        "# значения полей\n",
        "lst = [('Liza',4.5,23),('Tom',4.2,27),('Dan',4.9,25)]\n",
        "# описание полей\n",
        "d = {'name':('U10',0),'grade':('float',1),'age':('i4',2)}\n",
        "x = np.array(lst,dtype=d)\n",
        "x[0] = ('Mary',4.7,26)\n",
        "x = np.append(x,np.array([('Liza',4.5,23)],dtype=x.dtype))\n",
        "display(x)\n",
        "sdisplay(x[:2],x[['name','age']])"
      ],
      "metadata": {
        "colab": {
          "base_uri": "https://localhost:8080/",
          "height": 198
        },
        "id": "L70dHTd_gWam",
        "outputId": "bf7a0309-4ec8-4e5b-c92b-7d239270d117"
      },
      "execution_count": 46,
      "outputs": [
        {
          "output_type": "display_data",
          "data": {
            "text/plain": [
              "array([('\\U001acd4d\\U12cc0000@y', 4.69921875, 26),\n",
              "       ('\\U001bcd54\\U10cc0000@', 4.19921875, 27),\n",
              "       ('\\U00199a44\\U13990000@', 4.89941406, 25),\n",
              "       ('\\U0017004c\\U12000000@a', 4.5       , 23)],\n",
              "      dtype={'names': ['name', 'grade', 'age'], 'formats': ['<U10', '<f8', '<i4'], 'offsets': [0, 1, 2], 'itemsize': 40})"
            ]
          },
          "metadata": {}
        },
        {
          "output_type": "display_data",
          "data": {
            "text/plain": [
              "<IPython.core.display.HTML object>"
            ],
            "text/html": [
              "<style>\n",
              "        @import 'https://fonts.googleapis.com/css?family=Roboto';\n",
              "        </style><p style='color:#224c6b; font-size:16px; font-family:Roboto;'>[('\\U001acd4d\\U12cc0000@y', 4.69921875, 26)\n",
              " ('\\U001bcd54\\U10cc0000@', 4.19921875, 27)]</p>"
            ]
          },
          "metadata": {}
        },
        {
          "output_type": "display_data",
          "data": {
            "text/plain": [
              "<IPython.core.display.HTML object>"
            ],
            "text/html": [
              "<style>\n",
              "        @import 'https://fonts.googleapis.com/css?family=Roboto';\n",
              "        </style><p style='color:#241f80; font-size:16px; font-family:Roboto;'>[('\\U001acd4d\\U12cc0000@y', 26) ('\\U001bcd54\\U10cc0000@', 27)\n",
              " ('\\U00199a44\\U13990000@', 25) ('\\U0017004c\\U12000000@a', 23)]</p>"
            ]
          },
          "metadata": {}
        }
      ]
    },
    {
      "cell_type": "code",
      "source": [
        "# заполнение полей структурированного массива\n",
        "x = np.zeros(1)\n",
        "display(x)\n",
        "x = np.zeros(1, dtype='i8, f4, ?, S1')\n",
        "display(x)\n",
        "x[:] = -1\n",
        "display(x)\n",
        "x[:] = 3\n",
        "display(x)"
      ],
      "metadata": {
        "colab": {
          "base_uri": "https://localhost:8080/",
          "height": 153
        },
        "id": "wcGHsqJ4qVam",
        "outputId": "71707e33-cfd4-4b66-8fbe-5e555c838ace"
      },
      "execution_count": 47,
      "outputs": [
        {
          "output_type": "display_data",
          "data": {
            "text/plain": [
              "array([0.])"
            ]
          },
          "metadata": {}
        },
        {
          "output_type": "display_data",
          "data": {
            "text/plain": [
              "array([(0, 0., False, b'')],\n",
              "      dtype=[('f0', '<i8'), ('f1', '<f4'), ('f2', '?'), ('f3', 'S1')])"
            ]
          },
          "metadata": {}
        },
        {
          "output_type": "display_data",
          "data": {
            "text/plain": [
              "array([(-1, -1.,  True, b'-')],\n",
              "      dtype=[('f0', '<i8'), ('f1', '<f4'), ('f2', '?'), ('f3', 'S1')])"
            ]
          },
          "metadata": {}
        },
        {
          "output_type": "display_data",
          "data": {
            "text/plain": [
              "array([(3, 3.,  True, b'3')],\n",
              "      dtype=[('f0', '<i8'), ('f1', '<f4'), ('f2', '?'), ('f3', 'S1')])"
            ]
          },
          "metadata": {}
        }
      ]
    }
  ]
}